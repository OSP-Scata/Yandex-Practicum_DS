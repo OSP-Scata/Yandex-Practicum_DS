{
 "cells": [
  {
   "cell_type": "code",
   "execution_count": 1,
   "id": "5f3d9a50",
   "metadata": {},
   "outputs": [],
   "source": [
    "import pandas as pd\n",
    "from sklearn.model_selection import train_test_split\n",
    "from sklearn.linear_model import LinearRegression\n",
    "from sklearn.tree import DecisionTreeRegressor\n",
    "from sklearn.ensemble import RandomForestRegressor\n",
    "from sklearn.metrics import mean_absolute_error"
   ]
  },
  {
   "cell_type": "code",
   "execution_count": 2,
   "id": "1310f8cc",
   "metadata": {},
   "outputs": [],
   "source": [
    "data = pd.read_csv('flights_preprocessed.csv')\n",
    "\n",
    "target = data['Arrival Delay']\n",
    "features = data.drop(['Arrival Delay'] , axis=1)\n",
    "features_train, features_valid, target_train, target_valid = train_test_split(\n",
    "    features, target, test_size=0.25, random_state=12345)"
   ]
  },
  {
   "cell_type": "code",
   "execution_count": 3,
   "id": "8076a490",
   "metadata": {},
   "outputs": [
    {
     "name": "stdout",
     "output_type": "stream",
     "text": [
      "27.436250978085845\n"
     ]
    }
   ],
   "source": [
    "model = LinearRegression()\n",
    "model.fit(features_train, target_train)\n",
    "predictions_valid = model.predict(features_valid)\n",
    "print(mean_absolute_error(target_valid, predictions_valid))"
   ]
  },
  {
   "cell_type": "code",
   "execution_count": 7,
   "id": "43310f38",
   "metadata": {},
   "outputs": [
    {
     "name": "stdout",
     "output_type": "stream",
     "text": [
      "1 : 29.05024878318396\n",
      "2 : 28.17662249076827\n",
      "3 : 27.621410706295897\n",
      "4 : 27.207398918959612\n",
      "5 : 26.826976756365152\n",
      "6 : 26.47134460354994\n",
      "7 : 26.1714780983311\n",
      "8 : 25.91710383097888\n",
      "9 : 25.76155591898892\n",
      "10 : 25.63176223685739\n",
      "11 : 25.573148934738114\n",
      "12 : 25.543812554450305\n",
      "13 : 25.6002847351951\n",
      "14 : 25.722069774594832\n",
      "15 : 25.817126504322434\n"
     ]
    }
   ],
   "source": [
    "for depth in range(1, 16, 1):\n",
    "    model = RandomForestRegressor(n_estimators=20, max_depth=depth, random_state=12345)\n",
    "    model.fit(features_train, target_train)\n",
    "    predictions_valid = model.predict(features_valid)\n",
    "    print(depth, ':', mean_absolute_error(target_valid, predictions_valid))"
   ]
  },
  {
   "cell_type": "code",
   "execution_count": 8,
   "id": "cd6fcd7a",
   "metadata": {},
   "outputs": [
    {
     "name": "stdout",
     "output_type": "stream",
     "text": [
      "1 : 29.0925280655811\n",
      "2 : 28.212997458841045\n",
      "3 : 27.660401601758082\n",
      "4 : 27.279006967175707\n",
      "5 : 26.8603397993518\n",
      "6 : 26.47717918578531\n",
      "7 : 26.159906823464063\n",
      "8 : 25.89652957373701\n",
      "9 : 25.70440892833576\n",
      "10 : 25.58861820505304\n",
      "11 : 25.516761092737028\n",
      "12 : 25.47745895064548\n",
      "13 : 25.511447798587024\n",
      "14 : 25.541311707772184\n",
      "15 : 25.59278159728628\n"
     ]
    }
   ],
   "source": [
    "for depth in range(1, 16, 1):\n",
    "    model = RandomForestRegressor(n_estimators=100, max_depth=depth, random_state=12345)\n",
    "    model.fit(features_train, target_train)\n",
    "    predictions_valid = model.predict(features_valid)\n",
    "    print(depth, ':', mean_absolute_error(target_valid, predictions_valid))"
   ]
  },
  {
   "cell_type": "code",
   "execution_count": null,
   "id": "e36f800f",
   "metadata": {},
   "outputs": [],
   "source": []
  }
 ],
 "metadata": {
  "kernelspec": {
   "display_name": "Python 3 (ipykernel)",
   "language": "python",
   "name": "python3"
  },
  "language_info": {
   "codemirror_mode": {
    "name": "ipython",
    "version": 3
   },
   "file_extension": ".py",
   "mimetype": "text/x-python",
   "name": "python",
   "nbconvert_exporter": "python",
   "pygments_lexer": "ipython3",
   "version": "3.9.13"
  }
 },
 "nbformat": 4,
 "nbformat_minor": 5
}
