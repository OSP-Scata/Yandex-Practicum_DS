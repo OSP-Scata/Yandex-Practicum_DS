{
 "cells": [
  {
   "cell_type": "markdown",
   "metadata": {
    "toc": true
   },
   "source": [
    "<h1>Содержание<span class=\"tocSkip\"></span></h1>\n",
    "<div class=\"toc\"><ul class=\"toc-item\"><li><span><a href=\"#Подготовка\" data-toc-modified-id=\"Подготовка-1\"><span class=\"toc-item-num\">1&nbsp;&nbsp;</span>Подготовка</a></span></li><li><span><a href=\"#Обучение\" data-toc-modified-id=\"Обучение-2\"><span class=\"toc-item-num\">2&nbsp;&nbsp;</span>Обучение</a></span></li><li><span><a href=\"#Выводы\" data-toc-modified-id=\"Выводы-3\"><span class=\"toc-item-num\">3&nbsp;&nbsp;</span>Выводы</a></span></li><li><span><a href=\"#Чек-лист-проверки\" data-toc-modified-id=\"Чек-лист-проверки-4\"><span class=\"toc-item-num\">4&nbsp;&nbsp;</span>Чек-лист проверки</a></span></li></ul></div>"
   ]
  },
  {
   "cell_type": "markdown",
   "metadata": {},
   "source": [
    "# Проект для «Викишоп» с BERT, запущенным на CUDA"
   ]
  },
  {
   "cell_type": "markdown",
   "metadata": {},
   "source": [
    "Интернет-магазин «Викишоп» запускает новый сервис. Теперь пользователи могут редактировать и дополнять описания товаров, как в вики-сообществах. То есть клиенты предлагают свои правки и комментируют изменения других. Магазину нужен инструмент, который будет искать токсичные комментарии и отправлять их на модерацию. \n",
    "\n",
    "Обучите модель классифицировать комментарии на позитивные и негативные. В вашем распоряжении набор данных с разметкой о токсичности правок.\n",
    "\n",
    "Постройте модель со значением метрики качества *F1* не меньше 0.75. \n",
    "\n",
    "**Инструкция по выполнению проекта**\n",
    "\n",
    "1. Загрузите и подготовьте данные.\n",
    "2. Обучите разные модели. \n",
    "3. Сделайте выводы.\n",
    "\n",
    "Для выполнения проекта применять *BERT* необязательно, но вы можете попробовать.\n",
    "\n",
    "**Описание данных**\n",
    "\n",
    "Данные находятся в файле `toxic_comments.csv`. Столбец *text* в нём содержит текст комментария, а *toxic* — целевой признак.\n",
    "\n",
    "**Примечание студента:** поскольку BERT работает долго, а у меня видеокарта RTX 3080, я решила также изучить запуск обучения с использованием её вычислительных ресурсов, используя CUDA-версию библиотеки PyTorch."
   ]
  },
  {
   "cell_type": "markdown",
   "metadata": {},
   "source": [
    "## 1. Подготовка"
   ]
  },
  {
   "cell_type": "code",
   "execution_count": 1,
   "metadata": {},
   "outputs": [
    {
     "name": "stdout",
     "output_type": "stream",
     "text": [
      "Looking in indexes: https://download.pytorch.org/whl/cu118\n",
      "Requirement already satisfied: torch in c:\\users\\alner\\anaconda3\\envs\\ds_practicum_env\\lib\\site-packages (2.0.1+cu118)\n",
      "Requirement already satisfied: torchvision in c:\\users\\alner\\anaconda3\\envs\\ds_practicum_env\\lib\\site-packages (0.15.2+cu118)\n",
      "Requirement already satisfied: torchaudio in c:\\users\\alner\\anaconda3\\envs\\ds_practicum_env\\lib\\site-packages (2.0.2+cu118)\n",
      "Requirement already satisfied: jinja2 in c:\\users\\alner\\anaconda3\\envs\\ds_practicum_env\\lib\\site-packages (from torch) (3.1.2)\n",
      "Requirement already satisfied: filelock in c:\\users\\alner\\anaconda3\\envs\\ds_practicum_env\\lib\\site-packages (from torch) (3.9.0)\n",
      "Requirement already satisfied: networkx in c:\\users\\alner\\anaconda3\\envs\\ds_practicum_env\\lib\\site-packages (from torch) (3.0)\n",
      "Requirement already satisfied: sympy in c:\\users\\alner\\anaconda3\\envs\\ds_practicum_env\\lib\\site-packages (from torch) (1.11.1)\n",
      "Requirement already satisfied: typing-extensions in c:\\users\\alner\\anaconda3\\envs\\ds_practicum_env\\lib\\site-packages (from torch) (4.4.0)\n",
      "Requirement already satisfied: pillow!=8.3.*,>=5.3.0 in c:\\users\\alner\\anaconda3\\envs\\ds_practicum_env\\lib\\site-packages (from torchvision) (8.4.0)\n",
      "Requirement already satisfied: requests in c:\\users\\alner\\anaconda3\\envs\\ds_practicum_env\\lib\\site-packages (from torchvision) (2.28.2)\n",
      "Requirement already satisfied: numpy in c:\\users\\alner\\anaconda3\\envs\\ds_practicum_env\\lib\\site-packages (from torchvision) (1.20.1)\n",
      "Requirement already satisfied: MarkupSafe>=2.0 in c:\\users\\alner\\anaconda3\\envs\\ds_practicum_env\\lib\\site-packages (from jinja2->torch) (2.1.1)\n",
      "Requirement already satisfied: urllib3<1.27,>=1.21.1 in c:\\users\\alner\\anaconda3\\envs\\ds_practicum_env\\lib\\site-packages (from requests->torchvision) (1.26.14)\n",
      "Requirement already satisfied: idna<4,>=2.5 in c:\\users\\alner\\anaconda3\\envs\\ds_practicum_env\\lib\\site-packages (from requests->torchvision) (3.4)\n",
      "Requirement already satisfied: certifi>=2017.4.17 in c:\\users\\alner\\anaconda3\\envs\\ds_practicum_env\\lib\\site-packages (from requests->torchvision) (2023.5.7)\n",
      "Requirement already satisfied: charset-normalizer<4,>=2 in c:\\users\\alner\\anaconda3\\envs\\ds_practicum_env\\lib\\site-packages (from requests->torchvision) (2.1.1)\n",
      "Requirement already satisfied: mpmath>=0.19 in c:\\users\\alner\\anaconda3\\envs\\ds_practicum_env\\lib\\site-packages (from sympy->torch) (1.2.1)\n"
     ]
    }
   ],
   "source": [
    "# установка CUDA-версии PyTorch\n",
    "!pip3 install torch torchvision torchaudio --index-url https://download.pytorch.org/whl/cu118"
   ]
  },
  {
   "cell_type": "code",
   "execution_count": 2,
   "metadata": {},
   "outputs": [],
   "source": [
    "# чтоб не забыть, какая библиотека для чего\n",
    "\n",
    "# Pandas\n",
    "import pandas as pd\n",
    "\n",
    "# NumPy\n",
    "import numpy as np\n",
    "\n",
    "# графики\n",
    "import matplotlib.pyplot as plt\n",
    "\n",
    "# PyTorch\n",
    "import torch\n",
    "\n",
    "# для BERT\n",
    "import transformers\n",
    "\n",
    "# чтоб не спамило предупреждениями\n",
    "import warnings\n",
    "warnings.filterwarnings('ignore')\n",
    "\n",
    "# полоска прогресса\n",
    "from tqdm import notebook\n",
    "from tqdm.notebook import tqdm\n",
    "\n",
    "# разделение выборок, кросс-валидация\n",
    "from sklearn.model_selection import cross_val_score, train_test_split, GridSearchCV\n",
    "\n",
    "# метрики (помимо F1 также использовались остальные, на которых построены графики в выводах)\n",
    "from sklearn.metrics import f1_score, roc_auc_score, roc_curve, precision_score, recall_score, accuracy_score\n",
    "\n",
    "# векторизация текста для TF-IDF\n",
    "from sklearn.feature_extraction.text import TfidfVectorizer\n",
    "\n",
    "# логистическая регрессия\n",
    "from sklearn.linear_model import LogisticRegression\n",
    "\n",
    "# модель CatBoost\n",
    "from catboost import CatBoostClassifier\n",
    "\n",
    "# LGBM\n",
    "import lightgbm as lgb\n",
    "\n",
    "# регулярные выражения\n",
    "import re\n",
    "\n",
    "# лемматизация и стоп-слова (вместо Mystem использую другую библиотеку, т.к. Mystem медленная)\n",
    "import nltk\n",
    "from nltk.stem import WordNetLemmatizer\n",
    "from nltk.corpus import stopwords as nltk_stopwords\n",
    "\n",
    "# перемешивание\n",
    "from sklearn.utils import shuffle"
   ]
  },
  {
   "cell_type": "code",
   "execution_count": 3,
   "metadata": {},
   "outputs": [],
   "source": [
    "try:\n",
    "    data = pd.read_csv('toxic_comments.csv')\n",
    "except:\n",
    "    data = pd.read_csv('/datasets/toxic_comments.csv')"
   ]
  },
  {
   "cell_type": "code",
   "execution_count": 4,
   "metadata": {},
   "outputs": [
    {
     "data": {
      "text/html": [
       "<div>\n",
       "<style scoped>\n",
       "    .dataframe tbody tr th:only-of-type {\n",
       "        vertical-align: middle;\n",
       "    }\n",
       "\n",
       "    .dataframe tbody tr th {\n",
       "        vertical-align: top;\n",
       "    }\n",
       "\n",
       "    .dataframe thead th {\n",
       "        text-align: right;\n",
       "    }\n",
       "</style>\n",
       "<table border=\"1\" class=\"dataframe\">\n",
       "  <thead>\n",
       "    <tr style=\"text-align: right;\">\n",
       "      <th></th>\n",
       "      <th>Unnamed: 0</th>\n",
       "      <th>text</th>\n",
       "      <th>toxic</th>\n",
       "    </tr>\n",
       "  </thead>\n",
       "  <tbody>\n",
       "    <tr>\n",
       "      <th>0</th>\n",
       "      <td>0</td>\n",
       "      <td>Explanation\\nWhy the edits made under my usern...</td>\n",
       "      <td>0</td>\n",
       "    </tr>\n",
       "    <tr>\n",
       "      <th>1</th>\n",
       "      <td>1</td>\n",
       "      <td>D'aww! He matches this background colour I'm s...</td>\n",
       "      <td>0</td>\n",
       "    </tr>\n",
       "    <tr>\n",
       "      <th>2</th>\n",
       "      <td>2</td>\n",
       "      <td>Hey man, I'm really not trying to edit war. It...</td>\n",
       "      <td>0</td>\n",
       "    </tr>\n",
       "    <tr>\n",
       "      <th>3</th>\n",
       "      <td>3</td>\n",
       "      <td>\"\\nMore\\nI can't make any real suggestions on ...</td>\n",
       "      <td>0</td>\n",
       "    </tr>\n",
       "    <tr>\n",
       "      <th>4</th>\n",
       "      <td>4</td>\n",
       "      <td>You, sir, are my hero. Any chance you remember...</td>\n",
       "      <td>0</td>\n",
       "    </tr>\n",
       "  </tbody>\n",
       "</table>\n",
       "</div>"
      ],
      "text/plain": [
       "   Unnamed: 0                                               text  toxic\n",
       "0           0  Explanation\\nWhy the edits made under my usern...      0\n",
       "1           1  D'aww! He matches this background colour I'm s...      0\n",
       "2           2  Hey man, I'm really not trying to edit war. It...      0\n",
       "3           3  \"\\nMore\\nI can't make any real suggestions on ...      0\n",
       "4           4  You, sir, are my hero. Any chance you remember...      0"
      ]
     },
     "execution_count": 4,
     "metadata": {},
     "output_type": "execute_result"
    }
   ],
   "source": [
    "data.head()"
   ]
  },
  {
   "cell_type": "markdown",
   "metadata": {},
   "source": [
    "* `text` - признак\n",
    "* `toxic` - целевой признак, который нам нужно будет предсказывать (он категориальный, т.е. перед нами задача классификации)\n",
    "\n",
    "В столбце `Unnamed: 0` нет никакой необходимости (он дублирует индекс), поэтому удаляем его."
   ]
  },
  {
   "cell_type": "code",
   "execution_count": 5,
   "metadata": {},
   "outputs": [
    {
     "data": {
      "text/html": [
       "<div>\n",
       "<style scoped>\n",
       "    .dataframe tbody tr th:only-of-type {\n",
       "        vertical-align: middle;\n",
       "    }\n",
       "\n",
       "    .dataframe tbody tr th {\n",
       "        vertical-align: top;\n",
       "    }\n",
       "\n",
       "    .dataframe thead th {\n",
       "        text-align: right;\n",
       "    }\n",
       "</style>\n",
       "<table border=\"1\" class=\"dataframe\">\n",
       "  <thead>\n",
       "    <tr style=\"text-align: right;\">\n",
       "      <th></th>\n",
       "      <th>text</th>\n",
       "      <th>toxic</th>\n",
       "    </tr>\n",
       "  </thead>\n",
       "  <tbody>\n",
       "    <tr>\n",
       "      <th>0</th>\n",
       "      <td>Explanation\\nWhy the edits made under my usern...</td>\n",
       "      <td>0</td>\n",
       "    </tr>\n",
       "    <tr>\n",
       "      <th>1</th>\n",
       "      <td>D'aww! He matches this background colour I'm s...</td>\n",
       "      <td>0</td>\n",
       "    </tr>\n",
       "    <tr>\n",
       "      <th>2</th>\n",
       "      <td>Hey man, I'm really not trying to edit war. It...</td>\n",
       "      <td>0</td>\n",
       "    </tr>\n",
       "    <tr>\n",
       "      <th>3</th>\n",
       "      <td>\"\\nMore\\nI can't make any real suggestions on ...</td>\n",
       "      <td>0</td>\n",
       "    </tr>\n",
       "    <tr>\n",
       "      <th>4</th>\n",
       "      <td>You, sir, are my hero. Any chance you remember...</td>\n",
       "      <td>0</td>\n",
       "    </tr>\n",
       "  </tbody>\n",
       "</table>\n",
       "</div>"
      ],
      "text/plain": [
       "                                                text  toxic\n",
       "0  Explanation\\nWhy the edits made under my usern...      0\n",
       "1  D'aww! He matches this background colour I'm s...      0\n",
       "2  Hey man, I'm really not trying to edit war. It...      0\n",
       "3  \"\\nMore\\nI can't make any real suggestions on ...      0\n",
       "4  You, sir, are my hero. Any chance you remember...      0"
      ]
     },
     "execution_count": 5,
     "metadata": {},
     "output_type": "execute_result"
    }
   ],
   "source": [
    "data_clean = data.drop('Unnamed: 0', axis=1)\n",
    "data_clean.head()"
   ]
  },
  {
   "cell_type": "code",
   "execution_count": 6,
   "metadata": {},
   "outputs": [
    {
     "name": "stdout",
     "output_type": "stream",
     "text": [
      "<class 'pandas.core.frame.DataFrame'>\n",
      "RangeIndex: 159292 entries, 0 to 159291\n",
      "Data columns (total 2 columns):\n",
      " #   Column  Non-Null Count   Dtype \n",
      "---  ------  --------------   ----- \n",
      " 0   text    159292 non-null  object\n",
      " 1   toxic   159292 non-null  int64 \n",
      "dtypes: int64(1), object(1)\n",
      "memory usage: 2.4+ MB\n"
     ]
    }
   ],
   "source": [
    "data_clean.info()"
   ]
  },
  {
   "cell_type": "markdown",
   "metadata": {},
   "source": [
    "Пропусков в данных нет, но обращает на себя внимание, что все выведенные строчки имеют значение 0 в поле toxic. Проверим и посчитаем все значения."
   ]
  },
  {
   "cell_type": "code",
   "execution_count": 7,
   "metadata": {},
   "outputs": [
    {
     "data": {
      "text/plain": [
       "array([0, 1], dtype=int64)"
      ]
     },
     "metadata": {},
     "output_type": "display_data"
    },
    {
     "data": {
      "text/plain": [
       "0    143106\n",
       "1     16186\n",
       "Name: toxic, dtype: int64"
      ]
     },
     "metadata": {},
     "output_type": "display_data"
    },
    {
     "data": {
      "image/png": "[encoded data removed]",
      "text/plain": [
       "<Figure size 640x480 with 1 Axes>"
      ]
     },
     "metadata": {},
     "output_type": "display_data"
    }
   ],
   "source": [
    "display(data_clean['toxic'].unique())\n",
    "display(data_clean['toxic'].value_counts())\n",
    "data_clean['toxic'].hist(grid=False);"
   ]
  },
  {
   "cell_type": "markdown",
   "metadata": {},
   "source": [
    "Здесь виден сильный дисбаланс классов - соотношение 0 и 1 почти 9:1. Для обычных моделей придётся сбалансировать классы."
   ]
  },
  {
   "cell_type": "code",
   "execution_count": 8,
   "metadata": {},
   "outputs": [
    {
     "name": "stderr",
     "output_type": "stream",
     "text": [
      "[nltk_data] Downloading package wordnet to\n",
      "[nltk_data]     C:\\Users\\alner\\AppData\\Roaming\\nltk_data...\n",
      "[nltk_data]   Package wordnet is already up-to-date!\n",
      "[nltk_data] Downloading package punkt to\n",
      "[nltk_data]     C:\\Users\\alner\\AppData\\Roaming\\nltk_data...\n",
      "[nltk_data]   Package punkt is already up-to-date!\n",
      "[nltk_data] Downloading package stopwords to\n",
      "[nltk_data]     C:\\Users\\alner\\AppData\\Roaming\\nltk_data...\n",
      "[nltk_data]   Package stopwords is already up-to-date!\n"
     ]
    }
   ],
   "source": [
    "nltk.download('wordnet')\n",
    "nltk.download('punkt')\n",
    "nltk.download('stopwords')\n",
    "stopwords = set(nltk_stopwords.words('english')) # поскольку твиты английские, то и стоп-слова из английского\n",
    "tqdm.pandas() # эту конструкцию я подсмотрела, она в дальнейшем позволит без проблем запускать полоску прогресса"
   ]
  },
  {
   "cell_type": "markdown",
   "metadata": {},
   "source": [
    "### 1.1. BERT"
   ]
  },
  {
   "cell_type": "markdown",
   "metadata": {},
   "source": [
    "Здесь выделяем параметры для BERT."
   ]
  },
  {
   "cell_type": "code",
   "execution_count": 9,
   "metadata": {},
   "outputs": [
    {
     "data": {
      "text/html": [
       "<div>\n",
       "<style scoped>\n",
       "    .dataframe tbody tr th:only-of-type {\n",
       "        vertical-align: middle;\n",
       "    }\n",
       "\n",
       "    .dataframe tbody tr th {\n",
       "        vertical-align: top;\n",
       "    }\n",
       "\n",
       "    .dataframe thead th {\n",
       "        text-align: right;\n",
       "    }\n",
       "</style>\n",
       "<table border=\"1\" class=\"dataframe\">\n",
       "  <thead>\n",
       "    <tr style=\"text-align: right;\">\n",
       "      <th></th>\n",
       "      <th>text</th>\n",
       "      <th>toxic</th>\n",
       "    </tr>\n",
       "  </thead>\n",
       "  <tbody>\n",
       "    <tr>\n",
       "      <th>0</th>\n",
       "      <td>Expert Categorizers  \\n\\nWhy is there no menti...</td>\n",
       "      <td>0</td>\n",
       "    </tr>\n",
       "    <tr>\n",
       "      <th>1</th>\n",
       "      <td>\"\\n\\n Noise \\n\\nfart*  talk. \"</td>\n",
       "      <td>1</td>\n",
       "    </tr>\n",
       "    <tr>\n",
       "      <th>2</th>\n",
       "      <td>An indefinite block is appropriate, even for a...</td>\n",
       "      <td>0</td>\n",
       "    </tr>\n",
       "    <tr>\n",
       "      <th>3</th>\n",
       "      <td>I don't understand why we have a screenshot of...</td>\n",
       "      <td>0</td>\n",
       "    </tr>\n",
       "    <tr>\n",
       "      <th>4</th>\n",
       "      <td>Hello! Some of the people, places or things yo...</td>\n",
       "      <td>0</td>\n",
       "    </tr>\n",
       "  </tbody>\n",
       "</table>\n",
       "</div>"
      ],
      "text/plain": [
       "                                                text  toxic\n",
       "0  Expert Categorizers  \\n\\nWhy is there no menti...      0\n",
       "1                     \"\\n\\n Noise \\n\\nfart*  talk. \"      1\n",
       "2  An indefinite block is appropriate, even for a...      0\n",
       "3  I don't understand why we have a screenshot of...      0\n",
       "4  Hello! Some of the people, places or things yo...      0"
      ]
     },
     "execution_count": 9,
     "metadata": {},
     "output_type": "execute_result"
    }
   ],
   "source": [
    "# константы\n",
    "RANDOM_STATE = 12345 # это также найдёт применение и в обычной модели\n",
    "BERT_SAMPLES = 5000\n",
    "BATCH_SIZE = 500\n",
    "\n",
    "data_bert = data_clean.copy()\n",
    "data_bert = data_clean.sample(BERT_SAMPLES + 500, random_state=RANDOM_STATE).reset_index(drop=True) \n",
    "data_bert.head()"
   ]
  },
  {
   "cell_type": "markdown",
   "metadata": {},
   "source": [
    "Теперь проверяем, доступно ли CUDA-устройство."
   ]
  },
  {
   "cell_type": "code",
   "execution_count": 10,
   "metadata": {},
   "outputs": [],
   "source": [
    "try:\n",
    "    torch.zeros(1).cuda()\n",
    "except:\n",
    "    print('Устройство недоступно')"
   ]
  },
  {
   "cell_type": "markdown",
   "metadata": {},
   "source": [
    "Устанавливаем видеокарту как устройство, на котором будет работать обучение. Если же устройство недоступно, то PyTorch будет работать на процессоре, как обычно."
   ]
  },
  {
   "cell_type": "code",
   "execution_count": 11,
   "metadata": {},
   "outputs": [
    {
     "data": {
      "text/plain": [
       "device(type='cuda')"
      ]
     },
     "execution_count": 11,
     "metadata": {},
     "output_type": "execute_result"
    }
   ],
   "source": [
    "device = torch.device('cuda' if torch.cuda.is_available() else 'cpu')\n",
    "device"
   ]
  },
  {
   "cell_type": "markdown",
   "metadata": {},
   "source": [
    "Загружаем предобученную модель и токенизатор, которые и будут подготавливать эмбеддинги."
   ]
  },
  {
   "cell_type": "code",
   "execution_count": 12,
   "metadata": {},
   "outputs": [
    {
     "name": "stderr",
     "output_type": "stream",
     "text": [
      "Some weights of the model checkpoint at bert-base-uncased were not used when initializing BertModel: ['cls.seq_relationship.weight', 'cls.predictions.transform.dense.weight', 'cls.predictions.bias', 'cls.predictions.transform.LayerNorm.bias', 'cls.seq_relationship.bias', 'cls.predictions.transform.LayerNorm.weight', 'cls.predictions.transform.dense.bias', 'cls.predictions.decoder.weight']\n",
      "- This IS expected if you are initializing BertModel from the checkpoint of a model trained on another task or with another architecture (e.g. initializing a BertForSequenceClassification model from a BertForPreTraining model).\n",
      "- This IS NOT expected if you are initializing BertModel from the checkpoint of a model that you expect to be exactly identical (initializing a BertForSequenceClassification model from a BertForSequenceClassification model).\n"
     ]
    }
   ],
   "source": [
    "model_class, tokenizer_class, pretrained_weights = (transformers.BertModel, transformers.BertTokenizer, \n",
    "                                                    'bert-base-uncased')\n",
    "\n",
    "# загрузка предобученной модели/токенизатора \n",
    "tokenizer = tokenizer_class.from_pretrained(pretrained_weights)\n",
    "model = model_class.from_pretrained(pretrained_weights)\n",
    "model = model.to(device) # перемещаем работу на видеокарту"
   ]
  },
  {
   "cell_type": "code",
   "execution_count": 13,
   "metadata": {},
   "outputs": [
    {
     "data": {
      "application/vnd.jupyter.widget-view+json": {
       "model_id": "fdf36045189f40eabe343f2f46cddab3",
       "version_major": 2,
       "version_minor": 0
      },
      "text/plain": [
       "  0%|          | 0/5500 [00:00<?, ?it/s]"
      ]
     },
     "metadata": {},
     "output_type": "display_data"
    },
    {
     "name": "stderr",
     "output_type": "stream",
     "text": [
      "Token indices sequence length is longer than the specified maximum sequence length for this model (526 > 512). Running this sequence through the model will result in indexing errors\n"
     ]
    }
   ],
   "source": [
    "tokenized = data_bert['text'].progress_apply(lambda x: tokenizer.encode(x, add_special_tokens=True))"
   ]
  },
  {
   "cell_type": "markdown",
   "metadata": {},
   "source": [
    "Код выдаёт предупреждение, что длина последовательности токенов ограничена значением 512, а поскольку встречаются длиннее, то будет происходить ошибка индексирования. Поэтому отберём только те примеры, где длина меньше 512."
   ]
  },
  {
   "cell_type": "code",
   "execution_count": 14,
   "metadata": {},
   "outputs": [],
   "source": [
    "tokens = []\n",
    "target = []\n",
    "for i in range(len(tokenized)):\n",
    "    if len(tokenized[i]) <= 512:\n",
    "        tokens.append(tokenized[i])\n",
    "        target.append(data_bert['toxic'][i])\n",
    "tokens = (pd.Series(tokens)).head(BERT_SAMPLES)\n",
    "target = (pd.Series(target)).head(BERT_SAMPLES)"
   ]
  },
  {
   "cell_type": "code",
   "execution_count": 15,
   "metadata": {},
   "outputs": [
    {
     "data": {
      "application/vnd.jupyter.widget-view+json": {
       "model_id": "1586b20906d84e98af46c1609505d2cc",
       "version_major": 2,
       "version_minor": 0
      },
      "text/plain": [
       "  0%|          | 0/5000 [00:00<?, ?it/s]"
      ]
     },
     "metadata": {},
     "output_type": "display_data"
    },
    {
     "data": {
      "application/vnd.jupyter.widget-view+json": {
       "model_id": "6a7e06ef66284629b858f492b81b1ead",
       "version_major": 2,
       "version_minor": 0
      },
      "text/plain": [
       "  0%|          | 0/5000 [00:00<?, ?it/s]"
      ]
     },
     "metadata": {},
     "output_type": "display_data"
    }
   ],
   "source": [
    "max_len = 0\n",
    "for i in tqdm(tokens.values):\n",
    "    if len(i) > max_len:\n",
    "        max_len = len(i)\n",
    "\n",
    "padded = np.array([i + [0]*(max_len - len(i)) for i in tqdm(tokens.values)])\n",
    "attention_mask = np.where(padded != 0, 1, 0)"
   ]
  },
  {
   "cell_type": "code",
   "execution_count": 16,
   "metadata": {},
   "outputs": [
    {
     "data": {
      "text/plain": [
       "(5000, 512)"
      ]
     },
     "metadata": {},
     "output_type": "display_data"
    },
    {
     "data": {
      "text/plain": [
       "(5000, 512)"
      ]
     },
     "metadata": {},
     "output_type": "display_data"
    }
   ],
   "source": [
    "display(padded.shape, attention_mask.shape)"
   ]
  },
  {
   "cell_type": "markdown",
   "metadata": {},
   "source": [
    "Токенизация произведена, размеры правильные. Создаём эмбеддинги (само создание происходит на видеокарте, но при создании списка эмбеддингов батчи снова перемещаются в системную память под обработку процессором, т.к. NumPy не поддерживает CUDA)."
   ]
  },
  {
   "cell_type": "code",
   "execution_count": 17,
   "metadata": {},
   "outputs": [
    {
     "data": {
      "application/vnd.jupyter.widget-view+json": {
       "model_id": "9c629b698d334c7580ae23deb18148f8",
       "version_major": 2,
       "version_minor": 0
      },
      "text/plain": [
       "  0%|          | 0/10 [00:00<?, ?it/s]"
      ]
     },
     "metadata": {},
     "output_type": "display_data"
    }
   ],
   "source": [
    "batch_size = BATCH_SIZE\n",
    "embeddings = []\n",
    "for i in notebook.tqdm(range(padded.shape[0] // batch_size)):\n",
    "        batch = torch.cuda.LongTensor(padded[batch_size*i:batch_size*(i+1)]) \n",
    "        attention_mask_batch = torch.cuda.LongTensor(attention_mask[batch_size*i:batch_size*(i+1)])\n",
    "        \n",
    "        with torch.no_grad():\n",
    "            batch_embeddings = model(batch, attention_mask=attention_mask_batch)\n",
    "        \n",
    "        embeddings.append(batch_embeddings[0][:,0,:].cpu().detach().numpy())\n",
    "features_bert = np.concatenate(embeddings)"
   ]
  },
  {
   "cell_type": "code",
   "execution_count": 18,
   "metadata": {},
   "outputs": [
    {
     "data": {
      "text/plain": [
       "0    0\n",
       "1    1\n",
       "2    0\n",
       "3    0\n",
       "4    0\n",
       "dtype: int64"
      ]
     },
     "execution_count": 18,
     "metadata": {},
     "output_type": "execute_result"
    }
   ],
   "source": [
    "target_bert = target\n",
    "target_bert.head()"
   ]
  },
  {
   "cell_type": "markdown",
   "metadata": {},
   "source": [
    "### 1.2. TF-IDF\n",
    "\n",
    "Поскольку классы требуют балансировки, нужно провести поиск лучшего способа и сравнить качество. Балансировать можно так:\n",
    "1. Изменение весов в модели обучения\n",
    "2. Ресемплирование с уменьшением класса 0\n",
    "\n",
    "Ресемплирование с увеличением класса 1 не будем использовать из-за громоздкого набора данных."
   ]
  },
  {
   "cell_type": "code",
   "execution_count": 19,
   "metadata": {},
   "outputs": [],
   "source": [
    "# подсмотрела лемматизатор, который работает быстрее, чем Mystem\n",
    "lemmatizer = WordNetLemmatizer()\n",
    "def lemmatize_text(text):\n",
    "    word_list = nltk.word_tokenize(text)\n",
    "    lemmatized_output = ' '.join([lemmatizer.lemmatize(w) for w in word_list])  \n",
    "    text = re.sub(r\"[^a-zA-Z']\", ' ', lemmatized_output)\n",
    "    # text = text.lower()\n",
    "    return ' '.join(text.split()) "
   ]
  },
  {
   "cell_type": "code",
   "execution_count": 20,
   "metadata": {},
   "outputs": [
    {
     "data": {
      "application/vnd.jupyter.widget-view+json": {
       "model_id": "0526594e1afb4e3f81aff4309047ca13",
       "version_major": 2,
       "version_minor": 0
      },
      "text/plain": [
       "  0%|          | 0/159292 [00:00<?, ?it/s]"
      ]
     },
     "metadata": {},
     "output_type": "display_data"
    },
    {
     "name": "stdout",
     "output_type": "stream",
     "text": [
      "CPU times: total: 1min 35s\n",
      "Wall time: 1min 35s\n"
     ]
    },
    {
     "data": {
      "text/html": [
       "<div>\n",
       "<style scoped>\n",
       "    .dataframe tbody tr th:only-of-type {\n",
       "        vertical-align: middle;\n",
       "    }\n",
       "\n",
       "    .dataframe tbody tr th {\n",
       "        vertical-align: top;\n",
       "    }\n",
       "\n",
       "    .dataframe thead th {\n",
       "        text-align: right;\n",
       "    }\n",
       "</style>\n",
       "<table border=\"1\" class=\"dataframe\">\n",
       "  <thead>\n",
       "    <tr style=\"text-align: right;\">\n",
       "      <th></th>\n",
       "      <th>text</th>\n",
       "      <th>toxic</th>\n",
       "      <th>lemm_text</th>\n",
       "    </tr>\n",
       "  </thead>\n",
       "  <tbody>\n",
       "    <tr>\n",
       "      <th>0</th>\n",
       "      <td>Explanation\\nWhy the edits made under my usern...</td>\n",
       "      <td>0</td>\n",
       "      <td>Explanation Why the edits made under my userna...</td>\n",
       "    </tr>\n",
       "    <tr>\n",
       "      <th>1</th>\n",
       "      <td>D'aww! He matches this background colour I'm s...</td>\n",
       "      <td>0</td>\n",
       "      <td>D'aww He match this background colour I 'm see...</td>\n",
       "    </tr>\n",
       "    <tr>\n",
       "      <th>2</th>\n",
       "      <td>Hey man, I'm really not trying to edit war. It...</td>\n",
       "      <td>0</td>\n",
       "      <td>Hey man I 'm really not trying to edit war It ...</td>\n",
       "    </tr>\n",
       "    <tr>\n",
       "      <th>3</th>\n",
       "      <td>\"\\nMore\\nI can't make any real suggestions on ...</td>\n",
       "      <td>0</td>\n",
       "      <td>More I ca n't make any real suggestion on impr...</td>\n",
       "    </tr>\n",
       "    <tr>\n",
       "      <th>4</th>\n",
       "      <td>You, sir, are my hero. Any chance you remember...</td>\n",
       "      <td>0</td>\n",
       "      <td>You sir are my hero Any chance you remember wh...</td>\n",
       "    </tr>\n",
       "  </tbody>\n",
       "</table>\n",
       "</div>"
      ],
      "text/plain": [
       "                                                text  toxic  \\\n",
       "0  Explanation\\nWhy the edits made under my usern...      0   \n",
       "1  D'aww! He matches this background colour I'm s...      0   \n",
       "2  Hey man, I'm really not trying to edit war. It...      0   \n",
       "3  \"\\nMore\\nI can't make any real suggestions on ...      0   \n",
       "4  You, sir, are my hero. Any chance you remember...      0   \n",
       "\n",
       "                                           lemm_text  \n",
       "0  Explanation Why the edits made under my userna...  \n",
       "1  D'aww He match this background colour I 'm see...  \n",
       "2  Hey man I 'm really not trying to edit war It ...  \n",
       "3  More I ca n't make any real suggestion on impr...  \n",
       "4  You sir are my hero Any chance you remember wh...  "
      ]
     },
     "execution_count": 20,
     "metadata": {},
     "output_type": "execute_result"
    }
   ],
   "source": [
    "%%time\n",
    "\n",
    "data_clean['lemm_text'] = data_clean['text'].progress_apply(lemmatize_text)\n",
    "data_clean.head()"
   ]
  },
  {
   "cell_type": "markdown",
   "metadata": {},
   "source": [
    "Разобьём выборку в соотношении 60:20:20."
   ]
  },
  {
   "cell_type": "code",
   "execution_count": 21,
   "metadata": {},
   "outputs": [
    {
     "name": "stdout",
     "output_type": "stream",
     "text": [
      "Размер обучающей выборки: (95575, 121576)\n",
      "Размер валидационной выборки: (31858, 121576)\n",
      "Размер тестовой выборки: (31859, 121576)\n"
     ]
    }
   ],
   "source": [
    "target = data_clean['toxic']\n",
    "features = data_clean.drop(['toxic', 'text'], axis=1)\n",
    "\n",
    "features_train, features_valid, target_train, target_valid = train_test_split(features, \n",
    "                                                                              target, \n",
    "                                                                              test_size=0.4, \n",
    "                                                                              random_state=RANDOM_STATE)\n",
    "features_valid, features_test, target_valid, target_test = train_test_split(features_valid, \n",
    "                                                                            target_valid, \n",
    "                                                                            test_size=0.5,\n",
    "                                                                            random_state=RANDOM_STATE)\n",
    "\n",
    "count_tf_idf = TfidfVectorizer(stop_words=stopwords)\n",
    "\n",
    "features_train = count_tf_idf.fit_transform(features_train['lemm_text'].values.astype('U'))\n",
    "features_valid = count_tf_idf.transform(features_valid['lemm_text'].values.astype('U'))\n",
    "features_test = count_tf_idf.transform(features_test['lemm_text'].values.astype('U'))\n",
    "print('Размер обучающей выборки:', features_train.shape)\n",
    "print('Размер валидационной выборки:', features_valid.shape)\n",
    "print('Размер тестовой выборки:', features_test.shape)"
   ]
  },
  {
   "cell_type": "markdown",
   "metadata": {},
   "source": [
    "Из-за размера выборки уменьшаем количество кросс-валидаций до 3, чтобы обрабатывалось не слишком долго. Проверяем значение F1-метрики на исходной выборке (без балансировки классов)."
   ]
  },
  {
   "cell_type": "code",
   "execution_count": 22,
   "metadata": {},
   "outputs": [
    {
     "name": "stdout",
     "output_type": "stream",
     "text": [
      "F1 на кросс-валидации: 0.6770409702369498\n",
      "CPU times: total: 3.61 s\n",
      "Wall time: 3.33 s\n"
     ]
    }
   ],
   "source": [
    "%%time\n",
    "cv_counts = 3\n",
    "classificator = LogisticRegression()\n",
    "train_f1 = cross_val_score(classificator, \n",
    "                      features_train, \n",
    "                      target_train, \n",
    "                      cv=cv_counts, \n",
    "                      scoring='f1').mean()\n",
    "print('F1 на кросс-валидации:', train_f1)"
   ]
  },
  {
   "cell_type": "markdown",
   "metadata": {},
   "source": [
    "### 1.3. Изменение баланса классов\n",
    "\n",
    "#### 1.3.1. Изменение весов"
   ]
  },
  {
   "cell_type": "code",
   "execution_count": 23,
   "metadata": {},
   "outputs": [
    {
     "name": "stdout",
     "output_type": "stream",
     "text": [
      "F1 на кросс-валидации со сбалансированными классами: 0.7442647547060682\n",
      "CPU times: total: 2.47 s\n",
      "Wall time: 2.37 s\n"
     ]
    }
   ],
   "source": [
    "%%time\n",
    "\n",
    "# встроенный метод для тестирования\n",
    "classificator = LogisticRegression(class_weight='balanced')\n",
    "train_f1_balanced = cross_val_score(classificator, \n",
    "                                    features_train, \n",
    "                                    target_train, \n",
    "                                    cv=cv_counts, \n",
    "                                    scoring='f1').mean()\n",
    "print('F1 на кросс-валидации со сбалансированными классами:', train_f1_balanced)"
   ]
  },
  {
   "cell_type": "code",
   "execution_count": 24,
   "metadata": {},
   "outputs": [
    {
     "data": {
      "text/plain": [
       "8.841344371679229"
      ]
     },
     "metadata": {},
     "output_type": "display_data"
    },
    {
     "name": "stdout",
     "output_type": "stream",
     "text": [
      "F1 на кросс-валидации со сбалансированными классами: 0.7442647547060682\n",
      "CPU times: total: 3.73 s\n",
      "Wall time: 3.54 s\n"
     ]
    }
   ],
   "source": [
    "%%time\n",
    "\n",
    "class_ratio = data_clean['toxic'].value_counts()[0] / data_clean['toxic'].value_counts()[1]\n",
    "display(class_ratio)\n",
    "\n",
    "dict_classes={0:1, 1:class_ratio}\n",
    "classificator = LogisticRegression(class_weight=dict_classes)\n",
    "train_f1_balanced_dict = cross_val_score(classificator, \n",
    "                                    features_train, \n",
    "                                    target_train, \n",
    "                                    cv=cv_counts, \n",
    "                                    scoring='f1').mean()\n",
    "print('F1 на кросс-валидации со сбалансированными классами:', train_f1_balanced)"
   ]
  },
  {
   "cell_type": "markdown",
   "metadata": {},
   "source": [
    "Оба метода дают идентичный результат. Но нужно проверить и ресемплирование.\n",
    "\n",
    "#### 1.3.2. Ресемплирование с уменьшением класса 0"
   ]
  },
  {
   "cell_type": "code",
   "execution_count": 25,
   "metadata": {},
   "outputs": [],
   "source": [
    "toxic_comments_train = data_clean.iloc[target_train.index]\n",
    "\n",
    "target_train_class_zero = toxic_comments_train[toxic_comments_train['toxic'] == 0]['toxic']\n",
    "target_train_class_one = toxic_comments_train[toxic_comments_train['toxic'] == 1]['toxic']"
   ]
  },
  {
   "cell_type": "code",
   "execution_count": 26,
   "metadata": {},
   "outputs": [],
   "source": [
    "target_train_class_zero_downsample = target_train_class_zero.sample(target_train_class_one.shape[0],\n",
    "                                                                    random_state=RANDOM_STATE)\n",
    "target_train_downsample = pd.concat([target_train_class_zero_downsample, target_train_class_one])\n",
    "\n",
    "features_train_downsample = data_clean.iloc[target_train_downsample.index]\n",
    "features_train_downsample, target_train_downsample = shuffle(features_train_downsample,\n",
    "                                                             target_train_downsample,\n",
    "                                                             random_state=RANDOM_STATE)\n",
    "features_train_downsample = count_tf_idf.transform(features_train_downsample['lemm_text']\n",
    "                                                   .values.astype('U'))\n",
    "del count_tf_idf\n",
    "del stopwords"
   ]
  },
  {
   "cell_type": "code",
   "execution_count": 27,
   "metadata": {},
   "outputs": [
    {
     "name": "stdout",
     "output_type": "stream",
     "text": [
      "F1 на кросс-валидации с уменьшением класса 0: 0.8802320092012738\n",
      "CPU times: total: 1.14 s\n",
      "Wall time: 1.13 s\n"
     ]
    }
   ],
   "source": [
    "%%time\n",
    "\n",
    "classificator = LogisticRegression()\n",
    "train_f1_downsampled = cross_val_score(classificator,\n",
    "                      features_train_downsample, \n",
    "                      target_train_downsample, \n",
    "                      cv=cv_counts, \n",
    "                      scoring='f1').mean()\n",
    "print('F1 на кросс-валидации с уменьшением класса 0:', train_f1_downsampled)"
   ]
  },
  {
   "cell_type": "code",
   "execution_count": 28,
   "metadata": {},
   "outputs": [
    {
     "data": {
      "image/png": "[encoded data removed]",
      "text/plain": [
       "<Figure size 640x480 with 1 Axes>"
      ]
     },
     "metadata": {},
     "output_type": "display_data"
    }
   ],
   "source": [
    "target_train_downsample.hist(grid=False);"
   ]
  },
  {
   "cell_type": "markdown",
   "metadata": {},
   "source": [
    "Однако, максимальный прирост F1-меры наблюдается при ресемплировании. Нужно проверить ROC-кривую."
   ]
  },
  {
   "cell_type": "code",
   "execution_count": 29,
   "metadata": {},
   "outputs": [
    {
     "data": {
      "image/png": "[encoded data removed]",
      "text/plain": [
       "<Figure size 1200x900 with 1 Axes>"
      ]
     },
     "metadata": {},
     "output_type": "display_data"
    }
   ],
   "source": [
    "plt.figure(figsize=[12,9])\n",
    "\n",
    "plt.plot([0, 1], [0, 1], linestyle='--', label='Константная модель')\n",
    "\n",
    "\n",
    "classificator = LogisticRegression()\n",
    "classificator.fit(features_train, target_train)\n",
    "probabilities_valid = classificator.predict_proba(features_valid)\n",
    "probabilities_one_valid = probabilities_valid[:, 1]\n",
    "fpr, tpr, thresholds = roc_curve(target_valid, probabilities_one_valid)\n",
    "auc_roc = roc_auc_score(target_valid, probabilities_one_valid)\n",
    "valid_f1 = f1_score(target_valid, classificator.predict(features_valid))\n",
    "plt.plot(fpr, tpr, label='Логистическая регрессия')\n",
    "\n",
    "classificator = LogisticRegression(class_weight=dict_classes)\n",
    "classificator.fit(features_train, target_train)\n",
    "probabilities_valid = classificator.predict_proba(features_valid)\n",
    "probabilities_one_valid = probabilities_valid[:, 1]\n",
    "fpr, tpr, thresholds = roc_curve(target_valid, probabilities_one_valid)\n",
    "auc_roc_balanced = roc_auc_score(target_valid, probabilities_one_valid)\n",
    "valid_f1_balanced = f1_score(target_valid, classificator.predict(features_valid))\n",
    "plt.plot(fpr, tpr, label='LR со сбалансированными классами (словарь классов)')\n",
    "\n",
    "classificator = LogisticRegression(class_weight='balanced')\n",
    "classificator.fit(features_train, target_train)\n",
    "probabilities_valid = classificator.predict_proba(features_valid)\n",
    "probabilities_one_valid = probabilities_valid[:, 1]\n",
    "fpr, tpr, thresholds = roc_curve(target_valid, probabilities_one_valid)\n",
    "auc_roc_balanced = roc_auc_score(target_valid, probabilities_one_valid)\n",
    "valid_f1_balanced = f1_score(target_valid, classificator.predict(features_valid))\n",
    "plt.plot(fpr, tpr, label='LR со сбалансированными классами (метод balanced)')\n",
    "\n",
    "classificator = LogisticRegression()\n",
    "classificator.fit(features_train_downsample,target_train_downsample)\n",
    "probabilities_valid = classificator.predict_proba(features_valid)\n",
    "probabilities_one_valid = probabilities_valid[:, 1]\n",
    "fpr, tpr, thresholds = roc_curve(target_valid, probabilities_one_valid)\n",
    "auc_roc_downsampled = roc_auc_score(target_valid, probabilities_one_valid)\n",
    "valid_f1_downsampled = f1_score(target_valid, classificator.predict(features_valid))\n",
    "plt.plot(fpr, tpr, label='LR с даунсемплингом')\n",
    "\n",
    "plt.xlim([0,1])\n",
    "plt.ylim([0,1])\n",
    "\n",
    "plt.xlabel(\"False Positive Rate\")\n",
    "plt.ylabel(\"True Positive Rate\")\n",
    "\n",
    "plt.legend(loc='lower right')\n",
    "\n",
    "plt.title(\"ROC-кривая\")\n",
    "plt.show()"
   ]
  },
  {
   "cell_type": "markdown",
   "metadata": {},
   "source": [
    "Здесь даунсемплинг не оправдал себя - он показывает результат (ROC-кривую) даже хуже, чем модель без какой-либо балансировки. Балансирование классов через словарь соотношения и встроенный метод balanced показало практически идентичные результаты; в дальнейшем будем использовать первый способ."
   ]
  },
  {
   "cell_type": "markdown",
   "metadata": {},
   "source": [
    "## 2. Обучение\n",
    "\n",
    "### 2.1. Логистическая регрессия"
   ]
  },
  {
   "cell_type": "code",
   "execution_count": 30,
   "metadata": {},
   "outputs": [
    {
     "name": "stdout",
     "output_type": "stream",
     "text": [
      "Поиск гиперпараметров для f1_score...\n",
      "\n",
      "Лучший набор параметров:\n",
      "\n",
      "{'C': 10, 'class_weight': {0: 1, 1: 8.841344371679229}, 'solver': 'liblinear'}\n",
      "\n",
      "0.707629 for {'C': 0.1, 'class_weight': {0: 1, 1: 8.841344371679229}, 'solver': 'newton-cg'}\n",
      "0.707567 for {'C': 0.1, 'class_weight': {0: 1, 1: 8.841344371679229}, 'solver': 'lbfgs'}\n",
      "0.707530 for {'C': 0.1, 'class_weight': {0: 1, 1: 8.841344371679229}, 'solver': 'liblinear'}\n",
      "0.752944 for {'C': 1, 'class_weight': {0: 1, 1: 8.841344371679229}, 'solver': 'newton-cg'}\n",
      "0.752922 for {'C': 1, 'class_weight': {0: 1, 1: 8.841344371679229}, 'solver': 'lbfgs'}\n",
      "0.752944 for {'C': 1, 'class_weight': {0: 1, 1: 8.841344371679229}, 'solver': 'liblinear'}\n",
      "0.759985 for {'C': 10, 'class_weight': {0: 1, 1: 8.841344371679229}, 'solver': 'newton-cg'}\n",
      "0.759561 for {'C': 10, 'class_weight': {0: 1, 1: 8.841344371679229}, 'solver': 'lbfgs'}\n",
      "0.760025 for {'C': 10, 'class_weight': {0: 1, 1: 8.841344371679229}, 'solver': 'liblinear'}\n",
      "0.738392 for {'C': 100, 'class_weight': {0: 1, 1: 8.841344371679229}, 'solver': 'newton-cg'}\n",
      "0.741478 for {'C': 100, 'class_weight': {0: 1, 1: 8.841344371679229}, 'solver': 'lbfgs'}\n",
      "0.738392 for {'C': 100, 'class_weight': {0: 1, 1: 8.841344371679229}, 'solver': 'liblinear'}\n",
      "\n"
     ]
    }
   ],
   "source": [
    "classificator = LogisticRegression()\n",
    "hyperparams = [{'solver':['newton-cg', 'lbfgs', 'liblinear'],\n",
    "                'C':[0.1, 1, 10, 100],\n",
    "                'class_weight':[dict_classes]\n",
    "                }]\n",
    "\n",
    "\n",
    "print('Поиск гиперпараметров для f1_score...')\n",
    "print()\n",
    "clf = GridSearchCV(classificator, hyperparams, scoring='f1',cv=cv_counts)\n",
    "clf.fit(features_train, target_train)\n",
    "print(\"Лучший набор параметров:\")\n",
    "print()\n",
    "LR_best_params = clf.best_params_\n",
    "print(LR_best_params)\n",
    "print()\n",
    "means = clf.cv_results_['mean_test_score']\n",
    "stds = clf.cv_results_['std_test_score']\n",
    "for mean, std, params in zip(means, stds, clf.cv_results_['params']):\n",
    "    print(\"%0.6f for %r\"% (mean, params))\n",
    "print()\n",
    "\n",
    "cv_f1_LR = max(means)"
   ]
  },
  {
   "cell_type": "code",
   "execution_count": 31,
   "metadata": {},
   "outputs": [
    {
     "name": "stdout",
     "output_type": "stream",
     "text": [
      "F1 на кросс-валидации: 0.7600245257023225\n",
      "F1 на валидационной выборке: 0.7610645067978016\n",
      "CPU times: total: 1.09 s\n",
      "Wall time: 1.08 s\n"
     ]
    }
   ],
   "source": [
    "%%time\n",
    "\n",
    "classificator = LogisticRegression()\n",
    "classificator.set_params(**LR_best_params)\n",
    "classificator.fit(features_train, target_train)\n",
    "target_predict = classificator.predict(features_valid)\n",
    "valid_f1_LR = f1_score(target_valid, target_predict)\n",
    "print('F1 на кросс-валидации:', cv_f1_LR)\n",
    "print('F1 на валидационной выборке:', valid_f1_LR)"
   ]
  },
  {
   "cell_type": "markdown",
   "metadata": {},
   "source": [
    "### 2.2. LGBM"
   ]
  },
  {
   "cell_type": "code",
   "execution_count": 32,
   "metadata": {},
   "outputs": [
    {
     "name": "stdout",
     "output_type": "stream",
     "text": [
      "F1 на кросс-валидации: 0.7218433538561632\n",
      "F1 на валидационной выборке: 0.7610645067978016\n",
      "CPU times: total: 4min 54s\n",
      "Wall time: 19.8 s\n"
     ]
    }
   ],
   "source": [
    "%%time\n",
    "\n",
    "clf = lgb.LGBMClassifier(class_weight=dict_classes)\n",
    "clf.fit(features_train, target_train)\n",
    "target_predict = classificator.predict(features_valid)\n",
    "cv_f1_lgb = cross_val_score(clf,\n",
    "                                         features_train, \n",
    "                                         target_train, \n",
    "                                         cv=cv_counts, \n",
    "                                         scoring='f1').mean()\n",
    "valid_f1_lgb = f1_score(target_valid, target_predict)\n",
    "print('F1 на кросс-валидации:', cv_f1_lgb)\n",
    "print('F1 на валидационной выборке:', valid_f1_lgb)"
   ]
  },
  {
   "cell_type": "markdown",
   "metadata": {},
   "source": [
    "### 2.3. CatBoost"
   ]
  },
  {
   "cell_type": "code",
   "execution_count": 33,
   "metadata": {},
   "outputs": [
    {
     "name": "stdout",
     "output_type": "stream",
     "text": [
      "F1 на кросс-валидации: 0.7376724054950264\n",
      "F1 на валидационной выборке: 0.7418300653594773\n",
      "CPU times: total: 34min 7s\n",
      "Wall time: 3min 56s\n"
     ]
    }
   ],
   "source": [
    "%%time\n",
    "\n",
    "classificator = CatBoostClassifier(verbose=False, iterations=200, class_weights=dict_classes)\n",
    "classificator.fit(features_train, target_train)\n",
    "target_predict = classificator.predict(features_valid)\n",
    "cv_f1_CBC = cross_val_score(classificator,\n",
    "                                         features_train, \n",
    "                                         target_train, \n",
    "                                         cv=cv_counts, \n",
    "                                         scoring='f1').mean()\n",
    "valid_f1_CBC = f1_score(target_valid, target_predict)\n",
    "print('F1 на кросс-валидации:', cv_f1_CBC)\n",
    "print('F1 на валидационной выборке:', valid_f1_CBC)"
   ]
  },
  {
   "cell_type": "markdown",
   "metadata": {},
   "source": [
    "### 2.4. LogisticRegression with BERT"
   ]
  },
  {
   "cell_type": "code",
   "execution_count": 34,
   "metadata": {},
   "outputs": [],
   "source": [
    "# features_bert определена выше\n",
    "target_bert = target_bert.head(len(features_bert))\n",
    "\n",
    "features_train_bert, features_test_bert, target_train_bert, target_test_bert = train_test_split(\n",
    "    features_bert, target_bert, test_size=0.2, random_state=RANDOM_STATE)"
   ]
  },
  {
   "cell_type": "code",
   "execution_count": 35,
   "metadata": {},
   "outputs": [
    {
     "name": "stdout",
     "output_type": "stream",
     "text": [
      "F1 на валидационной выборке: 0.6638655462184874\n",
      "CPU times: total: 297 ms\n",
      "Wall time: 92.8 ms\n"
     ]
    }
   ],
   "source": [
    "%%time\n",
    "\n",
    "classificator = LogisticRegression(class_weight='balanced') # c этим значение получается лучше, чем со словарём\n",
    "classificator.fit(features_train_bert, target_train_bert)\n",
    "target_predict = classificator.predict(features_test_bert)\n",
    "valid_f1_bert = f1_score(target_test_bert, target_predict)\n",
    "# print('F1 на кросс-валидации:', cv_f1_LR)\n",
    "print('F1 на валидационной выборке:', valid_f1_bert)"
   ]
  },
  {
   "cell_type": "markdown",
   "metadata": {},
   "source": [
    "## 3. Выводы"
   ]
  },
  {
   "cell_type": "markdown",
   "metadata": {},
   "source": [
    "На валидационной выборке лучшие результаты показали логистическая регрессия (без BERT) и LightGBM. Поскольку значение F1-метрики на валидационной выборке у них идентично, на тестовых данных проверим обе и построим графики метрик."
   ]
  },
  {
   "cell_type": "code",
   "execution_count": 36,
   "metadata": {},
   "outputs": [
    {
     "data": {
      "image/png": "[encoded data removed]",
      "text/plain": [
       "<Figure size 1200x900 with 1 Axes>"
      ]
     },
     "metadata": {},
     "output_type": "display_data"
    }
   ],
   "source": [
    "plt.figure(figsize=[12,9])\n",
    "\n",
    "plt.plot([0, 1], [0, 1], linestyle='--', label='Константная модель')\n",
    "\n",
    "classificator = LogisticRegression()\n",
    "classificator.set_params(**LR_best_params)\n",
    "classificator.fit(features_train, target_train)\n",
    "probabilities_test = classificator.predict_proba(features_test)\n",
    "probabilities_one_test = probabilities_test[:, 1]\n",
    "fpr, tpr, thresholds = roc_curve(target_test, probabilities_one_test)\n",
    "predict_test = classificator.predict(features_test)\n",
    "plt.plot(fpr, tpr, label='Логистическая регрессия')\n",
    "\n",
    "roc_lr = roc_auc_score(target_test, probabilities_one_test)\n",
    "f1_lr = f1_score(target_test, predict_test)\n",
    "precision_lr = precision_score(target_test, predict_test)\n",
    "recall_lr = recall_score(target_test, predict_test)\n",
    "acc_lr = accuracy_score(target_test, predict_test)\n",
    "\n",
    "classificator = lgb.LGBMClassifier(class_weight=dict_classes)\n",
    "classificator.fit(features_train, target_train)\n",
    "probabilities_test = classificator.predict_proba(features_test)\n",
    "probabilities_one_test = probabilities_test[:, 1]\n",
    "fpr, tpr, thresholds = roc_curve(target_test, probabilities_one_test)\n",
    "predict_test = classificator.predict(features_test)\n",
    "plt.plot(fpr, tpr, label='LightGBM')\n",
    "\n",
    "roc_lgb = roc_auc_score(target_test, probabilities_one_test)\n",
    "f1_lgb = f1_score(target_test, predict_test)\n",
    "precision_lgb = precision_score(target_test, predict_test)\n",
    "recall_lgb = recall_score(target_test, predict_test)\n",
    "acc_lgb = accuracy_score(target_test, predict_test)\n",
    "\n",
    "plt.xlim([0,1])\n",
    "plt.ylim([0,1])\n",
    "\n",
    "plt.xlabel(\"False Positive Rate\")\n",
    "plt.ylabel(\"True Positive Rate\")\n",
    "\n",
    "plt.legend(loc='lower right')\n",
    "\n",
    "plt.title(\"ROC-кривая\")\n",
    "plt.show()"
   ]
  },
  {
   "cell_type": "code",
   "execution_count": 37,
   "metadata": {},
   "outputs": [
    {
     "data": {
      "text/html": [
       "<div>\n",
       "<style scoped>\n",
       "    .dataframe tbody tr th:only-of-type {\n",
       "        vertical-align: middle;\n",
       "    }\n",
       "\n",
       "    .dataframe tbody tr th {\n",
       "        vertical-align: top;\n",
       "    }\n",
       "\n",
       "    .dataframe thead th {\n",
       "        text-align: right;\n",
       "    }\n",
       "</style>\n",
       "<table border=\"1\" class=\"dataframe\">\n",
       "  <thead>\n",
       "    <tr style=\"text-align: right;\">\n",
       "      <th></th>\n",
       "      <th>ROC AUC</th>\n",
       "      <th>F1</th>\n",
       "      <th>Precision</th>\n",
       "      <th>Recall</th>\n",
       "      <th>Accuracy</th>\n",
       "    </tr>\n",
       "  </thead>\n",
       "  <tbody>\n",
       "    <tr>\n",
       "      <th>LogisticRegression</th>\n",
       "      <td>0.960173</td>\n",
       "      <td>0.751107</td>\n",
       "      <td>0.715813</td>\n",
       "      <td>0.790062</td>\n",
       "      <td>0.947079</td>\n",
       "    </tr>\n",
       "    <tr>\n",
       "      <th>LightGBM</th>\n",
       "      <td>0.951830</td>\n",
       "      <td>0.721565</td>\n",
       "      <td>0.659887</td>\n",
       "      <td>0.795963</td>\n",
       "      <td>0.937914</td>\n",
       "    </tr>\n",
       "  </tbody>\n",
       "</table>\n",
       "</div>"
      ],
      "text/plain": [
       "                     ROC AUC        F1  Precision    Recall  Accuracy\n",
       "LogisticRegression  0.960173  0.751107   0.715813  0.790062  0.947079\n",
       "LightGBM            0.951830  0.721565   0.659887  0.795963  0.937914"
      ]
     },
     "execution_count": 37,
     "metadata": {},
     "output_type": "execute_result"
    }
   ],
   "source": [
    "results_lr = [roc_lr, f1_lr, precision_lr, recall_lr, acc_lr]\n",
    "results_lgb = [roc_lgb, f1_lgb, precision_lgb, recall_lgb, acc_lgb]\n",
    "\n",
    "cols = ['ROC AUC', 'F1', 'Precision', 'Recall', 'Accuracy']\n",
    "\n",
    "result = pd.DataFrame(data=[results_lr, results_lgb], index=['LogisticRegression', 'LightGBM'], columns=cols)\n",
    "result"
   ]
  },
  {
   "cell_type": "markdown",
   "metadata": {},
   "source": [
    "Мы загрузили данные, представляющие собой ~160 тыс. комментариев интернет-магазина \"Викишоп\". Нам нужно было обучить модель, позволяющую находить токсичные комментарии.\n",
    "Эта задача решалась двумя способами:\n",
    "* классический TF-IDF\n",
    "* с помощью эмбеддингов, полученных на предобученной модели BERT\n",
    "\n",
    "Мы подготовили признаки для двух подходов, для подхода на основе эмбеддингов использовали 5000 сэмплов, т.к. с этим значением BERT справилась за разумное время, позволяющее без проблем перезапускать её для теста (для оптимизации скорости работы использовалась технология CUDA).\n",
    "\n",
    "Из-за дисбаланса классов выборки использовалось изменение их весов, основанное на подсчитанном соотношении классов 0 и 1.\n",
    "\n",
    "Для подхода TF-IDF лучшей моделью оказалась модель LogisticRegression, со значением F1-меры на валидационной выборке в 0.76, на тестовой - 0.75. Порог задачи в 0.75 преодолён.\n",
    "\n",
    "Для подхода, основанном на эмбеддингах, значение F1-меры на валидационной выборке составило 0.66."
   ]
  },
  {
   "cell_type": "markdown",
   "metadata": {},
   "source": [
    "## 4. Чек-лист проверки"
   ]
  },
  {
   "cell_type": "markdown",
   "metadata": {},
   "source": [
    "- [x]  Jupyter Notebook открыт\n",
    "- [x]  Весь код выполняется без ошибок\n",
    "- [x]  Ячейки с кодом расположены в порядке исполнения\n",
    "- [x]  Данные загружены и подготовлены\n",
    "- [x]  Модели обучены\n",
    "- [x]  Значение метрики *F1* не меньше 0.75\n",
    "- [x]  Выводы написаны"
   ]
  },
  {
   "cell_type": "code",
   "execution_count": null,
   "metadata": {},
   "outputs": [],
   "source": []
  }
 ],
 "metadata": {
  "kernelspec": {
   "display_name": "Python 3 (ipykernel)",
   "language": "python",
   "name": "python3"
  },
  "language_info": {
   "codemirror_mode": {
    "name": "ipython",
    "version": 3
   },
   "file_extension": ".py",
   "mimetype": "text/x-python",
   "name": "python",
   "nbconvert_exporter": "python",
   "pygments_lexer": "ipython3",
   "version": "3.9.15"
  },
  "toc": {
   "base_numbering": 1,
   "nav_menu": {},
   "number_sections": true,
   "sideBar": true,
   "skip_h1_title": true,
   "title_cell": "Содержание",
   "title_sidebar": "Contents",
   "toc_cell": true,
   "toc_position": {
    "height": "calc(100% - 180px)",
    "left": "10px",
    "top": "150px",
    "width": "302.391px"
   },
   "toc_section_display": true,
   "toc_window_display": false
  }
 },
 "nbformat": 4,
 "nbformat_minor": 2
}
