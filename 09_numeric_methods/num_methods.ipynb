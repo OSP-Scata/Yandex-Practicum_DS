{
 "cells": [
  {
   "cell_type": "markdown",
   "metadata": {},
   "source": [
    "# Определение стоимости автомобилей"
   ]
  },
  {
   "cell_type": "markdown",
   "metadata": {},
   "source": [
    "Сервис по продаже автомобилей с пробегом «Не бит, не крашен» разрабатывает приложение для привлечения новых клиентов. В нём можно быстро узнать рыночную стоимость своего автомобиля. В вашем распоряжении исторические данные: технические характеристики, комплектации и цены автомобилей. Вам нужно построить модель для определения стоимости. \n",
    "\n",
    "Заказчику важны:\n",
    "\n",
    "- качество предсказания;\n",
    "- скорость предсказания;\n",
    "- время обучения."
   ]
  },
  {
   "cell_type": "markdown",
   "metadata": {},
   "source": [
    "## Подготовка данных"
   ]
  },
  {
   "cell_type": "code",
   "execution_count": 1,
   "metadata": {},
   "outputs": [
    {
     "name": "stdout",
     "output_type": "stream",
     "text": [
      "Collecting category_encoders\n",
      "  Downloading category_encoders-2.6.1-py2.py3-none-any.whl (81 kB)\n",
      "\u001b[K     |████████████████████████████████| 81 kB 34 kB/s  eta 0:00:01\n",
      "\u001b[?25hRequirement already satisfied: patsy>=0.5.1 in /opt/conda/lib/python3.9/site-packages (from category_encoders) (0.5.2)\n",
      "Requirement already satisfied: pandas>=1.0.5 in /opt/conda/lib/python3.9/site-packages (from category_encoders) (1.2.4)\n",
      "Requirement already satisfied: scikit-learn>=0.20.0 in /opt/conda/lib/python3.9/site-packages (from category_encoders) (0.24.1)\n",
      "Requirement already satisfied: scipy>=1.0.0 in /opt/conda/lib/python3.9/site-packages (from category_encoders) (1.9.1)\n",
      "Requirement already satisfied: statsmodels>=0.9.0 in /opt/conda/lib/python3.9/site-packages (from category_encoders) (0.13.2)\n",
      "Requirement already satisfied: numpy>=1.14.0 in /opt/conda/lib/python3.9/site-packages (from category_encoders) (1.21.1)\n",
      "Requirement already satisfied: python-dateutil>=2.7.3 in /opt/conda/lib/python3.9/site-packages (from pandas>=1.0.5->category_encoders) (2.8.1)\n",
      "Requirement already satisfied: pytz>=2017.3 in /opt/conda/lib/python3.9/site-packages (from pandas>=1.0.5->category_encoders) (2021.1)\n",
      "Requirement already satisfied: six in /opt/conda/lib/python3.9/site-packages (from patsy>=0.5.1->category_encoders) (1.16.0)\n",
      "Requirement already satisfied: joblib>=0.11 in /opt/conda/lib/python3.9/site-packages (from scikit-learn>=0.20.0->category_encoders) (1.1.0)\n",
      "Requirement already satisfied: threadpoolctl>=2.0.0 in /opt/conda/lib/python3.9/site-packages (from scikit-learn>=0.20.0->category_encoders) (3.1.0)\n",
      "Requirement already satisfied: packaging>=21.3 in /opt/conda/lib/python3.9/site-packages (from statsmodels>=0.9.0->category_encoders) (21.3)\n",
      "Requirement already satisfied: pyparsing!=3.0.5,>=2.0.2 in /opt/conda/lib/python3.9/site-packages (from packaging>=21.3->statsmodels>=0.9.0->category_encoders) (2.4.7)\n",
      "Installing collected packages: category-encoders\n",
      "Successfully installed category-encoders-2.6.1\n"
     ]
    }
   ],
   "source": [
    "!pip install category_encoders"
   ]
  },
  {
   "cell_type": "code",
   "execution_count": 2,
   "metadata": {},
   "outputs": [],
   "source": [
    "import pandas as pd\n",
    "import numpy as np\n",
    "import lightgbm as lgb\n",
    "import sklearn\n",
    "import category_encoders as ce\n",
    "from sklearn.metrics import mean_squared_error\n",
    "from sklearn.model_selection import train_test_split, cross_val_score, GridSearchCV\n",
    "from sklearn.linear_model import LinearRegression, Ridge\n",
    "from catboost import CatBoostRegressor\n",
    "from lightgbm import LGBMRegressor\n",
    "import time"
   ]
  },
  {
   "cell_type": "code",
   "execution_count": 3,
   "metadata": {},
   "outputs": [],
   "source": [
    "try:\n",
    "    data = pd.read_csv('autos.csv')\n",
    "except:\n",
    "    data = pd.read_csv('/datasets/autos.csv')"
   ]
  },
  {
   "cell_type": "code",
   "execution_count": 4,
   "metadata": {},
   "outputs": [
    {
     "data": {
      "text/html": [
       "<div>\n",
       "<style scoped>\n",
       "    .dataframe tbody tr th:only-of-type {\n",
       "        vertical-align: middle;\n",
       "    }\n",
       "\n",
       "    .dataframe tbody tr th {\n",
       "        vertical-align: top;\n",
       "    }\n",
       "\n",
       "    .dataframe thead th {\n",
       "        text-align: right;\n",
       "    }\n",
       "</style>\n",
       "<table border=\"1\" class=\"dataframe\">\n",
       "  <thead>\n",
       "    <tr style=\"text-align: right;\">\n",
       "      <th></th>\n",
       "      <th>DateCrawled</th>\n",
       "      <th>Price</th>\n",
       "      <th>VehicleType</th>\n",
       "      <th>RegistrationYear</th>\n",
       "      <th>Gearbox</th>\n",
       "      <th>Power</th>\n",
       "      <th>Model</th>\n",
       "      <th>Kilometer</th>\n",
       "      <th>RegistrationMonth</th>\n",
       "      <th>FuelType</th>\n",
       "      <th>Brand</th>\n",
       "      <th>Repaired</th>\n",
       "      <th>DateCreated</th>\n",
       "      <th>NumberOfPictures</th>\n",
       "      <th>PostalCode</th>\n",
       "      <th>LastSeen</th>\n",
       "    </tr>\n",
       "  </thead>\n",
       "  <tbody>\n",
       "    <tr>\n",
       "      <th>0</th>\n",
       "      <td>2016-03-24 11:52:17</td>\n",
       "      <td>480</td>\n",
       "      <td>NaN</td>\n",
       "      <td>1993</td>\n",
       "      <td>manual</td>\n",
       "      <td>0</td>\n",
       "      <td>golf</td>\n",
       "      <td>150000</td>\n",
       "      <td>0</td>\n",
       "      <td>petrol</td>\n",
       "      <td>volkswagen</td>\n",
       "      <td>NaN</td>\n",
       "      <td>2016-03-24 00:00:00</td>\n",
       "      <td>0</td>\n",
       "      <td>70435</td>\n",
       "      <td>2016-04-07 03:16:57</td>\n",
       "    </tr>\n",
       "    <tr>\n",
       "      <th>1</th>\n",
       "      <td>2016-03-24 10:58:45</td>\n",
       "      <td>18300</td>\n",
       "      <td>coupe</td>\n",
       "      <td>2011</td>\n",
       "      <td>manual</td>\n",
       "      <td>190</td>\n",
       "      <td>NaN</td>\n",
       "      <td>125000</td>\n",
       "      <td>5</td>\n",
       "      <td>gasoline</td>\n",
       "      <td>audi</td>\n",
       "      <td>yes</td>\n",
       "      <td>2016-03-24 00:00:00</td>\n",
       "      <td>0</td>\n",
       "      <td>66954</td>\n",
       "      <td>2016-04-07 01:46:50</td>\n",
       "    </tr>\n",
       "    <tr>\n",
       "      <th>2</th>\n",
       "      <td>2016-03-14 12:52:21</td>\n",
       "      <td>9800</td>\n",
       "      <td>suv</td>\n",
       "      <td>2004</td>\n",
       "      <td>auto</td>\n",
       "      <td>163</td>\n",
       "      <td>grand</td>\n",
       "      <td>125000</td>\n",
       "      <td>8</td>\n",
       "      <td>gasoline</td>\n",
       "      <td>jeep</td>\n",
       "      <td>NaN</td>\n",
       "      <td>2016-03-14 00:00:00</td>\n",
       "      <td>0</td>\n",
       "      <td>90480</td>\n",
       "      <td>2016-04-05 12:47:46</td>\n",
       "    </tr>\n",
       "    <tr>\n",
       "      <th>3</th>\n",
       "      <td>2016-03-17 16:54:04</td>\n",
       "      <td>1500</td>\n",
       "      <td>small</td>\n",
       "      <td>2001</td>\n",
       "      <td>manual</td>\n",
       "      <td>75</td>\n",
       "      <td>golf</td>\n",
       "      <td>150000</td>\n",
       "      <td>6</td>\n",
       "      <td>petrol</td>\n",
       "      <td>volkswagen</td>\n",
       "      <td>no</td>\n",
       "      <td>2016-03-17 00:00:00</td>\n",
       "      <td>0</td>\n",
       "      <td>91074</td>\n",
       "      <td>2016-03-17 17:40:17</td>\n",
       "    </tr>\n",
       "    <tr>\n",
       "      <th>4</th>\n",
       "      <td>2016-03-31 17:25:20</td>\n",
       "      <td>3600</td>\n",
       "      <td>small</td>\n",
       "      <td>2008</td>\n",
       "      <td>manual</td>\n",
       "      <td>69</td>\n",
       "      <td>fabia</td>\n",
       "      <td>90000</td>\n",
       "      <td>7</td>\n",
       "      <td>gasoline</td>\n",
       "      <td>skoda</td>\n",
       "      <td>no</td>\n",
       "      <td>2016-03-31 00:00:00</td>\n",
       "      <td>0</td>\n",
       "      <td>60437</td>\n",
       "      <td>2016-04-06 10:17:21</td>\n",
       "    </tr>\n",
       "  </tbody>\n",
       "</table>\n",
       "</div>"
      ],
      "text/plain": [
       "           DateCrawled  Price VehicleType  RegistrationYear Gearbox  Power  \\\n",
       "0  2016-03-24 11:52:17    480         NaN              1993  manual      0   \n",
       "1  2016-03-24 10:58:45  18300       coupe              2011  manual    190   \n",
       "2  2016-03-14 12:52:21   9800         suv              2004    auto    163   \n",
       "3  2016-03-17 16:54:04   1500       small              2001  manual     75   \n",
       "4  2016-03-31 17:25:20   3600       small              2008  manual     69   \n",
       "\n",
       "   Model  Kilometer  RegistrationMonth  FuelType       Brand Repaired  \\\n",
       "0   golf     150000                  0    petrol  volkswagen      NaN   \n",
       "1    NaN     125000                  5  gasoline        audi      yes   \n",
       "2  grand     125000                  8  gasoline        jeep      NaN   \n",
       "3   golf     150000                  6    petrol  volkswagen       no   \n",
       "4  fabia      90000                  7  gasoline       skoda       no   \n",
       "\n",
       "           DateCreated  NumberOfPictures  PostalCode             LastSeen  \n",
       "0  2016-03-24 00:00:00                 0       70435  2016-04-07 03:16:57  \n",
       "1  2016-03-24 00:00:00                 0       66954  2016-04-07 01:46:50  \n",
       "2  2016-03-14 00:00:00                 0       90480  2016-04-05 12:47:46  \n",
       "3  2016-03-17 00:00:00                 0       91074  2016-03-17 17:40:17  \n",
       "4  2016-03-31 00:00:00                 0       60437  2016-04-06 10:17:21  "
      ]
     },
     "execution_count": 4,
     "metadata": {},
     "output_type": "execute_result"
    }
   ],
   "source": [
    "data.head()"
   ]
  },
  {
   "cell_type": "code",
   "execution_count": 5,
   "metadata": {},
   "outputs": [
    {
     "name": "stdout",
     "output_type": "stream",
     "text": [
      "<class 'pandas.core.frame.DataFrame'>\n",
      "RangeIndex: 354369 entries, 0 to 354368\n",
      "Data columns (total 16 columns):\n",
      " #   Column             Non-Null Count   Dtype \n",
      "---  ------             --------------   ----- \n",
      " 0   DateCrawled        354369 non-null  object\n",
      " 1   Price              354369 non-null  int64 \n",
      " 2   VehicleType        316879 non-null  object\n",
      " 3   RegistrationYear   354369 non-null  int64 \n",
      " 4   Gearbox            334536 non-null  object\n",
      " 5   Power              354369 non-null  int64 \n",
      " 6   Model              334664 non-null  object\n",
      " 7   Kilometer          354369 non-null  int64 \n",
      " 8   RegistrationMonth  354369 non-null  int64 \n",
      " 9   FuelType           321474 non-null  object\n",
      " 10  Brand              354369 non-null  object\n",
      " 11  Repaired           283215 non-null  object\n",
      " 12  DateCreated        354369 non-null  object\n",
      " 13  NumberOfPictures   354369 non-null  int64 \n",
      " 14  PostalCode         354369 non-null  int64 \n",
      " 15  LastSeen           354369 non-null  object\n",
      "dtypes: int64(7), object(9)\n",
      "memory usage: 43.3+ MB\n"
     ]
    }
   ],
   "source": [
    "data.info()"
   ]
  },
  {
   "cell_type": "markdown",
   "metadata": {},
   "source": [
    "**Признаки**\n",
    "\n",
    "* DateCrawled — дата скачивания анкеты из базы\n",
    "* VehicleType — тип автомобильного кузова\n",
    "* RegistrationYear — год регистрации автомобиля\n",
    "* Gearbox — тип коробки передач\n",
    "* Power — мощность (л. с.)\n",
    "* Model — модель автомобиля\n",
    "* Kilometer — пробег (км)\n",
    "* RegistrationMonth — месяц регистрации автомобиля\n",
    "* FuelType — тип топлива\n",
    "* Brand — марка автомобиля\n",
    "* Repaired — была машина в ремонте или нет\n",
    "* DateCreated — дата создания анкеты\n",
    "* NumberOfPictures — количество фотографий автомобиля\n",
    "* PostalCode — почтовый индекс владельца анкеты (пользователя)\n",
    "* LastSeen — дата последней активности пользователя\n",
    "\n",
    "**Целевой признак**\n",
    "* Price — цена (евро)\n",
    "\n",
    "Заметно, что в датасете есть пропуски, а также ненужные для обучения столбцы:\n",
    "\n",
    "* DateCrawled — дата скачивания анкеты из базы\n",
    "* RegistrationMonth — месяц регистрации автомобиля\n",
    "* DateCreated — дата создания анкеты\n",
    "* NumberOfPictures — количество фотографий автомобиля\n",
    "* PostalCode — почтовый индекс владельца анкеты (пользователя)\n",
    "* LastSeen — дата последней активности пользователя\n",
    "\n",
    "Впоследствии от них нужно будет избавиться, а затем обработать пропуски, но сначала проверить датасет на аномалии."
   ]
  },
  {
   "cell_type": "code",
   "execution_count": 6,
   "metadata": {},
   "outputs": [
    {
     "data": {
      "text/plain": [
       "<AxesSubplot:>"
      ]
     },
     "execution_count": 6,
     "metadata": {},
     "output_type": "execute_result"
    },
    {
     "data": {
      "image/png": "[encoded data removed]",
      "text/plain": [
       "<Figure size 864x576 with 1 Axes>"
      ]
     },
     "metadata": {
      "needs_background": "light"
     },
     "output_type": "display_data"
    }
   ],
   "source": [
    "data.boxplot(figsize=(12,8))"
   ]
  },
  {
   "cell_type": "markdown",
   "metadata": {},
   "source": [
    "Заметно много выбросов в RegistrationYear и Power. Их нужно изучить детальнее, а также проверить уникальные значения в строковых параметрах."
   ]
  },
  {
   "cell_type": "code",
   "execution_count": 7,
   "metadata": {
    "scrolled": false
   },
   "outputs": [
    {
     "name": "stdout",
     "output_type": "stream",
     "text": [
      "Уникальные значения столбца DateCrawled\n",
      "['2016-03-24 11:52:17' '2016-03-24 10:58:45' '2016-03-14 12:52:21' ...\n",
      " '2016-03-21 09:50:58' '2016-03-14 17:48:27' '2016-03-19 18:57:12']\n",
      "\n",
      "Уникальные значения столбца Price\n",
      "[  480 18300  9800 ... 12395 18429 10985]\n",
      "\n",
      "Уникальные значения столбца VehicleType\n",
      "[nan 'coupe' 'suv' 'small' 'sedan' 'convertible' 'bus' 'wagon' 'other']\n",
      "\n",
      "Уникальные значения столбца RegistrationYear\n",
      "[1993 2011 2004 2001 2008 1995 1980 2014 1998 2005 1910 2016 2007 2009\n",
      " 2002 2018 1997 1990 2017 1981 2003 1994 1991 1984 2006 1999 2012 2010\n",
      " 2000 1992 2013 1996 1985 1989 2015 1982 1976 1983 1973 1111 1969 1971\n",
      " 1987 1986 1988 1970 1965 1945 1925 1974 1979 1955 1978 1972 1968 1977\n",
      " 1961 1960 1966 1975 1963 1964 5000 1954 1958 1967 1959 9999 1956 3200\n",
      " 1000 1941 8888 1500 2200 4100 1962 1929 1957 1940 3000 2066 1949 2019\n",
      " 1937 1951 1800 1953 1234 8000 5300 9000 2900 6000 5900 5911 1933 1400\n",
      " 1950 4000 1948 1952 1200 8500 1932 1255 3700 3800 4800 1942 7000 1935\n",
      " 1936 6500 1923 2290 2500 1930 1001 9450 1944 1943 1934 1938 1688 2800\n",
      " 1253 1928 1919 5555 5600 1600 2222 1039 9996 1300 8455 1931 1915 4500\n",
      " 1920 1602 7800 9229 1947 1927 7100 8200 1946 7500 3500]\n",
      "\n",
      "Уникальные значения столбца Gearbox\n",
      "['manual' 'auto' nan]\n",
      "\n",
      "Уникальные значения столбца Power\n",
      "[    0   190   163    75    69   102   109    50   125   101   105   140\n",
      "   115   131    60   136   160   231    90   118   193    99   113   218\n",
      "   122   129    70   306    95    61   177    80   170    55   143    64\n",
      "   286   232   150   156    82   155    54   185    87   180    86    84\n",
      "   224   235   200   178   265    77   110   144   120   116   184   126\n",
      "   204    88   194   305   197   179   250    45   313    41   165    98\n",
      "   130   114   211    56   201   213    58   107    83   174   100   220\n",
      "    85    73   192    68    66   299    74    52   147    65   310    71\n",
      "    97   239   203     5   300   103   258   320    63    81   148    44\n",
      "   145   230   280   260   104   188   333   186   117   141    59   132\n",
      "   234   158    39    92    51   135    53   209    43   146    67   106\n",
      "   166   276   344    72   249   237   245   111   326   279    23   138\n",
      "   175    96   226    26    37   301   334   128   133   124    33   219\n",
      "   241   167    94   182   196   238  1398   228   112    48   272   139\n",
      "  1799    40   240    79   256   360   243   375   252   396   340   108\n",
      "   121   345   187   289   222   198   284   450   233   387   152   347\n",
      "   172    57   137   212   476   314    30     7    47   173   290   207\n",
      "   205   171   750    78    91    89   349   325    76   151   350   953\n",
      "    93   142   500   343   199   119   164    16   264   367   208   210\n",
      "    46   435  1001   225   127   176   161   603   307   354    35   206\n",
      "   771   355   273   223   255   123   154   149  7515  1400   268   620\n",
      "   169   400   275    34     2   242  1779   285   162   328  1753   329\n",
      "   134   420   247   168 10317   215    18   330   283    62    10   214\n",
      "   183   254    15   321   322   315   952   600   181   426   599   379\n",
      "   999    22   157    42   195   553     4   309   507   381   271   440\n",
      "   189   401  1111  2729    21   236  1240  1704   521     1  1900   270\n",
      "    24   159   292   808   515  1200   303    29    38  1993    14   216\n",
      "   610   504    49   267   331   363   261   385  1011   253   696 10520\n",
      "   376   227   311    27   217    20  1999    11  1056    25   394    12\n",
      "   298   296  1659   294   551  6920   246    17  1800  1625   368   390\n",
      "   221  1367   259   606   327  2017  1597   266   374   392     9   405\n",
      "    13   262   601   430   295     8   411   900   541  7512   382 10218\n",
      "  7544  1102   287    19   751   297  1090   457   282   602   388     6\n",
      "  1000  5411   335  1360   202  3750   805  1062  1024 11530   364  1796\n",
      "  5000   269   460  1002   288  1780 12012 17932   316  2005  1399   191\n",
      "   278  1300   380   257   449  1256   153  1653   520   560   281 12510\n",
      "     3  1500   386    32  1202  2016  1436  1405   671   274  1288  1055\n",
      " 10912 15016  6226  1115   277  1105   341  1223  2340  8404  1968   338\n",
      "   445  1920   370   517  4400 10710 10522  9010   431  1164 11509   371\n",
      "  1501   428 11635    36   304   348  1703  1910  1995   579 10000   580\n",
      "   408    31  1005   358  1403   489  5575 19211   585   960   365   353\n",
      "   490   352  1801   346   550  3199   800  7508  1312   357  1937   950\n",
      "  4700  1600  3454 19208   251   850   337   700  8011  2331  2789   487\n",
      "   519  2461  6006  3500  5815  6018  1781  1503   612  1596   229  1506\n",
      "  5809 15020  5867  2172  1598 17410  1363   584  1054   851  1339   318\n",
      "   510   525  1700    28  1151   685  6011   317   703  1771 15001   514\n",
      "   362   332   324  6045   530   425   308  6010   475   903   640  2000\n",
      "   248   651  2799 17011   505  1103  1521   351 16051   398  9000  1998\n",
      " 10311   409  1230 17019 12684  8259  1895   901  1317   871   909  2201\n",
      "  1595   776 17700 11011  1199   459  1162  1120 15033  1896   339   361\n",
      "   574  6512   454   650 13616   604   607 16312  1082   336 20000   416\n",
      "   678  6012  1401  1021  1870 13636  1250  9710   323  1158  2009   902\n",
      "  6062  1275   572   244   399  1016   743  1221  2402 16011  1362   544\n",
      "   645   907   702 12512  1986  1003  1432  9013  9011   442  1017  1394\n",
      " 15017 10910  1992   540  2018 11025  1433  1701  2792  1502  1239  1390\n",
      " 14009  1160  1351 11111  1783  9007   923  1149   754  1988   402  2004\n",
      "  5420  1793  1324   356  7511  1299   293 19312  1079  1689   998  1100\n",
      "  9012  1933   508 16311   682  1252  1922  7529   732  2389  2200  1707\n",
      "  1416  8500  1012   485  3000 10110   421  4507  1631  7518   377  1004\n",
      "  2007  2598  1548  1241]\n",
      "\n",
      "Уникальные значения столбца Model\n",
      "['golf' nan 'grand' 'fabia' '3er' '2_reihe' 'other' 'c_max' '3_reihe'\n",
      " 'passat' 'navara' 'ka' 'polo' 'twingo' 'a_klasse' 'scirocco' '5er'\n",
      " 'meriva' 'arosa' 'c4' 'civic' 'transporter' 'punto' 'e_klasse' 'clio'\n",
      " 'kadett' 'kangoo' 'corsa' 'one' 'fortwo' '1er' 'b_klasse' 'signum'\n",
      " 'astra' 'a8' 'jetta' 'fiesta' 'c_klasse' 'micra' 'vito' 'sprinter' '156'\n",
      " 'escort' 'forester' 'xc_reihe' 'scenic' 'a4' 'a1' 'insignia' 'combo'\n",
      " 'focus' 'tt' 'a6' 'jazz' 'omega' 'slk' '7er' '80' '147' '100' 'z_reihe'\n",
      " 'sportage' 'sorento' 'v40' 'ibiza' 'mustang' 'eos' 'touran' 'getz' 'a3'\n",
      " 'almera' 'megane' 'lupo' 'r19' 'zafira' 'caddy' 'mondeo' 'cordoba' 'colt'\n",
      " 'impreza' 'vectra' 'berlingo' 'tiguan' 'i_reihe' 'espace' 'sharan'\n",
      " '6_reihe' 'panda' 'up' 'seicento' 'ceed' '5_reihe' 'yeti' 'octavia' 'mii'\n",
      " 'rx_reihe' '6er' 'modus' 'fox' 'matiz' 'beetle' 'c1' 'rio' 'touareg'\n",
      " 'logan' 'spider' 'cuore' 's_max' 'a2' 'galaxy' 'c3' 'viano' 's_klasse'\n",
      " '1_reihe' 'avensis' 'roomster' 'sl' 'kaefer' 'santa' 'cooper' 'leon'\n",
      " '4_reihe' 'a5' '500' 'laguna' 'ptcruiser' 'clk' 'primera' 'x_reihe'\n",
      " 'exeo' '159' 'transit' 'juke' 'qashqai' 'carisma' 'accord' 'corolla'\n",
      " 'lanos' 'phaeton' 'verso' 'swift' 'rav' 'picanto' 'boxster' 'kalos'\n",
      " 'superb' 'stilo' 'alhambra' 'mx_reihe' 'roadster' 'ypsilon' 'cayenne'\n",
      " 'galant' 'justy' '90' 'sirion' 'crossfire' 'agila' 'duster' 'cr_reihe'\n",
      " 'v50' 'c_reihe' 'v_klasse' 'm_klasse' 'yaris' 'c5' 'aygo' 'cc' 'carnival'\n",
      " 'fusion' '911' 'bora' 'forfour' 'm_reihe' 'cl' 'tigra' '300c' 'spark'\n",
      " 'v70' 'kuga' 'x_type' 'ducato' 's_type' 'x_trail' 'toledo' 'altea'\n",
      " 'voyager' 'calibra' 'bravo' 'antara' 'tucson' 'citigo' 'jimny' 'wrangler'\n",
      " 'lybra' 'q7' 'lancer' 'captiva' 'c2' 'discovery' 'freelander' 'sandero'\n",
      " 'note' '900' 'cherokee' 'clubman' 'samara' 'defender' '601' 'cx_reihe'\n",
      " 'legacy' 'pajero' 'auris' 'niva' 's60' 'nubira' 'vivaro' 'g_klasse'\n",
      " 'lodgy' '850' 'range_rover' 'q3' 'serie_2' 'glk' 'charade' 'croma'\n",
      " 'outlander' 'doblo' 'musa' 'move' '9000' 'v60' '145' 'aveo' '200' 'b_max'\n",
      " 'range_rover_sport' 'terios' 'rangerover' 'q5' 'range_rover_evoque'\n",
      " 'materia' 'delta' 'gl' 'kalina' 'amarok' 'elefantino' 'i3' 'kappa'\n",
      " 'serie_3' 'serie_1']\n",
      "\n",
      "Уникальные значения столбца Kilometer\n",
      "[150000 125000  90000  40000  30000  70000   5000 100000  60000  20000\n",
      "  80000  50000  10000]\n",
      "\n",
      "Уникальные значения столбца RegistrationMonth\n",
      "[ 0  5  8  6  7 10 12 11  2  3  1  4  9]\n",
      "\n",
      "Уникальные значения столбца FuelType\n",
      "['petrol' 'gasoline' nan 'lpg' 'other' 'hybrid' 'cng' 'electric']\n",
      "\n",
      "Уникальные значения столбца Brand\n",
      "['volkswagen' 'audi' 'jeep' 'skoda' 'bmw' 'peugeot' 'ford' 'mazda'\n",
      " 'nissan' 'renault' 'mercedes_benz' 'opel' 'seat' 'citroen' 'honda' 'fiat'\n",
      " 'mini' 'smart' 'hyundai' 'sonstige_autos' 'alfa_romeo' 'subaru' 'volvo'\n",
      " 'mitsubishi' 'kia' 'suzuki' 'lancia' 'toyota' 'chevrolet' 'dacia'\n",
      " 'daihatsu' 'trabant' 'saab' 'chrysler' 'jaguar' 'daewoo' 'porsche'\n",
      " 'rover' 'land_rover' 'lada']\n",
      "\n",
      "Уникальные значения столбца Repaired\n",
      "[nan 'yes' 'no']\n",
      "\n",
      "Уникальные значения столбца DateCreated\n",
      "['2016-03-24 00:00:00' '2016-03-14 00:00:00' '2016-03-17 00:00:00'\n",
      " '2016-03-31 00:00:00' '2016-04-04 00:00:00' '2016-04-01 00:00:00'\n",
      " '2016-03-21 00:00:00' '2016-03-26 00:00:00' '2016-04-07 00:00:00'\n",
      " '2016-03-15 00:00:00' '2016-03-11 00:00:00' '2016-03-20 00:00:00'\n",
      " '2016-03-23 00:00:00' '2016-03-27 00:00:00' '2016-03-12 00:00:00'\n",
      " '2016-03-13 00:00:00' '2016-03-18 00:00:00' '2016-03-10 00:00:00'\n",
      " '2016-03-07 00:00:00' '2016-03-09 00:00:00' '2016-03-08 00:00:00'\n",
      " '2016-04-03 00:00:00' '2016-03-29 00:00:00' '2016-03-25 00:00:00'\n",
      " '2016-03-28 00:00:00' '2016-03-30 00:00:00' '2016-03-22 00:00:00'\n",
      " '2016-02-09 00:00:00' '2016-03-05 00:00:00' '2016-04-02 00:00:00'\n",
      " '2016-03-16 00:00:00' '2016-03-19 00:00:00' '2016-04-05 00:00:00'\n",
      " '2016-03-06 00:00:00' '2016-02-12 00:00:00' '2016-03-03 00:00:00'\n",
      " '2016-03-01 00:00:00' '2016-03-04 00:00:00' '2016-04-06 00:00:00'\n",
      " '2016-02-15 00:00:00' '2016-02-24 00:00:00' '2016-02-27 00:00:00'\n",
      " '2015-03-20 00:00:00' '2016-02-28 00:00:00' '2016-02-17 00:00:00'\n",
      " '2016-01-27 00:00:00' '2016-02-20 00:00:00' '2016-02-29 00:00:00'\n",
      " '2016-02-10 00:00:00' '2016-02-23 00:00:00' '2016-02-21 00:00:00'\n",
      " '2015-11-02 00:00:00' '2016-02-19 00:00:00' '2016-02-26 00:00:00'\n",
      " '2016-02-11 00:00:00' '2016-01-10 00:00:00' '2016-02-06 00:00:00'\n",
      " '2016-02-18 00:00:00' '2016-01-29 00:00:00' '2016-03-02 00:00:00'\n",
      " '2015-12-06 00:00:00' '2016-01-24 00:00:00' '2016-01-30 00:00:00'\n",
      " '2016-02-02 00:00:00' '2016-02-16 00:00:00' '2016-02-13 00:00:00'\n",
      " '2016-02-05 00:00:00' '2016-02-22 00:00:00' '2015-11-17 00:00:00'\n",
      " '2014-03-10 00:00:00' '2016-02-07 00:00:00' '2016-01-23 00:00:00'\n",
      " '2016-02-25 00:00:00' '2016-02-14 00:00:00' '2016-01-02 00:00:00'\n",
      " '2015-09-04 00:00:00' '2015-11-12 00:00:00' '2015-12-27 00:00:00'\n",
      " '2015-11-24 00:00:00' '2016-01-20 00:00:00' '2016-02-03 00:00:00'\n",
      " '2015-12-05 00:00:00' '2015-08-07 00:00:00' '2016-01-28 00:00:00'\n",
      " '2016-01-31 00:00:00' '2016-02-08 00:00:00' '2016-01-07 00:00:00'\n",
      " '2016-01-22 00:00:00' '2016-01-18 00:00:00' '2016-01-08 00:00:00'\n",
      " '2015-11-23 00:00:00' '2016-01-13 00:00:00' '2016-01-17 00:00:00'\n",
      " '2016-01-15 00:00:00' '2015-11-08 00:00:00' '2016-01-26 00:00:00'\n",
      " '2016-02-04 00:00:00' '2016-01-25 00:00:00' '2016-01-16 00:00:00'\n",
      " '2015-08-10 00:00:00' '2016-01-03 00:00:00' '2016-01-19 00:00:00'\n",
      " '2015-12-30 00:00:00' '2016-02-01 00:00:00' '2015-12-17 00:00:00'\n",
      " '2015-11-10 00:00:00' '2016-01-06 00:00:00' '2015-09-09 00:00:00'\n",
      " '2015-06-18 00:00:00']\n",
      "\n",
      "Уникальные значения столбца NumberOfPictures\n",
      "[0]\n",
      "\n",
      "Уникальные значения столбца PostalCode\n",
      "[70435 66954 90480 ... 38528 38325 31096]\n",
      "\n",
      "Уникальные значения столбца LastSeen\n",
      "['2016-04-07 03:16:57' '2016-04-07 01:46:50' '2016-04-05 12:47:46' ...\n",
      " '2016-03-19 20:44:43' '2016-03-29 10:17:23' '2016-03-21 10:42:49']\n",
      "\n"
     ]
    }
   ],
   "source": [
    "for column in data.columns:\n",
    "    print('Уникальные значения столбца', column)\n",
    "    print(data[column].unique())\n",
    "    print()"
   ]
  },
  {
   "cell_type": "markdown",
   "metadata": {},
   "source": [
    "В столбцах RegistrationYear и Power есть явно некорректные значения. Выведем их на гистограмме, как и остальные численные."
   ]
  },
  {
   "cell_type": "code",
   "execution_count": 8,
   "metadata": {},
   "outputs": [
    {
     "data": {
      "text/plain": [
       "<AxesSubplot:>"
      ]
     },
     "execution_count": 8,
     "metadata": {},
     "output_type": "execute_result"
    },
    {
     "data": {
      "image/png": "[encoded data removed]",
      "text/plain": [
       "<Figure size 432x576 with 1 Axes>"
      ]
     },
     "metadata": {
      "needs_background": "light"
     },
     "output_type": "display_data"
    }
   ],
   "source": [
    "def histogram(data, bins, size):\n",
    "    return data.hist(bins=bins, figsize=size)\n",
    "\n",
    "histogram(data['RegistrationYear'], 100, (6,8))"
   ]
  },
  {
   "cell_type": "code",
   "execution_count": 9,
   "metadata": {},
   "outputs": [
    {
     "data": {
      "text/plain": [
       "<AxesSubplot:>"
      ]
     },
     "execution_count": 9,
     "metadata": {},
     "output_type": "execute_result"
    },
    {
     "data": {
      "image/png": "[encoded data removed]",
      "text/plain": [
       "<Figure size 432x432 with 1 Axes>"
      ]
     },
     "metadata": {
      "needs_background": "light"
     },
     "output_type": "display_data"
    }
   ],
   "source": [
    "histogram(data['Power'], 100, (6,6))"
   ]
  },
  {
   "cell_type": "code",
   "execution_count": 10,
   "metadata": {},
   "outputs": [
    {
     "data": {
      "text/plain": [
       "<AxesSubplot:>"
      ]
     },
     "execution_count": 10,
     "metadata": {},
     "output_type": "execute_result"
    },
    {
     "data": {
      "image/png": "[encoded data removed]",
      "text/plain": [
       "<Figure size 864x432 with 1 Axes>"
      ]
     },
     "metadata": {
      "needs_background": "light"
     },
     "output_type": "display_data"
    }
   ],
   "source": [
    "histogram(data['Price'], 100, (12,6))"
   ]
  },
  {
   "cell_type": "markdown",
   "metadata": {},
   "source": [
    "В столбце Price довольно много строк с ценой 0. Посчитаем их точное число:"
   ]
  },
  {
   "cell_type": "code",
   "execution_count": 11,
   "metadata": {},
   "outputs": [
    {
     "data": {
      "text/plain": [
       "0        10772\n",
       "500       5670\n",
       "1500      5394\n",
       "1000      4649\n",
       "1200      4594\n",
       "         ...  \n",
       "13180        1\n",
       "10879        1\n",
       "2683         1\n",
       "634          1\n",
       "8188         1\n",
       "Name: Price, Length: 3731, dtype: int64"
      ]
     },
     "execution_count": 11,
     "metadata": {},
     "output_type": "execute_result"
    }
   ],
   "source": [
    "data['Price'].value_counts()"
   ]
  },
  {
   "cell_type": "markdown",
   "metadata": {},
   "source": [
    "Отфильтруем в отдельный датафрейм нужные для обучения столбцы (не перезаписываем оригинальный на случай, если удалённые ещё понадобятся)."
   ]
  },
  {
   "cell_type": "code",
   "execution_count": 12,
   "metadata": {},
   "outputs": [
    {
     "name": "stdout",
     "output_type": "stream",
     "text": [
      "<class 'pandas.core.frame.DataFrame'>\n",
      "RangeIndex: 354369 entries, 0 to 354368\n",
      "Data columns (total 10 columns):\n",
      " #   Column            Non-Null Count   Dtype \n",
      "---  ------            --------------   ----- \n",
      " 0   Price             354369 non-null  int64 \n",
      " 1   VehicleType       316879 non-null  object\n",
      " 2   RegistrationYear  354369 non-null  int64 \n",
      " 3   Gearbox           334536 non-null  object\n",
      " 4   Power             354369 non-null  int64 \n",
      " 5   Model             334664 non-null  object\n",
      " 6   Kilometer         354369 non-null  int64 \n",
      " 7   FuelType          321474 non-null  object\n",
      " 8   Brand             354369 non-null  object\n",
      " 9   Repaired          283215 non-null  object\n",
      "dtypes: int64(4), object(6)\n",
      "memory usage: 27.0+ MB\n"
     ]
    }
   ],
   "source": [
    "for_drop = ['DateCrawled', 'RegistrationMonth', 'DateCreated', 'NumberOfPictures', 'PostalCode', 'LastSeen']\n",
    "data_filtered = data.drop(for_drop, axis=1)\n",
    "data_filtered.info()"
   ]
  },
  {
   "cell_type": "markdown",
   "metadata": {},
   "source": [
    "Нужно удалить значения цены 0, т.к. они являются следствием какой-то ошибки в данных."
   ]
  },
  {
   "cell_type": "code",
   "execution_count": 13,
   "metadata": {},
   "outputs": [
    {
     "data": {
      "text/plain": [
       "<AxesSubplot:>"
      ]
     },
     "execution_count": 13,
     "metadata": {},
     "output_type": "execute_result"
    },
    {
     "data": {
      "image/png": "[encoded data removed]",
      "text/plain": [
       "<Figure size 864x432 with 1 Axes>"
      ]
     },
     "metadata": {
      "needs_background": "light"
     },
     "output_type": "display_data"
    }
   ],
   "source": [
    "data_filtered = data_filtered.loc[data_filtered['Price'] > 0]\n",
    "histogram(data_filtered['Price'], 100, (12,6))"
   ]
  },
  {
   "cell_type": "code",
   "execution_count": 14,
   "metadata": {},
   "outputs": [
    {
     "data": {
      "text/plain": [
       "count    343597.000000\n",
       "mean       4555.121974\n",
       "std        4515.058553\n",
       "min           1.000000\n",
       "25%        1200.000000\n",
       "50%        2890.000000\n",
       "75%        6500.000000\n",
       "max       20000.000000\n",
       "Name: Price, dtype: float64"
      ]
     },
     "execution_count": 14,
     "metadata": {},
     "output_type": "execute_result"
    },
    {
     "data": {
      "image/png": "[encoded data removed]",
      "text/plain": [
       "<Figure size 432x288 with 1 Axes>"
      ]
     },
     "metadata": {
      "needs_background": "light"
     },
     "output_type": "display_data"
    }
   ],
   "source": [
    "data_filtered['Price'].plot.box()\n",
    "data_filtered['Price'].describe()"
   ]
  },
  {
   "cell_type": "code",
   "execution_count": 15,
   "metadata": {},
   "outputs": [
    {
     "data": {
      "text/plain": [
       "0.05      350.0\n",
       "0.95    14800.0\n",
       "Name: Price, dtype: float64"
      ]
     },
     "execution_count": 15,
     "metadata": {},
     "output_type": "execute_result"
    }
   ],
   "source": [
    "data_filtered['Price'].quantile([0.05, 0.95])"
   ]
  },
  {
   "cell_type": "markdown",
   "metadata": {},
   "source": [
    "Интервал 5%-95% - от 350 до 14800 евро, но дальше трогать цену не будем, т.к. её значения могут быть самыми разными. Теперь проверим значения столбца RegistrationYear, т.к. там тоже наблюдались некорректные."
   ]
  },
  {
   "cell_type": "code",
   "execution_count": 16,
   "metadata": {
    "scrolled": false
   },
   "outputs": [
    {
     "data": {
      "text/plain": [
       "count    343597.000000\n",
       "mean       2004.089797\n",
       "std          78.413225\n",
       "min        1000.000000\n",
       "25%        1999.000000\n",
       "50%        2003.000000\n",
       "75%        2008.000000\n",
       "max        9999.000000\n",
       "Name: RegistrationYear, dtype: float64"
      ]
     },
     "execution_count": 16,
     "metadata": {},
     "output_type": "execute_result"
    },
    {
     "data": {
      "image/png": "[encoded data removed]",
      "text/plain": [
       "<Figure size 432x288 with 1 Axes>"
      ]
     },
     "metadata": {
      "needs_background": "light"
     },
     "output_type": "display_data"
    }
   ],
   "source": [
    "data_filtered['RegistrationYear'].plot.box()\n",
    "data_filtered['RegistrationYear'].describe()"
   ]
  },
  {
   "cell_type": "markdown",
   "metadata": {},
   "source": [
    "В столбце года регистрации много некорректных очень больших значений. Попробуем их отсечь, используя исходный датафрейм и столбец DateCrawled."
   ]
  },
  {
   "cell_type": "code",
   "execution_count": 17,
   "metadata": {},
   "outputs": [
    {
     "data": {
      "text/plain": [
       "Timestamp('2016-04-07 14:36:58')"
      ]
     },
     "execution_count": 17,
     "metadata": {},
     "output_type": "execute_result"
    }
   ],
   "source": [
    "date = pd.to_datetime(data['DateCrawled'])\n",
    "date.max()"
   ]
  },
  {
   "cell_type": "markdown",
   "metadata": {},
   "source": [
    "Дат регистрации после 2016 года нет. Не могут они быть и раньше 1885 (год изобретения автомобиля). Отсечём эти даты и посмотрим распределение по годам."
   ]
  },
  {
   "cell_type": "code",
   "execution_count": 18,
   "metadata": {},
   "outputs": [
    {
     "data": {
      "text/plain": [
       "count    329765.000000\n",
       "mean       2002.593583\n",
       "std           6.927865\n",
       "min        1910.000000\n",
       "25%        1999.000000\n",
       "50%        2003.000000\n",
       "75%        2007.000000\n",
       "max        2016.000000\n",
       "Name: RegistrationYear, dtype: float64"
      ]
     },
     "execution_count": 18,
     "metadata": {},
     "output_type": "execute_result"
    },
    {
     "data": {
      "image/png": "[encoded data removed]",
      "text/plain": [
       "<Figure size 864x432 with 1 Axes>"
      ]
     },
     "metadata": {
      "needs_background": "light"
     },
     "output_type": "display_data"
    }
   ],
   "source": [
    "data_filtered = data_filtered.loc[(data_filtered['RegistrationYear'] > 1885) & (data_filtered['RegistrationYear'] <= 2016)]\n",
    "histogram(data_filtered['RegistrationYear'], 100, (12,6))\n",
    "data_filtered['RegistrationYear'].describe()"
   ]
  },
  {
   "cell_type": "markdown",
   "metadata": {},
   "source": [
    "Реалистичный минимальный год - 1960. Также отсеем явно некорректные значения мощности."
   ]
  },
  {
   "cell_type": "code",
   "execution_count": 19,
   "metadata": {
    "scrolled": false
   },
   "outputs": [
    {
     "data": {
      "text/plain": [
       "count    296528.000000\n",
       "mean       2002.842625\n",
       "std           6.438744\n",
       "min        1960.000000\n",
       "25%        1999.000000\n",
       "50%        2003.000000\n",
       "75%        2007.000000\n",
       "max        2016.000000\n",
       "Name: RegistrationYear, dtype: float64"
      ]
     },
     "metadata": {},
     "output_type": "display_data"
    },
    {
     "data": {
      "text/plain": [
       "count    296528.000000\n",
       "mean        120.882342\n",
       "std          55.925854\n",
       "min           1.000000\n",
       "25%          75.000000\n",
       "50%         111.000000\n",
       "75%         150.000000\n",
       "max        1200.000000\n",
       "Name: Power, dtype: float64"
      ]
     },
     "execution_count": 19,
     "metadata": {},
     "output_type": "execute_result"
    },
    {
     "data": {
      "image/png": "[encoded data removed]",
      "text/plain": [
       "<Figure size 576x432 with 1 Axes>"
      ]
     },
     "metadata": {
      "needs_background": "light"
     },
     "output_type": "display_data"
    }
   ],
   "source": [
    "data_filtered = data_filtered.loc[(data_filtered['RegistrationYear'] >= 1960) & \n",
    "                                  (data_filtered['RegistrationYear'] <= 2016) &\n",
    "                                  (data_filtered['Power'] > 0) &\n",
    "                                 (data_filtered['Power'] <= 1200)]\n",
    "histogram(data_filtered['RegistrationYear'], 50, (8,6))\n",
    "display(data_filtered['RegistrationYear'].describe())\n",
    "data_filtered['Power'].describe()"
   ]
  },
  {
   "cell_type": "code",
   "execution_count": 20,
   "metadata": {},
   "outputs": [
    {
     "data": {
      "text/plain": [
       "<AxesSubplot:>"
      ]
     },
     "execution_count": 20,
     "metadata": {},
     "output_type": "execute_result"
    },
    {
     "data": {
      "image/png": "[encoded data removed]",
      "text/plain": [
       "<Figure size 576x432 with 1 Axes>"
      ]
     },
     "metadata": {
      "needs_background": "light"
     },
     "output_type": "display_data"
    }
   ],
   "source": [
    "histogram(data_filtered['Power'], 100, (8,6))"
   ]
  },
  {
   "cell_type": "markdown",
   "metadata": {},
   "source": [
    "Пропуски заполняем значением Unknown, что создаст отдельную категорию."
   ]
  },
  {
   "cell_type": "code",
   "execution_count": 21,
   "metadata": {},
   "outputs": [
    {
     "name": "stdout",
     "output_type": "stream",
     "text": [
      "<class 'pandas.core.frame.DataFrame'>\n",
      "Int64Index: 296528 entries, 1 to 354368\n",
      "Data columns (total 10 columns):\n",
      " #   Column            Non-Null Count   Dtype \n",
      "---  ------            --------------   ----- \n",
      " 0   Price             296528 non-null  int64 \n",
      " 1   VehicleType       296528 non-null  object\n",
      " 2   RegistrationYear  296528 non-null  int64 \n",
      " 3   Gearbox           296528 non-null  object\n",
      " 4   Power             296528 non-null  int64 \n",
      " 5   Model             296528 non-null  object\n",
      " 6   Kilometer         296528 non-null  int64 \n",
      " 7   FuelType          296528 non-null  object\n",
      " 8   Brand             296528 non-null  object\n",
      " 9   Repaired          296528 non-null  object\n",
      "dtypes: int64(4), object(6)\n",
      "memory usage: 24.9+ MB\n"
     ]
    }
   ],
   "source": [
    "data_filtered.fillna(value='Unknown', inplace=True)\n",
    "data_filtered.info()"
   ]
  },
  {
   "cell_type": "markdown",
   "metadata": {},
   "source": [
    "## Обучение моделей"
   ]
  },
  {
   "cell_type": "markdown",
   "metadata": {},
   "source": [
    "Задействуем технику прямого кодирования, чтобы преобразовать категориальные признаки в численные."
   ]
  },
  {
   "cell_type": "code",
   "execution_count": 40,
   "metadata": {},
   "outputs": [],
   "source": [
    "# назначение типа category для LGBM/CatBoost\n",
    "for col in categorical:\n",
    "    data_filtered[col] = data_filtered[col].astype('category')\n",
    "\n",
    "# выделение признаков и цели\n",
    "features = data_filtered.drop(['Price'], axis=1)\n",
    "target = data_filtered['Price']\n",
    "\n",
    "# разбиение на начальные выборки\n",
    "features_train, features_test, target_train, target_test = train_test_split(\n",
    "    features, target, test_size=0.25, random_state=12345)"
   ]
  },
  {
   "cell_type": "code",
   "execution_count": 41,
   "metadata": {},
   "outputs": [],
   "source": [
    "categorical = ['VehicleType', 'Gearbox', 'Model', 'FuelType', 'Brand', 'Repaired']\n",
    "\n",
    "# Target Encoding для избавления от проклятия размерности; закодированные признаки для линейных моделей\n",
    "encoder = ce.TargetEncoder(cols=categorical)\n",
    "features_train_lin = encoder.fit_transform(features_train, target_train)\n",
    "features_test_lin = encoder.transform(features_test)"
   ]
  },
  {
   "cell_type": "code",
   "execution_count": 29,
   "metadata": {},
   "outputs": [],
   "source": [
    "def rmse(target, predictions):\n",
    "    mse = mean_squared_error(target, predictions)\n",
    "    rmse = mse ** 0.5\n",
    "    return rmse"
   ]
  },
  {
   "cell_type": "markdown",
   "metadata": {},
   "source": [
    "Теперь обучим и проанализируем время работы и качество моделей."
   ]
  },
  {
   "cell_type": "markdown",
   "metadata": {},
   "source": [
    "### Линейная регрессия"
   ]
  },
  {
   "cell_type": "code",
   "execution_count": 30,
   "metadata": {},
   "outputs": [],
   "source": [
    "lin_model = LinearRegression()"
   ]
  },
  {
   "cell_type": "code",
   "execution_count": 42,
   "metadata": {},
   "outputs": [
    {
     "name": "stdout",
     "output_type": "stream",
     "text": [
      "CPU times: user 35.5 ms, sys: 16.1 ms, total: 51.6 ms\n",
      "Wall time: 40.6 ms\n"
     ]
    },
    {
     "data": {
      "text/plain": [
       "LinearRegression()"
      ]
     },
     "execution_count": 42,
     "metadata": {},
     "output_type": "execute_result"
    }
   ],
   "source": [
    "%%time\n",
    "lin_model.fit(features_train_lin, target_train)"
   ]
  },
  {
   "cell_type": "code",
   "execution_count": 32,
   "metadata": {},
   "outputs": [
    {
     "name": "stdout",
     "output_type": "stream",
     "text": [
      "CPU times: user 14.6 ms, sys: 1.59 ms, total: 16.2 ms\n",
      "Wall time: 5.89 ms\n"
     ]
    },
    {
     "data": {
      "text/plain": [
       "2793.2292088643185"
      ]
     },
     "execution_count": 32,
     "metadata": {},
     "output_type": "execute_result"
    }
   ],
   "source": [
    "%%time\n",
    "predicted_lin = pd.Series(lin_model.predict(features_test_lin))\n",
    "rmse(target_test, predicted_lin)"
   ]
  },
  {
   "cell_type": "markdown",
   "metadata": {},
   "source": [
    "### CatBoostRegressor"
   ]
  },
  {
   "cell_type": "markdown",
   "metadata": {},
   "source": [
    "Тестируем в двух циклах с различными значениями гиперпараметров iterations и depth."
   ]
  },
  {
   "cell_type": "code",
   "execution_count": 33,
   "metadata": {
    "scrolled": true
   },
   "outputs": [
    {
     "name": "stdout",
     "output_type": "stream",
     "text": [
      "Learning rate set to 0.5\n",
      "0:\tlearn: 3117.6733873\ttotal: 142ms\tremaining: 1.27s\n",
      "9:\tlearn: 1744.2130201\ttotal: 704ms\tremaining: 0us\n",
      "Learning rate set to 0.5\n",
      "0:\tlearn: 3118.5714723\ttotal: 70.8ms\tremaining: 637ms\n",
      "9:\tlearn: 1753.5013695\ttotal: 623ms\tremaining: 0us\n",
      "Iterations = 10 Score: [0.84795642 0.84970312]\n",
      "Score mean = 0.8488297657644303\n",
      "\n",
      "Learning rate set to 0.5\n",
      "0:\tlearn: 3117.6733873\ttotal: 65.8ms\tremaining: 1.91s\n",
      "10:\tlearn: 1728.6034232\ttotal: 675ms\tremaining: 1.17s\n",
      "20:\tlearn: 1637.4990369\ttotal: 1.28s\tremaining: 547ms\n",
      "29:\tlearn: 1579.3251287\ttotal: 1.82s\tremaining: 0us\n",
      "Learning rate set to 0.5\n",
      "0:\tlearn: 3118.5714723\ttotal: 71ms\tremaining: 2.06s\n",
      "10:\tlearn: 1740.2040122\ttotal: 683ms\tremaining: 1.18s\n",
      "20:\tlearn: 1638.1902651\ttotal: 1.29s\tremaining: 553ms\n",
      "29:\tlearn: 1581.4146570\ttotal: 1.8s\tremaining: 0us\n",
      "Iterations = 30 Score: [0.86472218 0.86663006]\n",
      "Score mean = 0.8656761228816706\n",
      "\n",
      "Learning rate set to 0.5\n",
      "0:\tlearn: 3117.6733873\ttotal: 64.5ms\tremaining: 3.16s\n",
      "10:\tlearn: 1728.6034232\ttotal: 666ms\tremaining: 2.36s\n",
      "20:\tlearn: 1637.4990369\ttotal: 1.26s\tremaining: 1.75s\n",
      "30:\tlearn: 1573.7438853\ttotal: 1.87s\tremaining: 1.15s\n",
      "40:\tlearn: 1537.2529859\ttotal: 2.49s\tremaining: 546ms\n",
      "49:\tlearn: 1506.4987136\ttotal: 3.04s\tremaining: 0us\n",
      "Learning rate set to 0.5\n",
      "0:\tlearn: 3118.5714723\ttotal: 68.5ms\tremaining: 3.36s\n",
      "10:\tlearn: 1740.2040122\ttotal: 689ms\tremaining: 2.44s\n",
      "20:\tlearn: 1638.1902651\ttotal: 1.3s\tremaining: 1.79s\n",
      "30:\tlearn: 1577.7739705\ttotal: 1.87s\tremaining: 1.15s\n",
      "40:\tlearn: 1516.1687453\ttotal: 2.46s\tremaining: 541ms\n",
      "49:\tlearn: 1489.7470459\ttotal: 3s\tremaining: 0us\n",
      "Iterations = 50 Score: [0.86966224 0.8733027 ]\n",
      "Score mean = 0.871482469507832\n",
      "\n",
      "Learning rate set to 0.5\n",
      "0:\tlearn: 3117.6733873\ttotal: 65.4ms\tremaining: 4.51s\n",
      "10:\tlearn: 1728.6034232\ttotal: 670ms\tremaining: 3.59s\n",
      "20:\tlearn: 1637.4990369\ttotal: 1.26s\tremaining: 2.94s\n",
      "30:\tlearn: 1573.7438853\ttotal: 1.84s\tremaining: 2.32s\n",
      "40:\tlearn: 1537.2529859\ttotal: 2.45s\tremaining: 1.73s\n",
      "50:\tlearn: 1503.7967634\ttotal: 3.05s\tremaining: 1.14s\n",
      "60:\tlearn: 1471.8666518\ttotal: 3.64s\tremaining: 537ms\n",
      "69:\tlearn: 1440.4406097\ttotal: 4.19s\tremaining: 0us\n",
      "Learning rate set to 0.5\n",
      "0:\tlearn: 3118.5714723\ttotal: 68.8ms\tremaining: 4.75s\n",
      "10:\tlearn: 1740.2040122\ttotal: 675ms\tremaining: 3.62s\n",
      "20:\tlearn: 1638.1902651\ttotal: 1.29s\tremaining: 3s\n",
      "30:\tlearn: 1577.7739705\ttotal: 1.85s\tremaining: 2.33s\n",
      "40:\tlearn: 1516.1687453\ttotal: 2.44s\tremaining: 1.73s\n",
      "50:\tlearn: 1487.2982784\ttotal: 3.04s\tremaining: 1.13s\n",
      "60:\tlearn: 1456.8829841\ttotal: 3.62s\tremaining: 535ms\n",
      "69:\tlearn: 1432.4910648\ttotal: 4.16s\tremaining: 0us\n",
      "Iterations = 70 Score: [0.87296859 0.87527297]\n",
      "Score mean = 0.8741207782124663\n",
      "\n",
      "Learning rate set to 0.5\n",
      "0:\tlearn: 3117.6733873\ttotal: 64.5ms\tremaining: 5.74s\n",
      "10:\tlearn: 1728.6034232\ttotal: 677ms\tremaining: 4.86s\n",
      "20:\tlearn: 1637.4990369\ttotal: 1.26s\tremaining: 4.15s\n",
      "30:\tlearn: 1573.7438853\ttotal: 1.85s\tremaining: 3.52s\n",
      "40:\tlearn: 1537.2529859\ttotal: 2.45s\tremaining: 2.92s\n",
      "50:\tlearn: 1503.7967634\ttotal: 3.05s\tremaining: 2.33s\n",
      "60:\tlearn: 1471.8666518\ttotal: 3.66s\tremaining: 1.74s\n",
      "70:\tlearn: 1438.1230205\ttotal: 4.28s\tremaining: 1.15s\n",
      "80:\tlearn: 1413.8590762\ttotal: 4.89s\tremaining: 544ms\n",
      "89:\tlearn: 1394.2379600\ttotal: 5.44s\tremaining: 0us\n",
      "Learning rate set to 0.5\n",
      "0:\tlearn: 3118.5714723\ttotal: 68.7ms\tremaining: 6.11s\n",
      "10:\tlearn: 1740.2040122\ttotal: 674ms\tremaining: 4.84s\n",
      "20:\tlearn: 1638.1902651\ttotal: 1.28s\tremaining: 4.22s\n",
      "30:\tlearn: 1577.7739705\ttotal: 1.85s\tremaining: 3.51s\n",
      "40:\tlearn: 1516.1687453\ttotal: 2.45s\tremaining: 2.93s\n",
      "50:\tlearn: 1487.2982784\ttotal: 3.05s\tremaining: 2.33s\n",
      "60:\tlearn: 1456.8829841\ttotal: 3.63s\tremaining: 1.73s\n",
      "70:\tlearn: 1432.2103526\ttotal: 4.24s\tremaining: 1.13s\n",
      "80:\tlearn: 1409.4035310\ttotal: 4.85s\tremaining: 539ms\n",
      "89:\tlearn: 1391.4866642\ttotal: 5.38s\tremaining: 0us\n",
      "Iterations = 90 Score: [0.87477061 0.87645909]\n",
      "Score mean = 0.8756148499072824\n",
      "\n",
      "Learning rate set to 0.5\n",
      "0:\tlearn: 3117.6733873\ttotal: 65.3ms\tremaining: 7.11s\n",
      "10:\tlearn: 1728.6034232\ttotal: 694ms\tremaining: 6.25s\n",
      "20:\tlearn: 1637.4990369\ttotal: 1.29s\tremaining: 5.46s\n",
      "30:\tlearn: 1573.7438853\ttotal: 1.88s\tremaining: 4.79s\n",
      "40:\tlearn: 1537.2529859\ttotal: 2.49s\tremaining: 4.19s\n",
      "50:\tlearn: 1503.7967634\ttotal: 3.09s\tremaining: 3.57s\n",
      "60:\tlearn: 1471.8666518\ttotal: 3.68s\tremaining: 2.96s\n",
      "70:\tlearn: 1438.1230205\ttotal: 4.3s\tremaining: 2.36s\n",
      "80:\tlearn: 1413.8590762\ttotal: 4.92s\tremaining: 1.76s\n",
      "90:\tlearn: 1392.0890309\ttotal: 5.51s\tremaining: 1.15s\n",
      "100:\tlearn: 1375.3805687\ttotal: 6.12s\tremaining: 545ms\n",
      "109:\tlearn: 1363.7840192\ttotal: 6.67s\tremaining: 0us\n",
      "Learning rate set to 0.5\n",
      "0:\tlearn: 3118.5714723\ttotal: 71.5ms\tremaining: 7.8s\n",
      "10:\tlearn: 1740.2040122\ttotal: 706ms\tremaining: 6.35s\n",
      "20:\tlearn: 1638.1902651\ttotal: 1.41s\tremaining: 5.97s\n",
      "30:\tlearn: 1577.7739705\ttotal: 2s\tremaining: 5.1s\n",
      "40:\tlearn: 1516.1687453\ttotal: 2.6s\tremaining: 4.38s\n",
      "50:\tlearn: 1487.2982784\ttotal: 3.23s\tremaining: 3.73s\n",
      "60:\tlearn: 1456.8829841\ttotal: 3.82s\tremaining: 3.07s\n",
      "70:\tlearn: 1432.2103526\ttotal: 4.43s\tremaining: 2.43s\n",
      "80:\tlearn: 1409.4035310\ttotal: 5.03s\tremaining: 1.8s\n",
      "90:\tlearn: 1388.8264101\ttotal: 5.63s\tremaining: 1.17s\n",
      "100:\tlearn: 1372.4109275\ttotal: 6.24s\tremaining: 556ms\n",
      "109:\tlearn: 1358.2613842\ttotal: 6.78s\tremaining: 0us\n",
      "Iterations = 110 Score: [0.87582824 0.87766686]\n",
      "Score mean = 0.8767475494905693\n",
      "\n"
     ]
    }
   ],
   "source": [
    "for iteration in range(10, 111, 20):\n",
    "    cbr_model = CatBoostRegressor(loss_function=\"RMSE\", iterations=iteration, depth=10, verbose=10, \n",
    "                                  cat_features=categorical)\n",
    "    cbr_cv = cross_val_score(cbr_model, features_train, target_train, cv=2)\n",
    "    print(\"Iterations =\", iteration, \"Score:\", cbr_cv)\n",
    "    print(\"Score mean =\", sum(cbr_cv)/len(cbr_cv))\n",
    "    print()"
   ]
  },
  {
   "cell_type": "code",
   "execution_count": 34,
   "metadata": {
    "scrolled": true
   },
   "outputs": [
    {
     "name": "stdout",
     "output_type": "stream",
     "text": [
      "Learning rate set to 0.5\n",
      "0:\tlearn: 3359.6445717\ttotal: 40.3ms\tremaining: 766ms\n",
      "10:\tlearn: 1946.9301237\ttotal: 366ms\tremaining: 299ms\n",
      "19:\tlearn: 1849.6940807\ttotal: 656ms\tremaining: 0us\n",
      "Learning rate set to 0.5\n",
      "0:\tlearn: 3313.9460901\ttotal: 38.1ms\tremaining: 724ms\n",
      "10:\tlearn: 1953.8471543\ttotal: 363ms\tremaining: 297ms\n",
      "19:\tlearn: 1868.2174151\ttotal: 648ms\tremaining: 0us\n",
      "Depth = 5 Score: [0.83641873 0.83521529]\n",
      "Score mean = 0.8358170081582936\n",
      "\n",
      "Learning rate set to 0.5\n",
      "0:\tlearn: 3217.2267713\ttotal: 47.7ms\tremaining: 907ms\n",
      "10:\tlearn: 1847.7890186\ttotal: 482ms\tremaining: 394ms\n",
      "19:\tlearn: 1768.2999609\ttotal: 841ms\tremaining: 0us\n",
      "Learning rate set to 0.5\n",
      "0:\tlearn: 3204.4061887\ttotal: 48.3ms\tremaining: 919ms\n",
      "10:\tlearn: 1852.0984077\ttotal: 477ms\tremaining: 391ms\n",
      "19:\tlearn: 1755.1379216\ttotal: 841ms\tremaining: 0us\n",
      "Depth = 7 Score: [0.84734907 0.85203777]\n",
      "Score mean = 0.8496934199401237\n",
      "\n",
      "Learning rate set to 0.5\n",
      "0:\tlearn: 3145.4278589\ttotal: 65.3ms\tremaining: 1.24s\n",
      "10:\tlearn: 1762.1675292\ttotal: 622ms\tremaining: 509ms\n",
      "19:\tlearn: 1673.1762359\ttotal: 1.11s\tremaining: 0us\n",
      "Learning rate set to 0.5\n",
      "0:\tlearn: 3157.1364370\ttotal: 65.1ms\tremaining: 1.24s\n",
      "10:\tlearn: 1767.3798580\ttotal: 615ms\tremaining: 503ms\n",
      "19:\tlearn: 1692.1069171\ttotal: 1.12s\tremaining: 0us\n",
      "Depth = 9 Score: [0.8566131  0.85841241]\n",
      "Score mean = 0.8575127562580351\n",
      "\n",
      "Learning rate set to 0.5\n",
      "0:\tlearn: 3108.5903832\ttotal: 88.5ms\tremaining: 1.68s\n",
      "10:\tlearn: 1687.8837012\ttotal: 843ms\tremaining: 690ms\n",
      "19:\tlearn: 1589.0199769\ttotal: 1.49s\tremaining: 0us\n",
      "Learning rate set to 0.5\n",
      "0:\tlearn: 3093.5937605\ttotal: 82.4ms\tremaining: 1.57s\n",
      "10:\tlearn: 1689.4695730\ttotal: 844ms\tremaining: 691ms\n",
      "19:\tlearn: 1598.8813928\ttotal: 1.5s\tremaining: 0us\n",
      "Depth = 11 Score: [0.86266467 0.86465863]\n",
      "Score mean = 0.8636616470635059\n",
      "\n",
      "Learning rate set to 0.5\n",
      "0:\tlearn: 3073.5728189\ttotal: 136ms\tremaining: 2.59s\n",
      "10:\tlearn: 1621.1661156\ttotal: 1.5s\tremaining: 1.23s\n",
      "19:\tlearn: 1512.9784507\ttotal: 2.73s\tremaining: 0us\n",
      "Learning rate set to 0.5\n",
      "0:\tlearn: 3093.5937605\ttotal: 99.2ms\tremaining: 1.89s\n",
      "10:\tlearn: 1616.8115008\ttotal: 1.49s\tremaining: 1.22s\n",
      "19:\tlearn: 1509.6651923\ttotal: 2.71s\tremaining: 0us\n",
      "Depth = 13 Score: [0.86657924 0.86730252]\n",
      "Score mean = 0.8669408810420662\n",
      "\n",
      "Learning rate set to 0.5\n",
      "0:\tlearn: 3073.5728189\ttotal: 127ms\tremaining: 2.42s\n",
      "10:\tlearn: 1525.0053607\ttotal: 4.86s\tremaining: 3.97s\n",
      "19:\tlearn: 1407.4945776\ttotal: 9.21s\tremaining: 0us\n",
      "Learning rate set to 0.5\n",
      "0:\tlearn: 3093.5937605\ttotal: 97.3ms\tremaining: 1.85s\n",
      "10:\tlearn: 1559.6056346\ttotal: 4.75s\tremaining: 3.89s\n",
      "19:\tlearn: 1435.1867487\ttotal: 9.02s\tremaining: 0us\n",
      "Depth = 15 Score: [0.86670962 0.86886781]\n",
      "Score mean = 0.8677887130106767\n",
      "\n"
     ]
    }
   ],
   "source": [
    "for depth in range(5, 16, 2):\n",
    "    cbr_model = CatBoostRegressor(loss_function=\"RMSE\", iterations=20, depth=depth, verbose=10, cat_features=categorical)\n",
    "    cbr_cv = cross_val_score(cbr_model, features_train, target_train, cv=2)\n",
    "    print(\"Depth =\", depth, \"Score:\", cbr_cv)\n",
    "    print(\"Score mean =\", sum(cbr_cv)/len(cbr_cv))\n",
    "    print()"
   ]
  },
  {
   "cell_type": "markdown",
   "metadata": {},
   "source": [
    "С ростом глубины/итераций точность сначала растёт, но потом становится стабильной. Останавливаемся на значениях iterations=90, depth=13 (они ещё достаточно быстрые, но при этом почти максимально точные)."
   ]
  },
  {
   "cell_type": "code",
   "execution_count": 35,
   "metadata": {},
   "outputs": [
    {
     "name": "stdout",
     "output_type": "stream",
     "text": [
      "Learning rate set to 0.5\n",
      "0:\tlearn: 3065.9019218\ttotal: 213ms\tremaining: 18.9s\n",
      "10:\tlearn: 1644.5679207\ttotal: 2.27s\tremaining: 16.3s\n",
      "20:\tlearn: 1525.2261133\ttotal: 4.32s\tremaining: 14.2s\n",
      "30:\tlearn: 1459.1872334\ttotal: 6.42s\tremaining: 12.2s\n",
      "40:\tlearn: 1405.2673409\ttotal: 8.5s\tremaining: 10.2s\n",
      "50:\tlearn: 1363.7531351\ttotal: 10.6s\tremaining: 8.07s\n",
      "60:\tlearn: 1336.5873341\ttotal: 12.6s\tremaining: 5.98s\n",
      "70:\tlearn: 1313.5680836\ttotal: 14.7s\tremaining: 3.93s\n",
      "80:\tlearn: 1294.9715678\ttotal: 16.7s\tremaining: 1.86s\n",
      "89:\tlearn: 1276.5483257\ttotal: 18.6s\tremaining: 0us\n",
      "CPU times: user 19 s, sys: 43.7 ms, total: 19 s\n",
      "Wall time: 19.5 s\n"
     ]
    },
    {
     "data": {
      "text/plain": [
       "<catboost.core.CatBoostRegressor at 0x7f906f36b820>"
      ]
     },
     "execution_count": 35,
     "metadata": {},
     "output_type": "execute_result"
    }
   ],
   "source": [
    "%%time\n",
    "cbr_model = CatBoostRegressor(loss_function=\"RMSE\", iterations=90, depth=13, verbose=10)\n",
    "cbr_model.fit(features_train, target_train, cat_features=categorical)"
   ]
  },
  {
   "cell_type": "code",
   "execution_count": 36,
   "metadata": {},
   "outputs": [
    {
     "name": "stdout",
     "output_type": "stream",
     "text": [
      "CPU times: user 98.3 ms, sys: 4.11 ms, total: 102 ms\n",
      "Wall time: 101 ms\n"
     ]
    }
   ],
   "source": [
    "%%time\n",
    "predictions_cbr = pd.Series(cbr_model.predict(features_test))"
   ]
  },
  {
   "cell_type": "code",
   "execution_count": 37,
   "metadata": {},
   "outputs": [
    {
     "data": {
      "text/plain": [
       "1566.9316801785099"
      ]
     },
     "execution_count": 37,
     "metadata": {},
     "output_type": "execute_result"
    }
   ],
   "source": [
    "rmse(target_test, predictions_cbr)"
   ]
  },
  {
   "cell_type": "markdown",
   "metadata": {},
   "source": [
    "### LightGBM"
   ]
  },
  {
   "cell_type": "code",
   "execution_count": 43,
   "metadata": {},
   "outputs": [],
   "source": [
    "params = {\n",
    "    'boosting': 'gbdt',\n",
    "    'objective': 'regression',\n",
    "    'metric': 'rmse',\n",
    "    'max_depth': 6, \n",
    "    'learning_rate': 0.1,\n",
    "    'verbose': 0,\n",
    "    'num_leaves': 32 # число листьев - меньше или равно 2^max_depth\n",
    "}\n",
    "\n",
    "lgbm_model = LGBMRegressor(**params)"
   ]
  },
  {
   "cell_type": "code",
   "execution_count": 44,
   "metadata": {},
   "outputs": [
    {
     "name": "stdout",
     "output_type": "stream",
     "text": [
      "[LightGBM] [Warning] boosting is set=gbdt, boosting_type=gbdt will be ignored. Current value: boosting=gbdt\n",
      "[LightGBM] [Warning] boosting is set=gbdt, boosting_type=gbdt will be ignored. Current value: boosting=gbdt\n",
      "[LightGBM] [Warning] Auto-choosing row-wise multi-threading, the overhead of testing was 0.094066 seconds.\n",
      "You can set `force_row_wise=true` to remove the overhead.\n",
      "And if memory is not enough, you can set `force_col_wise=true`.\n",
      "[LightGBM] [Warning] No further splits with positive gain, best gain: -inf\n",
      "[LightGBM] [Warning] No further splits with positive gain, best gain: -inf\n",
      "[LightGBM] [Warning] No further splits with positive gain, best gain: -inf\n",
      "[LightGBM] [Warning] No further splits with positive gain, best gain: -inf\n",
      "[LightGBM] [Warning] No further splits with positive gain, best gain: -inf\n",
      "[LightGBM] [Warning] No further splits with positive gain, best gain: -inf\n",
      "[LightGBM] [Warning] No further splits with positive gain, best gain: -inf\n",
      "[LightGBM] [Warning] No further splits with positive gain, best gain: -inf\n",
      "[LightGBM] [Warning] No further splits with positive gain, best gain: -inf\n",
      "CPU times: user 4.22 s, sys: 6.86 ms, total: 4.23 s\n",
      "Wall time: 4.15 s\n"
     ]
    },
    {
     "data": {
      "text/plain": [
       "LGBMRegressor(boosting='gbdt', max_depth=6, metric='rmse', num_leaves=32,\n",
       "              objective='regression', verbose=0)"
      ]
     },
     "execution_count": 44,
     "metadata": {},
     "output_type": "execute_result"
    }
   ],
   "source": [
    "%%time\n",
    "lgbm_model.fit(features_train, target_train)"
   ]
  },
  {
   "cell_type": "code",
   "execution_count": 45,
   "metadata": {},
   "outputs": [
    {
     "name": "stdout",
     "output_type": "stream",
     "text": [
      "CPU times: user 708 ms, sys: 0 ns, total: 708 ms\n",
      "Wall time: 663 ms\n"
     ]
    }
   ],
   "source": [
    "%%time\n",
    "predictions_lgbm = lgbm_model.predict(features_test)"
   ]
  },
  {
   "cell_type": "code",
   "execution_count": 46,
   "metadata": {},
   "outputs": [
    {
     "data": {
      "text/plain": [
       "1610.168923139173"
      ]
     },
     "execution_count": 46,
     "metadata": {},
     "output_type": "execute_result"
    }
   ],
   "source": [
    "rmse(target_test, predictions_lgbm)"
   ]
  },
  {
   "cell_type": "markdown",
   "metadata": {},
   "source": [
    "### Ridge"
   ]
  },
  {
   "cell_type": "code",
   "execution_count": 47,
   "metadata": {},
   "outputs": [
    {
     "name": "stdout",
     "output_type": "stream",
     "text": [
      "Лучшие параметры:\n",
      "\n",
      "{'solver': 'auto'}\n",
      "\n",
      "Значения RMSE с разными параметрами:\n",
      "\n",
      "2775.149404 for {'solver': 'auto'}\n",
      "2775.149404 for {'solver': 'svd'}\n",
      "2775.149404 for {'solver': 'cholesky'}\n",
      "3210.257632 for {'solver': 'lsqr'}\n",
      "3210.257632 for {'solver': 'sparse_cg'}\n",
      "\n"
     ]
    }
   ],
   "source": [
    "ridge_model = Ridge(random_state=12345)\n",
    "solvers = [{'solver':['auto', 'svd', 'cholesky', 'lsqr','sparse_cg']}]\n",
    "\n",
    "grid_search = GridSearchCV(ridge_model, solvers, scoring='neg_mean_squared_error')\n",
    "grid_search.fit(features_train_lin, target_train)\n",
    "print(\"Лучшие параметры:\")\n",
    "print()\n",
    "print(grid_search.best_params_)\n",
    "print()\n",
    "print(\"Значения RMSE с разными параметрами:\")\n",
    "print()\n",
    "means = grid_search.cv_results_['mean_test_score']\n",
    "stds = grid_search.cv_results_['std_test_score']\n",
    "for mean, std, params in zip(means, stds, grid_search.cv_results_['params']):\n",
    "    print(\"%0.6f for %r\"% ((mean*-1)** 0.5, params))\n",
    "print()\n",
    "\n",
    "cv_rmse = (max(means)*-1) ** 0.5"
   ]
  },
  {
   "cell_type": "markdown",
   "metadata": {},
   "source": [
    "## Анализ моделей"
   ]
  },
  {
   "cell_type": "markdown",
   "metadata": {},
   "source": [
    "Обучим каждую модель с лучшими параметрами, предскажем ею данные на тестовой выборке и сравним время и результаты."
   ]
  },
  {
   "cell_type": "markdown",
   "metadata": {},
   "source": [
    "#### Линейная регрессия"
   ]
  },
  {
   "cell_type": "code",
   "execution_count": 48,
   "metadata": {},
   "outputs": [
    {
     "name": "stdout",
     "output_type": "stream",
     "text": [
      "CPU times: user 36.3 ms, sys: 8.05 ms, total: 44.4 ms\n",
      "Wall time: 32.2 ms\n"
     ]
    }
   ],
   "source": [
    "%%time\n",
    "model = LinearRegression()\n",
    "start = time.time()\n",
    "model.fit(features_train_lin, target_train)\n",
    "end = time.time()\n",
    "fit_time_lin = end - start"
   ]
  },
  {
   "cell_type": "code",
   "execution_count": 49,
   "metadata": {},
   "outputs": [
    {
     "name": "stdout",
     "output_type": "stream",
     "text": [
      "CPU times: user 6.26 ms, sys: 176 µs, total: 6.44 ms\n",
      "Wall time: 4.27 ms\n"
     ]
    }
   ],
   "source": [
    "%%time\n",
    "target_predict = model.predict(features_test_lin)\n",
    "pred_time_lin = time.time() - end"
   ]
  },
  {
   "cell_type": "code",
   "execution_count": 50,
   "metadata": {},
   "outputs": [],
   "source": [
    "rmse_lin = rmse_lin = rmse(target_test, target_predict)"
   ]
  },
  {
   "cell_type": "markdown",
   "metadata": {},
   "source": [
    "#### Ridge"
   ]
  },
  {
   "cell_type": "code",
   "execution_count": 51,
   "metadata": {},
   "outputs": [
    {
     "name": "stdout",
     "output_type": "stream",
     "text": [
      "CPU times: user 15.7 ms, sys: 294 µs, total: 16 ms\n",
      "Wall time: 13.8 ms\n"
     ]
    }
   ],
   "source": [
    "%%time\n",
    "model = Ridge(random_state=12345, solver='auto')\n",
    "start = time.time()\n",
    "model.fit(features_train_lin, target_train)\n",
    "end = time.time()\n",
    "fit_time_ridge = end - start"
   ]
  },
  {
   "cell_type": "code",
   "execution_count": 52,
   "metadata": {},
   "outputs": [
    {
     "name": "stdout",
     "output_type": "stream",
     "text": [
      "CPU times: user 25.8 ms, sys: 1.76 ms, total: 27.6 ms\n",
      "Wall time: 6.21 ms\n"
     ]
    }
   ],
   "source": [
    "%%time\n",
    "target_predict = model.predict(features_test_lin)\n",
    "pred_time_ridge = time.time() - end"
   ]
  },
  {
   "cell_type": "code",
   "execution_count": 53,
   "metadata": {},
   "outputs": [],
   "source": [
    "rmse_ridge = rmse(target_test, target_predict)"
   ]
  },
  {
   "cell_type": "markdown",
   "metadata": {},
   "source": [
    "#### CatBoost"
   ]
  },
  {
   "cell_type": "code",
   "execution_count": 54,
   "metadata": {},
   "outputs": [
    {
     "name": "stdout",
     "output_type": "stream",
     "text": [
      "CPU times: user 18.9 s, sys: 107 ms, total: 19 s\n",
      "Wall time: 19.7 s\n"
     ]
    }
   ],
   "source": [
    "%%time\n",
    "model = CatBoostRegressor(learning_rate=0.5, \n",
    "                          random_state=12345, \n",
    "                          iterations=90, depth=13,\n",
    "                         cat_features=categorical,\n",
    "                         verbose=False)\n",
    "start = time.time()\n",
    "model.fit(features_train, target_train)\n",
    "end = time.time()\n",
    "fit_time_cat = end - start"
   ]
  },
  {
   "cell_type": "code",
   "execution_count": 55,
   "metadata": {},
   "outputs": [
    {
     "name": "stdout",
     "output_type": "stream",
     "text": [
      "CPU times: user 58.2 ms, sys: 7.6 ms, total: 65.9 ms\n",
      "Wall time: 64.6 ms\n"
     ]
    }
   ],
   "source": [
    "%%time\n",
    "target_predict = model.predict(features_test)\n",
    "pred_time_cat = time.time() - end"
   ]
  },
  {
   "cell_type": "code",
   "execution_count": 56,
   "metadata": {},
   "outputs": [],
   "source": [
    "rmse_cat = rmse(target_test, target_predict)"
   ]
  },
  {
   "cell_type": "markdown",
   "metadata": {},
   "source": [
    "#### LGBM"
   ]
  },
  {
   "cell_type": "code",
   "execution_count": 57,
   "metadata": {},
   "outputs": [],
   "source": [
    "params = {\n",
    "    'boosting_type': 'gbdt',\n",
    "    'objective': 'regression',\n",
    "    'metric': 'rmse',\n",
    "    'max_depth': 6,\n",
    "    'num_leaves': 32,\n",
    "    'learning_rate': 0.1,\n",
    "    'verbose': -1,\n",
    "    'min_data_in_leaf': 100\n",
    "}\n",
    "model = LGBMRegressor(**params)\n",
    "start = time.time()"
   ]
  },
  {
   "cell_type": "code",
   "execution_count": 58,
   "metadata": {},
   "outputs": [
    {
     "name": "stdout",
     "output_type": "stream",
     "text": [
      "[LightGBM] [Warning] min_data_in_leaf is set=100, min_child_samples=20 will be ignored. Current value: min_data_in_leaf=100\n",
      "CPU times: user 4.09 s, sys: 0 ns, total: 4.09 s\n",
      "Wall time: 4.05 s\n"
     ]
    }
   ],
   "source": [
    "%%time\n",
    "model.fit(features_train, target_train)\n",
    "end = time.time()\n",
    "fit_time_lgbm = end - start"
   ]
  },
  {
   "cell_type": "code",
   "execution_count": 59,
   "metadata": {},
   "outputs": [
    {
     "name": "stdout",
     "output_type": "stream",
     "text": [
      "CPU times: user 697 ms, sys: 0 ns, total: 697 ms\n",
      "Wall time: 705 ms\n"
     ]
    }
   ],
   "source": [
    "%%time\n",
    "target_predict = model.predict(features_test)\n",
    "pred_time_lgbm = time.time() - end"
   ]
  },
  {
   "cell_type": "code",
   "execution_count": 60,
   "metadata": {},
   "outputs": [],
   "source": [
    "rmse_lgbm = rmse(target_test, target_predict)"
   ]
  },
  {
   "cell_type": "markdown",
   "metadata": {},
   "source": [
    "Итоги сведём в таблицу:"
   ]
  },
  {
   "cell_type": "code",
   "execution_count": 61,
   "metadata": {
    "scrolled": true
   },
   "outputs": [
    {
     "data": {
      "text/html": [
       "<div>\n",
       "<style scoped>\n",
       "    .dataframe tbody tr th:only-of-type {\n",
       "        vertical-align: middle;\n",
       "    }\n",
       "\n",
       "    .dataframe tbody tr th {\n",
       "        vertical-align: top;\n",
       "    }\n",
       "\n",
       "    .dataframe thead th {\n",
       "        text-align: right;\n",
       "    }\n",
       "</style>\n",
       "<table border=\"1\" class=\"dataframe\">\n",
       "  <thead>\n",
       "    <tr style=\"text-align: right;\">\n",
       "      <th></th>\n",
       "      <th>Модель</th>\n",
       "      <th>Время обучения, с</th>\n",
       "      <th>Время работы, мс</th>\n",
       "      <th>RMSE</th>\n",
       "    </tr>\n",
       "  </thead>\n",
       "  <tbody>\n",
       "    <tr>\n",
       "      <th>0</th>\n",
       "      <td>Linear</td>\n",
       "      <td>0.032158</td>\n",
       "      <td>2.650946</td>\n",
       "      <td>2793.229209</td>\n",
       "    </tr>\n",
       "    <tr>\n",
       "      <th>1</th>\n",
       "      <td>Ridge</td>\n",
       "      <td>0.013722</td>\n",
       "      <td>0.457014</td>\n",
       "      <td>2793.229211</td>\n",
       "    </tr>\n",
       "    <tr>\n",
       "      <th>2</th>\n",
       "      <td>CatBoost</td>\n",
       "      <td>19.678305</td>\n",
       "      <td>0.069015</td>\n",
       "      <td>1559.700747</td>\n",
       "    </tr>\n",
       "    <tr>\n",
       "      <th>3</th>\n",
       "      <td>LGBM</td>\n",
       "      <td>4.060778</td>\n",
       "      <td>0.712190</td>\n",
       "      <td>1618.451318</td>\n",
       "    </tr>\n",
       "  </tbody>\n",
       "</table>\n",
       "</div>"
      ],
      "text/plain": [
       "     Модель  Время обучения, с  Время работы, мс         RMSE\n",
       "0    Linear           0.032158          2.650946  2793.229209\n",
       "1     Ridge           0.013722          0.457014  2793.229211\n",
       "2  CatBoost          19.678305          0.069015  1559.700747\n",
       "3      LGBM           4.060778          0.712190  1618.451318"
      ]
     },
     "execution_count": 61,
     "metadata": {},
     "output_type": "execute_result"
    }
   ],
   "source": [
    "models = [['Linear', fit_time_lin, pred_time_lin, rmse_lin], ['Ridge', fit_time_ridge, pred_time_ridge, rmse_ridge], \n",
    "          ['CatBoost', fit_time_cat, pred_time_cat, rmse_cat], ['LGBM', fit_time_lgbm, pred_time_lgbm, rmse_lgbm]] \n",
    "    \n",
    "results = pd.DataFrame(models, columns =['Модель', 'Время обучения, с', 'Время работы, мс', 'RMSE']) \n",
    "results"
   ]
  },
  {
   "cell_type": "markdown",
   "metadata": {},
   "source": [
    "### Вывод\n",
    "\n",
    "В ходе работы было выполнено:\n",
    "\n",
    "* Загружены данные и проведена предобработка с удалением аномалий и заполнением пропусков.\n",
    "* Выполнено сравнение моделей (Linear Regression, Ridge, LightGBM, CatBoost) с использованием различных наборов гиперпараметров.\n",
    "* Выбрана лучшая модель по результатам метрики RMSE и времени предсказания.\n",
    "\n",
    "На выбор модели не влияло время обучения, так как обучается она однократно, а предсказания приходится делать много раз.\n",
    "* Метрика RMSE лучше всего выглядит у моделей с градиентным бустингом - LGBM и CatBoost, но время их работы значительно дольше, чем у линейной регрессии и Ridge.\n",
    "* Быстрее всего обучается/предсказывает модель Ridge, но её точность оставляет желать лучшего.\n",
    "* У модели CatBoostRegressor относительно небольшое время обучения/работы и хорошая точность. Таким образом, она является лучшей в данном списке."
   ]
  },
  {
   "cell_type": "markdown",
   "metadata": {},
   "source": [
    "## Чек-лист проверки"
   ]
  },
  {
   "cell_type": "markdown",
   "metadata": {},
   "source": [
    "Поставьте 'x' в выполненных пунктах. Далее нажмите Shift+Enter."
   ]
  },
  {
   "cell_type": "markdown",
   "metadata": {},
   "source": [
    "- [x]  Jupyter Notebook открыт\n",
    "- [x]  Весь код выполняется без ошибок\n",
    "- [x]  Ячейки с кодом расположены в порядке исполнения\n",
    "- [x]  Выполнена загрузка и подготовка данных\n",
    "- [x]  Выполнено обучение моделей\n",
    "- [x]  Есть анализ скорости работы и качества моделей"
   ]
  }
 ],
 "metadata": {
  "ExecuteTimeLog": [
   {
    "duration": 3675,
    "start_time": "2023-05-30T11:22:27.258Z"
   },
   {
    "duration": 1411,
    "start_time": "2023-05-30T11:22:30.935Z"
   },
   {
    "duration": 24,
    "start_time": "2023-05-30T11:22:32.348Z"
   },
   {
    "duration": 165,
    "start_time": "2023-05-30T11:22:32.374Z"
   },
   {
    "duration": 2411,
    "start_time": "2023-05-30T11:22:32.621Z"
   },
   {
    "duration": 371,
    "start_time": "2023-05-30T11:22:35.033Z"
   },
   {
    "duration": 326,
    "start_time": "2023-05-30T11:22:35.406Z"
   },
   {
    "duration": 376,
    "start_time": "2023-05-30T11:22:35.734Z"
   },
   {
    "duration": 337,
    "start_time": "2023-05-30T11:22:36.112Z"
   },
   {
    "duration": 13,
    "start_time": "2023-05-30T11:22:36.451Z"
   },
   {
    "duration": 128,
    "start_time": "2023-05-30T11:22:36.466Z"
   },
   {
    "duration": 366,
    "start_time": "2023-05-30T11:22:36.596Z"
   },
   {
    "duration": 169,
    "start_time": "2023-05-30T11:22:36.964Z"
   },
   {
    "duration": 20,
    "start_time": "2023-05-30T11:22:37.136Z"
   },
   {
    "duration": 145,
    "start_time": "2023-05-30T11:22:37.157Z"
   },
   {
    "duration": 99,
    "start_time": "2023-05-30T11:22:37.304Z"
   },
   {
    "duration": 396,
    "start_time": "2023-05-30T11:22:37.406Z"
   },
   {
    "duration": 301,
    "start_time": "2023-05-30T11:22:37.804Z"
   },
   {
    "duration": 511,
    "start_time": "2023-05-30T11:22:38.107Z"
   },
   {
    "duration": 145,
    "start_time": "2023-05-30T11:22:38.620Z"
   },
   {
    "duration": 1022,
    "start_time": "2023-05-30T11:22:38.767Z"
   },
   {
    "duration": 366,
    "start_time": "2023-05-30T11:22:39.790Z"
   },
   {
    "duration": 5,
    "start_time": "2023-05-30T11:22:40.161Z"
   },
   {
    "duration": 9,
    "start_time": "2023-05-30T11:22:40.169Z"
   },
   {
    "duration": 50682,
    "start_time": "2023-05-30T11:22:40.180Z"
   },
   {
    "duration": 399,
    "start_time": "2023-05-30T11:23:30.864Z"
   },
   {
    "duration": 69906,
    "start_time": "2023-05-30T11:23:31.267Z"
   },
   {
    "duration": 56349,
    "start_time": "2023-05-30T11:24:41.175Z"
   },
   {
    "duration": 27189,
    "start_time": "2023-05-30T11:25:37.526Z"
   },
   {
    "duration": 128,
    "start_time": "2023-05-30T11:26:04.717Z"
   },
   {
    "duration": 10,
    "start_time": "2023-05-30T11:26:04.848Z"
   },
   {
    "duration": 15,
    "start_time": "2023-05-30T11:26:04.860Z"
   },
   {
    "duration": 312890,
    "start_time": "2023-05-30T11:26:04.877Z"
   },
   {
    "duration": 800,
    "start_time": "2023-05-30T11:31:17.769Z"
   },
   {
    "duration": 16,
    "start_time": "2023-05-30T11:31:18.570Z"
   },
   {
    "duration": 1223,
    "start_time": "2023-05-31T15:55:43.618Z"
   },
   {
    "duration": 1126,
    "start_time": "2023-05-31T15:55:44.843Z"
   },
   {
    "duration": 20,
    "start_time": "2023-05-31T15:55:45.970Z"
   },
   {
    "duration": 148,
    "start_time": "2023-05-31T15:55:45.992Z"
   },
   {
    "duration": 2495,
    "start_time": "2023-05-31T15:55:46.143Z"
   },
   {
    "duration": 314,
    "start_time": "2023-05-31T15:55:48.640Z"
   },
   {
    "duration": 251,
    "start_time": "2023-05-31T15:55:48.955Z"
   },
   {
    "duration": 342,
    "start_time": "2023-05-31T15:55:49.208Z"
   },
   {
    "duration": 277,
    "start_time": "2023-05-31T15:55:49.551Z"
   },
   {
    "duration": 9,
    "start_time": "2023-05-31T15:55:49.830Z"
   },
   {
    "duration": 123,
    "start_time": "2023-05-31T15:55:49.841Z"
   },
   {
    "duration": 322,
    "start_time": "2023-05-31T15:55:49.966Z"
   },
   {
    "duration": 166,
    "start_time": "2023-05-31T15:55:50.290Z"
   },
   {
    "duration": 12,
    "start_time": "2023-05-31T15:55:50.460Z"
   },
   {
    "duration": 138,
    "start_time": "2023-05-31T15:55:50.474Z"
   },
   {
    "duration": 59,
    "start_time": "2023-05-31T15:55:50.613Z"
   },
   {
    "duration": 312,
    "start_time": "2023-05-31T15:55:50.674Z"
   },
   {
    "duration": 255,
    "start_time": "2023-05-31T15:55:50.988Z"
   },
   {
    "duration": 363,
    "start_time": "2023-05-31T15:55:51.245Z"
   },
   {
    "duration": 151,
    "start_time": "2023-05-31T15:55:51.610Z"
   },
   {
    "duration": 1046,
    "start_time": "2023-05-31T15:55:51.763Z"
   },
   {
    "duration": 312,
    "start_time": "2023-05-31T15:55:52.812Z"
   },
   {
    "duration": 3,
    "start_time": "2023-05-31T15:55:53.126Z"
   },
   {
    "duration": 13,
    "start_time": "2023-05-31T15:55:53.131Z"
   },
   {
    "duration": 20654,
    "start_time": "2023-05-31T15:55:53.146Z"
   },
   {
    "duration": 298,
    "start_time": "2023-05-31T15:56:13.802Z"
   },
   {
    "duration": 64252,
    "start_time": "2023-05-31T15:56:14.102Z"
   },
   {
    "duration": 49968,
    "start_time": "2023-05-31T15:57:18.356Z"
   },
   {
    "duration": 23599,
    "start_time": "2023-05-31T15:58:08.326Z"
   },
   {
    "duration": 94,
    "start_time": "2023-05-31T15:58:31.927Z"
   },
   {
    "duration": 5,
    "start_time": "2023-05-31T15:58:32.023Z"
   },
   {
    "duration": 26,
    "start_time": "2023-05-31T15:58:32.029Z"
   },
   {
    "duration": 10054,
    "start_time": "2023-05-31T15:58:32.056Z"
   },
   {
    "duration": 811,
    "start_time": "2023-05-31T15:58:42.197Z"
   },
   {
    "duration": 5,
    "start_time": "2023-05-31T15:58:43.010Z"
   },
   {
    "duration": 1236,
    "start_time": "2023-05-31T16:17:40.640Z"
   },
   {
    "duration": 1307,
    "start_time": "2023-05-31T16:17:41.878Z"
   },
   {
    "duration": 21,
    "start_time": "2023-05-31T16:17:43.187Z"
   },
   {
    "duration": 131,
    "start_time": "2023-05-31T16:17:43.210Z"
   },
   {
    "duration": 2276,
    "start_time": "2023-05-31T16:17:43.343Z"
   },
   {
    "duration": 321,
    "start_time": "2023-05-31T16:17:45.620Z"
   },
   {
    "duration": 243,
    "start_time": "2023-05-31T16:17:45.943Z"
   },
   {
    "duration": 323,
    "start_time": "2023-05-31T16:17:46.188Z"
   },
   {
    "duration": 270,
    "start_time": "2023-05-31T16:17:46.512Z"
   },
   {
    "duration": 16,
    "start_time": "2023-05-31T16:17:46.785Z"
   },
   {
    "duration": 116,
    "start_time": "2023-05-31T16:17:46.802Z"
   },
   {
    "duration": 322,
    "start_time": "2023-05-31T16:17:46.920Z"
   },
   {
    "duration": 156,
    "start_time": "2023-05-31T16:17:47.244Z"
   },
   {
    "duration": 12,
    "start_time": "2023-05-31T16:17:47.402Z"
   },
   {
    "duration": 134,
    "start_time": "2023-05-31T16:17:47.416Z"
   },
   {
    "duration": 61,
    "start_time": "2023-05-31T16:17:47.552Z"
   },
   {
    "duration": 309,
    "start_time": "2023-05-31T16:17:47.615Z"
   },
   {
    "duration": 252,
    "start_time": "2023-05-31T16:17:47.926Z"
   },
   {
    "duration": 357,
    "start_time": "2023-05-31T16:17:48.180Z"
   },
   {
    "duration": 148,
    "start_time": "2023-05-31T16:17:48.539Z"
   },
   {
    "duration": 920,
    "start_time": "2023-05-31T16:17:48.689Z"
   },
   {
    "duration": 295,
    "start_time": "2023-05-31T16:17:49.611Z"
   },
   {
    "duration": 2,
    "start_time": "2023-05-31T16:17:49.908Z"
   },
   {
    "duration": 7,
    "start_time": "2023-05-31T16:17:49.912Z"
   },
   {
    "duration": 19881,
    "start_time": "2023-05-31T16:17:49.920Z"
   },
   {
    "duration": 393,
    "start_time": "2023-05-31T16:18:09.803Z"
   },
   {
    "duration": 68956,
    "start_time": "2023-05-31T16:18:10.199Z"
   },
   {
    "duration": 52966,
    "start_time": "2023-05-31T16:19:19.159Z"
   },
   {
    "duration": 23372,
    "start_time": "2023-05-31T16:20:12.127Z"
   },
   {
    "duration": 81,
    "start_time": "2023-05-31T16:20:35.500Z"
   },
   {
    "duration": 15,
    "start_time": "2023-05-31T16:20:35.583Z"
   },
   {
    "duration": 3,
    "start_time": "2023-05-31T16:20:35.600Z"
   },
   {
    "duration": 4500,
    "start_time": "2023-05-31T16:20:35.604Z"
   },
   {
    "duration": 802,
    "start_time": "2023-05-31T16:20:40.106Z"
   },
   {
    "duration": 6,
    "start_time": "2023-05-31T16:20:40.910Z"
   },
   {
    "duration": 1257,
    "start_time": "2023-05-31T16:25:44.989Z"
   },
   {
    "duration": 1064,
    "start_time": "2023-05-31T16:25:47.021Z"
   },
   {
    "duration": 18,
    "start_time": "2023-05-31T16:25:51.020Z"
   },
   {
    "duration": 118,
    "start_time": "2023-05-31T16:25:51.861Z"
   },
   {
    "duration": 2205,
    "start_time": "2023-05-31T16:25:56.762Z"
   },
   {
    "duration": 292,
    "start_time": "2023-05-31T16:26:02.433Z"
   },
   {
    "duration": 251,
    "start_time": "2023-05-31T16:26:04.427Z"
   },
   {
    "duration": 327,
    "start_time": "2023-05-31T16:26:04.852Z"
   },
   {
    "duration": 308,
    "start_time": "2023-05-31T16:26:05.258Z"
   },
   {
    "duration": 9,
    "start_time": "2023-05-31T16:26:08.663Z"
   },
   {
    "duration": 106,
    "start_time": "2023-05-31T16:26:10.286Z"
   },
   {
    "duration": 280,
    "start_time": "2023-05-31T16:26:11.771Z"
   },
   {
    "duration": 146,
    "start_time": "2023-05-31T16:26:12.249Z"
   },
   {
    "duration": 11,
    "start_time": "2023-05-31T16:26:12.743Z"
   },
   {
    "duration": 112,
    "start_time": "2023-05-31T16:26:15.853Z"
   },
   {
    "duration": 55,
    "start_time": "2023-05-31T16:26:21.045Z"
   },
   {
    "duration": 275,
    "start_time": "2023-05-31T16:26:22.051Z"
   },
   {
    "duration": 224,
    "start_time": "2023-05-31T16:26:23.737Z"
   },
   {
    "duration": 341,
    "start_time": "2023-05-31T16:26:24.981Z"
   },
   {
    "duration": 132,
    "start_time": "2023-05-31T16:26:26.965Z"
   },
   {
    "duration": 943,
    "start_time": "2023-05-31T16:26:31.227Z"
   },
   {
    "duration": 287,
    "start_time": "2023-05-31T16:26:33.217Z"
   },
   {
    "duration": 3,
    "start_time": "2023-05-31T16:26:35.707Z"
   },
   {
    "duration": 2,
    "start_time": "2023-05-31T16:26:37.836Z"
   },
   {
    "duration": 19259,
    "start_time": "2023-05-31T16:26:38.044Z"
   },
   {
    "duration": 298,
    "start_time": "2023-05-31T16:26:57.305Z"
   },
   {
    "duration": 64277,
    "start_time": "2023-05-31T16:29:53.828Z"
   },
   {
    "duration": 52176,
    "start_time": "2023-05-31T16:32:55.289Z"
   },
   {
    "duration": 22313,
    "start_time": "2023-05-31T16:37:33.996Z"
   },
   {
    "duration": 80,
    "start_time": "2023-05-31T16:50:37.050Z"
   },
   {
    "duration": 5,
    "start_time": "2023-05-31T16:50:38.491Z"
   },
   {
    "duration": 3,
    "start_time": "2023-05-31T16:50:40.857Z"
   },
   {
    "duration": 4440,
    "start_time": "2023-05-31T16:50:42.460Z"
   },
   {
    "duration": 635,
    "start_time": "2023-05-31T16:50:50.072Z"
   },
   {
    "duration": 5,
    "start_time": "2023-05-31T16:50:51.533Z"
   },
   {
    "duration": 150,
    "start_time": "2023-05-31T17:03:51.817Z"
   },
   {
    "duration": 104,
    "start_time": "2023-05-31T17:03:52.775Z"
   },
   {
    "duration": 3417,
    "start_time": "2023-06-01T17:35:34.861Z"
   },
   {
    "duration": 2285,
    "start_time": "2023-06-01T17:35:38.280Z"
   },
   {
    "duration": 100,
    "start_time": "2023-06-01T17:35:40.567Z"
   },
   {
    "duration": 690,
    "start_time": "2023-06-01T17:35:40.669Z"
   },
   {
    "duration": 6621,
    "start_time": "2023-06-01T17:35:41.363Z"
   },
   {
    "duration": 671,
    "start_time": "2023-06-01T17:35:47.986Z"
   },
   {
    "duration": 604,
    "start_time": "2023-06-01T17:35:48.659Z"
   },
   {
    "duration": 795,
    "start_time": "2023-06-01T17:35:49.266Z"
   },
   {
    "duration": 601,
    "start_time": "2023-06-01T17:35:50.063Z"
   },
   {
    "duration": 12,
    "start_time": "2023-06-01T17:35:50.666Z"
   },
   {
    "duration": 211,
    "start_time": "2023-06-01T17:35:50.680Z"
   },
   {
    "duration": 902,
    "start_time": "2023-06-01T17:35:50.894Z"
   },
   {
    "duration": 383,
    "start_time": "2023-06-01T17:35:51.798Z"
   },
   {
    "duration": 12,
    "start_time": "2023-06-01T17:35:52.184Z"
   },
   {
    "duration": 298,
    "start_time": "2023-06-01T17:35:52.198Z"
   },
   {
    "duration": 272,
    "start_time": "2023-06-01T17:35:52.498Z"
   },
   {
    "duration": 713,
    "start_time": "2023-06-01T17:35:52.772Z"
   },
   {
    "duration": 782,
    "start_time": "2023-06-01T17:35:53.487Z"
   },
   {
    "duration": 814,
    "start_time": "2023-06-01T17:35:54.271Z"
   },
   {
    "duration": 281,
    "start_time": "2023-06-01T17:35:55.087Z"
   },
   {
    "duration": 2629,
    "start_time": "2023-06-01T17:35:55.371Z"
   },
   {
    "duration": 762,
    "start_time": "2023-06-01T17:35:58.002Z"
   },
   {
    "duration": 92,
    "start_time": "2023-06-01T17:35:58.767Z"
   },
   {
    "duration": 4,
    "start_time": "2023-06-01T17:35:58.861Z"
   },
   {
    "duration": 4,
    "start_time": "2023-06-01T17:35:58.867Z"
   },
   {
    "duration": 34491,
    "start_time": "2023-06-01T17:35:58.873Z"
   },
   {
    "duration": 600,
    "start_time": "2023-06-01T17:36:33.366Z"
   },
   {
    "duration": 417891,
    "start_time": "2023-06-01T17:36:33.970Z"
   },
   {
    "duration": 314408,
    "start_time": "2023-06-01T17:43:31.863Z"
   },
   {
    "duration": 171205,
    "start_time": "2023-06-01T17:48:46.359Z"
   },
   {
    "duration": 694,
    "start_time": "2023-06-01T17:51:37.566Z"
   },
   {
    "duration": 106,
    "start_time": "2023-06-01T17:51:38.264Z"
   },
   {
    "duration": 87,
    "start_time": "2023-06-01T17:51:38.371Z"
   },
   {
    "duration": 354305,
    "start_time": "2023-06-01T17:51:38.460Z"
   },
   {
    "duration": 194,
    "start_time": "2023-06-01T17:57:32.771Z"
   },
   {
    "duration": 96,
    "start_time": "2023-06-01T17:57:32.967Z"
   },
   {
    "duration": 0,
    "start_time": "2023-06-01T17:57:33.067Z"
   },
   {
    "duration": 0,
    "start_time": "2023-06-01T17:57:33.068Z"
   },
   {
    "duration": 0,
    "start_time": "2023-06-01T17:57:33.069Z"
   },
   {
    "duration": 0,
    "start_time": "2023-06-01T17:57:33.073Z"
   },
   {
    "duration": 0,
    "start_time": "2023-06-01T17:57:33.075Z"
   },
   {
    "duration": 0,
    "start_time": "2023-06-01T17:57:33.156Z"
   },
   {
    "duration": 0,
    "start_time": "2023-06-01T17:57:33.158Z"
   },
   {
    "duration": 0,
    "start_time": "2023-06-01T17:57:33.159Z"
   },
   {
    "duration": 0,
    "start_time": "2023-06-01T17:57:33.162Z"
   },
   {
    "duration": 0,
    "start_time": "2023-06-01T17:57:33.163Z"
   },
   {
    "duration": 0,
    "start_time": "2023-06-01T17:57:33.167Z"
   },
   {
    "duration": 0,
    "start_time": "2023-06-01T17:57:33.169Z"
   },
   {
    "duration": 0,
    "start_time": "2023-06-01T17:57:33.173Z"
   },
   {
    "duration": 0,
    "start_time": "2023-06-01T17:57:33.174Z"
   },
   {
    "duration": 0,
    "start_time": "2023-06-01T17:57:33.175Z"
   },
   {
    "duration": 2772,
    "start_time": "2023-06-06T16:07:56.271Z"
   },
   {
    "duration": 0,
    "start_time": "2023-06-06T16:07:59.045Z"
   },
   {
    "duration": 0,
    "start_time": "2023-06-06T16:07:59.046Z"
   },
   {
    "duration": 0,
    "start_time": "2023-06-06T16:07:59.047Z"
   },
   {
    "duration": 0,
    "start_time": "2023-06-06T16:07:59.048Z"
   },
   {
    "duration": 0,
    "start_time": "2023-06-06T16:07:59.049Z"
   },
   {
    "duration": 0,
    "start_time": "2023-06-06T16:07:59.050Z"
   },
   {
    "duration": 0,
    "start_time": "2023-06-06T16:07:59.052Z"
   },
   {
    "duration": 0,
    "start_time": "2023-06-06T16:07:59.053Z"
   },
   {
    "duration": 0,
    "start_time": "2023-06-06T16:07:59.054Z"
   },
   {
    "duration": 0,
    "start_time": "2023-06-06T16:07:59.054Z"
   },
   {
    "duration": 0,
    "start_time": "2023-06-06T16:07:59.055Z"
   },
   {
    "duration": 0,
    "start_time": "2023-06-06T16:07:59.056Z"
   },
   {
    "duration": 0,
    "start_time": "2023-06-06T16:07:59.057Z"
   },
   {
    "duration": 0,
    "start_time": "2023-06-06T16:07:59.058Z"
   },
   {
    "duration": 0,
    "start_time": "2023-06-06T16:07:59.064Z"
   },
   {
    "duration": 0,
    "start_time": "2023-06-06T16:07:59.065Z"
   },
   {
    "duration": 0,
    "start_time": "2023-06-06T16:07:59.067Z"
   },
   {
    "duration": 0,
    "start_time": "2023-06-06T16:07:59.068Z"
   },
   {
    "duration": 0,
    "start_time": "2023-06-06T16:07:59.069Z"
   },
   {
    "duration": 0,
    "start_time": "2023-06-06T16:07:59.070Z"
   },
   {
    "duration": 0,
    "start_time": "2023-06-06T16:07:59.071Z"
   },
   {
    "duration": 0,
    "start_time": "2023-06-06T16:07:59.113Z"
   },
   {
    "duration": 0,
    "start_time": "2023-06-06T16:07:59.115Z"
   },
   {
    "duration": 0,
    "start_time": "2023-06-06T16:07:59.116Z"
   },
   {
    "duration": 0,
    "start_time": "2023-06-06T16:07:59.117Z"
   },
   {
    "duration": 0,
    "start_time": "2023-06-06T16:07:59.118Z"
   },
   {
    "duration": 0,
    "start_time": "2023-06-06T16:07:59.119Z"
   },
   {
    "duration": 0,
    "start_time": "2023-06-06T16:07:59.120Z"
   },
   {
    "duration": 0,
    "start_time": "2023-06-06T16:07:59.121Z"
   },
   {
    "duration": 0,
    "start_time": "2023-06-06T16:07:59.122Z"
   },
   {
    "duration": 0,
    "start_time": "2023-06-06T16:07:59.125Z"
   },
   {
    "duration": 0,
    "start_time": "2023-06-06T16:07:59.126Z"
   },
   {
    "duration": 0,
    "start_time": "2023-06-06T16:07:59.128Z"
   },
   {
    "duration": 0,
    "start_time": "2023-06-06T16:07:59.129Z"
   },
   {
    "duration": 0,
    "start_time": "2023-06-06T16:07:59.132Z"
   },
   {
    "duration": 0,
    "start_time": "2023-06-06T16:07:59.133Z"
   },
   {
    "duration": 0,
    "start_time": "2023-06-06T16:07:59.134Z"
   },
   {
    "duration": 0,
    "start_time": "2023-06-06T16:07:59.135Z"
   },
   {
    "duration": 0,
    "start_time": "2023-06-06T16:07:59.136Z"
   },
   {
    "duration": 0,
    "start_time": "2023-06-06T16:07:59.137Z"
   },
   {
    "duration": 0,
    "start_time": "2023-06-06T16:07:59.138Z"
   },
   {
    "duration": 0,
    "start_time": "2023-06-06T16:07:59.139Z"
   },
   {
    "duration": 0,
    "start_time": "2023-06-06T16:07:59.140Z"
   },
   {
    "duration": 0,
    "start_time": "2023-06-06T16:07:59.142Z"
   },
   {
    "duration": 0,
    "start_time": "2023-06-06T16:07:59.145Z"
   },
   {
    "duration": 0,
    "start_time": "2023-06-06T16:07:59.146Z"
   },
   {
    "duration": 0,
    "start_time": "2023-06-06T16:07:59.146Z"
   },
   {
    "duration": 0,
    "start_time": "2023-06-06T16:07:59.148Z"
   },
   {
    "duration": 0,
    "start_time": "2023-06-06T16:07:59.148Z"
   },
   {
    "duration": 3067,
    "start_time": "2023-06-06T16:10:12.725Z"
   },
   {
    "duration": 264,
    "start_time": "2023-06-06T16:15:27.307Z"
   },
   {
    "duration": 1023,
    "start_time": "2023-06-06T16:15:29.051Z"
   },
   {
    "duration": 25,
    "start_time": "2023-06-06T16:15:31.799Z"
   },
   {
    "duration": 129,
    "start_time": "2023-06-06T16:15:33.300Z"
   },
   {
    "duration": 2116,
    "start_time": "2023-06-06T16:15:36.358Z"
   },
   {
    "duration": 319,
    "start_time": "2023-06-06T16:15:41.030Z"
   },
   {
    "duration": 2087,
    "start_time": "2023-06-06T16:15:47.288Z"
   },
   {
    "duration": 2953,
    "start_time": "2023-06-06T16:15:49.377Z"
   },
   {
    "duration": 1113,
    "start_time": "2023-06-06T16:15:52.334Z"
   },
   {
    "duration": 19,
    "start_time": "2023-06-06T16:15:53.449Z"
   },
   {
    "duration": 130,
    "start_time": "2023-06-06T16:15:53.470Z"
   },
   {
    "duration": 2141,
    "start_time": "2023-06-06T16:15:53.601Z"
   },
   {
    "duration": 280,
    "start_time": "2023-06-06T16:15:55.743Z"
   },
   {
    "duration": 318,
    "start_time": "2023-06-06T16:15:56.024Z"
   },
   {
    "duration": 263,
    "start_time": "2023-06-06T16:15:56.343Z"
   },
   {
    "duration": 285,
    "start_time": "2023-06-06T16:15:56.608Z"
   },
   {
    "duration": 32,
    "start_time": "2023-06-06T16:15:56.895Z"
   },
   {
    "duration": 91,
    "start_time": "2023-06-06T16:15:56.932Z"
   },
   {
    "duration": 307,
    "start_time": "2023-06-06T16:15:57.025Z"
   },
   {
    "duration": 147,
    "start_time": "2023-06-06T16:15:57.335Z"
   },
   {
    "duration": 11,
    "start_time": "2023-06-06T16:15:57.483Z"
   },
   {
    "duration": 143,
    "start_time": "2023-06-06T16:15:57.496Z"
   },
   {
    "duration": 74,
    "start_time": "2023-06-06T16:15:57.641Z"
   },
   {
    "duration": 307,
    "start_time": "2023-06-06T16:15:57.717Z"
   },
   {
    "duration": 328,
    "start_time": "2023-06-06T16:15:58.029Z"
   },
   {
    "duration": 254,
    "start_time": "2023-06-06T16:15:58.359Z"
   },
   {
    "duration": 132,
    "start_time": "2023-06-06T16:15:58.615Z"
   },
   {
    "duration": 1851,
    "start_time": "2023-06-06T16:15:58.749Z"
   },
   {
    "duration": 91,
    "start_time": "2023-06-06T16:16:00.602Z"
   },
   {
    "duration": 16,
    "start_time": "2023-06-06T16:16:00.694Z"
   },
   {
    "duration": 59,
    "start_time": "2023-06-06T16:16:00.712Z"
   },
   {
    "duration": 115,
    "start_time": "2023-06-06T16:16:00.773Z"
   },
   {
    "duration": 40,
    "start_time": "2023-06-06T16:16:00.889Z"
   },
   {
    "duration": 64015,
    "start_time": "2023-06-06T16:16:00.931Z"
   },
   {
    "duration": 51155,
    "start_time": "2023-06-06T16:17:04.947Z"
   },
   {
    "duration": 23606,
    "start_time": "2023-06-06T16:17:56.109Z"
   },
   {
    "duration": 98,
    "start_time": "2023-06-06T16:18:19.721Z"
   },
   {
    "duration": 6,
    "start_time": "2023-06-06T16:18:19.824Z"
   },
   {
    "duration": 6,
    "start_time": "2023-06-06T16:18:19.832Z"
   },
   {
    "duration": 115901,
    "start_time": "2023-06-06T16:18:19.839Z"
   },
   {
    "duration": 767,
    "start_time": "2023-06-06T16:20:15.742Z"
   },
   {
    "duration": 13,
    "start_time": "2023-06-06T16:20:16.510Z"
   },
   {
    "duration": 6704,
    "start_time": "2023-06-06T16:20:16.525Z"
   },
   {
    "duration": 117,
    "start_time": "2023-06-06T16:20:23.307Z"
   },
   {
    "duration": 93,
    "start_time": "2023-06-06T16:20:23.426Z"
   },
   {
    "duration": 80,
    "start_time": "2023-06-06T16:20:23.528Z"
   },
   {
    "duration": 30,
    "start_time": "2023-06-06T16:20:23.619Z"
   },
   {
    "duration": 66,
    "start_time": "2023-06-06T16:20:23.651Z"
   },
   {
    "duration": 5,
    "start_time": "2023-06-06T16:20:23.719Z"
   },
   {
    "duration": 24060,
    "start_time": "2023-06-06T16:20:23.729Z"
   },
   {
    "duration": 94,
    "start_time": "2023-06-06T16:20:47.791Z"
   },
   {
    "duration": 4,
    "start_time": "2023-06-06T16:20:47.887Z"
   },
   {
    "duration": 30,
    "start_time": "2023-06-06T16:20:47.892Z"
   },
   {
    "duration": 148103,
    "start_time": "2023-06-06T16:20:47.928Z"
   },
   {
    "duration": 771,
    "start_time": "2023-06-06T16:23:16.034Z"
   },
   {
    "duration": 5,
    "start_time": "2023-06-06T16:23:16.807Z"
   },
   {
    "duration": 12,
    "start_time": "2023-06-06T16:23:16.814Z"
   },
   {
    "duration": 2586,
    "start_time": "2023-06-07T03:11:45.476Z"
   },
   {
    "duration": 1199,
    "start_time": "2023-06-07T03:11:49.437Z"
   },
   {
    "duration": 912,
    "start_time": "2023-06-07T03:11:51.983Z"
   },
   {
    "duration": 16,
    "start_time": "2023-06-07T03:11:54.293Z"
   },
   {
    "duration": 95,
    "start_time": "2023-06-07T03:11:54.913Z"
   },
   {
    "duration": 1923,
    "start_time": "2023-06-07T03:11:56.975Z"
   },
   {
    "duration": 250,
    "start_time": "2023-06-07T03:11:58.900Z"
   },
   {
    "duration": 248,
    "start_time": "2023-06-07T03:12:01.706Z"
   },
   {
    "duration": 198,
    "start_time": "2023-06-07T03:12:02.585Z"
   },
   {
    "duration": 211,
    "start_time": "2023-06-07T03:12:03.043Z"
   },
   {
    "duration": 9,
    "start_time": "2023-06-07T03:12:04.525Z"
   },
   {
    "duration": 87,
    "start_time": "2023-06-07T03:12:05.876Z"
   },
   {
    "duration": 238,
    "start_time": "2023-06-07T03:12:06.973Z"
   },
   {
    "duration": 125,
    "start_time": "2023-06-07T03:12:07.224Z"
   },
   {
    "duration": 11,
    "start_time": "2023-06-07T03:12:07.485Z"
   },
   {
    "duration": 101,
    "start_time": "2023-06-07T03:12:08.760Z"
   },
   {
    "duration": 54,
    "start_time": "2023-06-07T03:12:09.636Z"
   },
   {
    "duration": 308,
    "start_time": "2023-06-07T03:12:10.530Z"
   },
   {
    "duration": 193,
    "start_time": "2023-06-07T03:12:11.999Z"
   },
   {
    "duration": 191,
    "start_time": "2023-06-07T03:12:13.235Z"
   },
   {
    "duration": 108,
    "start_time": "2023-06-07T03:12:14.982Z"
   },
   {
    "duration": 64,
    "start_time": "2023-06-07T03:12:19.918Z"
   },
   {
    "duration": 109,
    "start_time": "2023-06-07T03:12:20.990Z"
   },
   {
    "duration": 1440,
    "start_time": "2023-06-07T03:13:44.322Z"
   },
   {
    "duration": 3,
    "start_time": "2023-06-07T03:13:52.401Z"
   },
   {
    "duration": 2,
    "start_time": "2023-06-07T03:13:55.898Z"
   },
   {
    "duration": 113,
    "start_time": "2023-06-07T03:13:57.304Z"
   },
   {
    "duration": 1241,
    "start_time": "2023-06-07T03:14:16.834Z"
   },
   {
    "duration": 2,
    "start_time": "2023-06-07T03:14:21.793Z"
   },
   {
    "duration": 2,
    "start_time": "2023-06-07T03:14:25.095Z"
   },
   {
    "duration": 99,
    "start_time": "2023-06-07T03:14:25.927Z"
   },
   {
    "duration": 13,
    "start_time": "2023-06-07T03:14:27.539Z"
   },
   {
    "duration": 55078,
    "start_time": "2023-06-07T03:14:30.110Z"
   },
   {
    "duration": 42056,
    "start_time": "2023-06-07T03:26:50.577Z"
   },
   {
    "duration": 19543,
    "start_time": "2023-06-07T03:28:45.871Z"
   },
   {
    "duration": 103,
    "start_time": "2023-06-07T03:29:27.212Z"
   },
   {
    "duration": 4,
    "start_time": "2023-06-07T03:29:28.271Z"
   },
   {
    "duration": 3,
    "start_time": "2023-06-07T03:29:29.398Z"
   },
   {
    "duration": 96,
    "start_time": "2023-06-07T03:29:31.707Z"
   },
   {
    "duration": 31,
    "start_time": "2023-06-07T03:31:12.711Z"
   },
   {
    "duration": 863,
    "start_time": "2023-06-07T03:31:13.671Z"
   },
   {
    "duration": 45,
    "start_time": "2023-06-07T03:31:33.746Z"
   },
   {
    "duration": 3,
    "start_time": "2023-06-07T03:31:42.057Z"
   },
   {
    "duration": 4155,
    "start_time": "2023-06-07T03:31:42.771Z"
   },
   {
    "duration": 666,
    "start_time": "2023-06-07T03:31:47.656Z"
   },
   {
    "duration": 4,
    "start_time": "2023-06-07T03:31:51.278Z"
   },
   {
    "duration": 5015,
    "start_time": "2023-06-07T03:31:52.910Z"
   },
   {
    "duration": 36,
    "start_time": "2023-06-07T03:32:07.230Z"
   },
   {
    "duration": 8,
    "start_time": "2023-06-07T03:32:09.909Z"
   },
   {
    "duration": 3,
    "start_time": "2023-06-07T03:32:10.471Z"
   },
   {
    "duration": 17,
    "start_time": "2023-06-07T03:32:11.451Z"
   },
   {
    "duration": 9,
    "start_time": "2023-06-07T03:32:11.916Z"
   },
   {
    "duration": 3,
    "start_time": "2023-06-07T03:32:12.393Z"
   },
   {
    "duration": 19682,
    "start_time": "2023-06-07T03:32:13.498Z"
   },
   {
    "duration": 68,
    "start_time": "2023-06-07T03:32:33.181Z"
   },
   {
    "duration": 3,
    "start_time": "2023-06-07T03:32:33.250Z"
   },
   {
    "duration": 7,
    "start_time": "2023-06-07T03:32:33.254Z"
   },
   {
    "duration": 4062,
    "start_time": "2023-06-07T03:32:33.262Z"
   },
   {
    "duration": 794,
    "start_time": "2023-06-07T03:32:37.326Z"
   },
   {
    "duration": 3,
    "start_time": "2023-06-07T03:32:38.121Z"
   },
   {
    "duration": 14,
    "start_time": "2023-06-07T03:32:38.125Z"
   },
   {
    "duration": 87,
    "start_time": "2023-06-07T03:33:25.458Z"
   }
  ],
  "kernelspec": {
   "display_name": "Python 3 (ipykernel)",
   "language": "python",
   "name": "python3"
  },
  "language_info": {
   "codemirror_mode": {
    "name": "ipython",
    "version": 3
   },
   "file_extension": ".py",
   "mimetype": "text/x-python",
   "name": "python",
   "nbconvert_exporter": "python",
   "pygments_lexer": "ipython3",
   "version": "3.9.13"
  },
  "toc": {
   "base_numbering": 1,
   "nav_menu": {},
   "number_sections": true,
   "sideBar": true,
   "skip_h1_title": true,
   "title_cell": "Table of Contents",
   "title_sidebar": "Contents",
   "toc_cell": false,
   "toc_position": {
    "height": "calc(100% - 180px)",
    "left": "10px",
    "top": "150px",
    "width": "371px"
   },
   "toc_section_display": true,
   "toc_window_display": true
  }
 },
 "nbformat": 4,
 "nbformat_minor": 2
}
