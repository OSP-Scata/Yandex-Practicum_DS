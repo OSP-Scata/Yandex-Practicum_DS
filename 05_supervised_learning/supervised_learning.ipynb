{
 "cells": [
  {
   "cell_type": "markdown",
   "metadata": {
    "toc": true
   },
   "source": [
    "<h1>Содержание<span class=\"tocSkip\"></span></h1>\n",
    "<div class=\"toc\"><ul class=\"toc-item\"><li><span><a href=\"#Подготовка-данных\" data-toc-modified-id=\"Подготовка-данных-1\"><span class=\"toc-item-num\">1&nbsp;&nbsp;</span>Подготовка данных</a></span></li><li><span><a href=\"#Исследование-задачи\" data-toc-modified-id=\"Исследование-задачи-2\"><span class=\"toc-item-num\">2&nbsp;&nbsp;</span>Исследование задачи</a></span></li><li><span><a href=\"#Борьба-с-дисбалансом\" data-toc-modified-id=\"Борьба-с-дисбалансом-3\"><span class=\"toc-item-num\">3&nbsp;&nbsp;</span>Борьба с дисбалансом</a></span></li><li><span><a href=\"#Тестирование-модели\" data-toc-modified-id=\"Тестирование-модели-4\"><span class=\"toc-item-num\">4&nbsp;&nbsp;</span>Тестирование модели</a></span></li><li><span><a href=\"#Чек-лист-готовности-проекта\" data-toc-modified-id=\"Чек-лист-готовности-проекта-5\"><span class=\"toc-item-num\">5&nbsp;&nbsp;</span>Чек-лист готовности проекта</a></span></li></ul></div>"
   ]
  },
  {
   "cell_type": "markdown",
   "metadata": {},
   "source": [
    "# Отток клиентов"
   ]
  },
  {
   "cell_type": "markdown",
   "metadata": {},
   "source": [
    "Из «Бета-Банка» стали уходить клиенты. Каждый месяц. Немного, но заметно. Банковские маркетологи посчитали: сохранять текущих клиентов дешевле, чем привлекать новых.\n",
    "\n",
    "Нужно спрогнозировать, уйдёт клиент из банка в ближайшее время или нет. Вам предоставлены исторические данные о поведении клиентов и расторжении договоров с банком. \n",
    "\n",
    "Постройте модель с предельно большим значением *F1*-меры. Чтобы сдать проект успешно, нужно довести метрику до 0.59. Проверьте *F1*-меру на тестовой выборке самостоятельно.\n",
    "\n",
    "Дополнительно измеряйте *AUC-ROC*, сравнивайте её значение с *F1*-мерой.\n",
    "\n",
    "Источник данных: [https://www.kaggle.com/barelydedicated/bank-customer-churn-modeling](https://www.kaggle.com/barelydedicated/bank-customer-churn-modeling)"
   ]
  },
  {
   "cell_type": "markdown",
   "metadata": {},
   "source": [
    "## Подготовка данных"
   ]
  },
  {
   "cell_type": "markdown",
   "metadata": {},
   "source": [
    "Импортируем библиотеки, открываем и изучаем файл."
   ]
  },
  {
   "cell_type": "code",
   "execution_count": 1,
   "metadata": {},
   "outputs": [],
   "source": [
    "# Чтобы не забыть, какая библиотека для чего:\n",
    "\n",
    "# основная Pandas\n",
    "import pandas as pd\n",
    "# графики\n",
    "import matplotlib.pyplot as plt\n",
    "# деление выборки\n",
    "from sklearn.model_selection import train_test_split\n",
    "# решающее дерево\n",
    "from sklearn.tree import DecisionTreeClassifier\n",
    "#  случайный лес\n",
    "from sklearn.ensemble import RandomForestClassifier\n",
    "# линейная регрессия\n",
    "from sklearn.linear_model import LogisticRegression\n",
    "# масштабирование\n",
    "from sklearn.preprocessing import StandardScaler\n",
    "# оценка аккуратности\n",
    "from sklearn.metrics import accuracy_score\n",
    "# матрица ошибок\n",
    "from sklearn.metrics import confusion_matrix\n",
    "# полнота\n",
    "from sklearn.metrics import recall_score\n",
    "# точность\n",
    "from sklearn.metrics import precision_score\n",
    "# метрика F1\n",
    "from sklearn.metrics import f1_score\n",
    "# ROC-AUC\n",
    "from sklearn.metrics import roc_auc_score\n",
    "# ROC-кривая\n",
    "from sklearn.metrics import roc_curve\n",
    "# перемешивание\n",
    "from sklearn.utils import shuffle"
   ]
  },
  {
   "cell_type": "code",
   "execution_count": 2,
   "metadata": {},
   "outputs": [],
   "source": [
    "# открытие файла - локальное или на платформе\n",
    "try:\n",
    "    data = pd.read_csv('Churn.csv')\n",
    "except:\n",
    "    data = pd.read_csv('/datasets/Churn.csv')"
   ]
  },
  {
   "cell_type": "code",
   "execution_count": 3,
   "metadata": {},
   "outputs": [
    {
     "data": {
      "text/html": [
       "<div>\n",
       "<style scoped>\n",
       "    .dataframe tbody tr th:only-of-type {\n",
       "        vertical-align: middle;\n",
       "    }\n",
       "\n",
       "    .dataframe tbody tr th {\n",
       "        vertical-align: top;\n",
       "    }\n",
       "\n",
       "    .dataframe thead th {\n",
       "        text-align: right;\n",
       "    }\n",
       "</style>\n",
       "<table border=\"1\" class=\"dataframe\">\n",
       "  <thead>\n",
       "    <tr style=\"text-align: right;\">\n",
       "      <th></th>\n",
       "      <th>RowNumber</th>\n",
       "      <th>CustomerId</th>\n",
       "      <th>Surname</th>\n",
       "      <th>CreditScore</th>\n",
       "      <th>Geography</th>\n",
       "      <th>Gender</th>\n",
       "      <th>Age</th>\n",
       "      <th>Tenure</th>\n",
       "      <th>Balance</th>\n",
       "      <th>NumOfProducts</th>\n",
       "      <th>HasCrCard</th>\n",
       "      <th>IsActiveMember</th>\n",
       "      <th>EstimatedSalary</th>\n",
       "      <th>Exited</th>\n",
       "    </tr>\n",
       "  </thead>\n",
       "  <tbody>\n",
       "    <tr>\n",
       "      <th>0</th>\n",
       "      <td>1</td>\n",
       "      <td>15634602</td>\n",
       "      <td>Hargrave</td>\n",
       "      <td>619</td>\n",
       "      <td>France</td>\n",
       "      <td>Female</td>\n",
       "      <td>42</td>\n",
       "      <td>2.0</td>\n",
       "      <td>0.00</td>\n",
       "      <td>1</td>\n",
       "      <td>1</td>\n",
       "      <td>1</td>\n",
       "      <td>101348.88</td>\n",
       "      <td>1</td>\n",
       "    </tr>\n",
       "    <tr>\n",
       "      <th>1</th>\n",
       "      <td>2</td>\n",
       "      <td>15647311</td>\n",
       "      <td>Hill</td>\n",
       "      <td>608</td>\n",
       "      <td>Spain</td>\n",
       "      <td>Female</td>\n",
       "      <td>41</td>\n",
       "      <td>1.0</td>\n",
       "      <td>83807.86</td>\n",
       "      <td>1</td>\n",
       "      <td>0</td>\n",
       "      <td>1</td>\n",
       "      <td>112542.58</td>\n",
       "      <td>0</td>\n",
       "    </tr>\n",
       "    <tr>\n",
       "      <th>2</th>\n",
       "      <td>3</td>\n",
       "      <td>15619304</td>\n",
       "      <td>Onio</td>\n",
       "      <td>502</td>\n",
       "      <td>France</td>\n",
       "      <td>Female</td>\n",
       "      <td>42</td>\n",
       "      <td>8.0</td>\n",
       "      <td>159660.80</td>\n",
       "      <td>3</td>\n",
       "      <td>1</td>\n",
       "      <td>0</td>\n",
       "      <td>113931.57</td>\n",
       "      <td>1</td>\n",
       "    </tr>\n",
       "    <tr>\n",
       "      <th>3</th>\n",
       "      <td>4</td>\n",
       "      <td>15701354</td>\n",
       "      <td>Boni</td>\n",
       "      <td>699</td>\n",
       "      <td>France</td>\n",
       "      <td>Female</td>\n",
       "      <td>39</td>\n",
       "      <td>1.0</td>\n",
       "      <td>0.00</td>\n",
       "      <td>2</td>\n",
       "      <td>0</td>\n",
       "      <td>0</td>\n",
       "      <td>93826.63</td>\n",
       "      <td>0</td>\n",
       "    </tr>\n",
       "    <tr>\n",
       "      <th>4</th>\n",
       "      <td>5</td>\n",
       "      <td>15737888</td>\n",
       "      <td>Mitchell</td>\n",
       "      <td>850</td>\n",
       "      <td>Spain</td>\n",
       "      <td>Female</td>\n",
       "      <td>43</td>\n",
       "      <td>2.0</td>\n",
       "      <td>125510.82</td>\n",
       "      <td>1</td>\n",
       "      <td>1</td>\n",
       "      <td>1</td>\n",
       "      <td>79084.10</td>\n",
       "      <td>0</td>\n",
       "    </tr>\n",
       "  </tbody>\n",
       "</table>\n",
       "</div>"
      ],
      "text/plain": [
       "   RowNumber  CustomerId   Surname  CreditScore Geography  Gender  Age  \\\n",
       "0          1    15634602  Hargrave          619    France  Female   42   \n",
       "1          2    15647311      Hill          608     Spain  Female   41   \n",
       "2          3    15619304      Onio          502    France  Female   42   \n",
       "3          4    15701354      Boni          699    France  Female   39   \n",
       "4          5    15737888  Mitchell          850     Spain  Female   43   \n",
       "\n",
       "   Tenure    Balance  NumOfProducts  HasCrCard  IsActiveMember  \\\n",
       "0     2.0       0.00              1          1               1   \n",
       "1     1.0   83807.86              1          0               1   \n",
       "2     8.0  159660.80              3          1               0   \n",
       "3     1.0       0.00              2          0               0   \n",
       "4     2.0  125510.82              1          1               1   \n",
       "\n",
       "   EstimatedSalary  Exited  \n",
       "0        101348.88       1  \n",
       "1        112542.58       0  \n",
       "2        113931.57       1  \n",
       "3         93826.63       0  \n",
       "4         79084.10       0  "
      ]
     },
     "execution_count": 3,
     "metadata": {},
     "output_type": "execute_result"
    }
   ],
   "source": [
    "data.head()"
   ]
  },
  {
   "cell_type": "markdown",
   "metadata": {},
   "source": [
    "Столбцы датасета:\n",
    "* `RowNumber` — индекс строки в данных\n",
    "* `CustomerId` — уникальный идентификатор клиента\n",
    "* `Surname` — фамилия\n",
    "* `CreditScore` — кредитный рейтинг\n",
    "* `Geography` — страна проживания\n",
    "* `Gender` — пол\n",
    "* `Age` — возраст\n",
    "* `Tenure` — сколько лет человек является клиентом банка\n",
    "* `Balance` — баланс на счёте\n",
    "* `NumOfProducts` — количество продуктов банка, используемых клиентом\n",
    "* `HasCrCard` — наличие кредитной карты\n",
    "* `IsActiveMember` — активность клиента\n",
    "* `EstimatedSalary` — предполагаемая зарплата\n",
    "* `Exited` — факт ухода клиента\n",
    "\n",
    "Из этого `Exited` - целевой признак, который модель должна прогнозировать, а всё остальное - признаки, по которым предсказывается значение целевого. Это категориальный признак, а следовательно, перед нами задача классификации. Поскольку в наборе данных есть явно заданный целевой признак - работаем методом обучения с учителем."
   ]
  },
  {
   "cell_type": "code",
   "execution_count": 4,
   "metadata": {},
   "outputs": [
    {
     "name": "stdout",
     "output_type": "stream",
     "text": [
      "<class 'pandas.core.frame.DataFrame'>\n",
      "RangeIndex: 10000 entries, 0 to 9999\n",
      "Data columns (total 14 columns):\n",
      " #   Column           Non-Null Count  Dtype  \n",
      "---  ------           --------------  -----  \n",
      " 0   RowNumber        10000 non-null  int64  \n",
      " 1   CustomerId       10000 non-null  int64  \n",
      " 2   Surname          10000 non-null  object \n",
      " 3   CreditScore      10000 non-null  int64  \n",
      " 4   Geography        10000 non-null  object \n",
      " 5   Gender           10000 non-null  object \n",
      " 6   Age              10000 non-null  int64  \n",
      " 7   Tenure           9091 non-null   float64\n",
      " 8   Balance          10000 non-null  float64\n",
      " 9   NumOfProducts    10000 non-null  int64  \n",
      " 10  HasCrCard        10000 non-null  int64  \n",
      " 11  IsActiveMember   10000 non-null  int64  \n",
      " 12  EstimatedSalary  10000 non-null  float64\n",
      " 13  Exited           10000 non-null  int64  \n",
      "dtypes: float64(3), int64(8), object(3)\n",
      "memory usage: 1.1+ MB\n"
     ]
    }
   ],
   "source": [
    "data.info()"
   ]
  },
  {
   "cell_type": "markdown",
   "metadata": {},
   "source": [
    "Есть некоторое количество пропусков в столбце `Tenure`, надо изучить его детальнее."
   ]
  },
  {
   "cell_type": "code",
   "execution_count": 5,
   "metadata": {},
   "outputs": [
    {
     "data": {
      "text/plain": [
       "array([ 2.,  1.,  8.,  7.,  4.,  6.,  3., 10.,  5.,  9.,  0., nan])"
      ]
     },
     "execution_count": 5,
     "metadata": {},
     "output_type": "execute_result"
    }
   ],
   "source": [
    "data['Tenure'].unique()"
   ]
  },
  {
   "cell_type": "markdown",
   "metadata": {},
   "source": [
    "Также изучаем признаки, которые можно перевести в числа с помощью техники ОНЕ."
   ]
  },
  {
   "cell_type": "code",
   "execution_count": 6,
   "metadata": {},
   "outputs": [
    {
     "data": {
      "text/plain": [
       "array(['Hargrave', 'Hill', 'Onio', ..., 'Kashiwagi', 'Aldridge',\n",
       "       'Burbidge'], dtype=object)"
      ]
     },
     "execution_count": 6,
     "metadata": {},
     "output_type": "execute_result"
    }
   ],
   "source": [
    "data['Surname'].unique()"
   ]
  },
  {
   "cell_type": "code",
   "execution_count": 7,
   "metadata": {},
   "outputs": [
    {
     "data": {
      "text/plain": [
       "Smith        32\n",
       "Scott        29\n",
       "Martin       29\n",
       "Walker       28\n",
       "Brown        26\n",
       "             ..\n",
       "Bair          1\n",
       "Blackall      1\n",
       "Keeley        1\n",
       "Ingrassia     1\n",
       "Luffman       1\n",
       "Name: Surname, Length: 2932, dtype: int64"
      ]
     },
     "execution_count": 7,
     "metadata": {},
     "output_type": "execute_result"
    }
   ],
   "source": [
    "data['Surname'].value_counts()"
   ]
  },
  {
   "cell_type": "code",
   "execution_count": 8,
   "metadata": {},
   "outputs": [
    {
     "data": {
      "text/plain": [
       "array(['France', 'Spain', 'Germany'], dtype=object)"
      ]
     },
     "execution_count": 8,
     "metadata": {},
     "output_type": "execute_result"
    }
   ],
   "source": [
    "data['Geography'].unique()"
   ]
  },
  {
   "cell_type": "code",
   "execution_count": 9,
   "metadata": {},
   "outputs": [
    {
     "data": {
      "text/plain": [
       "array(['Female', 'Male'], dtype=object)"
      ]
     },
     "execution_count": 9,
     "metadata": {},
     "output_type": "execute_result"
    }
   ],
   "source": [
    "data['Gender'].unique()"
   ]
  },
  {
   "cell_type": "markdown",
   "metadata": {},
   "source": [
    "А также изучаем целевой признак."
   ]
  },
  {
   "cell_type": "code",
   "execution_count": 10,
   "metadata": {},
   "outputs": [
    {
     "data": {
      "text/plain": [
       "array([1, 0])"
      ]
     },
     "execution_count": 10,
     "metadata": {},
     "output_type": "execute_result"
    }
   ],
   "source": [
    "data['Exited'].unique()"
   ]
  },
  {
   "cell_type": "markdown",
   "metadata": {},
   "source": [
    "Заполняем пропуски в столбце `Tenure` заглушкой -1 (т.к. 0 есть среди исходных значений)."
   ]
  },
  {
   "cell_type": "code",
   "execution_count": 11,
   "metadata": {},
   "outputs": [],
   "source": [
    "data['Tenure'] = data['Tenure'].fillna(-1)"
   ]
  },
  {
   "cell_type": "markdown",
   "metadata": {},
   "source": [
    "Изучаем дубликаты по столбцу `CustomerId` (уникальный номер клиента)."
   ]
  },
  {
   "cell_type": "code",
   "execution_count": 12,
   "metadata": {},
   "outputs": [
    {
     "data": {
      "text/plain": [
       "0"
      ]
     },
     "execution_count": 12,
     "metadata": {},
     "output_type": "execute_result"
    }
   ],
   "source": [
    "data['CustomerId'].duplicated().sum()"
   ]
  },
  {
   "cell_type": "markdown",
   "metadata": {},
   "source": [
    "Дубликатов нет, и больше столбец `CustomerId` в расчётах не понадобится, при этом он будет \"засорять\" обучающую выборку. Следовательно, его лучше удалить; также можно удалить столбцы `RowNumber` (дублирует функционал индексов строк, в расчётах не нужен) и `Surname` - к нему нецелесообразно применять ОНЕ из-за большого количества \"категорий\" (2932 уникальных значения)."
   ]
  },
  {
   "cell_type": "code",
   "execution_count": 13,
   "metadata": {},
   "outputs": [
    {
     "data": {
      "text/html": [
       "<div>\n",
       "<style scoped>\n",
       "    .dataframe tbody tr th:only-of-type {\n",
       "        vertical-align: middle;\n",
       "    }\n",
       "\n",
       "    .dataframe tbody tr th {\n",
       "        vertical-align: top;\n",
       "    }\n",
       "\n",
       "    .dataframe thead th {\n",
       "        text-align: right;\n",
       "    }\n",
       "</style>\n",
       "<table border=\"1\" class=\"dataframe\">\n",
       "  <thead>\n",
       "    <tr style=\"text-align: right;\">\n",
       "      <th></th>\n",
       "      <th>CreditScore</th>\n",
       "      <th>Age</th>\n",
       "      <th>Tenure</th>\n",
       "      <th>Balance</th>\n",
       "      <th>NumOfProducts</th>\n",
       "      <th>HasCrCard</th>\n",
       "      <th>IsActiveMember</th>\n",
       "      <th>EstimatedSalary</th>\n",
       "      <th>Exited</th>\n",
       "      <th>Geography_Germany</th>\n",
       "      <th>Geography_Spain</th>\n",
       "      <th>Gender_Male</th>\n",
       "    </tr>\n",
       "  </thead>\n",
       "  <tbody>\n",
       "    <tr>\n",
       "      <th>0</th>\n",
       "      <td>619</td>\n",
       "      <td>42</td>\n",
       "      <td>2.0</td>\n",
       "      <td>0.00</td>\n",
       "      <td>1</td>\n",
       "      <td>1</td>\n",
       "      <td>1</td>\n",
       "      <td>101348.88</td>\n",
       "      <td>1</td>\n",
       "      <td>0</td>\n",
       "      <td>0</td>\n",
       "      <td>0</td>\n",
       "    </tr>\n",
       "    <tr>\n",
       "      <th>1</th>\n",
       "      <td>608</td>\n",
       "      <td>41</td>\n",
       "      <td>1.0</td>\n",
       "      <td>83807.86</td>\n",
       "      <td>1</td>\n",
       "      <td>0</td>\n",
       "      <td>1</td>\n",
       "      <td>112542.58</td>\n",
       "      <td>0</td>\n",
       "      <td>0</td>\n",
       "      <td>1</td>\n",
       "      <td>0</td>\n",
       "    </tr>\n",
       "    <tr>\n",
       "      <th>2</th>\n",
       "      <td>502</td>\n",
       "      <td>42</td>\n",
       "      <td>8.0</td>\n",
       "      <td>159660.80</td>\n",
       "      <td>3</td>\n",
       "      <td>1</td>\n",
       "      <td>0</td>\n",
       "      <td>113931.57</td>\n",
       "      <td>1</td>\n",
       "      <td>0</td>\n",
       "      <td>0</td>\n",
       "      <td>0</td>\n",
       "    </tr>\n",
       "    <tr>\n",
       "      <th>3</th>\n",
       "      <td>699</td>\n",
       "      <td>39</td>\n",
       "      <td>1.0</td>\n",
       "      <td>0.00</td>\n",
       "      <td>2</td>\n",
       "      <td>0</td>\n",
       "      <td>0</td>\n",
       "      <td>93826.63</td>\n",
       "      <td>0</td>\n",
       "      <td>0</td>\n",
       "      <td>0</td>\n",
       "      <td>0</td>\n",
       "    </tr>\n",
       "    <tr>\n",
       "      <th>4</th>\n",
       "      <td>850</td>\n",
       "      <td>43</td>\n",
       "      <td>2.0</td>\n",
       "      <td>125510.82</td>\n",
       "      <td>1</td>\n",
       "      <td>1</td>\n",
       "      <td>1</td>\n",
       "      <td>79084.10</td>\n",
       "      <td>0</td>\n",
       "      <td>0</td>\n",
       "      <td>1</td>\n",
       "      <td>0</td>\n",
       "    </tr>\n",
       "  </tbody>\n",
       "</table>\n",
       "</div>"
      ],
      "text/plain": [
       "   CreditScore  Age  Tenure    Balance  NumOfProducts  HasCrCard  \\\n",
       "0          619   42     2.0       0.00              1          1   \n",
       "1          608   41     1.0   83807.86              1          0   \n",
       "2          502   42     8.0  159660.80              3          1   \n",
       "3          699   39     1.0       0.00              2          0   \n",
       "4          850   43     2.0  125510.82              1          1   \n",
       "\n",
       "   IsActiveMember  EstimatedSalary  Exited  Geography_Germany  \\\n",
       "0               1        101348.88       1                  0   \n",
       "1               1        112542.58       0                  0   \n",
       "2               0        113931.57       1                  0   \n",
       "3               0         93826.63       0                  0   \n",
       "4               1         79084.10       0                  0   \n",
       "\n",
       "   Geography_Spain  Gender_Male  \n",
       "0                0            0  \n",
       "1                1            0  \n",
       "2                0            0  \n",
       "3                0            0  \n",
       "4                1            0  "
      ]
     },
     "execution_count": 13,
     "metadata": {},
     "output_type": "execute_result"
    }
   ],
   "source": [
    "deleted = ['RowNumber', 'CustomerId', 'Surname']\n",
    "data_opt = data.drop(deleted, axis=1)\n",
    "data_opt = pd.get_dummies(data_opt, drop_first=True)\n",
    "data_opt.head()"
   ]
  },
  {
   "cell_type": "code",
   "execution_count": 14,
   "metadata": {
    "scrolled": true
   },
   "outputs": [
    {
     "name": "stdout",
     "output_type": "stream",
     "text": [
      "<class 'pandas.core.frame.DataFrame'>\n",
      "RangeIndex: 10000 entries, 0 to 9999\n",
      "Data columns (total 12 columns):\n",
      " #   Column             Non-Null Count  Dtype  \n",
      "---  ------             --------------  -----  \n",
      " 0   CreditScore        10000 non-null  int64  \n",
      " 1   Age                10000 non-null  int64  \n",
      " 2   Tenure             10000 non-null  float64\n",
      " 3   Balance            10000 non-null  float64\n",
      " 4   NumOfProducts      10000 non-null  int64  \n",
      " 5   HasCrCard          10000 non-null  int64  \n",
      " 6   IsActiveMember     10000 non-null  int64  \n",
      " 7   EstimatedSalary    10000 non-null  float64\n",
      " 8   Exited             10000 non-null  int64  \n",
      " 9   Geography_Germany  10000 non-null  uint8  \n",
      " 10  Geography_Spain    10000 non-null  uint8  \n",
      " 11  Gender_Male        10000 non-null  uint8  \n",
      "dtypes: float64(3), int64(6), uint8(3)\n",
      "memory usage: 732.5 KB\n"
     ]
    }
   ],
   "source": [
    "data_opt.info()"
   ]
  },
  {
   "cell_type": "markdown",
   "metadata": {},
   "source": [
    "Пропусков нет, мешающие столбцы удалены, строковые значения переведены в дамми-переменные (со сбросом первого). Можно превращать датасет в набор выборок для модели."
   ]
  },
  {
   "cell_type": "markdown",
   "metadata": {},
   "source": [
    "Делим исходный набор на выборки в соотношении 60%-20%-20%."
   ]
  },
  {
   "cell_type": "code",
   "execution_count": 15,
   "metadata": {},
   "outputs": [],
   "source": [
    "features = data_opt.drop('Exited', axis=1)\n",
    "target = data_opt['Exited']"
   ]
  },
  {
   "cell_type": "code",
   "execution_count": 16,
   "metadata": {},
   "outputs": [],
   "source": [
    "train_features, val_features, train_target, val_target = train_test_split(features, target,\n",
    "                                                    train_size=0.6,\n",
    "                                                    random_state=123, \n",
    "                                                    stratify=target)"
   ]
  },
  {
   "cell_type": "code",
   "execution_count": 17,
   "metadata": {},
   "outputs": [],
   "source": [
    "val_features, test_features, val_target, test_target = train_test_split(val_features, val_target,\n",
    "                                                    train_size=0.5,\n",
    "                                                    random_state=123, \n",
    "                                                    stratify=val_target)"
   ]
  },
  {
   "cell_type": "code",
   "execution_count": 18,
   "metadata": {},
   "outputs": [
    {
     "name": "stdout",
     "output_type": "stream",
     "text": [
      "Обучающая:\n",
      "(6000, 11)\n",
      "Валидационная:\n",
      "(2000, 11)\n",
      "Тестовая:\n",
      "(2000, 11)\n"
     ]
    }
   ],
   "source": [
    "print('Обучающая:', train_features.shape, 'Валидационная:', val_features.shape,\n",
    "      'Тестовая:', test_features.shape, sep='\\n')"
   ]
  },
  {
   "cell_type": "code",
   "execution_count": 19,
   "metadata": {
    "scrolled": true
   },
   "outputs": [
    {
     "data": {
      "text/html": [
       "<div>\n",
       "<style scoped>\n",
       "    .dataframe tbody tr th:only-of-type {\n",
       "        vertical-align: middle;\n",
       "    }\n",
       "\n",
       "    .dataframe tbody tr th {\n",
       "        vertical-align: top;\n",
       "    }\n",
       "\n",
       "    .dataframe thead th {\n",
       "        text-align: right;\n",
       "    }\n",
       "</style>\n",
       "<table border=\"1\" class=\"dataframe\">\n",
       "  <thead>\n",
       "    <tr style=\"text-align: right;\">\n",
       "      <th></th>\n",
       "      <th>CreditScore</th>\n",
       "      <th>Age</th>\n",
       "      <th>Tenure</th>\n",
       "      <th>Balance</th>\n",
       "      <th>NumOfProducts</th>\n",
       "      <th>HasCrCard</th>\n",
       "      <th>IsActiveMember</th>\n",
       "      <th>EstimatedSalary</th>\n",
       "      <th>Geography_Germany</th>\n",
       "      <th>Geography_Spain</th>\n",
       "      <th>Gender_Male</th>\n",
       "    </tr>\n",
       "  </thead>\n",
       "  <tbody>\n",
       "    <tr>\n",
       "      <th>6255</th>\n",
       "      <td>547</td>\n",
       "      <td>55</td>\n",
       "      <td>-1.0</td>\n",
       "      <td>111362.76</td>\n",
       "      <td>3</td>\n",
       "      <td>1</td>\n",
       "      <td>0</td>\n",
       "      <td>16922.28</td>\n",
       "      <td>1</td>\n",
       "      <td>0</td>\n",
       "      <td>1</td>\n",
       "    </tr>\n",
       "    <tr>\n",
       "      <th>7141</th>\n",
       "      <td>755</td>\n",
       "      <td>38</td>\n",
       "      <td>1.0</td>\n",
       "      <td>82083.52</td>\n",
       "      <td>1</td>\n",
       "      <td>0</td>\n",
       "      <td>1</td>\n",
       "      <td>10333.78</td>\n",
       "      <td>1</td>\n",
       "      <td>0</td>\n",
       "      <td>0</td>\n",
       "    </tr>\n",
       "    <tr>\n",
       "      <th>3824</th>\n",
       "      <td>667</td>\n",
       "      <td>44</td>\n",
       "      <td>-1.0</td>\n",
       "      <td>122806.95</td>\n",
       "      <td>1</td>\n",
       "      <td>0</td>\n",
       "      <td>0</td>\n",
       "      <td>15120.86</td>\n",
       "      <td>0</td>\n",
       "      <td>0</td>\n",
       "      <td>1</td>\n",
       "    </tr>\n",
       "    <tr>\n",
       "      <th>1901</th>\n",
       "      <td>796</td>\n",
       "      <td>67</td>\n",
       "      <td>5.0</td>\n",
       "      <td>0.00</td>\n",
       "      <td>2</td>\n",
       "      <td>0</td>\n",
       "      <td>1</td>\n",
       "      <td>54871.02</td>\n",
       "      <td>0</td>\n",
       "      <td>1</td>\n",
       "      <td>1</td>\n",
       "    </tr>\n",
       "    <tr>\n",
       "      <th>2886</th>\n",
       "      <td>449</td>\n",
       "      <td>37</td>\n",
       "      <td>6.0</td>\n",
       "      <td>0.00</td>\n",
       "      <td>2</td>\n",
       "      <td>1</td>\n",
       "      <td>0</td>\n",
       "      <td>82176.48</td>\n",
       "      <td>0</td>\n",
       "      <td>0</td>\n",
       "      <td>0</td>\n",
       "    </tr>\n",
       "  </tbody>\n",
       "</table>\n",
       "</div>"
      ],
      "text/plain": [
       "      CreditScore  Age  Tenure    Balance  NumOfProducts  HasCrCard  \\\n",
       "6255          547   55    -1.0  111362.76              3          1   \n",
       "7141          755   38     1.0   82083.52              1          0   \n",
       "3824          667   44    -1.0  122806.95              1          0   \n",
       "1901          796   67     5.0       0.00              2          0   \n",
       "2886          449   37     6.0       0.00              2          1   \n",
       "\n",
       "      IsActiveMember  EstimatedSalary  Geography_Germany  Geography_Spain  \\\n",
       "6255               0         16922.28                  1                0   \n",
       "7141               1         10333.78                  1                0   \n",
       "3824               0         15120.86                  0                0   \n",
       "1901               1         54871.02                  0                1   \n",
       "2886               0         82176.48                  0                0   \n",
       "\n",
       "      Gender_Male  \n",
       "6255            1  \n",
       "7141            0  \n",
       "3824            1  \n",
       "1901            1  \n",
       "2886            0  "
      ]
     },
     "execution_count": 19,
     "metadata": {},
     "output_type": "execute_result"
    }
   ],
   "source": [
    "train_features.head()"
   ]
  },
  {
   "cell_type": "code",
   "execution_count": 20,
   "metadata": {},
   "outputs": [
    {
     "data": {
      "text/plain": [
       "6255    1\n",
       "7141    0\n",
       "3824    0\n",
       "1901    0\n",
       "2886    0\n",
       "Name: Exited, dtype: int64"
      ]
     },
     "execution_count": 20,
     "metadata": {},
     "output_type": "execute_result"
    }
   ],
   "source": [
    "train_target.head()"
   ]
  },
  {
   "cell_type": "markdown",
   "metadata": {},
   "source": [
    "Порядок величин в признаках очень разный, поэтому их нужно привести к одному масштабу, чтобы алгоритм не назначал максимальный \"вес\" самым большим значениям - `Balance` и `EstimatedSalary`."
   ]
  },
  {
   "cell_type": "code",
   "execution_count": 21,
   "metadata": {
    "scrolled": true
   },
   "outputs": [
    {
     "name": "stderr",
     "output_type": "stream",
     "text": [
      "/tmp/ipykernel_31/1382474216.py:6: SettingWithCopyWarning: \n",
      "A value is trying to be set on a copy of a slice from a DataFrame.\n",
      "Try using .loc[row_indexer,col_indexer] = value instead\n",
      "\n",
      "See the caveats in the documentation: https://pandas.pydata.org/pandas-docs/stable/user_guide/indexing.html#returning-a-view-versus-a-copy\n",
      "  train_features[numeric] = scaler.transform(train_features[numeric]) # масштабируем обучающую выборку\n",
      "/opt/conda/lib/python3.9/site-packages/pandas/core/indexing.py:1738: SettingWithCopyWarning: \n",
      "A value is trying to be set on a copy of a slice from a DataFrame.\n",
      "Try using .loc[row_indexer,col_indexer] = value instead\n",
      "\n",
      "See the caveats in the documentation: https://pandas.pydata.org/pandas-docs/stable/user_guide/indexing.html#returning-a-view-versus-a-copy\n",
      "  self._setitem_single_column(loc, value[:, i].tolist(), pi)\n"
     ]
    },
    {
     "data": {
      "text/html": [
       "<div>\n",
       "<style scoped>\n",
       "    .dataframe tbody tr th:only-of-type {\n",
       "        vertical-align: middle;\n",
       "    }\n",
       "\n",
       "    .dataframe tbody tr th {\n",
       "        vertical-align: top;\n",
       "    }\n",
       "\n",
       "    .dataframe thead th {\n",
       "        text-align: right;\n",
       "    }\n",
       "</style>\n",
       "<table border=\"1\" class=\"dataframe\">\n",
       "  <thead>\n",
       "    <tr style=\"text-align: right;\">\n",
       "      <th></th>\n",
       "      <th>CreditScore</th>\n",
       "      <th>Age</th>\n",
       "      <th>Tenure</th>\n",
       "      <th>Balance</th>\n",
       "      <th>NumOfProducts</th>\n",
       "      <th>HasCrCard</th>\n",
       "      <th>IsActiveMember</th>\n",
       "      <th>EstimatedSalary</th>\n",
       "      <th>Geography_Germany</th>\n",
       "      <th>Geography_Spain</th>\n",
       "      <th>Gender_Male</th>\n",
       "    </tr>\n",
       "  </thead>\n",
       "  <tbody>\n",
       "    <tr>\n",
       "      <th>6255</th>\n",
       "      <td>-1.081763</td>\n",
       "      <td>1.561078</td>\n",
       "      <td>-1.680175</td>\n",
       "      <td>0.567612</td>\n",
       "      <td>2.552230</td>\n",
       "      <td>1</td>\n",
       "      <td>0</td>\n",
       "      <td>-1.444757</td>\n",
       "      <td>1</td>\n",
       "      <td>0</td>\n",
       "      <td>1</td>\n",
       "    </tr>\n",
       "    <tr>\n",
       "      <th>7141</th>\n",
       "      <td>1.083241</td>\n",
       "      <td>-0.091611</td>\n",
       "      <td>-1.063201</td>\n",
       "      <td>0.097622</td>\n",
       "      <td>-0.926107</td>\n",
       "      <td>0</td>\n",
       "      <td>1</td>\n",
       "      <td>-1.559126</td>\n",
       "      <td>1</td>\n",
       "      <td>0</td>\n",
       "      <td>0</td>\n",
       "    </tr>\n",
       "    <tr>\n",
       "      <th>3824</th>\n",
       "      <td>0.167278</td>\n",
       "      <td>0.491691</td>\n",
       "      <td>-1.680175</td>\n",
       "      <td>0.751314</td>\n",
       "      <td>-0.926107</td>\n",
       "      <td>0</td>\n",
       "      <td>0</td>\n",
       "      <td>-1.476028</td>\n",
       "      <td>0</td>\n",
       "      <td>0</td>\n",
       "      <td>1</td>\n",
       "    </tr>\n",
       "    <tr>\n",
       "      <th>1901</th>\n",
       "      <td>1.509997</td>\n",
       "      <td>2.727681</td>\n",
       "      <td>0.170748</td>\n",
       "      <td>-1.219982</td>\n",
       "      <td>0.813061</td>\n",
       "      <td>0</td>\n",
       "      <td>1</td>\n",
       "      <td>-0.786010</td>\n",
       "      <td>0</td>\n",
       "      <td>1</td>\n",
       "      <td>1</td>\n",
       "    </tr>\n",
       "    <tr>\n",
       "      <th>2886</th>\n",
       "      <td>-2.101813</td>\n",
       "      <td>-0.188828</td>\n",
       "      <td>0.479235</td>\n",
       "      <td>-1.219982</td>\n",
       "      <td>0.813061</td>\n",
       "      <td>1</td>\n",
       "      <td>0</td>\n",
       "      <td>-0.312019</td>\n",
       "      <td>0</td>\n",
       "      <td>0</td>\n",
       "      <td>0</td>\n",
       "    </tr>\n",
       "  </tbody>\n",
       "</table>\n",
       "</div>"
      ],
      "text/plain": [
       "      CreditScore       Age    Tenure   Balance  NumOfProducts  HasCrCard  \\\n",
       "6255    -1.081763  1.561078 -1.680175  0.567612       2.552230          1   \n",
       "7141     1.083241 -0.091611 -1.063201  0.097622      -0.926107          0   \n",
       "3824     0.167278  0.491691 -1.680175  0.751314      -0.926107          0   \n",
       "1901     1.509997  2.727681  0.170748 -1.219982       0.813061          0   \n",
       "2886    -2.101813 -0.188828  0.479235 -1.219982       0.813061          1   \n",
       "\n",
       "      IsActiveMember  EstimatedSalary  Geography_Germany  Geography_Spain  \\\n",
       "6255               0        -1.444757                  1                0   \n",
       "7141               1        -1.559126                  1                0   \n",
       "3824               0        -1.476028                  0                0   \n",
       "1901               1        -0.786010                  0                1   \n",
       "2886               0        -0.312019                  0                0   \n",
       "\n",
       "      Gender_Male  \n",
       "6255            1  \n",
       "7141            0  \n",
       "3824            1  \n",
       "1901            1  \n",
       "2886            0  "
      ]
     },
     "execution_count": 21,
     "metadata": {},
     "output_type": "execute_result"
    }
   ],
   "source": [
    "numeric = ['CreditScore', 'Age', 'Tenure', 'Balance', 'NumOfProducts', 'EstimatedSalary']\n",
    "# численные признаки\n",
    "\n",
    "scaler = StandardScaler()\n",
    "scaler.fit(train_features[numeric])\n",
    "train_features[numeric] = scaler.transform(train_features[numeric]) # масштабируем обучающую выборку\n",
    "train_features.head()"
   ]
  },
  {
   "cell_type": "code",
   "execution_count": 22,
   "metadata": {},
   "outputs": [],
   "source": [
    "# повторяем масштабирование для валидационной и тестовой выборок\n",
    "val_features[numeric] = scaler.transform(val_features[numeric])\n",
    "test_features[numeric] = scaler.transform(test_features[numeric])"
   ]
  },
  {
   "cell_type": "markdown",
   "metadata": {},
   "source": [
    "## Исследование задачи"
   ]
  },
  {
   "cell_type": "markdown",
   "metadata": {},
   "source": [
    "Сначала обучаем модели без учёта возможного дисбаланса классов и проверяем их на аккуратность. Начинаем с решающего дерева:"
   ]
  },
  {
   "cell_type": "code",
   "execution_count": 23,
   "metadata": {
    "scrolled": true
   },
   "outputs": [
    {
     "name": "stdout",
     "output_type": "stream",
     "text": [
      "0.7855\n"
     ]
    }
   ],
   "source": [
    "model_tree = DecisionTreeClassifier(random_state=123)\n",
    "model_tree.fit(train_features, train_target)\n",
    "val_pred_tree = model_tree.predict(val_features)\n",
    "print(accuracy_score(val_target, val_pred_tree))"
   ]
  },
  {
   "cell_type": "markdown",
   "metadata": {},
   "source": [
    "Случайный лес:"
   ]
  },
  {
   "cell_type": "code",
   "execution_count": 24,
   "metadata": {},
   "outputs": [
    {
     "name": "stdout",
     "output_type": "stream",
     "text": [
      "0.856\n"
     ]
    }
   ],
   "source": [
    "model_forest = RandomForestClassifier(random_state=123)\n",
    "model_forest.fit(train_features, train_target)\n",
    "val_pred_forest = model_forest.predict(val_features)\n",
    "print(accuracy_score(val_target, val_pred_forest))"
   ]
  },
  {
   "cell_type": "markdown",
   "metadata": {},
   "source": [
    "Логистическая регрессия:"
   ]
  },
  {
   "cell_type": "code",
   "execution_count": 25,
   "metadata": {},
   "outputs": [
    {
     "name": "stdout",
     "output_type": "stream",
     "text": [
      "0.804\n"
     ]
    }
   ],
   "source": [
    "model_linear = LogisticRegression(random_state=123, solver='liblinear')\n",
    "model_linear.fit(train_features, train_target)\n",
    "val_pred_linear = model_linear.predict(val_features)\n",
    "print(accuracy_score(val_target, val_pred_linear))"
   ]
  },
  {
   "cell_type": "markdown",
   "metadata": {},
   "source": [
    "Аккуратность выглядит высокой, но нужно проверить баланс классов и сравнить предсказания модели с константными."
   ]
  },
  {
   "cell_type": "code",
   "execution_count": 26,
   "metadata": {
    "scrolled": true
   },
   "outputs": [
    {
     "name": "stdout",
     "output_type": "stream",
     "text": [
      "Баланс в обучающей выборке:\n",
      "0    0.796333\n",
      "1    0.203667\n",
      "Name: Exited, dtype: float64\n",
      "Баланс в валидационной выборке:\n",
      "0    0.796\n",
      "1    0.204\n",
      "Name: Exited, dtype: float64\n"
     ]
    }
   ],
   "source": [
    "print('Баланс в обучающей выборке:', train_target.value_counts(normalize=True), \n",
    "      'Баланс в валидационной выборке:', val_target.value_counts(normalize=True), sep='\\n')"
   ]
  },
  {
   "cell_type": "code",
   "execution_count": 27,
   "metadata": {},
   "outputs": [
    {
     "data": {
      "text/plain": [
       "<AxesSubplot:ylabel='Frequency'>"
      ]
     },
     "execution_count": 27,
     "metadata": {},
     "output_type": "execute_result"
    },
    {
     "data": {
      "image/png": "[encoded data removed]",
      "text/plain": [
       "<Figure size 72x72 with 1 Axes>"
      ]
     },
     "metadata": {
      "needs_background": "light"
     },
     "output_type": "display_data"
    }
   ],
   "source": [
    "train_target.plot(kind ='hist', bins=2, figsize=(1,1))"
   ]
  },
  {
   "cell_type": "code",
   "execution_count": 28,
   "metadata": {},
   "outputs": [
    {
     "name": "stdout",
     "output_type": "stream",
     "text": [
      "0    0.7875\n",
      "1    0.2125\n",
      "dtype: float64\n",
      "0    0.882\n",
      "1    0.118\n",
      "dtype: float64\n",
      "0    0.882\n",
      "1    0.118\n",
      "dtype: float64\n"
     ]
    }
   ],
   "source": [
    "predicted_tree = pd.Series(model_tree.predict(val_features))\n",
    "tree_frequency = predicted_tree.value_counts(normalize=True)\n",
    "\n",
    "predicted_forest = pd.Series(model_forest.predict(val_features))\n",
    "forest_frequency = predicted_forest.value_counts(normalize=True)\n",
    "\n",
    "predicted_linear = model_linear.predict(val_features)\n",
    "linear_frequency = predicted_forest.value_counts(normalize=True)\n",
    "\n",
    "print(tree_frequency, forest_frequency, linear_frequency, sep='\\n')"
   ]
  },
  {
   "cell_type": "markdown",
   "metadata": {},
   "source": [
    "Баланс классов выборки составляет ~80%-20%, а в предсказаниях модели разброс от 79%-21% до ~89%-11%. Теперь проверяем с помощью константной модели."
   ]
  },
  {
   "cell_type": "code",
   "execution_count": 29,
   "metadata": {},
   "outputs": [
    {
     "name": "stdout",
     "output_type": "stream",
     "text": [
      "0.796\n"
     ]
    }
   ],
   "source": [
    "target_pred_constant = pd.Series(0, index=val_target.index)\n",
    "print(accuracy_score(val_target, target_pred_constant))"
   ]
  },
  {
   "cell_type": "markdown",
   "metadata": {},
   "source": [
    "Accuracy константной модели даже больше, чем у модели решающего дерева, а значит, качество ответов низкое. Скорее всего, этим страдают и обе других модели."
   ]
  },
  {
   "cell_type": "markdown",
   "metadata": {},
   "source": [
    "Теперь посмотрим на матрицы ошибок каждой модели и их метрики."
   ]
  },
  {
   "cell_type": "code",
   "execution_count": 30,
   "metadata": {},
   "outputs": [
    {
     "name": "stdout",
     "output_type": "stream",
     "text": [
      "DecisionTreeClassifier(random_state=123)\n",
      "Матрица ошибок:\n",
      " [[1369  223]\n",
      " [ 206  202]]\n",
      "Полнота: 0.4950980392156863\n",
      "Точность: 0.4752941176470588\n",
      "F1-мера: 0.4849939975990396\n",
      "AUC-ROC: 0.6775113311656322\n",
      "\n",
      "RandomForestClassifier(random_state=123)\n",
      "Матрица ошибок:\n",
      " [[1534   58]\n",
      " [ 230  178]]\n",
      "Полнота: 0.4362745098039216\n",
      "Точность: 0.7542372881355932\n",
      "F1-мера: 0.5527950310559007\n",
      "AUC-ROC: 0.8489968223470292\n",
      "\n",
      "LogisticRegression(random_state=123, solver='liblinear')\n",
      "Матрица ошибок:\n",
      " [[1522   70]\n",
      " [ 322   86]]\n",
      "Полнота: 0.2107843137254902\n",
      "Точность: 0.5512820512820513\n",
      "F1-мера: 0.3049645390070922\n",
      "AUC-ROC: 0.7316392009064931\n",
      "\n"
     ]
    }
   ],
   "source": [
    "def quality_metrics(model, features, valid):\n",
    "    prediction = model.predict(features)\n",
    "    probabilities_one_valid = model.predict_proba(features)[:, 1]\n",
    "    auc_roc = roc_auc_score(valid, probabilities_one_valid)\n",
    "    print(model)\n",
    "    print('Матрица ошибок:\\n', confusion_matrix(valid, prediction))\n",
    "    print('Полнота:', recall_score(valid, prediction))\n",
    "    print('Точность:', precision_score(valid, prediction))\n",
    "    print('F1-мера:', f1_score(valid, prediction))\n",
    "    print('AUC-ROC:', roc_auc_score(valid, probabilities_one_valid))\n",
    "    print()\n",
    "\n",
    "models = [model_tree, model_forest, model_linear]\n",
    "for model in models:\n",
    "    quality_metrics(model, val_features, val_target)"
   ]
  },
  {
   "cell_type": "markdown",
   "metadata": {},
   "source": [
    "## Борьба с дисбалансом"
   ]
  },
  {
   "cell_type": "markdown",
   "metadata": {},
   "source": [
    "Все модели демонстрируют уклонение в сторону негативных ответов (0 в столбце Exited, т.е. предсказывается, что клиент из банка НЕ уйдёт) и низкую полноту. 0 в этом столбце встречается чаще, следовательно, баланс классов влияет на ответы модели. Самые высокие метрики показал случайный лес, проверяем его ROC-кривую."
   ]
  },
  {
   "cell_type": "code",
   "execution_count": 31,
   "metadata": {},
   "outputs": [
    {
     "data": {
      "image/png": "[encoded data removed]",
      "text/plain": [
       "<Figure size 432x288 with 1 Axes>"
      ]
     },
     "metadata": {
      "needs_background": "light"
     },
     "output_type": "display_data"
    }
   ],
   "source": [
    "forest_probabilities_one_valid = model_forest.predict_proba(val_features)[:, 1]\n",
    "auc_roc_forest = roc_auc_score(val_target, forest_probabilities_one_valid)\n",
    "fpr, tpr, thresholds = roc_curve(val_target, forest_probabilities_one_valid) \n",
    "\n",
    "plt.figure()\n",
    "plt.plot(fpr, tpr)\n",
    "plt.plot([0, 1], [0, 1], linestyle='--')\n",
    "plt.xlim([0.0, 1.0])\n",
    "plt.ylim([0.0, 1.0])\n",
    "plt.xlabel('False Positive Rate')\n",
    "plt.ylabel('True Positive Rate')\n",
    "plt.title('ROC-кривая')\n",
    "plt.show()"
   ]
  },
  {
   "cell_type": "markdown",
   "metadata": {},
   "source": [
    "Всё же ROC-кривая проходит достаточно низко. Попробуем сбалансировать классы."
   ]
  },
  {
   "cell_type": "code",
   "execution_count": 33,
   "metadata": {},
   "outputs": [
    {
     "name": "stdout",
     "output_type": "stream",
     "text": [
      "Accuracy score 0.85\n",
      "AUC-ROC 0.8326112794363976\n"
     ]
    },
    {
     "data": {
      "image/png": "[encoded data removed]",
      "text/plain": [
       "<Figure size 640x480 with 1 Axes>"
      ]
     },
     "metadata": {},
     "output_type": "display_data"
    }
   ],
   "source": [
    "model_forest = RandomForestClassifier(random_state=123, n_estimators=30, class_weight='balanced')\n",
    "model_forest.fit(train_features, train_target)\n",
    "probabilities_one_valid_class_weight = model_forest.predict_proba(val_features)[:, 1]\n",
    "print(\"Accuracy score\", accuracy_score(model_forest.predict(val_features), val_target))\n",
    "print(\"AUC-ROC\", roc_auc_score(val_target, probabilities_one_valid_class_weight))\n",
    "\n",
    "fpr, tpr, thresholds = roc_curve(val_target, probabilities_one_valid_class_weight) \n",
    "plt.figure()\n",
    "plt.plot(fpr, tpr)\n",
    "plt.plot([0, 1], [0, 1], linestyle='--')\n",
    "plt.xlim([0.0, 1.0])\n",
    "plt.ylim([0.0, 1.0])\n",
    "plt.xlabel('False Positive Rate')\n",
    "plt.ylabel('True Positive Rate')\n",
    "plt.title('ROC-кривая')\n",
    "plt.show()"
   ]
  },
  {
   "cell_type": "markdown",
   "metadata": {},
   "source": [
    "Лучше результат не стал. Нужно сформировать сбалансированные выборки."
   ]
  },
  {
   "cell_type": "code",
   "execution_count": 34,
   "metadata": {},
   "outputs": [
    {
     "name": "stdout",
     "output_type": "stream",
     "text": [
      "1    0.50569\n",
      "0    0.49431\n",
      "Name: Exited, dtype: float64\n",
      "(9666,)\n"
     ]
    }
   ],
   "source": [
    "def upsample(features, target, repeat):\n",
    "    features_zeros = features[target == 0]\n",
    "    features_ones = features[target == 1]\n",
    "    target_zeros = target[target == 0]\n",
    "    target_ones = target[target == 1]\n",
    "\n",
    "    features_upsampled = pd.concat([features_zeros] + [features_ones] * repeat)\n",
    "    target_upsampled = pd.concat([target_zeros] + [target_ones] * repeat)\n",
    "    \n",
    "    features_upsampled, target_upsampled = shuffle(\n",
    "        features_upsampled, target_upsampled, random_state=123)\n",
    "    \n",
    "    return features_upsampled, target_upsampled\n",
    "\n",
    "train_features_upsampled, train_target_upsampled = upsample(train_features, train_target, 4)\n",
    "print(train_target_upsampled.value_counts(normalize = 1))\n",
    "print(train_target_upsampled.shape)"
   ]
  },
  {
   "cell_type": "markdown",
   "metadata": {},
   "source": [
    "Поскольку в исходной выборке `train_target` варианта 1 в 4 раза меньше, чем варианта 0, умножаем на 4 и получаем практически равное распределение. Обучаем модели заново на сбалансированных выборках."
   ]
  },
  {
   "cell_type": "code",
   "execution_count": 35,
   "metadata": {},
   "outputs": [
    {
     "name": "stdout",
     "output_type": "stream",
     "text": [
      "0.796\n"
     ]
    }
   ],
   "source": [
    "model_tree2 = DecisionTreeClassifier(random_state=123)\n",
    "model_tree2.fit(train_features_upsampled, train_target_upsampled)\n",
    "val_pred_tree = model_tree2.predict(val_features)\n",
    "print(accuracy_score(val_target, val_pred_tree))"
   ]
  },
  {
   "cell_type": "code",
   "execution_count": 36,
   "metadata": {},
   "outputs": [
    {
     "name": "stdout",
     "output_type": "stream",
     "text": [
      "0.8475\n"
     ]
    }
   ],
   "source": [
    "model_forest2 = RandomForestClassifier(random_state=123)\n",
    "model_forest2.fit(train_features_upsampled, train_target_upsampled)\n",
    "val_pred_forest = model_forest2.predict(val_features)\n",
    "print(accuracy_score(val_target, val_pred_forest))"
   ]
  },
  {
   "cell_type": "code",
   "execution_count": 37,
   "metadata": {},
   "outputs": [
    {
     "name": "stdout",
     "output_type": "stream",
     "text": [
      "0.6865\n"
     ]
    }
   ],
   "source": [
    "model_linear2 = LogisticRegression(random_state=123, solver='liblinear')\n",
    "model_linear2.fit(train_features_upsampled, train_target_upsampled)\n",
    "val_pred_linear = model_linear2.predict(val_features)\n",
    "print(accuracy_score(val_target, val_pred_linear))"
   ]
  },
  {
   "cell_type": "markdown",
   "metadata": {},
   "source": [
    "Метрика accuracy почти не изменилась или даже снизилась, но что с качеством ответов?"
   ]
  },
  {
   "cell_type": "code",
   "execution_count": 38,
   "metadata": {},
   "outputs": [
    {
     "name": "stdout",
     "output_type": "stream",
     "text": [
      "DecisionTreeClassifier(random_state=123)\n",
      "Матрица ошибок:\n",
      " [[1392  200]\n",
      " [ 208  200]]\n",
      "Полнота: 0.49019607843137253\n",
      "Точность: 0.5\n",
      "F1-мера: 0.495049504950495\n",
      "AUC-ROC: 0.6822839688639275\n",
      "\n",
      "RandomForestClassifier(random_state=123)\n",
      "Матрица ошибок:\n",
      " [[1477  115]\n",
      " [ 190  218]]\n",
      "Полнота: 0.5343137254901961\n",
      "Точность: 0.6546546546546547\n",
      "F1-мера: 0.5883940620782726\n",
      "AUC-ROC: 0.7310387722928366\n",
      "\n",
      "LogisticRegression(random_state=123, solver='liblinear')\n",
      "Матрица ошибок:\n",
      " [[1108  484]\n",
      " [ 143  265]]\n",
      "Полнота: 0.6495098039215687\n",
      "Точность: 0.3538050734312417\n",
      "F1-мера: 0.4580812445980985\n",
      "AUC-ROC: 0.6727448517095281\n",
      "\n"
     ]
    }
   ],
   "source": [
    "models = [model_tree2, model_forest2, model_linear2]\n",
    "for model in models:\n",
    "    quality_metrics(model, val_features, val_target)"
   ]
  },
  {
   "cell_type": "markdown",
   "metadata": {},
   "source": [
    "Показатели всех моделей улучшились, но всё же F1-мера не доходит до необходимого значения более 0.59. Попробуем улучшить модель подбором параметров. Сохраняем их в списке."
   ]
  },
  {
   "cell_type": "code",
   "execution_count": 72,
   "metadata": {
    "scrolled": true
   },
   "outputs": [
    {
     "name": "stdout",
     "output_type": "stream",
     "text": [
      "[0.8085, 60, 9]\n"
     ]
    }
   ],
   "source": [
    "output = []\n",
    "for est in range (10, 100, 10):\n",
    "    for depth in range (1, 10):\n",
    "        best_score = 0\n",
    "        out = []\n",
    "        model = RandomForestClassifier(random_state=123, n_estimators=est, max_depth=depth)\n",
    "        model.fit(train_features_upsampled, train_target_upsampled)\n",
    "        val_pred = model.predict(val_features)\n",
    "        acc = accuracy_score(val_target, val_pred)\n",
    "        if acc > best_score:\n",
    "            best_score = acc\n",
    "            out.append(best_score)\n",
    "            out.append(est)\n",
    "            out.append(depth)\n",
    "        output.append(out)\n",
    "# а теперь перебираем список по индексам, чтобы найти максимальную аккуратность\n",
    "max_value = 0\n",
    "for i in range(len(output)):\n",
    "    if output[i][0] > max_value:\n",
    "        max_value = output[i][0]\n",
    "for i in range(len(output)):\n",
    "    if output[i][0] == max_value:\n",
    "        print(output[i])"
   ]
  },
  {
   "cell_type": "markdown",
   "metadata": {},
   "source": [
    "Обучаем модель с найденными параметрами и смотрим её метрики."
   ]
  },
  {
   "cell_type": "code",
   "execution_count": 74,
   "metadata": {
    "scrolled": true
   },
   "outputs": [
    {
     "name": "stdout",
     "output_type": "stream",
     "text": [
      "RandomForestClassifier(max_depth=9, n_estimators=60, random_state=123)\n",
      "Матрица ошибок:\n",
      " [[1343  249]\n",
      " [ 134  274]]\n",
      "Полнота: 0.6715686274509803\n",
      "Точность: 0.5239005736137667\n",
      "F1-мера: 0.5886143931256712\n",
      "AUC-ROC: 0.7575807961375504\n",
      "\n"
     ]
    }
   ],
   "source": [
    "model = RandomForestClassifier(random_state=123, n_estimators=60, max_depth=9)\n",
    "model.fit(train_features_upsampled, train_target_upsampled)\n",
    "quality_metrics(model, val_features, val_target)"
   ]
  },
  {
   "cell_type": "markdown",
   "metadata": {},
   "source": [
    "## Тестирование модели"
   ]
  },
  {
   "cell_type": "code",
   "execution_count": 75,
   "metadata": {},
   "outputs": [
    {
     "name": "stdout",
     "output_type": "stream",
     "text": [
      "RandomForestClassifier(max_depth=9, n_estimators=60, random_state=123)\n",
      "Матрица ошибок:\n",
      " [[1343  250]\n",
      " [ 111  296]]\n",
      "Полнота: 0.7272727272727273\n",
      "Точность: 0.5421245421245421\n",
      "F1-мера: 0.6211962224554038\n",
      "AUC-ROC: 0.7851680648290817\n",
      "\n"
     ]
    }
   ],
   "source": [
    "quality_metrics(model, test_features, test_target)"
   ]
  },
  {
   "cell_type": "code",
   "execution_count": 79,
   "metadata": {},
   "outputs": [
    {
     "name": "stdout",
     "output_type": "stream",
     "text": [
      "RandomForestClassifier(max_depth=9, n_estimators=60, random_state=123)\n",
      "Accuracy score 0.8195\n",
      "AUC-ROC 0.8665460529867309\n"
     ]
    },
    {
     "data": {
      "image/png": "[encoded data removed]",
      "text/plain": [
       "<Figure size 640x480 with 1 Axes>"
      ]
     },
     "metadata": {},
     "output_type": "display_data"
    }
   ],
   "source": [
    "probabilities_one_valid_final = model.predict_proba(test_features)[:, 1]\n",
    "print(model)\n",
    "print(\"Accuracy score\", accuracy_score(model.predict(test_features), test_target))\n",
    "print(\"AUC-ROC\", roc_auc_score(test_target, probabilities_one_valid_final))\n",
    "\n",
    "fpr, tpr, thresholds = roc_curve(test_target, probabilities_one_valid_final) \n",
    "plt.figure()\n",
    "plt.plot(fpr, tpr)\n",
    "plt.plot([0, 1], [0, 1], linestyle='--')\n",
    "plt.xlim([0.0, 1.0])\n",
    "plt.ylim([0.0, 1.0])\n",
    "plt.xlabel('False Positive Rate')\n",
    "plt.ylabel('True Positive Rate')\n",
    "plt.title('ROC-кривая')\n",
    "plt.show()"
   ]
  },
  {
   "cell_type": "markdown",
   "metadata": {},
   "source": [
    "На тестовой выборке достигнуто значение F1-меры, равное 0.62, что больше 0.59. Также модель показывает хорошее значение полноты (~0.73 из максимальной 1), то есть, она хорошо выдаёт положительные результаты (положительный результат - уход клиента из банка, т.е. 1 в столбце Exited). Точность не очень высока - 0.54, т.е. ложноположительных значений почти столько же, сколько и истинно положительных, модель предскажет примерно в 2 раза больше ушедших клиентов, чем уйдёт на самом деле. Всё же она прошла проверку на адекватность по сравнению с константной моделью, заполненной нулями."
   ]
  },
  {
   "cell_type": "markdown",
   "metadata": {},
   "source": [
    "## Чек-лист готовности проекта"
   ]
  },
  {
   "cell_type": "markdown",
   "metadata": {},
   "source": [
    "Поставьте 'x' в выполненных пунктах. Далее нажмите Shift+Enter."
   ]
  },
  {
   "cell_type": "markdown",
   "metadata": {},
   "source": [
    "- [x]  Jupyter Notebook открыт\n",
    "- [x]  Весь код выполняется без ошибок\n",
    "- [x]  Ячейки с кодом расположены в порядке исполнения\n",
    "- [x]  Выполнен шаг 1: данные подготовлены\n",
    "- [x]  Выполнен шаг 2: задача исследована\n",
    "    - [x]  Исследован баланс классов\n",
    "    - [x]  Изучены модели без учёта дисбаланса\n",
    "    - [x]  Написаны выводы по результатам исследования\n",
    "- [x]  Выполнен шаг 3: учтён дисбаланс\n",
    "    - [x]  Применено несколько способов борьбы с дисбалансом\n",
    "    - [x]  Написаны выводы по результатам исследования\n",
    "- [x]  Выполнен шаг 4: проведено тестирование\n",
    "- [x]  Удалось достичь *F1*-меры не менее 0.59\n",
    "- [x]  Исследована метрика *AUC-ROC*"
   ]
  },
  {
   "cell_type": "code",
   "execution_count": null,
   "metadata": {},
   "outputs": [],
   "source": []
  }
 ],
 "metadata": {
  "ExecuteTimeLog": [
   {
    "duration": 1443,
    "start_time": "2023-03-28T16:14:18.912Z"
   },
   {
    "duration": 102,
    "start_time": "2023-03-28T16:14:21.295Z"
   },
   {
    "duration": 16,
    "start_time": "2023-03-28T16:14:21.795Z"
   },
   {
    "duration": 14,
    "start_time": "2023-03-28T16:14:26.095Z"
   },
   {
    "duration": 5,
    "start_time": "2023-03-28T16:14:27.237Z"
   },
   {
    "duration": 5,
    "start_time": "2023-03-28T16:14:28.217Z"
   },
   {
    "duration": 8,
    "start_time": "2023-03-28T16:14:30.200Z"
   },
   {
    "duration": 5,
    "start_time": "2023-03-28T16:14:31.003Z"
   },
   {
    "duration": 4,
    "start_time": "2023-03-28T16:14:31.532Z"
   },
   {
    "duration": 5,
    "start_time": "2023-03-28T16:14:32.705Z"
   },
   {
    "duration": 3,
    "start_time": "2023-03-28T16:14:33.705Z"
   },
   {
    "duration": 4,
    "start_time": "2023-03-28T16:14:36.138Z"
   },
   {
    "duration": 18,
    "start_time": "2023-03-28T16:14:38.205Z"
   },
   {
    "duration": 11,
    "start_time": "2023-03-28T16:14:39.558Z"
   },
   {
    "duration": 5,
    "start_time": "2023-03-28T16:14:41.439Z"
   },
   {
    "duration": 7,
    "start_time": "2023-03-28T16:14:42.104Z"
   },
   {
    "duration": 8,
    "start_time": "2023-03-28T16:14:42.596Z"
   },
   {
    "duration": 4,
    "start_time": "2023-03-28T16:14:43.103Z"
   },
   {
    "duration": 15,
    "start_time": "2023-03-28T16:14:43.591Z"
   },
   {
    "duration": 4,
    "start_time": "2023-03-28T16:14:44.064Z"
   },
   {
    "duration": 32,
    "start_time": "2023-03-28T16:14:45.467Z"
   },
   {
    "duration": 19,
    "start_time": "2023-03-28T16:14:46.129Z"
   },
   {
    "duration": 30,
    "start_time": "2023-03-28T16:14:48.315Z"
   },
   {
    "duration": 614,
    "start_time": "2023-03-28T16:14:49.555Z"
   },
   {
    "duration": 31,
    "start_time": "2023-03-28T16:14:50.495Z"
   },
   {
    "duration": 8,
    "start_time": "2023-03-28T16:14:51.806Z"
   },
   {
    "duration": 97,
    "start_time": "2023-03-28T16:14:52.496Z"
   },
   {
    "duration": 74,
    "start_time": "2023-03-28T16:14:53.503Z"
   },
   {
    "duration": 4,
    "start_time": "2023-03-28T16:15:01.030Z"
   },
   {
    "duration": 342,
    "start_time": "2023-03-28T16:15:06.230Z"
   },
   {
    "duration": 140,
    "start_time": "2023-03-28T16:16:23.384Z"
   }
  ],
  "kernelspec": {
   "display_name": "Python 3 (ipykernel)",
   "language": "python",
   "name": "python3"
  },
  "language_info": {
   "codemirror_mode": {
    "name": "ipython",
    "version": 3
   },
   "file_extension": ".py",
   "mimetype": "text/x-python",
   "name": "python",
   "nbconvert_exporter": "python",
   "pygments_lexer": "ipython3",
   "version": "3.9.13"
  },
  "toc": {
   "base_numbering": 1,
   "nav_menu": {},
   "number_sections": true,
   "sideBar": true,
   "skip_h1_title": true,
   "title_cell": "Содержание",
   "title_sidebar": "Contents",
   "toc_cell": true,
   "toc_position": {},
   "toc_section_display": true,
   "toc_window_display": true
  }
 },
 "nbformat": 4,
 "nbformat_minor": 2
}
