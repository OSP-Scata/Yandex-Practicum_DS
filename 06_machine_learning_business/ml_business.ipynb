{
 "cells": [
  {
   "cell_type": "markdown",
   "metadata": {},
   "source": [
    "# Выбор локации для скважины"
   ]
  },
  {
   "cell_type": "markdown",
   "metadata": {},
   "source": [
    "Допустим, вы работаете в добывающей компании «ГлавРосГосНефть». Нужно решить, где бурить новую скважину.\n",
    "\n",
    "Вам предоставлены пробы нефти в трёх регионах: в каждом 10 000 месторождений, где измерили качество нефти и объём её запасов. Постройте модель машинного обучения, которая поможет определить регион, где добыча принесёт наибольшую прибыль. Проанализируйте возможную прибыль и риски техникой *Bootstrap.*\n",
    "\n",
    "Шаги для выбора локации:\n",
    "\n",
    "- В избранном регионе ищут месторождения, для каждого определяют значения признаков;\n",
    "- Строят модель и оценивают объём запасов;\n",
    "- Выбирают месторождения с самым высокими оценками значений. Количество месторождений зависит от бюджета компании и стоимости разработки одной скважины;\n",
    "- Прибыль равна суммарной прибыли отобранных месторождений."
   ]
  },
  {
   "cell_type": "markdown",
   "metadata": {},
   "source": [
    "## Загрузка и подготовка данных"
   ]
  },
  {
   "cell_type": "code",
   "execution_count": 1,
   "metadata": {},
   "outputs": [],
   "source": [
    "# Чтобы не забыть, какая библиотека для чего:\n",
    "\n",
    "# основная Pandas\n",
    "import pandas as pd\n",
    "# NumPy\n",
    "import numpy as np\n",
    "# графики и диаграммы\n",
    "import matplotlib.pyplot as plt\n",
    "# деление выборки\n",
    "from sklearn.model_selection import train_test_split\n",
    "# линейная регрессия\n",
    "from sklearn.linear_model import LinearRegression\n",
    "# метрика MSE\n",
    "from sklearn.metrics import mean_squared_error\n",
    "# статистика\n",
    "from scipy import stats as st"
   ]
  },
  {
   "cell_type": "markdown",
   "metadata": {},
   "source": [
    "Поскольку у нас данные по трём различным регионам, загружаем каждый в отдельную переменную."
   ]
  },
  {
   "cell_type": "code",
   "execution_count": 2,
   "metadata": {},
   "outputs": [],
   "source": [
    "# открытие файла - локальное или на платформе\n",
    "try:\n",
    "    data0 = pd.read_csv('geo_data_0.csv')\n",
    "    data1 = pd.read_csv('geo_data_1.csv')\n",
    "    data2 = pd.read_csv('geo_data_2.csv')\n",
    "except:\n",
    "    data0 = pd.read_csv('/datasets/geo_data_0.csv')\n",
    "    data1 = pd.read_csv('/datasets/geo_data_1.csv')\n",
    "    data2 = pd.read_csv('/datasets/geo_data_2.csv')"
   ]
  },
  {
   "cell_type": "code",
   "execution_count": 3,
   "metadata": {
    "scrolled": true
   },
   "outputs": [
    {
     "data": {
      "text/html": [
       "<div>\n",
       "<style scoped>\n",
       "    .dataframe tbody tr th:only-of-type {\n",
       "        vertical-align: middle;\n",
       "    }\n",
       "\n",
       "    .dataframe tbody tr th {\n",
       "        vertical-align: top;\n",
       "    }\n",
       "\n",
       "    .dataframe thead th {\n",
       "        text-align: right;\n",
       "    }\n",
       "</style>\n",
       "<table border=\"1\" class=\"dataframe\">\n",
       "  <thead>\n",
       "    <tr style=\"text-align: right;\">\n",
       "      <th></th>\n",
       "      <th>id</th>\n",
       "      <th>f0</th>\n",
       "      <th>f1</th>\n",
       "      <th>f2</th>\n",
       "      <th>product</th>\n",
       "    </tr>\n",
       "  </thead>\n",
       "  <tbody>\n",
       "    <tr>\n",
       "      <th>0</th>\n",
       "      <td>txEyH</td>\n",
       "      <td>0.705745</td>\n",
       "      <td>-0.497823</td>\n",
       "      <td>1.221170</td>\n",
       "      <td>105.280062</td>\n",
       "    </tr>\n",
       "    <tr>\n",
       "      <th>1</th>\n",
       "      <td>2acmU</td>\n",
       "      <td>1.334711</td>\n",
       "      <td>-0.340164</td>\n",
       "      <td>4.365080</td>\n",
       "      <td>73.037750</td>\n",
       "    </tr>\n",
       "    <tr>\n",
       "      <th>2</th>\n",
       "      <td>409Wp</td>\n",
       "      <td>1.022732</td>\n",
       "      <td>0.151990</td>\n",
       "      <td>1.419926</td>\n",
       "      <td>85.265647</td>\n",
       "    </tr>\n",
       "    <tr>\n",
       "      <th>3</th>\n",
       "      <td>iJLyR</td>\n",
       "      <td>-0.032172</td>\n",
       "      <td>0.139033</td>\n",
       "      <td>2.978566</td>\n",
       "      <td>168.620776</td>\n",
       "    </tr>\n",
       "    <tr>\n",
       "      <th>4</th>\n",
       "      <td>Xdl7t</td>\n",
       "      <td>1.988431</td>\n",
       "      <td>0.155413</td>\n",
       "      <td>4.751769</td>\n",
       "      <td>154.036647</td>\n",
       "    </tr>\n",
       "  </tbody>\n",
       "</table>\n",
       "</div>"
      ],
      "text/plain": [
       "      id        f0        f1        f2     product\n",
       "0  txEyH  0.705745 -0.497823  1.221170  105.280062\n",
       "1  2acmU  1.334711 -0.340164  4.365080   73.037750\n",
       "2  409Wp  1.022732  0.151990  1.419926   85.265647\n",
       "3  iJLyR -0.032172  0.139033  2.978566  168.620776\n",
       "4  Xdl7t  1.988431  0.155413  4.751769  154.036647"
      ]
     },
     "execution_count": 3,
     "metadata": {},
     "output_type": "execute_result"
    }
   ],
   "source": [
    "data0.head()"
   ]
  },
  {
   "cell_type": "code",
   "execution_count": 4,
   "metadata": {},
   "outputs": [
    {
     "name": "stdout",
     "output_type": "stream",
     "text": [
      "<class 'pandas.core.frame.DataFrame'>\n",
      "RangeIndex: 100000 entries, 0 to 99999\n",
      "Data columns (total 5 columns):\n",
      " #   Column   Non-Null Count   Dtype  \n",
      "---  ------   --------------   -----  \n",
      " 0   id       100000 non-null  object \n",
      " 1   f0       100000 non-null  float64\n",
      " 2   f1       100000 non-null  float64\n",
      " 3   f2       100000 non-null  float64\n",
      " 4   product  100000 non-null  float64\n",
      "dtypes: float64(4), object(1)\n",
      "memory usage: 3.8+ MB\n"
     ]
    }
   ],
   "source": [
    "data0.info()\n",
    "# были проверены и два остальных набора, но вывод оставлен только для одного"
   ]
  },
  {
   "cell_type": "markdown",
   "metadata": {},
   "source": [
    "Столбцы в датасетах (каждый набор соответствует отдельному региону):\n",
    "* id — уникальный идентификатор скважины;\n",
    "* f0, f1, f2 — три признака точек (неважно, что они означают, но сами признаки значимы);\n",
    "* product — объём запасов в скважине (тыс. баррелей).\n",
    "\n",
    "Перед нами задача регрессии, т.к. нужно предсказывать не категорию, а количество (целевой признак - `product`). Пропусков в данных нет, проверим на дубликаты и посмотрим значения целевого столбца."
   ]
  },
  {
   "cell_type": "code",
   "execution_count": 5,
   "metadata": {},
   "outputs": [
    {
     "data": {
      "text/plain": [
       "10"
      ]
     },
     "execution_count": 5,
     "metadata": {},
     "output_type": "execute_result"
    }
   ],
   "source": [
    "data0['id'].duplicated().sum()"
   ]
  },
  {
   "cell_type": "code",
   "execution_count": 6,
   "metadata": {},
   "outputs": [
    {
     "data": {
      "text/plain": [
       "4"
      ]
     },
     "execution_count": 6,
     "metadata": {},
     "output_type": "execute_result"
    }
   ],
   "source": [
    "data1['id'].duplicated().sum()"
   ]
  },
  {
   "cell_type": "code",
   "execution_count": 7,
   "metadata": {},
   "outputs": [
    {
     "data": {
      "text/plain": [
       "4"
      ]
     },
     "execution_count": 7,
     "metadata": {},
     "output_type": "execute_result"
    }
   ],
   "source": [
    "data2['id'].duplicated().sum()"
   ]
  },
  {
   "cell_type": "code",
   "execution_count": 8,
   "metadata": {
    "scrolled": true
   },
   "outputs": [
    {
     "data": {
      "text/plain": [
       "array([105.28006184,  73.03775027,  85.26564713, ...,  64.37544259,\n",
       "        74.04076435, 149.63324561])"
      ]
     },
     "execution_count": 8,
     "metadata": {},
     "output_type": "execute_result"
    }
   ],
   "source": [
    "data0['product'].unique()"
   ]
  },
  {
   "cell_type": "code",
   "execution_count": 9,
   "metadata": {},
   "outputs": [
    {
     "data": {
      "text/plain": [
       "array([  3.17910258,  26.95326103, 134.76630516, 137.94540774,\n",
       "        84.03888568, 110.99214671,  53.90652206,   0.        ,\n",
       "       107.81304413,  57.08562465,  30.13236361,  80.85978309])"
      ]
     },
     "execution_count": 9,
     "metadata": {},
     "output_type": "execute_result"
    }
   ],
   "source": [
    "data1['product'].unique()"
   ]
  },
  {
   "cell_type": "code",
   "execution_count": 10,
   "metadata": {},
   "outputs": [
    {
     "data": {
      "text/plain": [
       "array([ 27.75867323,  56.06969663,  62.87191005, ..., 157.08007975,\n",
       "        51.79525299, 102.77576749])"
      ]
     },
     "execution_count": 10,
     "metadata": {},
     "output_type": "execute_result"
    }
   ],
   "source": [
    "data2['product'].unique()"
   ]
  },
  {
   "cell_type": "markdown",
   "metadata": {},
   "source": [
    "Пропусков нет, но обнаружены явные дубликаты (по столбцу ID) во всех трёх датасетах. От них надо будет избавиться, как и от столбца `id` (который не нужен для расчётов и только засорит выборку). Также обнаружено странное распределение значений столбца `product` в регионе 1, нужно проверить графически."
   ]
  },
  {
   "cell_type": "code",
   "execution_count": 11,
   "metadata": {},
   "outputs": [],
   "source": [
    "def oil_hist(data, bins, xlim, ylim):\n",
    "    plt.figure(figsize=[12,8])\n",
    "    plt.hist(data, bins=bins)\n",
    "    plt.xlim([0, xlim])\n",
    "    plt.ylim([0, ylim])\n",
    "    plt.xlabel(\"Объем нефти на скважину, тыс. баррелей\")\n",
    "    plt.ylabel(\"Количество скважин\")\n",
    "    plt.title(\"Гистограмма распределения по объёму скважин\")\n",
    "    plt.show()"
   ]
  },
  {
   "cell_type": "code",
   "execution_count": 12,
   "metadata": {},
   "outputs": [
    {
     "data": {
      "image/png": "[encoded data removed]",
      "text/plain": [
       "<Figure size 1200x800 with 1 Axes>"
      ]
     },
     "metadata": {},
     "output_type": "display_data"
    }
   ],
   "source": [
    "oil_hist(data0['product'], 200, 200, 800)"
   ]
  },
  {
   "cell_type": "code",
   "execution_count": 13,
   "metadata": {},
   "outputs": [
    {
     "data": {
      "image/png": "[encoded data removed]",
      "text/plain": [
       "<Figure size 1200x800 with 1 Axes>"
      ]
     },
     "metadata": {},
     "output_type": "display_data"
    }
   ],
   "source": [
    "oil_hist(data1['product'], 50, 140, 9000)"
   ]
  },
  {
   "cell_type": "code",
   "execution_count": 14,
   "metadata": {
    "scrolled": true
   },
   "outputs": [
    {
     "data": {
      "image/png": "[encoded data removed]",
      "text/plain": [
       "<Figure size 1200x800 with 1 Axes>"
      ]
     },
     "metadata": {},
     "output_type": "display_data"
    }
   ],
   "source": [
    "oil_hist(data2['product'], 200, 200, 900)"
   ]
  },
  {
   "cell_type": "markdown",
   "metadata": {},
   "source": [
    "Все регионы имеют выраженный \"паттерн\" распределения ресурса скважин - они распределены с шагом, чередуя больший ресурс с меньшим. Наиболее сильно это выражено в регионе 1, в то время как в регионах 0 и 2 это распределение имеет некоторые признаки нормального - большинство скважин находятся в середине распределения, а крайние значения встречаются редко. \n",
    "\n",
    "**Гипотеза**: в регионе 1 были заполнены нулями пропуски (этим объясняется большое по сравнению с остальными количество нулевых значений). Посчитаем число нулей по каждому региону."
   ]
  },
  {
   "cell_type": "code",
   "execution_count": 15,
   "metadata": {},
   "outputs": [],
   "source": [
    "def check_zeros(data, name):\n",
    "    zeros = data[data[name] == 0][name].count()\n",
    "    percent = (zeros / data.shape[0]) * 100\n",
    "    print('Количество нулевых значений:', zeros)\n",
    "    print('Процент нулевых значений: {:.3f}'.format(percent))"
   ]
  },
  {
   "cell_type": "code",
   "execution_count": 16,
   "metadata": {},
   "outputs": [
    {
     "name": "stdout",
     "output_type": "stream",
     "text": [
      "Количество нулевых значений: 1\n",
      "Процент нулевых значений: 0.001\n",
      "Количество нулевых значений: 8235\n",
      "Процент нулевых значений: 8.235\n",
      "Количество нулевых значений: 1\n",
      "Процент нулевых значений: 0.001\n"
     ]
    }
   ],
   "source": [
    "regions = [data0, data1, data2]\n",
    "\n",
    "for region in regions:\n",
    "    check_zeros(region, 'product')"
   ]
  },
  {
   "cell_type": "markdown",
   "metadata": {},
   "source": [
    "Нулей в регионах 0 и 2 всего по одному, в регионе 1 же - 8235, что составляет 8,235% от всех значений. Это выглядит как подтверждение гипотезы о заполненных пропусках, но из условия задачи мне непонятно, можно ли удалить такие значения. Поэтому я удаляю только явные дубликаты (определяя их по столбцу `id`) и избавляюсь от него как от ненужного в расчётах. Строка с удалением нулевых значений закомментирована на случай, если она понадобится."
   ]
  },
  {
   "cell_type": "code",
   "execution_count": 17,
   "metadata": {},
   "outputs": [],
   "source": [
    "def drop_data(data):\n",
    "    data_cleaned = data.drop_duplicates(subset='id')\n",
    "    data_cleaned = data_cleaned.drop('id', axis=1)\n",
    "    # data_cleaned = data_cleaned.loc[data_cleaned['product'] != 0]\n",
    "    features = data_cleaned.drop('product', axis=1)\n",
    "    target = data_cleaned['product']\n",
    "    return features, target"
   ]
  },
  {
   "cell_type": "code",
   "execution_count": 18,
   "metadata": {},
   "outputs": [],
   "source": [
    "def split_features(features, target):\n",
    "    features_train, features_valid, target_train, target_valid = train_test_split(\n",
    "    features, target, test_size=0.25, random_state=12345, stratify=pd.qcut(target, 10))\n",
    "    print(features_train.shape)\n",
    "    print(features_valid.shape)\n",
    "    print(target_train.shape)\n",
    "    print(target_valid.shape)\n",
    "    return features_train, features_valid, target_train, target_valid"
   ]
  },
  {
   "cell_type": "markdown",
   "metadata": {},
   "source": [
    "## Обучение и проверка модели"
   ]
  },
  {
   "cell_type": "markdown",
   "metadata": {},
   "source": [
    "Разбиваем выборки для каждого региона на обучающую и валидационную выборки в соотношении 75%-25%."
   ]
  },
  {
   "cell_type": "code",
   "execution_count": 19,
   "metadata": {},
   "outputs": [
    {
     "name": "stdout",
     "output_type": "stream",
     "text": [
      "(74992, 3)\n",
      "(24998, 3)\n",
      "(74992,)\n",
      "(24998,)\n",
      "(74997, 3)\n",
      "(24999, 3)\n",
      "(74997,)\n",
      "(24999,)\n",
      "(74997, 3)\n",
      "(24999, 3)\n",
      "(74997,)\n",
      "(24999,)\n"
     ]
    }
   ],
   "source": [
    "features0, target0 = drop_data(data0)\n",
    "features0_train, features0_valid, target0_train, target0_valid = split_features(features0, target0)\n",
    "features1, target1 = drop_data(data1)\n",
    "features1_train, features1_valid, target1_train, target1_valid = split_features(features1, target1)\n",
    "features2, target2 = drop_data(data2)\n",
    "features2_train, features2_valid, target2_train, target2_valid = split_features(features2, target2)"
   ]
  },
  {
   "cell_type": "code",
   "execution_count": 20,
   "metadata": {},
   "outputs": [],
   "source": [
    "def model_work(name, model, features_train, target_train, features_valid, target_valid):\n",
    "    model.fit(features_train, target_train)\n",
    "    predicted_valid = model.predict(features_valid)\n",
    "    mse = mean_squared_error(target_valid, predicted_valid)\n",
    "    print(name)\n",
    "    # решила везде форматировать вывод для избежания слишком длинных чисел\n",
    "    print('Среднее значение: {:.2f}'.format(predicted_valid.mean()))\n",
    "    print('RMSE: {:.2f}'.format(mse ** 0.5))\n",
    "    print()\n",
    "    return predicted_valid"
   ]
  },
  {
   "cell_type": "code",
   "execution_count": 21,
   "metadata": {},
   "outputs": [
    {
     "name": "stdout",
     "output_type": "stream",
     "text": [
      "Регион 0\n",
      "Среднее значение: 92.54\n",
      "RMSE: 37.76\n",
      "\n",
      "Регион 1\n",
      "Среднее значение: 68.83\n",
      "RMSE: 0.88\n",
      "\n",
      "Регион 2\n",
      "Среднее значение: 95.00\n",
      "RMSE: 40.01\n",
      "\n"
     ]
    }
   ],
   "source": [
    "model = LinearRegression()\n",
    "predicted0_valid = model_work('Регион 0', model, features0_train, target0_train, features0_valid, target0_valid)\n",
    "predicted1_valid = model_work('Регион 1', model, features1_train, target1_train, features1_valid, target1_valid)\n",
    "predicted2_valid = model_work('Регион 2', model, features2_train, target2_train, features2_valid, target2_valid)"
   ]
  },
  {
   "cell_type": "markdown",
   "metadata": {},
   "source": [
    "Предсказания о количестве нефти по сумме примерно совпадают с суммой реальных значений из валидационной выборке. Лучше всего модель предсказала запасы в регионе 1 (RMSE - 0.89), далее в 0 и 2 соотвественно. Но в регионе 1 при этом минимальное среднее количество нефти на скважину. Достаточно ли его будет для того, чтобы рассматривать этот регион как кандидата на разработку?"
   ]
  },
  {
   "cell_type": "markdown",
   "metadata": {},
   "source": [
    "## Подготовка к расчёту прибыли"
   ]
  },
  {
   "cell_type": "markdown",
   "metadata": {},
   "source": [
    "Сохраняем в отдельных переменных данные, которые понадобятся для расчётов (предсказанные и истинные из валидационной выборки)."
   ]
  },
  {
   "cell_type": "code",
   "execution_count": 22,
   "metadata": {
    "scrolled": true
   },
   "outputs": [],
   "source": [
    "def df_finalize(target, predicted):\n",
    "    data_final = pd.DataFrame(\n",
    "    data={\n",
    "        'true': target,\n",
    "        'pred': predicted\n",
    "        }\n",
    "    )\n",
    "    return data_final"
   ]
  },
  {
   "cell_type": "code",
   "execution_count": 23,
   "metadata": {},
   "outputs": [],
   "source": [
    "data0_final = df_finalize(target0_valid, predicted0_valid)\n",
    "data1_final = df_finalize(target1_valid, predicted1_valid)\n",
    "data2_final = df_finalize(target2_valid, predicted2_valid)"
   ]
  },
  {
   "cell_type": "markdown",
   "metadata": {},
   "source": [
    "Находим достаточный объём сырья для безубыточной разработки. Сначала создаём переменные, в которых храним экономическую информацию:"
   ]
  },
  {
   "cell_type": "code",
   "execution_count": 24,
   "metadata": {},
   "outputs": [],
   "source": [
    "# поскольку прибыль считаем в тысячах рублей на тысячу баррелей, убираем три последних нуля, чтобы избежать длинных чисел\n",
    "# и записывать результаты в тысячах\n",
    "BUDGET = 10000000\n",
    "CHOSEN_POINTS = 500\n",
    "BEST_POINTS = 200\n",
    "PRICE_PER_BARREL = 450"
   ]
  },
  {
   "cell_type": "markdown",
   "metadata": {},
   "source": [
    "Столько должно быть нефти в регионе, чтобы разработка его гарантированно не принесла убытков:"
   ]
  },
  {
   "cell_type": "code",
   "execution_count": 25,
   "metadata": {},
   "outputs": [
    {
     "name": "stdout",
     "output_type": "stream",
     "text": [
      "Средняя прибыль на лучшую шахту: 50000.0 тыс. рублей\n",
      "Средний объем нефти на шахту: 111.11 тыс. баррелей\n",
      "Средний объем нефти на регион: 22222.22 тыс. баррелей\n"
     ]
    }
   ],
   "source": [
    "average_profit_per_point = BUDGET / BEST_POINTS\n",
    "print('Средняя прибыль на лучшую шахту:', average_profit_per_point, 'тыс. рублей')\n",
    "\n",
    "average_barrels_per_point = average_profit_per_point  / PRICE_PER_BARREL\n",
    "print('Средний объем нефти на шахту: {:.2f} тыс. баррелей'.format(average_barrels_per_point))\n",
    "\n",
    "average_barrels = BUDGET / PRICE_PER_BARREL\n",
    "print('Средний объем нефти на регион: {:.2f} тыс. баррелей'.format(average_barrels))"
   ]
  },
  {
   "cell_type": "code",
   "execution_count": 26,
   "metadata": {
    "scrolled": true
   },
   "outputs": [
    {
     "name": "stdout",
     "output_type": "stream",
     "text": [
      "Суммарный предсказанный запас в регионе: 2313214.50\n",
      "Суммарный реальный запас в регионе: 2312568.79\n",
      "Среднее количество нефти на шахту в регионе (реальное): 92.51\n",
      "\n",
      "Суммарный предсказанный запас в регионе: 1720747.46\n",
      "Суммарный реальный запас в регионе: 1720399.56\n",
      "Среднее количество нефти на шахту в регионе (реальное): 68.82\n",
      "\n",
      "Суммарный предсказанный запас в регионе: 2374814.29\n",
      "Суммарный реальный запас в регионе: 2375802.52\n",
      "Среднее количество нефти на шахту в регионе (реальное): 95.04\n",
      "\n"
     ]
    }
   ],
   "source": [
    "region_data = [data0_final, data1_final, data2_final]\n",
    "for each in region_data:\n",
    "    print('Суммарный предсказанный запас в регионе: {:.2f}'.format(each['pred'].sum()))\n",
    "    print('Суммарный реальный запас в регионе: {:.2f}'.format(each['true'].sum()))\n",
    "    print('Среднее количество нефти на шахту в регионе (реальное): {:.2f}'.format(each['true'].mean()))\n",
    "    print()"
   ]
  },
  {
   "cell_type": "markdown",
   "metadata": {},
   "source": [
    "Среднее количество на шахту в каждом регионе заметно меньше, чем нужное для безубыточной разработки, но в регионах 0 и 2 значение довольно близко. С другой стороны, в регионе 1 меньше всего RMSE, т.е. ниже разброс предсказанных и реальных значений, что объяснено меньшей вариативностью их распределения.\n",
    "\n",
    "***Также:*** если мы удаляли нулевые значения из исходных датасетов, среднее количество нефти на шахту в регионе 1 станет `75.03`. В остальных оно не изменится из-за крайне малого количества нулей.\n",
    "\n",
    "Создадим функцию для расчета прибыли на 500 разведанных точек."
   ]
  },
  {
   "cell_type": "code",
   "execution_count": 27,
   "metadata": {},
   "outputs": [],
   "source": [
    "def oil_profit_calculation(target, probabilities, count):\n",
    "    probs_sorted = probabilities.sort_values(ascending=False)\n",
    "    selected = target[probs_sorted.index][:count]\n",
    "    return PRICE_PER_BARREL * selected.sum() - BUDGET"
   ]
  },
  {
   "cell_type": "markdown",
   "metadata": {},
   "source": [
    "<div class='alert alert-success'> ✔️Функция oil_profit_calculation корректная, молодец, что используешь объявленные константы, что делает внесение изменений более гибким.\n",
    "\n",
    "</div>"
   ]
  },
  {
   "cell_type": "markdown",
   "metadata": {},
   "source": [
    "## Расчёт прибыли и рисков "
   ]
  },
  {
   "cell_type": "markdown",
   "metadata": {},
   "source": [
    "Создаём функцию для Bootstrap."
   ]
  },
  {
   "cell_type": "code",
   "execution_count": 28,
   "metadata": {},
   "outputs": [],
   "source": [
    "state = np.random.RandomState(12345)\n",
    "\n",
    "def bootstrap(target, probs):\n",
    "    values = [] # список значений выгоды\n",
    "    lost = 0 # здесь будет счётчик убыточных скважин\n",
    "    for i in range(1000):\n",
    "        target_sample = target.sample(replace=True, random_state=state, n=CHOSEN_POINTS)\n",
    "        probs_sample = probs[target_sample.index]\n",
    "        profit = oil_profit_calculation(target, probs_sample, BEST_POINTS)\n",
    "        if profit < 0:\n",
    "            lost +=1\n",
    "        values.append(profit)\n",
    "    \n",
    "    values = pd.Series(values)\n",
    "    lower = values.quantile(0.025)\n",
    "    upper = values.quantile(0.975)\n",
    "    average = values.mean()\n",
    "    risk = lost / 1000\n",
    "    return average, lower, upper, risk"
   ]
  },
  {
   "cell_type": "code",
   "execution_count": 29,
   "metadata": {},
   "outputs": [],
   "source": [
    "average_0, lower_0, upper_0, risk_0 = bootstrap(data0_final['true'], \n",
    "                                                     data0_final['pred'])\n",
    "average_1, lower_1, upper_1, risk_1 = bootstrap(data1_final['true'], \n",
    "                                                     data1_final['pred'])\n",
    "average_2, lower_2, upper_2, risk_2 = bootstrap(data2_final['true'], \n",
    "                                                     data2_final['pred'])"
   ]
  },
  {
   "cell_type": "code",
   "execution_count": 30,
   "metadata": {},
   "outputs": [
    {
     "name": "stdout",
     "output_type": "stream",
     "text": [
      "Данные по региону 0\n",
      "Средняя прибыль по региону = 438892.32 тыс.руб.\n",
      "95% доверительный интервал от -72087.52 до 935802.08 тыс.руб.\n",
      "Процент риска 4.50%\n",
      "\n",
      "Данные по региону 1\n",
      "Средняя прибыль по региону = 443676.36 тыс.руб.\n",
      "95% доверительный интервал от 1759.61 до 870139.25 тыс.руб.\n",
      "Процент риска 2.40%\n",
      "\n",
      "Данные по региону 2\n",
      "Средняя прибыль по региону = 394819.74 тыс.руб.\n",
      "95% доверительный интервал от -123097.58 до 898331.65 тыс.руб.\n",
      "Процент риска 6.30%\n",
      "\n"
     ]
    }
   ],
   "source": [
    "print('Данные по региону 0')\n",
    "print('Средняя прибыль по региону = {:.2f} тыс.руб.'.format(average_0))\n",
    "print('95% доверительный интервал от {:.2f} до {:.2f} тыс.руб.'.format(lower_0, upper_0))\n",
    "print('Процент риска {:.2%}'.format(risk_0))\n",
    "print()\n",
    "print('Данные по региону 1')\n",
    "print('Средняя прибыль по региону = {:.2f} тыс.руб.'.format(average_1))\n",
    "print('95% доверительный интервал от {:.2f} до {:.2f} тыс.руб.'.format(lower_1, upper_1))\n",
    "print('Процент риска {:.2%}'.format(risk_1))\n",
    "print()\n",
    "print('Данные по региону 2')\n",
    "print('Средняя прибыль по региону = {:.2f} тыс.руб.'.format(average_2))\n",
    "print('95% доверительный интервал от {:.2f} до {:.2f} тыс.руб.'.format(lower_2, upper_2))\n",
    "print('Процент риска {:.2%}'.format(risk_2))\n",
    "print()"
   ]
  },
  {
   "cell_type": "markdown",
   "metadata": {},
   "source": [
    "Анализ по выборкам, произведённым с помощью Bootstrap, показывает, что самый низкий риск - у региона 1 (где ранее выявлен минимальный RMSE), и его 95% доверительный интервал не включает в себя убытки, в отличие от двух остальных регионов. Следовательно, лучше всего будет начать разработку именно в регионе 1, т.к. даже при неудачном выборе конкретных скважин велика вероятность получить прибыль, хоть и небольшую.\n",
    "\n",
    "***Также:*** если мы удаляли нули из исходных датасетов, то распределение результатов станет таким\n",
    "```\n",
    "Данные по региону 0\n",
    "Средняя прибыль по региону = 448672.18 тыс.руб.\n",
    "95% доверительный интервал от -44374.70 до 958707.23 тыс.руб.\n",
    "Процент риска 4.20%\n",
    "\n",
    "Данные по региону 1\n",
    "Средняя прибыль по региону = 711314.59 тыс.руб.\n",
    "95% доверительный интервал от 319956.85 до 1079293.96 тыс.руб.\n",
    "Процент риска 0.00%\n",
    "\n",
    "Данные по региону 2\n",
    "Средняя прибыль по региону = 400384.19 тыс.руб.\n",
    "95% доверительный интервал от -126404.11 до 918350.95 тыс.руб.\n",
    "Процент риска 6.60%\n",
    "```\n",
    "Это тоже даёт более выгодную картину по региону 1."
   ]
  },
  {
   "cell_type": "markdown",
   "metadata": {},
   "source": [
    "## Чек-лист готовности проекта"
   ]
  },
  {
   "cell_type": "markdown",
   "metadata": {},
   "source": [
    "Поставьте 'x' в выполненных пунктах. Далее нажмите Shift+Enter."
   ]
  },
  {
   "cell_type": "markdown",
   "metadata": {},
   "source": [
    "- [x]  Jupyter Notebook открыт\n",
    "- [x]  Весь код выполняется без ошибок\n",
    "- [x]  Ячейки с кодом расположены в порядке исполнения\n",
    "- [x]  Выполнен шаг 1: данные подготовлены\n",
    "- [x]  Выполнен шаг 2: модели обучены и проверены\n",
    "    - [x]  Данные корректно разбиты на обучающую и валидационную выборки\n",
    "    - [x]  Модели обучены, предсказания сделаны\n",
    "    - [x]  Предсказания и правильные ответы на валидационной выборке сохранены\n",
    "    - [x]  На экране напечатаны результаты\n",
    "    - [x]  Сделаны выводы\n",
    "- [x]  Выполнен шаг 3: проведена подготовка к расчёту прибыли\n",
    "    - [x]  Для всех ключевых значений созданы константы Python\n",
    "    - [x]  Посчитано минимальное среднее количество продукта в месторождениях региона, достаточное для разработки\n",
    "    - [x]  По предыдущему пункту сделаны выводы\n",
    "    - [x]  Написана функция расчёта прибыли\n",
    "- [x]  Выполнен шаг 4: посчитаны риски и прибыль\n",
    "    - [x]  Проведена процедура *Bootstrap*\n",
    "    - [x]  Все параметры бутстрепа соответствуют условию\n",
    "    - [x]  Найдены все нужные величины\n",
    "    - [x]  Предложен регион для разработки месторождения\n",
    "    - [x]  Выбор региона обоснован"
   ]
  },
  {
   "cell_type": "code",
   "execution_count": null,
   "metadata": {},
   "outputs": [],
   "source": []
  }
 ],
 "metadata": {
  "ExecuteTimeLog": [
   {
    "duration": 2115,
    "start_time": "2023-04-14T07:41:43.727Z"
   },
   {
    "duration": 2075,
    "start_time": "2023-04-14T07:41:45.844Z"
   },
   {
    "duration": 13,
    "start_time": "2023-04-14T07:42:07.301Z"
   },
   {
    "duration": 16,
    "start_time": "2023-04-14T07:42:09.224Z"
   },
   {
    "duration": 33,
    "start_time": "2023-04-14T07:42:20.797Z"
   },
   {
    "duration": 30,
    "start_time": "2023-04-14T07:42:21.594Z"
   },
   {
    "duration": 20,
    "start_time": "2023-04-14T07:42:22.015Z"
   },
   {
    "duration": 9,
    "start_time": "2023-04-14T07:42:39.923Z"
   },
   {
    "duration": 6,
    "start_time": "2023-04-14T07:42:40.814Z"
   },
   {
    "duration": 10,
    "start_time": "2023-04-14T07:42:41.913Z"
   },
   {
    "duration": 4,
    "start_time": "2023-04-14T07:43:02.321Z"
   },
   {
    "duration": 485,
    "start_time": "2023-04-14T07:43:03.613Z"
   },
   {
    "duration": 276,
    "start_time": "2023-04-14T07:43:05.141Z"
   },
   {
    "duration": 585,
    "start_time": "2023-04-14T07:43:07.015Z"
   },
   {
    "duration": 10,
    "start_time": "2023-04-14T07:44:28.423Z"
   },
   {
    "duration": 31,
    "start_time": "2023-04-14T07:44:31.413Z"
   },
   {
    "duration": 9,
    "start_time": "2023-04-14T07:45:07.513Z"
   },
   {
    "duration": 4,
    "start_time": "2023-04-14T07:45:26.740Z"
   },
   {
    "duration": 3333,
    "start_time": "2023-04-14T07:45:51.415Z"
   },
   {
    "duration": 4,
    "start_time": "2023-04-14T07:46:29.380Z"
   },
   {
    "duration": 331,
    "start_time": "2023-04-14T07:46:36.481Z"
   },
   {
    "duration": 3,
    "start_time": "2023-04-14T07:47:43.223Z"
   },
   {
    "duration": 10,
    "start_time": "2023-04-14T07:47:43.782Z"
   },
   {
    "duration": 3,
    "start_time": "2023-04-14T07:47:52.218Z"
   },
   {
    "duration": 4,
    "start_time": "2023-04-14T07:48:29.734Z"
   },
   {
    "duration": 4,
    "start_time": "2023-04-14T07:50:46.912Z"
   },
   {
    "duration": 5,
    "start_time": "2023-04-14T07:52:16.877Z"
   },
   {
    "duration": 3359,
    "start_time": "2023-04-14T07:52:29.082Z"
   },
   {
    "duration": 9,
    "start_time": "2023-04-14T07:52:32.687Z"
   },
   {
    "duration": 7,
    "start_time": "2023-04-14T07:52:50.545Z"
   },
   {
    "duration": 4000,
    "start_time": "2023-04-14T07:52:51.546Z"
   },
   {
    "duration": 7,
    "start_time": "2023-04-14T07:52:59.382Z"
   },
   {
    "duration": 6,
    "start_time": "2023-04-14T07:53:22.047Z"
   }
  ],
  "kernelspec": {
   "display_name": "Python 3 (ipykernel)",
   "language": "python",
   "name": "python3"
  },
  "language_info": {
   "codemirror_mode": {
    "name": "ipython",
    "version": 3
   },
   "file_extension": ".py",
   "mimetype": "text/x-python",
   "name": "python",
   "nbconvert_exporter": "python",
   "pygments_lexer": "ipython3",
   "version": "3.9.13"
  },
  "toc": {
   "base_numbering": 1,
   "nav_menu": {},
   "number_sections": true,
   "sideBar": true,
   "skip_h1_title": true,
   "title_cell": "Table of Contents",
   "title_sidebar": "Contents",
   "toc_cell": false,
   "toc_position": {},
   "toc_section_display": true,
   "toc_window_display": false
  }
 },
 "nbformat": 4,
 "nbformat_minor": 2
}
