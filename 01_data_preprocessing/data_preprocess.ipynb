{
 "cells": [
  {
   "cell_type": "markdown",
   "id": "d163f1e9",
   "metadata": {
    "deletable": false,
    "editable": false,
    "id": "c81daeeb"
   },
   "source": [
    "# Исследование надежности заемщиков\n"
   ]
  },
  {
   "cell_type": "markdown",
   "id": "a05b43ce",
   "metadata": {
    "deletable": false,
    "editable": false,
    "id": "827c20bf"
   },
   "source": [
    "Во второй части проекта вы выполните шаги 3 и 4. Их вручную проверит ревьюер.\n",
    "Чтобы вам не пришлось писать код заново для шагов 1 и 2, мы добавили авторские решения в ячейки с кодом. \n",
    "\n"
   ]
  },
  {
   "cell_type": "markdown",
   "id": "efa93394",
   "metadata": {},
   "source": [
    "Заказчик — кредитный отдел банка. Нужно разобраться, влияет ли семейное положение и количество детей клиента на факт погашения кредита в срок. Входные данные от банка — статистика о платёжеспособности клиентов.\n",
    "Результаты исследования будут учтены при построении модели кредитного скоринга — специальной системы, которая оценивает способность потенциального заёмщика вернуть кредит банку."
   ]
  },
  {
   "cell_type": "markdown",
   "id": "057af960",
   "metadata": {
    "deletable": false,
    "editable": false,
    "id": "744d7639"
   },
   "source": [
    "## Откройте таблицу и изучите общую информацию о данных"
   ]
  },
  {
   "cell_type": "markdown",
   "id": "3d7a909c",
   "metadata": {
    "deletable": false,
    "editable": false,
    "id": "e7a14c31"
   },
   "source": [
    "**Задание 1. Импортируйте библиотеку pandas. Считайте данные из csv-файла в датафрейм и сохраните в переменную `data`. Путь к файлу:**\n",
    "\n",
    "`/datasets/data.csv`"
   ]
  },
  {
   "cell_type": "code",
   "execution_count": 1,
   "id": "b07cce0a",
   "metadata": {
    "deletable": false,
    "id": "7bcf75c9"
   },
   "outputs": [],
   "source": [
    "import pandas as pd\n",
    "\n",
    "try:\n",
    "    data = pd.read_csv('/datasets/data.csv')\n",
    "except:\n",
    "    data = pd.read_csv('https://code.s3.yandex.net/datasets/data.csv')"
   ]
  },
  {
   "cell_type": "markdown",
   "id": "3e40c809",
   "metadata": {
    "deletable": false,
    "editable": false,
    "id": "b8038fe3"
   },
   "source": [
    "**Задание 2. Выведите первые 20 строчек датафрейма `data` на экран.**"
   ]
  },
  {
   "cell_type": "code",
   "execution_count": 2,
   "id": "7a9854fa",
   "metadata": {
    "deletable": false,
    "id": "2a7cab99",
    "outputId": "1a8f3ef2-d323-4ec2-ddf7-89670b5944c4"
   },
   "outputs": [
    {
     "data": {
      "text/html": [
       "<div>\n",
       "<style scoped>\n",
       "    .dataframe tbody tr th:only-of-type {\n",
       "        vertical-align: middle;\n",
       "    }\n",
       "\n",
       "    .dataframe tbody tr th {\n",
       "        vertical-align: top;\n",
       "    }\n",
       "\n",
       "    .dataframe thead th {\n",
       "        text-align: right;\n",
       "    }\n",
       "</style>\n",
       "<table border=\"1\" class=\"dataframe\">\n",
       "  <thead>\n",
       "    <tr style=\"text-align: right;\">\n",
       "      <th></th>\n",
       "      <th>children</th>\n",
       "      <th>days_employed</th>\n",
       "      <th>dob_years</th>\n",
       "      <th>education</th>\n",
       "      <th>education_id</th>\n",
       "      <th>family_status</th>\n",
       "      <th>family_status_id</th>\n",
       "      <th>gender</th>\n",
       "      <th>income_type</th>\n",
       "      <th>debt</th>\n",
       "      <th>total_income</th>\n",
       "      <th>purpose</th>\n",
       "    </tr>\n",
       "  </thead>\n",
       "  <tbody>\n",
       "    <tr>\n",
       "      <th>0</th>\n",
       "      <td>1</td>\n",
       "      <td>-8437.673028</td>\n",
       "      <td>42</td>\n",
       "      <td>высшее</td>\n",
       "      <td>0</td>\n",
       "      <td>женат / замужем</td>\n",
       "      <td>0</td>\n",
       "      <td>F</td>\n",
       "      <td>сотрудник</td>\n",
       "      <td>0</td>\n",
       "      <td>253875.639453</td>\n",
       "      <td>покупка жилья</td>\n",
       "    </tr>\n",
       "    <tr>\n",
       "      <th>1</th>\n",
       "      <td>1</td>\n",
       "      <td>-4024.803754</td>\n",
       "      <td>36</td>\n",
       "      <td>среднее</td>\n",
       "      <td>1</td>\n",
       "      <td>женат / замужем</td>\n",
       "      <td>0</td>\n",
       "      <td>F</td>\n",
       "      <td>сотрудник</td>\n",
       "      <td>0</td>\n",
       "      <td>112080.014102</td>\n",
       "      <td>приобретение автомобиля</td>\n",
       "    </tr>\n",
       "    <tr>\n",
       "      <th>2</th>\n",
       "      <td>0</td>\n",
       "      <td>-5623.422610</td>\n",
       "      <td>33</td>\n",
       "      <td>Среднее</td>\n",
       "      <td>1</td>\n",
       "      <td>женат / замужем</td>\n",
       "      <td>0</td>\n",
       "      <td>M</td>\n",
       "      <td>сотрудник</td>\n",
       "      <td>0</td>\n",
       "      <td>145885.952297</td>\n",
       "      <td>покупка жилья</td>\n",
       "    </tr>\n",
       "    <tr>\n",
       "      <th>3</th>\n",
       "      <td>3</td>\n",
       "      <td>-4124.747207</td>\n",
       "      <td>32</td>\n",
       "      <td>среднее</td>\n",
       "      <td>1</td>\n",
       "      <td>женат / замужем</td>\n",
       "      <td>0</td>\n",
       "      <td>M</td>\n",
       "      <td>сотрудник</td>\n",
       "      <td>0</td>\n",
       "      <td>267628.550329</td>\n",
       "      <td>дополнительное образование</td>\n",
       "    </tr>\n",
       "    <tr>\n",
       "      <th>4</th>\n",
       "      <td>0</td>\n",
       "      <td>340266.072047</td>\n",
       "      <td>53</td>\n",
       "      <td>среднее</td>\n",
       "      <td>1</td>\n",
       "      <td>гражданский брак</td>\n",
       "      <td>1</td>\n",
       "      <td>F</td>\n",
       "      <td>пенсионер</td>\n",
       "      <td>0</td>\n",
       "      <td>158616.077870</td>\n",
       "      <td>сыграть свадьбу</td>\n",
       "    </tr>\n",
       "    <tr>\n",
       "      <th>5</th>\n",
       "      <td>0</td>\n",
       "      <td>-926.185831</td>\n",
       "      <td>27</td>\n",
       "      <td>высшее</td>\n",
       "      <td>0</td>\n",
       "      <td>гражданский брак</td>\n",
       "      <td>1</td>\n",
       "      <td>M</td>\n",
       "      <td>компаньон</td>\n",
       "      <td>0</td>\n",
       "      <td>255763.565419</td>\n",
       "      <td>покупка жилья</td>\n",
       "    </tr>\n",
       "    <tr>\n",
       "      <th>6</th>\n",
       "      <td>0</td>\n",
       "      <td>-2879.202052</td>\n",
       "      <td>43</td>\n",
       "      <td>высшее</td>\n",
       "      <td>0</td>\n",
       "      <td>женат / замужем</td>\n",
       "      <td>0</td>\n",
       "      <td>F</td>\n",
       "      <td>компаньон</td>\n",
       "      <td>0</td>\n",
       "      <td>240525.971920</td>\n",
       "      <td>операции с жильем</td>\n",
       "    </tr>\n",
       "    <tr>\n",
       "      <th>7</th>\n",
       "      <td>0</td>\n",
       "      <td>-152.779569</td>\n",
       "      <td>50</td>\n",
       "      <td>СРЕДНЕЕ</td>\n",
       "      <td>1</td>\n",
       "      <td>женат / замужем</td>\n",
       "      <td>0</td>\n",
       "      <td>M</td>\n",
       "      <td>сотрудник</td>\n",
       "      <td>0</td>\n",
       "      <td>135823.934197</td>\n",
       "      <td>образование</td>\n",
       "    </tr>\n",
       "    <tr>\n",
       "      <th>8</th>\n",
       "      <td>2</td>\n",
       "      <td>-6929.865299</td>\n",
       "      <td>35</td>\n",
       "      <td>ВЫСШЕЕ</td>\n",
       "      <td>0</td>\n",
       "      <td>гражданский брак</td>\n",
       "      <td>1</td>\n",
       "      <td>F</td>\n",
       "      <td>сотрудник</td>\n",
       "      <td>0</td>\n",
       "      <td>95856.832424</td>\n",
       "      <td>на проведение свадьбы</td>\n",
       "    </tr>\n",
       "    <tr>\n",
       "      <th>9</th>\n",
       "      <td>0</td>\n",
       "      <td>-2188.756445</td>\n",
       "      <td>41</td>\n",
       "      <td>среднее</td>\n",
       "      <td>1</td>\n",
       "      <td>женат / замужем</td>\n",
       "      <td>0</td>\n",
       "      <td>M</td>\n",
       "      <td>сотрудник</td>\n",
       "      <td>0</td>\n",
       "      <td>144425.938277</td>\n",
       "      <td>покупка жилья для семьи</td>\n",
       "    </tr>\n",
       "    <tr>\n",
       "      <th>10</th>\n",
       "      <td>2</td>\n",
       "      <td>-4171.483647</td>\n",
       "      <td>36</td>\n",
       "      <td>высшее</td>\n",
       "      <td>0</td>\n",
       "      <td>женат / замужем</td>\n",
       "      <td>0</td>\n",
       "      <td>M</td>\n",
       "      <td>компаньон</td>\n",
       "      <td>0</td>\n",
       "      <td>113943.491460</td>\n",
       "      <td>покупка недвижимости</td>\n",
       "    </tr>\n",
       "    <tr>\n",
       "      <th>11</th>\n",
       "      <td>0</td>\n",
       "      <td>-792.701887</td>\n",
       "      <td>40</td>\n",
       "      <td>среднее</td>\n",
       "      <td>1</td>\n",
       "      <td>женат / замужем</td>\n",
       "      <td>0</td>\n",
       "      <td>F</td>\n",
       "      <td>сотрудник</td>\n",
       "      <td>0</td>\n",
       "      <td>77069.234271</td>\n",
       "      <td>покупка коммерческой недвижимости</td>\n",
       "    </tr>\n",
       "    <tr>\n",
       "      <th>12</th>\n",
       "      <td>0</td>\n",
       "      <td>NaN</td>\n",
       "      <td>65</td>\n",
       "      <td>среднее</td>\n",
       "      <td>1</td>\n",
       "      <td>гражданский брак</td>\n",
       "      <td>1</td>\n",
       "      <td>M</td>\n",
       "      <td>пенсионер</td>\n",
       "      <td>0</td>\n",
       "      <td>NaN</td>\n",
       "      <td>сыграть свадьбу</td>\n",
       "    </tr>\n",
       "    <tr>\n",
       "      <th>13</th>\n",
       "      <td>0</td>\n",
       "      <td>-1846.641941</td>\n",
       "      <td>54</td>\n",
       "      <td>неоконченное высшее</td>\n",
       "      <td>2</td>\n",
       "      <td>женат / замужем</td>\n",
       "      <td>0</td>\n",
       "      <td>F</td>\n",
       "      <td>сотрудник</td>\n",
       "      <td>0</td>\n",
       "      <td>130458.228857</td>\n",
       "      <td>приобретение автомобиля</td>\n",
       "    </tr>\n",
       "    <tr>\n",
       "      <th>14</th>\n",
       "      <td>0</td>\n",
       "      <td>-1844.956182</td>\n",
       "      <td>56</td>\n",
       "      <td>высшее</td>\n",
       "      <td>0</td>\n",
       "      <td>гражданский брак</td>\n",
       "      <td>1</td>\n",
       "      <td>F</td>\n",
       "      <td>компаньон</td>\n",
       "      <td>1</td>\n",
       "      <td>165127.911772</td>\n",
       "      <td>покупка жилой недвижимости</td>\n",
       "    </tr>\n",
       "    <tr>\n",
       "      <th>15</th>\n",
       "      <td>1</td>\n",
       "      <td>-972.364419</td>\n",
       "      <td>26</td>\n",
       "      <td>среднее</td>\n",
       "      <td>1</td>\n",
       "      <td>женат / замужем</td>\n",
       "      <td>0</td>\n",
       "      <td>F</td>\n",
       "      <td>сотрудник</td>\n",
       "      <td>0</td>\n",
       "      <td>116820.904450</td>\n",
       "      <td>строительство собственной недвижимости</td>\n",
       "    </tr>\n",
       "    <tr>\n",
       "      <th>16</th>\n",
       "      <td>0</td>\n",
       "      <td>-1719.934226</td>\n",
       "      <td>35</td>\n",
       "      <td>среднее</td>\n",
       "      <td>1</td>\n",
       "      <td>женат / замужем</td>\n",
       "      <td>0</td>\n",
       "      <td>F</td>\n",
       "      <td>сотрудник</td>\n",
       "      <td>0</td>\n",
       "      <td>289202.704229</td>\n",
       "      <td>недвижимость</td>\n",
       "    </tr>\n",
       "    <tr>\n",
       "      <th>17</th>\n",
       "      <td>0</td>\n",
       "      <td>-2369.999720</td>\n",
       "      <td>33</td>\n",
       "      <td>высшее</td>\n",
       "      <td>0</td>\n",
       "      <td>гражданский брак</td>\n",
       "      <td>1</td>\n",
       "      <td>M</td>\n",
       "      <td>сотрудник</td>\n",
       "      <td>0</td>\n",
       "      <td>90410.586745</td>\n",
       "      <td>строительство недвижимости</td>\n",
       "    </tr>\n",
       "    <tr>\n",
       "      <th>18</th>\n",
       "      <td>0</td>\n",
       "      <td>400281.136913</td>\n",
       "      <td>53</td>\n",
       "      <td>среднее</td>\n",
       "      <td>1</td>\n",
       "      <td>вдовец / вдова</td>\n",
       "      <td>2</td>\n",
       "      <td>F</td>\n",
       "      <td>пенсионер</td>\n",
       "      <td>0</td>\n",
       "      <td>56823.777243</td>\n",
       "      <td>на покупку подержанного автомобиля</td>\n",
       "    </tr>\n",
       "    <tr>\n",
       "      <th>19</th>\n",
       "      <td>0</td>\n",
       "      <td>-10038.818549</td>\n",
       "      <td>48</td>\n",
       "      <td>СРЕДНЕЕ</td>\n",
       "      <td>1</td>\n",
       "      <td>в разводе</td>\n",
       "      <td>3</td>\n",
       "      <td>F</td>\n",
       "      <td>сотрудник</td>\n",
       "      <td>0</td>\n",
       "      <td>242831.107982</td>\n",
       "      <td>на покупку своего автомобиля</td>\n",
       "    </tr>\n",
       "  </tbody>\n",
       "</table>\n",
       "</div>"
      ],
      "text/plain": [
       "    children  days_employed  dob_years            education  education_id  \\\n",
       "0          1   -8437.673028         42               высшее             0   \n",
       "1          1   -4024.803754         36              среднее             1   \n",
       "2          0   -5623.422610         33              Среднее             1   \n",
       "3          3   -4124.747207         32              среднее             1   \n",
       "4          0  340266.072047         53              среднее             1   \n",
       "5          0    -926.185831         27               высшее             0   \n",
       "6          0   -2879.202052         43               высшее             0   \n",
       "7          0    -152.779569         50              СРЕДНЕЕ             1   \n",
       "8          2   -6929.865299         35               ВЫСШЕЕ             0   \n",
       "9          0   -2188.756445         41              среднее             1   \n",
       "10         2   -4171.483647         36               высшее             0   \n",
       "11         0    -792.701887         40              среднее             1   \n",
       "12         0            NaN         65              среднее             1   \n",
       "13         0   -1846.641941         54  неоконченное высшее             2   \n",
       "14         0   -1844.956182         56               высшее             0   \n",
       "15         1    -972.364419         26              среднее             1   \n",
       "16         0   -1719.934226         35              среднее             1   \n",
       "17         0   -2369.999720         33               высшее             0   \n",
       "18         0  400281.136913         53              среднее             1   \n",
       "19         0  -10038.818549         48              СРЕДНЕЕ             1   \n",
       "\n",
       "       family_status  family_status_id gender income_type  debt  \\\n",
       "0    женат / замужем                 0      F   сотрудник     0   \n",
       "1    женат / замужем                 0      F   сотрудник     0   \n",
       "2    женат / замужем                 0      M   сотрудник     0   \n",
       "3    женат / замужем                 0      M   сотрудник     0   \n",
       "4   гражданский брак                 1      F   пенсионер     0   \n",
       "5   гражданский брак                 1      M   компаньон     0   \n",
       "6    женат / замужем                 0      F   компаньон     0   \n",
       "7    женат / замужем                 0      M   сотрудник     0   \n",
       "8   гражданский брак                 1      F   сотрудник     0   \n",
       "9    женат / замужем                 0      M   сотрудник     0   \n",
       "10   женат / замужем                 0      M   компаньон     0   \n",
       "11   женат / замужем                 0      F   сотрудник     0   \n",
       "12  гражданский брак                 1      M   пенсионер     0   \n",
       "13   женат / замужем                 0      F   сотрудник     0   \n",
       "14  гражданский брак                 1      F   компаньон     1   \n",
       "15   женат / замужем                 0      F   сотрудник     0   \n",
       "16   женат / замужем                 0      F   сотрудник     0   \n",
       "17  гражданский брак                 1      M   сотрудник     0   \n",
       "18    вдовец / вдова                 2      F   пенсионер     0   \n",
       "19         в разводе                 3      F   сотрудник     0   \n",
       "\n",
       "     total_income                                 purpose  \n",
       "0   253875.639453                           покупка жилья  \n",
       "1   112080.014102                 приобретение автомобиля  \n",
       "2   145885.952297                           покупка жилья  \n",
       "3   267628.550329              дополнительное образование  \n",
       "4   158616.077870                         сыграть свадьбу  \n",
       "5   255763.565419                           покупка жилья  \n",
       "6   240525.971920                       операции с жильем  \n",
       "7   135823.934197                             образование  \n",
       "8    95856.832424                   на проведение свадьбы  \n",
       "9   144425.938277                 покупка жилья для семьи  \n",
       "10  113943.491460                    покупка недвижимости  \n",
       "11   77069.234271       покупка коммерческой недвижимости  \n",
       "12            NaN                         сыграть свадьбу  \n",
       "13  130458.228857                 приобретение автомобиля  \n",
       "14  165127.911772              покупка жилой недвижимости  \n",
       "15  116820.904450  строительство собственной недвижимости  \n",
       "16  289202.704229                            недвижимость  \n",
       "17   90410.586745              строительство недвижимости  \n",
       "18   56823.777243      на покупку подержанного автомобиля  \n",
       "19  242831.107982            на покупку своего автомобиля  "
      ]
     },
     "execution_count": 2,
     "metadata": {},
     "output_type": "execute_result"
    }
   ],
   "source": [
    "data.head(20)"
   ]
  },
  {
   "cell_type": "markdown",
   "id": "71a658e6",
   "metadata": {
    "deletable": false,
    "editable": false,
    "id": "1c12e233"
   },
   "source": [
    "**Задание 3. Выведите основную информацию о датафрейме с помощью метода `info()`.**"
   ]
  },
  {
   "cell_type": "code",
   "execution_count": 3,
   "id": "676a1d7c",
   "metadata": {
    "deletable": false,
    "id": "2b757bca",
    "outputId": "15376089-8dad-46c9-b520-c05248d43158"
   },
   "outputs": [
    {
     "name": "stdout",
     "output_type": "stream",
     "text": [
      "<class 'pandas.core.frame.DataFrame'>\n",
      "RangeIndex: 21525 entries, 0 to 21524\n",
      "Data columns (total 12 columns):\n",
      " #   Column            Non-Null Count  Dtype  \n",
      "---  ------            --------------  -----  \n",
      " 0   children          21525 non-null  int64  \n",
      " 1   days_employed     19351 non-null  float64\n",
      " 2   dob_years         21525 non-null  int64  \n",
      " 3   education         21525 non-null  object \n",
      " 4   education_id      21525 non-null  int64  \n",
      " 5   family_status     21525 non-null  object \n",
      " 6   family_status_id  21525 non-null  int64  \n",
      " 7   gender            21525 non-null  object \n",
      " 8   income_type       21525 non-null  object \n",
      " 9   debt              21525 non-null  int64  \n",
      " 10  total_income      19351 non-null  float64\n",
      " 11  purpose           21525 non-null  object \n",
      "dtypes: float64(2), int64(5), object(5)\n",
      "memory usage: 2.0+ MB\n"
     ]
    }
   ],
   "source": [
    "data.info()"
   ]
  },
  {
   "cell_type": "markdown",
   "id": "29bb5b09",
   "metadata": {
    "deletable": false,
    "editable": false,
    "id": "333ec665"
   },
   "source": [
    "## Предобработка данных"
   ]
  },
  {
   "cell_type": "markdown",
   "id": "0a8d478e",
   "metadata": {
    "deletable": false,
    "editable": false,
    "id": "02d92d53"
   },
   "source": [
    "### Удаление пропусков"
   ]
  },
  {
   "cell_type": "markdown",
   "id": "8b657eaf",
   "metadata": {
    "deletable": false,
    "editable": false,
    "id": "cd84967c"
   },
   "source": [
    "**Задание 4. Выведите количество пропущенных значений для каждого столбца. Используйте комбинацию двух методов.**"
   ]
  },
  {
   "cell_type": "code",
   "execution_count": 4,
   "id": "511a4242",
   "metadata": {
    "deletable": false,
    "id": "7f9b2309",
    "outputId": "81f4d817-781c-465c-ed15-91ce4446810d"
   },
   "outputs": [
    {
     "data": {
      "text/plain": [
       "children               0\n",
       "days_employed       2174\n",
       "dob_years              0\n",
       "education              0\n",
       "education_id           0\n",
       "family_status          0\n",
       "family_status_id       0\n",
       "gender                 0\n",
       "income_type            0\n",
       "debt                   0\n",
       "total_income        2174\n",
       "purpose                0\n",
       "dtype: int64"
      ]
     },
     "execution_count": 4,
     "metadata": {},
     "output_type": "execute_result"
    }
   ],
   "source": [
    "data.isna().sum()"
   ]
  },
  {
   "cell_type": "markdown",
   "id": "2b73d0f7",
   "metadata": {
    "deletable": false,
    "editable": false,
    "id": "db86e27b"
   },
   "source": [
    "**Задание 5. В двух столбцах есть пропущенные значения. Один из них — `days_employed`. Пропуски в этом столбце вы обработаете на следующем этапе. Другой столбец с пропущенными значениями — `total_income` — хранит данные о доходах. На сумму дохода сильнее всего влияет тип занятости, поэтому заполнить пропуски в этом столбце нужно медианным значением по каждому типу из столбца `income_type`. Например, у человека с типом занятости `сотрудник` пропуск в столбце `total_income` должен быть заполнен медианным доходом среди всех записей с тем же типом.**"
   ]
  },
  {
   "cell_type": "code",
   "execution_count": 5,
   "id": "a097dc85",
   "metadata": {
    "deletable": false,
    "id": "42006a93"
   },
   "outputs": [],
   "source": [
    "for t in data['income_type'].unique():\n",
    "    data.loc[(data['income_type'] == t) & (data['total_income'].isna()), 'total_income'] = \\\n",
    "    data.loc[(data['income_type'] == t), 'total_income'].median()"
   ]
  },
  {
   "cell_type": "markdown",
   "id": "573941b8",
   "metadata": {
    "deletable": false,
    "editable": false,
    "id": "89da5ece"
   },
   "source": [
    "### Обработка аномальных значений"
   ]
  },
  {
   "cell_type": "markdown",
   "id": "777b817d",
   "metadata": {
    "deletable": false,
    "editable": false,
    "id": "57964554"
   },
   "source": [
    "**Задание 6. В данных могут встречаться артефакты (аномалии) — значения, которые не отражают действительность и появились по какой-то ошибке. таким артефактом будет отрицательное количество дней трудового стажа в столбце `days_employed`. Для реальных данных это нормально. Обработайте значения в этом столбце: замените все отрицательные значения положительными с помощью метода `abs()`.**"
   ]
  },
  {
   "cell_type": "code",
   "execution_count": 6,
   "id": "76ce7151",
   "metadata": {
    "deletable": false,
    "id": "f6f055bf"
   },
   "outputs": [],
   "source": [
    "data['days_employed'] = data['days_employed'].abs()"
   ]
  },
  {
   "cell_type": "markdown",
   "id": "ab935e92",
   "metadata": {
    "deletable": false,
    "editable": false,
    "id": "6107dd2f"
   },
   "source": [
    "**Задание 7. Для каждого типа занятости выведите медианное значение трудового стажа `days_employed` в днях.**"
   ]
  },
  {
   "cell_type": "code",
   "execution_count": 7,
   "id": "a16e5344",
   "metadata": {
    "deletable": false,
    "id": "85a5faf6",
    "outputId": "801ef80e-522b-4668-f34e-565af7432bcf"
   },
   "outputs": [
    {
     "data": {
      "text/plain": [
       "income_type\n",
       "безработный        366413.652744\n",
       "в декрете            3296.759962\n",
       "госслужащий          2689.368353\n",
       "компаньон            1547.382223\n",
       "пенсионер          365213.306266\n",
       "предприниматель       520.848083\n",
       "сотрудник            1574.202821\n",
       "студент               578.751554\n",
       "Name: days_employed, dtype: float64"
      ]
     },
     "execution_count": 7,
     "metadata": {},
     "output_type": "execute_result"
    }
   ],
   "source": [
    "data.groupby('income_type')['days_employed'].agg('median')"
   ]
  },
  {
   "cell_type": "markdown",
   "id": "ba97cb83",
   "metadata": {
    "deletable": false,
    "editable": false,
    "id": "38d1a030"
   },
   "source": [
    "У двух типов (безработные и пенсионеры) получатся аномально большие значения. Исправить такие значения сложно, поэтому оставьте их как есть. Тем более этот столбец не понадобится вам для исследования."
   ]
  },
  {
   "cell_type": "markdown",
   "id": "e47c5bf1",
   "metadata": {
    "deletable": false,
    "editable": false,
    "id": "d8a9f147"
   },
   "source": [
    "**Задание 8. Выведите перечень уникальных значений столбца `children`.**"
   ]
  },
  {
   "cell_type": "code",
   "execution_count": 8,
   "id": "82903deb",
   "metadata": {
    "deletable": false,
    "id": "ef5056eb",
    "outputId": "6975b15c-7f95-4697-d16d-a0c79b657b03"
   },
   "outputs": [
    {
     "data": {
      "text/plain": [
       "array([ 1,  0,  3,  2, -1,  4, 20,  5])"
      ]
     },
     "execution_count": 8,
     "metadata": {},
     "output_type": "execute_result"
    }
   ],
   "source": [
    "data['children'].unique()"
   ]
  },
  {
   "cell_type": "markdown",
   "id": "7ee68484",
   "metadata": {
    "deletable": false,
    "editable": false,
    "id": "40b9ebf2"
   },
   "source": [
    "**Задание 9. В столбце `children` есть два аномальных значения. Удалите строки, в которых встречаются такие аномальные значения из датафрейма `data`.**"
   ]
  },
  {
   "cell_type": "code",
   "execution_count": 9,
   "id": "c3f8fac0",
   "metadata": {
    "deletable": false,
    "id": "3ff9801d"
   },
   "outputs": [],
   "source": [
    "data = data[(data['children'] != -1) & (data['children'] != 20)]"
   ]
  },
  {
   "cell_type": "markdown",
   "id": "78cb7bdf",
   "metadata": {
    "deletable": false,
    "editable": false,
    "id": "bbc4d0ce"
   },
   "source": [
    "**Задание 10. Ещё раз выведите перечень уникальных значений столбца `children`, чтобы убедиться, что артефакты удалены.**"
   ]
  },
  {
   "cell_type": "code",
   "execution_count": 10,
   "id": "445ed742",
   "metadata": {
    "deletable": false,
    "id": "ad4fa8b7",
    "outputId": "b2097101-d49d-44d9-901b-32a65c9463d1"
   },
   "outputs": [
    {
     "data": {
      "text/plain": [
       "array([1, 0, 3, 2, 4, 5])"
      ]
     },
     "execution_count": 10,
     "metadata": {},
     "output_type": "execute_result"
    }
   ],
   "source": [
    "data['children'].unique()"
   ]
  },
  {
   "cell_type": "markdown",
   "id": "c870a437",
   "metadata": {
    "deletable": false,
    "editable": false,
    "id": "75440b63"
   },
   "source": [
    "### Удаление пропусков (продолжение)"
   ]
  },
  {
   "cell_type": "markdown",
   "id": "00227f5d",
   "metadata": {
    "deletable": false,
    "editable": false,
    "id": "f4ea573f"
   },
   "source": [
    "**Задание 11. Заполните пропуски в столбце `days_employed` медианными значениями по каждого типа занятости `income_type`.**"
   ]
  },
  {
   "cell_type": "code",
   "execution_count": 11,
   "id": "96f77684",
   "metadata": {
    "deletable": false,
    "id": "af6b1a7e"
   },
   "outputs": [],
   "source": [
    "for t in data['income_type'].unique():\n",
    "    data.loc[(data['income_type'] == t) & (data['days_employed'].isna()), 'days_employed'] = \\\n",
    "    data.loc[(data['income_type'] == t), 'days_employed'].median()"
   ]
  },
  {
   "cell_type": "markdown",
   "id": "9431c107",
   "metadata": {
    "deletable": false,
    "editable": false,
    "id": "2753f40d"
   },
   "source": [
    "**Задание 12. Убедитесь, что все пропуски заполнены. Проверьте себя и ещё раз выведите количество пропущенных значений для каждого столбца с помощью двух методов.**"
   ]
  },
  {
   "cell_type": "code",
   "execution_count": 12,
   "id": "0ce2981b",
   "metadata": {
    "deletable": false,
    "id": "55f78bc2",
    "outputId": "8da1e4e1-358e-4e87-98c9-f261bce0a7b2"
   },
   "outputs": [
    {
     "data": {
      "text/plain": [
       "children            0\n",
       "days_employed       0\n",
       "dob_years           0\n",
       "education           0\n",
       "education_id        0\n",
       "family_status       0\n",
       "family_status_id    0\n",
       "gender              0\n",
       "income_type         0\n",
       "debt                0\n",
       "total_income        0\n",
       "purpose             0\n",
       "dtype: int64"
      ]
     },
     "execution_count": 12,
     "metadata": {},
     "output_type": "execute_result"
    }
   ],
   "source": [
    "data.isna().sum()"
   ]
  },
  {
   "cell_type": "markdown",
   "id": "295d32b8",
   "metadata": {
    "deletable": false,
    "editable": false,
    "id": "ddc81e43"
   },
   "source": [
    "### Изменение типов данных"
   ]
  },
  {
   "cell_type": "markdown",
   "id": "d4760149",
   "metadata": {
    "deletable": false,
    "editable": false,
    "id": "42d19d24"
   },
   "source": [
    "**Задание 13. Замените вещественный тип данных в столбце `total_income` на целочисленный с помощью метода `astype()`.**"
   ]
  },
  {
   "cell_type": "code",
   "execution_count": 13,
   "id": "67a676f1",
   "metadata": {
    "deletable": false,
    "id": "920b65ad"
   },
   "outputs": [],
   "source": [
    "data['total_income'] = data['total_income'].astype(int)"
   ]
  },
  {
   "cell_type": "markdown",
   "id": "a16bbf49",
   "metadata": {
    "deletable": false,
    "editable": false,
    "id": "80c420ba"
   },
   "source": [
    "### Обработка дубликатов"
   ]
  },
  {
   "cell_type": "markdown",
   "id": "fb19804a",
   "metadata": {
    "deletable": false,
    "editable": false
   },
   "source": [
    "**Задание 14. Обработайте неявные дубликаты в столбце `education`. В этом столбце есть одни и те же значения, но записанные по-разному: с использованием заглавных и строчных букв. Приведите их к нижнему регистру. Проверьте остальные столбцы.**"
   ]
  },
  {
   "cell_type": "code",
   "execution_count": 14,
   "id": "bd89837b",
   "metadata": {
    "deletable": false
   },
   "outputs": [],
   "source": [
    "data['education'] = data['education'].str.lower()"
   ]
  },
  {
   "cell_type": "markdown",
   "id": "ceabe268",
   "metadata": {
    "deletable": false,
    "editable": false,
    "id": "dc587695"
   },
   "source": [
    "**Задание 15. Выведите на экран количество строк-дубликатов в данных. Если такие строки присутствуют, удалите их.**"
   ]
  },
  {
   "cell_type": "code",
   "execution_count": 15,
   "id": "7dc91d3d",
   "metadata": {
    "deletable": false,
    "id": "3ee445e4",
    "outputId": "9684deba-1934-42d1-99e1-cda61740f822"
   },
   "outputs": [
    {
     "data": {
      "text/plain": [
       "71"
      ]
     },
     "execution_count": 15,
     "metadata": {},
     "output_type": "execute_result"
    }
   ],
   "source": [
    "data.duplicated().sum()"
   ]
  },
  {
   "cell_type": "code",
   "execution_count": 16,
   "id": "5db4f28e",
   "metadata": {
    "deletable": false,
    "id": "8575fe05"
   },
   "outputs": [],
   "source": [
    "data = data.drop_duplicates()"
   ]
  },
  {
   "cell_type": "markdown",
   "id": "7eeef03e",
   "metadata": {
    "deletable": false,
    "editable": false,
    "id": "9904cf55"
   },
   "source": [
    "### Категоризация данных"
   ]
  },
  {
   "cell_type": "markdown",
   "id": "23968a48",
   "metadata": {
    "deletable": false,
    "editable": false,
    "id": "72fcc8a2"
   },
   "source": [
    "**Задание 16. На основании диапазонов, указанных ниже, создайте в датафрейме `data` столбец `total_income_category` с категориями:**\n",
    "\n",
    "- 0–30000 — `'E'`;\n",
    "- 30001–50000 — `'D'`;\n",
    "- 50001–200000 — `'C'`;\n",
    "- 200001–1000000 — `'B'`;\n",
    "- 1000001 и выше — `'A'`.\n",
    "\n",
    "\n",
    "**Например, кредитополучателю с доходом 25000 нужно назначить категорию `'E'`, а клиенту, получающему 235000, — `'B'`. Используйте собственную функцию с именем `categorize_income()` и метод `apply()`.**"
   ]
  },
  {
   "cell_type": "code",
   "execution_count": 17,
   "id": "f98544c2",
   "metadata": {
    "deletable": false,
    "id": "e1771346"
   },
   "outputs": [],
   "source": [
    "def categorize_income(income):\n",
    "    try:\n",
    "        if 0 <= income <= 30000:\n",
    "            return 'E'\n",
    "        elif 30001 <= income <= 50000:\n",
    "            return 'D'\n",
    "        elif 50001 <= income <= 200000:\n",
    "            return 'C'\n",
    "        elif 200001 <= income <= 1000000:\n",
    "            return 'B'\n",
    "        elif income >= 1000001:\n",
    "            return 'A'\n",
    "    except:\n",
    "        pass"
   ]
  },
  {
   "cell_type": "code",
   "execution_count": 18,
   "id": "8392ba18",
   "metadata": {
    "deletable": false,
    "id": "d5f3586d"
   },
   "outputs": [],
   "source": [
    "data['total_income_category'] = data['total_income'].apply(categorize_income)"
   ]
  },
  {
   "cell_type": "markdown",
   "id": "5235cbe5",
   "metadata": {
    "deletable": false,
    "editable": false,
    "id": "dde49b5c"
   },
   "source": [
    "**Задание 17. Выведите на экран перечень уникальных целей взятия кредита из столбца `purpose`.**"
   ]
  },
  {
   "cell_type": "code",
   "execution_count": 19,
   "id": "bdf26898",
   "metadata": {
    "deletable": false,
    "id": "f67ce9b3",
    "outputId": "673c12d9-7d7e-4ae0-9812-c622c89dd244"
   },
   "outputs": [
    {
     "data": {
      "text/plain": [
       "array(['покупка жилья', 'приобретение автомобиля',\n",
       "       'дополнительное образование', 'сыграть свадьбу',\n",
       "       'операции с жильем', 'образование', 'на проведение свадьбы',\n",
       "       'покупка жилья для семьи', 'покупка недвижимости',\n",
       "       'покупка коммерческой недвижимости', 'покупка жилой недвижимости',\n",
       "       'строительство собственной недвижимости', 'недвижимость',\n",
       "       'строительство недвижимости', 'на покупку подержанного автомобиля',\n",
       "       'на покупку своего автомобиля',\n",
       "       'операции с коммерческой недвижимостью',\n",
       "       'строительство жилой недвижимости', 'жилье',\n",
       "       'операции со своей недвижимостью', 'автомобили',\n",
       "       'заняться образованием', 'сделка с подержанным автомобилем',\n",
       "       'получение образования', 'автомобиль', 'свадьба',\n",
       "       'получение дополнительного образования', 'покупка своего жилья',\n",
       "       'операции с недвижимостью', 'получение высшего образования',\n",
       "       'свой автомобиль', 'сделка с автомобилем',\n",
       "       'профильное образование', 'высшее образование',\n",
       "       'покупка жилья для сдачи', 'на покупку автомобиля', 'ремонт жилью',\n",
       "       'заняться высшим образованием'], dtype=object)"
      ]
     },
     "execution_count": 19,
     "metadata": {},
     "output_type": "execute_result"
    }
   ],
   "source": [
    "data['purpose'].unique()"
   ]
  },
  {
   "cell_type": "markdown",
   "id": "869357c8",
   "metadata": {
    "deletable": false,
    "editable": false,
    "id": "85d0aef0"
   },
   "source": [
    "**Задание 18. Создайте функцию, которая на основании данных из столбца `purpose` сформирует новый столбец `purpose_category`, в который войдут следующие категории:**\n",
    "\n",
    "- `'операции с автомобилем'`,\n",
    "- `'операции с недвижимостью'`,\n",
    "- `'проведение свадьбы'`,\n",
    "- `'получение образования'`.\n",
    "\n",
    "**Например, если в столбце `purpose` находится подстрока `'на покупку автомобиля'`, то в столбце `purpose_category` должна появиться строка `'операции с автомобилем'`.**\n",
    "\n",
    "**Используйте собственную функцию с именем `categorize_purpose()` и метод `apply()`. Изучите данные в столбце `purpose` и определите, какие подстроки помогут вам правильно определить категорию.**"
   ]
  },
  {
   "cell_type": "code",
   "execution_count": 20,
   "id": "a9ea36c0",
   "metadata": {
    "deletable": false,
    "id": "e149fab4"
   },
   "outputs": [],
   "source": [
    "def categorize_purpose(row):\n",
    "    try:\n",
    "        if 'автом' in row:\n",
    "            return 'операции с автомобилем'\n",
    "        elif 'жил' in row or 'недвиж' in row:\n",
    "            return 'операции с недвижимостью'\n",
    "        elif 'свад' in row:\n",
    "            return 'проведение свадьбы'\n",
    "        elif 'образов' in row:\n",
    "            return 'получение образования'\n",
    "    except:\n",
    "        return 'нет категории'"
   ]
  },
  {
   "cell_type": "code",
   "execution_count": 21,
   "id": "3fdf40b1",
   "metadata": {
    "deletable": false,
    "id": "bf36e69b"
   },
   "outputs": [],
   "source": [
    "data['purpose_category'] = data['purpose'].apply(categorize_purpose)"
   ]
  },
  {
   "cell_type": "markdown",
   "id": "64d28fb6",
   "metadata": {
    "deletable": false,
    "editable": false,
    "id": "09b242bf"
   },
   "source": [
    "### Шаг 3. Исследуйте данные и ответьте на вопросы"
   ]
  },
  {
   "cell_type": "markdown",
   "id": "c21fa2f8",
   "metadata": {
    "deletable": false,
    "editable": false,
    "id": "c5d66278"
   },
   "source": [
    "#### 3.1 Есть ли зависимость между количеством детей и возвратом кредита в срок?"
   ]
  },
  {
   "cell_type": "code",
   "execution_count": 22,
   "id": "427b66cd",
   "metadata": {
    "deletable": false,
    "id": "2cacfc4a"
   },
   "outputs": [],
   "source": [
    "def categorize_children(children): # поскольку в выборке мало данных по клиентам с большим количеством детей,\n",
    "    if children == 0:          # я объединила всех клиентов с >= 3 детьми в категорию \"многодетные\"\n",
    "        return 'бездетный'\n",
    "    elif children == 1:\n",
    "        return '1 ребёнок'\n",
    "    elif children == 2:\n",
    "        return '2 детей'\n",
    "    elif children >= 3:\n",
    "        return 'многодетный'\n",
    "    else:\n",
    "        return 'нет категории'"
   ]
  },
  {
   "cell_type": "code",
   "execution_count": 49,
   "id": "463acdaf",
   "metadata": {},
   "outputs": [
    {
     "name": "stdout",
     "output_type": "stream",
     "text": [
      "children_category\n",
      "1 ребёнок      0.092346\n",
      "2 детей        0.094542\n",
      "бездетный      0.075438\n",
      "многодетный    0.081579\n",
      "Name: debt, dtype: float64\n"
     ]
    }
   ],
   "source": [
    "data['children_category'] = data['children'].apply(categorize_children) # назначаем категории по количеству детей\n",
    "debt_by_children = data.groupby('children_category')['debt'].sum() # группируем долги по этим категориям и подсчитываем их количество;\n",
    "# sum - потому, что в записях 0 означает отсутствие долга и 1 - его наличие, т.е. sum подсчитает количество имеющих долги\n",
    "debt_children_all = data.groupby('children_category')['debt'].count() # подсчитываем общее количество записей по каждой категории, чтобюы рассчитать долю\n",
    "#print(debt_children_all) # оценка размера выборки по группам\n",
    "print(debt_by_children / debt_children_all) # вспомогательный вывод\n",
    "data_debt_children = debt_by_children / debt_children_all"
   ]
  },
  {
   "cell_type": "markdown",
   "id": "0a635b35",
   "metadata": {
    "deletable": false,
    "id": "3a6b99ec"
   },
   "source": [
    "**Вывод:** в данной выборке наименьший процент долгов у бездетных, наибольший - у клиентов с 1 и 2 детьми. Разница не превышает 2 процентных пункта."
   ]
  },
  {
   "cell_type": "markdown",
   "id": "d5b5875d",
   "metadata": {
    "deletable": false,
    "editable": false,
    "id": "97be82ca"
   },
   "source": [
    "#### 3.2 Есть ли зависимость между семейным положением и возвратом кредита в срок?"
   ]
  },
  {
   "cell_type": "code",
   "execution_count": 24,
   "id": "7579ccd2",
   "metadata": {
    "deletable": false,
    "id": "dc3f7ee8"
   },
   "outputs": [
    {
     "data": {
      "text/plain": [
       "array(['женат / замужем', 'гражданский брак', 'вдовец / вдова',\n",
       "       'в разводе', 'Не женат / не замужем'], dtype=object)"
      ]
     },
     "execution_count": 24,
     "metadata": {},
     "output_type": "execute_result"
    }
   ],
   "source": [
    "data['family_status'].unique() # изучаем, какие в данных есть семейные положения"
   ]
  },
  {
   "cell_type": "code",
   "execution_count": 25,
   "id": "d1266e00",
   "metadata": {
    "scrolled": true
   },
   "outputs": [
    {
     "name": "stdout",
     "output_type": "stream",
     "text": [
      "family_status\n",
      "Не женат / не замужем     2796\n",
      "в разводе                 1189\n",
      "вдовец / вдова             951\n",
      "гражданский брак          4134\n",
      "женат / замужем          12261\n",
      "Name: family_status_id, dtype: int64\n"
     ]
    }
   ],
   "source": [
    "print(data.groupby('family_status')['family_status_id'].count()) # считаем семейные положения по status id"
   ]
  },
  {
   "cell_type": "code",
   "execution_count": 26,
   "id": "f1600b44",
   "metadata": {},
   "outputs": [],
   "source": [
    "debt_by_family_status = data.groupby('family_status')['debt'].sum() # как и в количестве детей, группируем долги по этим категориям и подсчитываем их количество;\n",
    "# sum - потому, что в записях 0 означает отсутствие долга и 1 - его наличие, т.е. sum подсчитает количество имеющих долги\n",
    "debt_family_all = data.groupby('family_status')['debt'].count() # подсчитываем общее количество записей по каждой категории, чтобюы рассчитать долю\n",
    "# print(debt_by_family_status / debt_family_all)\n",
    "data_debt_family = debt_by_family_status / debt_family_all"
   ]
  },
  {
   "cell_type": "markdown",
   "id": "511a330a",
   "metadata": {
    "deletable": false,
    "id": "1cef7837"
   },
   "source": [
    "**Вывод:** самый низкий процент долгов у вдовцов. У женатых/замужних и разведённых долгов меньше, чем у неженатых и живущих в гражданском браке."
   ]
  },
  {
   "cell_type": "markdown",
   "id": "ce5b69b4",
   "metadata": {
    "deletable": false,
    "editable": false,
    "id": "1e8b2fca"
   },
   "source": [
    "#### 3.3 Есть ли зависимость между уровнем дохода и возвратом кредита в срок?"
   ]
  },
  {
   "cell_type": "code",
   "execution_count": 50,
   "id": "ac3c0361",
   "metadata": {
    "deletable": false,
    "id": "cd7e3720"
   },
   "outputs": [
    {
     "name": "stdout",
     "output_type": "stream",
     "text": [
      "total_income_category\n",
      "A       25\n",
      "B     5014\n",
      "C    15921\n",
      "D      349\n",
      "E       22\n",
      "Name: debt, dtype: int64\n",
      "total_income_category\n",
      "A    0.080000\n",
      "B    0.070602\n",
      "C    0.084982\n",
      "D    0.060172\n",
      "E    0.090909\n",
      "Name: debt, dtype: float64\n"
     ]
    }
   ],
   "source": [
    "debt_by_income = data.groupby('total_income_category')['debt'].sum() # группируем долги по категориям дохода (категоризация уже реализована)\n",
    "# sum - потому, что в записях 0 означает отсутствие долга и 1 - его наличие, т.е. sum подсчитает количество имеющих долги\n",
    "debt_income_all = data.groupby('total_income_category')['debt'].count() # подсчитываем общее количество записей по каждой категории, чтобюы рассчитать долю\n",
    "print(debt_income_all) # для оценки размера выборки\n",
    "print(debt_by_income / debt_income_all)\n",
    "data_debt_income = debt_by_income / debt_income_all"
   ]
  },
  {
   "cell_type": "markdown",
   "id": "f1b3f384",
   "metadata": {
    "deletable": false,
    "id": "e8593def"
   },
   "source": [
    "**Вывод:** Малая выборка не позволяет объективно оценить зависимость для категорий А (доход более миллиона) и Е (до 30000). Самый низкий процент долгов у категории D (доход от 30001 до 50000), у категорий с более высоким доходом можно сделать вывод о том, что высокий доход (у категории В) означает меньший долг."
   ]
  },
  {
   "cell_type": "markdown",
   "id": "0c694809",
   "metadata": {
    "deletable": false,
    "editable": false,
    "id": "99ecbd1f"
   },
   "source": [
    "#### 3.4 Как разные цели кредита влияют на его возврат в срок?"
   ]
  },
  {
   "cell_type": "code",
   "execution_count": 51,
   "id": "b5e6cad6",
   "metadata": {
    "deletable": false,
    "id": "2b687290"
   },
   "outputs": [
    {
     "name": "stdout",
     "output_type": "stream",
     "text": [
      "Выборка purpose_category\n",
      "операции с автомобилем       4279\n",
      "операции с недвижимостью    10751\n",
      "получение образования        3988\n",
      "проведение свадьбы           2313\n",
      "Name: debt, dtype: int64\n",
      "Результат purpose_category\n",
      "операции с автомобилем      0.093480\n",
      "операции с недвижимостью    0.072551\n",
      "получение образования       0.092528\n",
      "проведение свадьбы          0.079118\n",
      "Name: debt, dtype: float64\n"
     ]
    }
   ],
   "source": [
    "debt_by_purpose = data.groupby('purpose_category')['debt'].sum() # группируем долги по целям кредита (категоризация уже реализована)\n",
    "# sum - потому, что в записях 0 означает отсутствие долга и 1 - его наличие, т.е. sum подсчитает количество имеющих долги\n",
    "debt_purpose_all = data.groupby('purpose_category')['debt'].count() # подсчитываем общее количество записей по каждой категории, чтобюы рассчитать долю\n",
    "print('Выборка', debt_purpose_all) # для оценки размера выборки\n",
    "print('Результат', debt_by_purpose / debt_purpose_all)\n",
    "data_debt_purpose = debt_by_purpose / debt_purpose_all"
   ]
  },
  {
   "cell_type": "markdown",
   "id": "985f9bd5",
   "metadata": {
    "deletable": false,
    "id": "b4bb2ce6"
   },
   "source": [
    "**Вывод:** Меньше всего долгов у клиентов, берущих кредиты на недвижимость и проведение свадьбы (разница между ними незначительна). Наоборот, на операциях с автомобилем и образовании долгов по кредитам больше."
   ]
  },
  {
   "cell_type": "markdown",
   "id": "1b0f4e9d",
   "metadata": {
    "deletable": false,
    "editable": false,
    "id": "09c3ac4c"
   },
   "source": [
    "#### 3.5 Приведите возможные причины появления пропусков в исходных данных."
   ]
  },
  {
   "cell_type": "markdown",
   "id": "75e21d1f",
   "metadata": {
    "deletable": false,
    "id": "9da2ceda"
   },
   "source": [
    "*Ответ:* Число пропусков одинаково для столбцов `days_employed` и `total_income`, следовательно, они могут быть связаны. Скорее всего, эти люди никогда не работали официально и не имели зарегистрированного дохода, поэтому не могут предоставить такие данные о себе."
   ]
  },
  {
   "cell_type": "markdown",
   "id": "87141d30",
   "metadata": {
    "deletable": false,
    "editable": false,
    "id": "7b0487d6"
   },
   "source": [
    "#### 3.6 Объясните, почему заполнить пропуски медианным значением — лучшее решение для количественных переменных."
   ]
  },
  {
   "cell_type": "markdown",
   "id": "0043e695",
   "metadata": {
    "deletable": false,
    "id": "7ecf2b8e"
   },
   "source": [
    "*Ответ:* В уровнях дохода большой разброс, при этом клиентов с очень большим доходом мало (с доходом от миллиона - 25 человек во всём датасете), но они будут \"тянуть на себя\" среднее значение. Поэтому медианное значение с большей вероятностью \"подойдёт\" под пропуски в доходах. То же самое относится к дням работы."
   ]
  },
  {
   "cell_type": "markdown",
   "id": "03e25eaa",
   "metadata": {
    "deletable": false,
    "editable": false,
    "id": "6db5255a"
   },
   "source": [
    "### Шаг 4: общий вывод."
   ]
  },
  {
   "cell_type": "code",
   "execution_count": 44,
   "id": "72209c20",
   "metadata": {
    "scrolled": false
   },
   "outputs": [
    {
     "data": {
      "image/png": "[encoded data removed]",
      "text/plain": [
       "<Figure size 432x288 with 1 Axes>"
      ]
     },
     "metadata": {
      "needs_background": "light"
     },
     "output_type": "display_data"
    }
   ],
   "source": [
    "debts = [data_debt_children, data_debt_family, data_debt_income, data_debt_purpose]\n",
    "# сводим все series в один список...\n",
    "data_debts = pd.concat(debts, axis=1) # ...и превращаем его в датафрейм\n",
    "# print(data_debts) # вспомогательный вывод\n",
    "data_title = 'Доли задолженностей по категориям клиентов'\n",
    "data_output = data_debts.plot.bar(stacked=True, title=data_title, legend=False)"
   ]
  },
  {
   "cell_type": "markdown",
   "id": "1973fbe6",
   "metadata": {
    "deletable": false,
    "id": "bad65432"
   },
   "source": [
    "~~Самые надёжные заёмщики - бездетные, состоящие в браке или разведённые/вдовцы, берущие кредит на недвижимость либо свадьбу. Прямой взаимосвязи долгов по кредитам с уровнем дохода не выявлено (и недостаточно данных для двух крайностей по доходам - менее 30000 и более 1000000). Самые ненадёжные - имеющие 1-2 детей, берущие кредит на образование либо операции с автомобилем.~~"
   ]
  },
  {
   "cell_type": "markdown",
   "id": "0dd66eb6",
   "metadata": {},
   "source": [
    "<div style=\"background: #B0E0E6; padding: 5px; border: 1px solid SteelBlue; border-radius: 5px;\">\n",
    "    <font color='4682B4'><u><b>НОВЫЙ ВЫВОД</b></u></font>\n",
    "    <br />\n",
    "    <b>В исследовании получены ответы на следующие вопросы:</b>\n",
    "    <ol>\n",
    "    <li>Влияет ли количество детей у клиента на наличие задолженности по кредиту?<br>\n",
    "    <i>Ответ:</i> частично влияет. Минимальный процент долгов (7,5%) обнаружился у бездетных клиентов, в то время как заёмщики с двумя детьми показали самый высокий процент задолженности (9,5%). Многодетные заёмщики (имеющие 3 и более детей) показали сниженную долю задолженности по сравнению с теми, у кого 1-2 ребёнка, но из-за небольшого количества таких клиентов в наборе данных сделать уверенный прогноз по ним сложно.</li>\n",
    "    <li>Влияет ли семейное положение на наличие задолженности по кредиту?<br>\n",
    "    <i>Ответ:</i> влияет. Выделяются две чёткие группы клиентов: были/в настоящее время женаты официально (включая разведённых и вдовцов) и не были женаты официально, при этом у второй группы доля задолженностей заметно выше.</li>\n",
    "    <li>Влияет ли доход на наличие задолженности по кредиту?<br>\n",
    "    <i>Ответ:</i> частично влияет, но неочевидным образом. Самый малый процент задолженности (6%) оказался у клиентов с категорией дохода D - 30000-50000. Самый большой (9%) - у категории Е, но выборка клиентов с самым малым и самым большим доходом очень мала, что не позволяет сделать объективные выводы. При этом у категорий с доходом выше среднего (более 50000, но менее 1000000) тенденция к наличию задолженности не снижается, а скорее растёт.<br>\n",
    "        <i>Вывод:</i> доход не является надёжным показателем заёмщика. Также рекомендуется дополнительное исследование на большем объёме данных, особенно по двум крайним категориям дохода.</li>\n",
    "    <li>Как разные цели кредита влияют на наличие задолженности?<br>\n",
    "    <i>Ответ:</i> минимальная доля задолженностей у клиентов, берущих кредит на жильё (7,3%) и проведение свадьбы (7,9%), при этом кредиты на операции с автомобилем и образование, наоборот, показывают увеличенное количество задолженностей - более 9%.</li>\n",
    "        </ol>\n",
    "        <b>Общий вывод:</b> в оценке платежеспособности клиентов можно использовать гипотезы 2 (о семейном положении) и 4 (о целях кредита). Необходимо исследование на большем наборе данных для оценки гипотез 1 (о количестве детей, особенно интересуют данные по многодетным) и 3 (о доходе, здесь необходимо больше данных о людях как с очень малым, так и с очень большим доходом).\n",
    "</div>"
   ]
  },
  {
   "cell_type": "code",
   "execution_count": null,
   "id": "a3a7b94b",
   "metadata": {},
   "outputs": [],
   "source": []
  }
 ],
 "metadata": {
  "ExecuteTimeLog": [
   {
    "duration": 534,
    "start_time": "2022-12-22T03:19:36.504Z"
   },
   {
    "duration": 22,
    "start_time": "2022-12-22T03:19:37.581Z"
   },
   {
    "duration": 16,
    "start_time": "2022-12-22T03:19:40.985Z"
   },
   {
    "duration": 11,
    "start_time": "2022-12-22T03:19:45.244Z"
   },
   {
    "duration": 38,
    "start_time": "2022-12-22T03:19:46.430Z"
   },
   {
    "duration": 4,
    "start_time": "2022-12-22T03:19:48.317Z"
   },
   {
    "duration": 8,
    "start_time": "2022-12-22T03:19:59.321Z"
   },
   {
    "duration": 4,
    "start_time": "2022-12-22T03:20:03.639Z"
   },
   {
    "duration": 7,
    "start_time": "2022-12-22T03:20:05.524Z"
   },
   {
    "duration": 5,
    "start_time": "2022-12-22T03:20:08.271Z"
   },
   {
    "duration": 35,
    "start_time": "2022-12-22T03:20:10.925Z"
   },
   {
    "duration": 11,
    "start_time": "2022-12-22T03:20:12.910Z"
   },
   {
    "duration": 4,
    "start_time": "2022-12-22T03:20:17.475Z"
   },
   {
    "duration": 12,
    "start_time": "2022-12-22T03:20:19.221Z"
   },
   {
    "duration": 21,
    "start_time": "2022-12-22T03:20:24.450Z"
   },
   {
    "duration": 18,
    "start_time": "2022-12-22T03:20:25.309Z"
   },
   {
    "duration": 3,
    "start_time": "2022-12-22T03:20:32.808Z"
   },
   {
    "duration": 10,
    "start_time": "2022-12-22T03:20:33.598Z"
   },
   {
    "duration": 6,
    "start_time": "2022-12-22T03:20:36.733Z"
   },
   {
    "duration": 4,
    "start_time": "2022-12-22T03:20:43.740Z"
   },
   {
    "duration": 9,
    "start_time": "2022-12-22T03:20:44.642Z"
   },
   {
    "duration": 72,
    "start_time": "2022-12-22T03:22:17.966Z"
   },
   {
    "duration": 5,
    "start_time": "2022-12-22T03:22:29.985Z"
   },
   {
    "duration": 6,
    "start_time": "2022-12-22T03:24:18.653Z"
   },
   {
    "duration": 6,
    "start_time": "2022-12-22T03:25:15.266Z"
   },
   {
    "duration": 9,
    "start_time": "2022-12-22T03:52:16.209Z"
   },
   {
    "duration": 12,
    "start_time": "2022-12-22T03:56:48.179Z"
   },
   {
    "duration": 98,
    "start_time": "2022-12-22T03:56:52.914Z"
   },
   {
    "duration": 6,
    "start_time": "2022-12-22T03:57:12.828Z"
   },
   {
    "duration": 5,
    "start_time": "2022-12-22T03:57:18.643Z"
   },
   {
    "duration": 9,
    "start_time": "2022-12-22T03:57:24.615Z"
   },
   {
    "duration": 4,
    "start_time": "2022-12-22T03:57:26.685Z"
   },
   {
    "duration": 16,
    "start_time": "2022-12-22T03:57:28.368Z"
   },
   {
    "duration": 11,
    "start_time": "2022-12-22T04:04:44.261Z"
   },
   {
    "duration": 14,
    "start_time": "2022-12-22T04:05:02.461Z"
   },
   {
    "duration": 14,
    "start_time": "2022-12-22T04:05:16.284Z"
   },
   {
    "duration": 13,
    "start_time": "2022-12-22T04:05:24.053Z"
   },
   {
    "duration": 11,
    "start_time": "2022-12-22T04:05:49.063Z"
   },
   {
    "duration": 4,
    "start_time": "2022-12-22T04:08:36.727Z"
   },
   {
    "duration": 11,
    "start_time": "2022-12-22T04:08:37.768Z"
   },
   {
    "duration": 12,
    "start_time": "2022-12-22T04:11:55.314Z"
   },
   {
    "duration": 14,
    "start_time": "2022-12-22T04:12:28.797Z"
   },
   {
    "duration": 21,
    "start_time": "2022-12-22T04:14:54.816Z"
   },
   {
    "duration": 16,
    "start_time": "2022-12-22T04:19:43.627Z"
   },
   {
    "duration": 16,
    "start_time": "2022-12-22T04:19:50.209Z"
   },
   {
    "duration": 551,
    "start_time": "2022-12-22T14:31:29.061Z"
   },
   {
    "duration": 23,
    "start_time": "2022-12-22T14:31:30.133Z"
   },
   {
    "duration": 14,
    "start_time": "2022-12-22T14:31:31.377Z"
   },
   {
    "duration": 10,
    "start_time": "2022-12-22T14:31:33.478Z"
   },
   {
    "duration": 32,
    "start_time": "2022-12-22T14:31:34.541Z"
   },
   {
    "duration": 3,
    "start_time": "2022-12-22T14:31:35.836Z"
   },
   {
    "duration": 8,
    "start_time": "2022-12-22T14:31:36.888Z"
   },
   {
    "duration": 4,
    "start_time": "2022-12-22T14:31:38.805Z"
   },
   {
    "duration": 6,
    "start_time": "2022-12-22T14:31:39.942Z"
   },
   {
    "duration": 5,
    "start_time": "2022-12-22T14:31:40.867Z"
   },
   {
    "duration": 32,
    "start_time": "2022-12-22T14:31:42.457Z"
   },
   {
    "duration": 9,
    "start_time": "2022-12-22T14:31:43.323Z"
   },
   {
    "duration": 3,
    "start_time": "2022-12-22T14:31:45.075Z"
   },
   {
    "duration": 11,
    "start_time": "2022-12-22T14:31:46.571Z"
   },
   {
    "duration": 24,
    "start_time": "2022-12-22T14:31:48.220Z"
   },
   {
    "duration": 19,
    "start_time": "2022-12-22T14:31:48.924Z"
   },
   {
    "duration": 4,
    "start_time": "2022-12-22T14:31:52.717Z"
   },
   {
    "duration": 9,
    "start_time": "2022-12-22T14:31:53.402Z"
   },
   {
    "duration": 6,
    "start_time": "2022-12-22T14:31:55.293Z"
   },
   {
    "duration": 3,
    "start_time": "2022-12-22T14:31:56.391Z"
   },
   {
    "duration": 10,
    "start_time": "2022-12-22T14:31:57.270Z"
   },
   {
    "duration": 3,
    "start_time": "2022-12-22T14:32:00.862Z"
   },
   {
    "duration": 13,
    "start_time": "2022-12-22T14:32:01.876Z"
   },
   {
    "duration": 3,
    "start_time": "2022-12-22T14:38:04.535Z"
   },
   {
    "duration": 16,
    "start_time": "2022-12-22T14:49:21.315Z"
   },
   {
    "duration": 16,
    "start_time": "2022-12-22T14:49:55.943Z"
   },
   {
    "duration": 12,
    "start_time": "2022-12-22T14:50:24.665Z"
   },
   {
    "duration": 23,
    "start_time": "2022-12-22T14:57:09.728Z"
   },
   {
    "duration": 68,
    "start_time": "2022-12-22T15:00:35.475Z"
   },
   {
    "duration": 13,
    "start_time": "2022-12-22T15:00:51.213Z"
   },
   {
    "duration": 5,
    "start_time": "2022-12-22T15:02:52.524Z"
   },
   {
    "duration": 6,
    "start_time": "2022-12-22T15:06:49.528Z"
   },
   {
    "duration": 5,
    "start_time": "2022-12-22T15:07:07.274Z"
   },
   {
    "duration": 5,
    "start_time": "2022-12-22T15:07:23.947Z"
   },
   {
    "duration": 3,
    "start_time": "2022-12-22T15:22:55.303Z"
   },
   {
    "duration": 5,
    "start_time": "2022-12-22T15:23:05.102Z"
   },
   {
    "duration": 6,
    "start_time": "2022-12-22T15:23:23.172Z"
   },
   {
    "duration": 6,
    "start_time": "2022-12-22T15:36:58.505Z"
   },
   {
    "duration": 9,
    "start_time": "2022-12-22T15:46:30.785Z"
   },
   {
    "duration": 10,
    "start_time": "2022-12-22T15:46:49.026Z"
   },
   {
    "duration": 14,
    "start_time": "2022-12-22T15:47:00.890Z"
   },
   {
    "duration": 9,
    "start_time": "2022-12-22T15:47:22.056Z"
   },
   {
    "duration": 7,
    "start_time": "2022-12-22T15:47:34.144Z"
   },
   {
    "duration": 9,
    "start_time": "2022-12-22T15:49:50.383Z"
   },
   {
    "duration": 13,
    "start_time": "2022-12-22T15:55:41.465Z"
   },
   {
    "duration": 10,
    "start_time": "2022-12-22T15:56:15.176Z"
   },
   {
    "duration": 9,
    "start_time": "2022-12-22T15:59:36.150Z"
   },
   {
    "duration": 10,
    "start_time": "2022-12-22T16:00:39.848Z"
   },
   {
    "duration": 11,
    "start_time": "2022-12-22T16:00:52.076Z"
   },
   {
    "duration": 15,
    "start_time": "2022-12-22T16:04:27.557Z"
   },
   {
    "duration": 11,
    "start_time": "2022-12-22T16:27:20.516Z"
   },
   {
    "duration": 15,
    "start_time": "2022-12-22T16:27:55.677Z"
   },
   {
    "duration": 13,
    "start_time": "2022-12-22T16:28:30.581Z"
   },
   {
    "duration": 3,
    "start_time": "2022-12-22T17:27:12.088Z"
   },
   {
    "duration": 14,
    "start_time": "2022-12-22T17:27:12.599Z"
   },
   {
    "duration": 5,
    "start_time": "2022-12-22T17:27:23.354Z"
   },
   {
    "duration": 8,
    "start_time": "2022-12-22T17:27:24.051Z"
   },
   {
    "duration": 16,
    "start_time": "2022-12-22T17:27:24.792Z"
   },
   {
    "duration": 13,
    "start_time": "2022-12-22T17:27:35.031Z"
   },
   {
    "duration": 10,
    "start_time": "2022-12-22T17:27:50.995Z"
   },
   {
    "duration": 9,
    "start_time": "2022-12-22T17:28:27.854Z"
   },
   {
    "duration": 11,
    "start_time": "2022-12-22T17:29:01.362Z"
   },
   {
    "duration": 10,
    "start_time": "2022-12-22T17:37:01.204Z"
   },
   {
    "duration": 6,
    "start_time": "2022-12-22T17:51:02.334Z"
   },
   {
    "duration": 6,
    "start_time": "2022-12-22T17:51:59.539Z"
   },
   {
    "duration": 8,
    "start_time": "2022-12-22T17:54:09.168Z"
   },
   {
    "duration": 5,
    "start_time": "2022-12-22T18:05:45.814Z"
   },
   {
    "duration": 5,
    "start_time": "2022-12-22T18:06:57.971Z"
   },
   {
    "duration": 5,
    "start_time": "2022-12-22T18:07:08.696Z"
   },
   {
    "duration": 8,
    "start_time": "2022-12-22T18:07:19.430Z"
   },
   {
    "duration": 5,
    "start_time": "2022-12-22T18:08:19.604Z"
   },
   {
    "duration": 10,
    "start_time": "2022-12-22T18:08:51.519Z"
   },
   {
    "duration": 5,
    "start_time": "2022-12-22T18:09:11.661Z"
   },
   {
    "duration": 11,
    "start_time": "2022-12-22T18:22:51.971Z"
   },
   {
    "duration": 9,
    "start_time": "2022-12-22T18:26:09.447Z"
   },
   {
    "duration": 7,
    "start_time": "2022-12-22T18:26:50.700Z"
   },
   {
    "duration": 13,
    "start_time": "2022-12-22T18:27:19.692Z"
   },
   {
    "duration": 13,
    "start_time": "2022-12-22T18:28:02.243Z"
   },
   {
    "duration": 5,
    "start_time": "2022-12-22T18:29:53.259Z"
   },
   {
    "duration": 504,
    "start_time": "2022-12-23T09:18:30.793Z"
   },
   {
    "duration": 23,
    "start_time": "2022-12-23T09:18:31.299Z"
   },
   {
    "duration": 49,
    "start_time": "2022-12-23T09:18:31.323Z"
   },
   {
    "duration": 20,
    "start_time": "2022-12-23T09:18:31.374Z"
   },
   {
    "duration": 102,
    "start_time": "2022-12-23T09:18:31.396Z"
   },
   {
    "duration": 4,
    "start_time": "2022-12-23T09:18:31.500Z"
   },
   {
    "duration": 35,
    "start_time": "2022-12-23T09:18:31.506Z"
   },
   {
    "duration": 52,
    "start_time": "2022-12-23T09:18:31.543Z"
   },
   {
    "duration": 18,
    "start_time": "2022-12-23T09:18:31.596Z"
   },
   {
    "duration": 4,
    "start_time": "2022-12-23T09:18:31.618Z"
   },
   {
    "duration": 33,
    "start_time": "2022-12-23T09:18:31.624Z"
   },
   {
    "duration": 8,
    "start_time": "2022-12-23T09:18:31.659Z"
   },
   {
    "duration": 21,
    "start_time": "2022-12-23T09:18:31.668Z"
   },
   {
    "duration": 21,
    "start_time": "2022-12-23T09:18:31.691Z"
   },
   {
    "duration": 35,
    "start_time": "2022-12-23T09:18:31.713Z"
   },
   {
    "duration": 17,
    "start_time": "2022-12-23T09:18:31.749Z"
   },
   {
    "duration": 4,
    "start_time": "2022-12-23T09:18:31.767Z"
   },
   {
    "duration": 37,
    "start_time": "2022-12-23T09:18:31.773Z"
   },
   {
    "duration": 13,
    "start_time": "2022-12-23T09:18:31.812Z"
   },
   {
    "duration": 11,
    "start_time": "2022-12-23T09:18:31.827Z"
   },
   {
    "duration": 15,
    "start_time": "2022-12-23T09:18:31.839Z"
   },
   {
    "duration": 24,
    "start_time": "2022-12-23T09:18:31.856Z"
   },
   {
    "duration": 47,
    "start_time": "2022-12-23T09:18:31.882Z"
   },
   {
    "duration": 14,
    "start_time": "2022-12-23T09:18:31.930Z"
   },
   {
    "duration": 13,
    "start_time": "2022-12-23T09:18:31.945Z"
   },
   {
    "duration": 22,
    "start_time": "2022-12-23T09:18:31.959Z"
   },
   {
    "duration": 10,
    "start_time": "2022-12-23T09:18:31.983Z"
   },
   {
    "duration": 65,
    "start_time": "2022-12-23T09:18:31.995Z"
   },
   {
    "duration": 0,
    "start_time": "2022-12-23T09:18:32.062Z"
   },
   {
    "duration": 11,
    "start_time": "2022-12-23T09:18:55.043Z"
   },
   {
    "duration": 543,
    "start_time": "2022-12-23T09:19:00.275Z"
   },
   {
    "duration": 24,
    "start_time": "2022-12-23T09:19:00.820Z"
   },
   {
    "duration": 34,
    "start_time": "2022-12-23T09:19:00.845Z"
   },
   {
    "duration": 27,
    "start_time": "2022-12-23T09:19:00.882Z"
   },
   {
    "duration": 59,
    "start_time": "2022-12-23T09:19:00.911Z"
   },
   {
    "duration": 20,
    "start_time": "2022-12-23T09:19:00.972Z"
   },
   {
    "duration": 40,
    "start_time": "2022-12-23T09:19:00.994Z"
   },
   {
    "duration": 41,
    "start_time": "2022-12-23T09:19:01.036Z"
   },
   {
    "duration": 39,
    "start_time": "2022-12-23T09:19:01.079Z"
   },
   {
    "duration": 28,
    "start_time": "2022-12-23T09:19:01.120Z"
   },
   {
    "duration": 60,
    "start_time": "2022-12-23T09:19:01.150Z"
   },
   {
    "duration": 36,
    "start_time": "2022-12-23T09:19:01.211Z"
   },
   {
    "duration": 34,
    "start_time": "2022-12-23T09:19:01.248Z"
   },
   {
    "duration": 39,
    "start_time": "2022-12-23T09:19:01.284Z"
   },
   {
    "duration": 45,
    "start_time": "2022-12-23T09:19:01.324Z"
   },
   {
    "duration": 39,
    "start_time": "2022-12-23T09:19:01.371Z"
   },
   {
    "duration": 18,
    "start_time": "2022-12-23T09:19:01.412Z"
   },
   {
    "duration": 56,
    "start_time": "2022-12-23T09:19:01.432Z"
   },
   {
    "duration": 46,
    "start_time": "2022-12-23T09:19:01.489Z"
   },
   {
    "duration": 78,
    "start_time": "2022-12-23T09:19:01.536Z"
   },
   {
    "duration": 42,
    "start_time": "2022-12-23T09:19:01.616Z"
   },
   {
    "duration": 30,
    "start_time": "2022-12-23T09:19:01.659Z"
   },
   {
    "duration": 41,
    "start_time": "2022-12-23T09:19:01.691Z"
   },
   {
    "duration": 26,
    "start_time": "2022-12-23T09:19:01.733Z"
   },
   {
    "duration": 27,
    "start_time": "2022-12-23T09:19:01.760Z"
   },
   {
    "duration": 25,
    "start_time": "2022-12-23T09:19:01.788Z"
   },
   {
    "duration": 36,
    "start_time": "2022-12-23T09:19:01.814Z"
   },
   {
    "duration": 82,
    "start_time": "2022-12-23T09:19:01.854Z"
   },
   {
    "duration": 17,
    "start_time": "2022-12-23T09:19:01.938Z"
   },
   {
    "duration": 1391,
    "start_time": "2022-12-23T17:47:02.204Z"
   },
   {
    "duration": 265,
    "start_time": "2022-12-23T17:47:16.278Z"
   },
   {
    "duration": 22,
    "start_time": "2022-12-23T17:47:16.576Z"
   },
   {
    "duration": 16,
    "start_time": "2022-12-23T17:47:16.903Z"
   },
   {
    "duration": 10,
    "start_time": "2022-12-23T17:47:17.555Z"
   },
   {
    "duration": 32,
    "start_time": "2022-12-23T17:47:17.878Z"
   },
   {
    "duration": 3,
    "start_time": "2022-12-23T17:47:18.380Z"
   },
   {
    "duration": 8,
    "start_time": "2022-12-23T17:47:18.716Z"
   },
   {
    "duration": 5,
    "start_time": "2022-12-23T17:47:19.210Z"
   },
   {
    "duration": 8,
    "start_time": "2022-12-23T17:47:19.516Z"
   },
   {
    "duration": 5,
    "start_time": "2022-12-23T17:47:19.846Z"
   },
   {
    "duration": 41,
    "start_time": "2022-12-23T17:47:20.344Z"
   },
   {
    "duration": 11,
    "start_time": "2022-12-23T17:47:20.703Z"
   },
   {
    "duration": 13,
    "start_time": "2022-12-23T17:47:21.224Z"
   },
   {
    "duration": 17,
    "start_time": "2022-12-23T17:47:21.753Z"
   },
   {
    "duration": 30,
    "start_time": "2022-12-23T17:47:22.139Z"
   },
   {
    "duration": 18,
    "start_time": "2022-12-23T17:47:22.314Z"
   },
   {
    "duration": 4,
    "start_time": "2022-12-23T17:47:22.894Z"
   },
   {
    "duration": 15,
    "start_time": "2022-12-23T17:47:23.236Z"
   },
   {
    "duration": 8,
    "start_time": "2022-12-23T17:47:23.657Z"
   },
   {
    "duration": 3,
    "start_time": "2022-12-23T17:47:24.096Z"
   },
   {
    "duration": 7,
    "start_time": "2022-12-23T17:47:24.310Z"
   },
   {
    "duration": 3,
    "start_time": "2022-12-23T17:47:24.825Z"
   },
   {
    "duration": 13,
    "start_time": "2022-12-23T17:47:25.017Z"
   },
   {
    "duration": 5,
    "start_time": "2022-12-23T17:47:26.308Z"
   },
   {
    "duration": 7,
    "start_time": "2022-12-23T17:47:26.615Z"
   },
   {
    "duration": 10,
    "start_time": "2022-12-23T17:47:27.050Z"
   },
   {
    "duration": 9,
    "start_time": "2022-12-23T17:47:28.460Z"
   },
   {
    "duration": 11,
    "start_time": "2022-12-23T17:47:29.778Z"
   },
   {
    "duration": 125,
    "start_time": "2022-12-23T17:47:37.296Z"
   },
   {
    "duration": 101,
    "start_time": "2022-12-23T18:09:41.025Z"
   },
   {
    "duration": 150,
    "start_time": "2022-12-23T18:10:01.193Z"
   },
   {
    "duration": 95,
    "start_time": "2022-12-23T20:28:06.719Z"
   },
   {
    "duration": 196,
    "start_time": "2022-12-23T20:28:32.754Z"
   },
   {
    "duration": 173,
    "start_time": "2022-12-23T20:28:50.490Z"
   },
   {
    "duration": 167,
    "start_time": "2022-12-23T20:29:02.251Z"
   },
   {
    "duration": 19,
    "start_time": "2022-12-23T20:33:26.851Z"
   },
   {
    "duration": 155,
    "start_time": "2022-12-23T20:33:45.542Z"
   },
   {
    "duration": 225,
    "start_time": "2022-12-23T20:58:27.779Z"
   },
   {
    "duration": 311,
    "start_time": "2022-12-23T20:58:38.546Z"
   },
   {
    "duration": 146,
    "start_time": "2022-12-23T20:58:47.755Z"
   },
   {
    "duration": 60,
    "start_time": "2022-12-24T17:22:46.769Z"
   },
   {
    "duration": 1374,
    "start_time": "2022-12-24T17:22:55.021Z"
   },
   {
    "duration": 586,
    "start_time": "2022-12-24T17:23:05.610Z"
   },
   {
    "duration": 19,
    "start_time": "2022-12-24T17:23:06.198Z"
   },
   {
    "duration": 15,
    "start_time": "2022-12-24T17:23:06.331Z"
   },
   {
    "duration": 9,
    "start_time": "2022-12-24T17:23:07.049Z"
   },
   {
    "duration": 31,
    "start_time": "2022-12-24T17:23:07.424Z"
   },
   {
    "duration": 4,
    "start_time": "2022-12-24T17:23:07.994Z"
   },
   {
    "duration": 8,
    "start_time": "2022-12-24T17:23:08.351Z"
   },
   {
    "duration": 5,
    "start_time": "2022-12-24T17:23:08.902Z"
   },
   {
    "duration": 7,
    "start_time": "2022-12-24T17:23:09.277Z"
   },
   {
    "duration": 5,
    "start_time": "2022-12-24T17:23:09.636Z"
   },
   {
    "duration": 30,
    "start_time": "2022-12-24T17:23:10.271Z"
   },
   {
    "duration": 10,
    "start_time": "2022-12-24T17:23:10.637Z"
   },
   {
    "duration": 3,
    "start_time": "2022-12-24T17:23:11.249Z"
   },
   {
    "duration": 11,
    "start_time": "2022-12-24T17:23:11.848Z"
   },
   {
    "duration": 18,
    "start_time": "2022-12-24T17:23:12.230Z"
   },
   {
    "duration": 16,
    "start_time": "2022-12-24T17:23:12.428Z"
   },
   {
    "duration": 3,
    "start_time": "2022-12-24T17:23:13.034Z"
   },
   {
    "duration": 10,
    "start_time": "2022-12-24T17:23:13.212Z"
   },
   {
    "duration": 9,
    "start_time": "2022-12-24T17:23:13.624Z"
   },
   {
    "duration": 4,
    "start_time": "2022-12-24T17:23:14.017Z"
   },
   {
    "duration": 12,
    "start_time": "2022-12-24T17:23:14.216Z"
   },
   {
    "duration": 4,
    "start_time": "2022-12-24T17:23:14.783Z"
   },
   {
    "duration": 20,
    "start_time": "2022-12-24T17:23:14.981Z"
   },
   {
    "duration": 7,
    "start_time": "2022-12-24T17:23:15.754Z"
   },
   {
    "duration": 7,
    "start_time": "2022-12-24T17:23:15.953Z"
   },
   {
    "duration": 12,
    "start_time": "2022-12-24T17:23:16.135Z"
   },
   {
    "duration": 11,
    "start_time": "2022-12-24T17:23:16.920Z"
   },
   {
    "duration": 14,
    "start_time": "2022-12-24T17:23:17.695Z"
   },
   {
    "duration": 130,
    "start_time": "2022-12-24T17:23:19.932Z"
   },
   {
    "duration": 178,
    "start_time": "2022-12-24T17:23:39.997Z"
   },
   {
    "duration": 11,
    "start_time": "2022-12-24T18:21:20.972Z"
   },
   {
    "duration": 15,
    "start_time": "2022-12-24T19:11:29.148Z"
   },
   {
    "duration": 426,
    "start_time": "2022-12-24T19:37:19.671Z"
   },
   {
    "duration": 450,
    "start_time": "2022-12-24T19:37:54.711Z"
   },
   {
    "duration": 184,
    "start_time": "2022-12-24T19:39:19.437Z"
   },
   {
    "duration": 217,
    "start_time": "2022-12-24T19:39:35.936Z"
   },
   {
    "duration": 7,
    "start_time": "2022-12-24T20:27:41.914Z"
   },
   {
    "duration": 22,
    "start_time": "2022-12-24T20:31:24.599Z"
   },
   {
    "duration": 15,
    "start_time": "2022-12-24T20:31:32.852Z"
   },
   {
    "duration": 511,
    "start_time": "2022-12-25T16:45:46.002Z"
   },
   {
    "duration": 23,
    "start_time": "2022-12-25T16:45:46.515Z"
   },
   {
    "duration": 17,
    "start_time": "2022-12-25T16:45:46.700Z"
   },
   {
    "duration": 11,
    "start_time": "2022-12-25T16:45:47.408Z"
   },
   {
    "duration": 38,
    "start_time": "2022-12-25T16:45:47.772Z"
   },
   {
    "duration": 3,
    "start_time": "2022-12-25T16:45:48.286Z"
   },
   {
    "duration": 10,
    "start_time": "2022-12-25T16:45:48.631Z"
   },
   {
    "duration": 6,
    "start_time": "2022-12-25T16:45:49.156Z"
   },
   {
    "duration": 7,
    "start_time": "2022-12-25T16:45:49.518Z"
   },
   {
    "duration": 5,
    "start_time": "2022-12-25T16:45:49.903Z"
   },
   {
    "duration": 38,
    "start_time": "2022-12-25T16:45:50.442Z"
   },
   {
    "duration": 10,
    "start_time": "2022-12-25T16:45:50.823Z"
   },
   {
    "duration": 3,
    "start_time": "2022-12-25T16:45:51.393Z"
   },
   {
    "duration": 11,
    "start_time": "2022-12-25T16:45:51.960Z"
   },
   {
    "duration": 22,
    "start_time": "2022-12-25T16:45:52.326Z"
   },
   {
    "duration": 19,
    "start_time": "2022-12-25T16:45:52.537Z"
   },
   {
    "duration": 4,
    "start_time": "2022-12-25T16:45:53.108Z"
   },
   {
    "duration": 12,
    "start_time": "2022-12-25T16:45:53.293Z"
   },
   {
    "duration": 7,
    "start_time": "2022-12-25T16:45:53.689Z"
   },
   {
    "duration": 4,
    "start_time": "2022-12-25T16:45:54.074Z"
   },
   {
    "duration": 9,
    "start_time": "2022-12-25T16:45:54.283Z"
   },
   {
    "duration": 3,
    "start_time": "2022-12-25T16:45:54.888Z"
   },
   {
    "duration": 15,
    "start_time": "2022-12-25T16:45:55.074Z"
   },
   {
    "duration": 6,
    "start_time": "2022-12-25T16:45:55.925Z"
   },
   {
    "duration": 7,
    "start_time": "2022-12-25T16:45:56.126Z"
   },
   {
    "duration": 14,
    "start_time": "2022-12-25T16:45:56.316Z"
   },
   {
    "duration": 10,
    "start_time": "2022-12-25T16:45:57.073Z"
   },
   {
    "duration": 13,
    "start_time": "2022-12-25T16:45:57.830Z"
   },
   {
    "duration": 66,
    "start_time": "2022-12-25T16:46:00.038Z"
   },
   {
    "duration": 776,
    "start_time": "2022-12-25T16:46:23.535Z"
   },
   {
    "duration": 206,
    "start_time": "2022-12-25T16:46:43.201Z"
   },
   {
    "duration": 410,
    "start_time": "2022-12-25T16:46:55.999Z"
   },
   {
    "duration": 131,
    "start_time": "2022-12-25T16:47:38.164Z"
   },
   {
    "duration": 346,
    "start_time": "2022-12-25T16:47:48.532Z"
   },
   {
    "duration": 635,
    "start_time": "2022-12-25T16:48:48.435Z"
   },
   {
    "duration": 415,
    "start_time": "2022-12-25T16:48:59.677Z"
   },
   {
    "duration": 339,
    "start_time": "2022-12-25T16:51:55.916Z"
   },
   {
    "duration": 461,
    "start_time": "2022-12-25T16:52:18.817Z"
   },
   {
    "duration": 316,
    "start_time": "2022-12-25T16:52:27.810Z"
   },
   {
    "duration": 208,
    "start_time": "2022-12-25T17:27:31.137Z"
   },
   {
    "duration": 345,
    "start_time": "2022-12-25T17:27:35.545Z"
   },
   {
    "duration": 366,
    "start_time": "2022-12-25T17:54:29.692Z"
   },
   {
    "duration": 378,
    "start_time": "2022-12-25T17:55:50.856Z"
   },
   {
    "duration": 16,
    "start_time": "2022-12-25T18:10:08.970Z"
   },
   {
    "duration": 17,
    "start_time": "2022-12-25T18:10:17.934Z"
   },
   {
    "duration": 23,
    "start_time": "2022-12-25T18:10:32.775Z"
   },
   {
    "duration": 16,
    "start_time": "2022-12-25T18:10:42.115Z"
   },
   {
    "duration": 16,
    "start_time": "2022-12-25T18:10:47.273Z"
   },
   {
    "duration": 11,
    "start_time": "2022-12-25T18:24:05.513Z"
   },
   {
    "duration": 14,
    "start_time": "2022-12-25T18:30:30.568Z"
   }
  ],
  "colab": {
   "name": "dpp_template_part2.ipynb",
   "provenance": []
  },
  "kernelspec": {
   "display_name": "Python 3 (ipykernel)",
   "language": "python",
   "name": "python3"
  },
  "language_info": {
   "codemirror_mode": {
    "name": "ipython",
    "version": 3
   },
   "file_extension": ".py",
   "mimetype": "text/x-python",
   "name": "python",
   "nbconvert_exporter": "python",
   "pygments_lexer": "ipython3",
   "version": "3.9.13"
  },
  "toc": {
   "base_numbering": 1,
   "nav_menu": {},
   "number_sections": true,
   "sideBar": true,
   "skip_h1_title": true,
   "title_cell": "Table of Contents",
   "title_sidebar": "Contents",
   "toc_cell": false,
   "toc_position": {
    "height": "calc(100% - 180px)",
    "left": "10px",
    "top": "150px",
    "width": "366.2px"
   },
   "toc_section_display": true,
   "toc_window_display": true
  }
 },
 "nbformat": 4,
 "nbformat_minor": 5
}
