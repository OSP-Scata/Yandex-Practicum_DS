{
 "cells": [
  {
   "cell_type": "markdown",
   "metadata": {},
   "source": [
    "# Рекомендация тарифов"
   ]
  },
  {
   "cell_type": "markdown",
   "metadata": {},
   "source": [
    "В вашем распоряжении данные о поведении клиентов, которые уже перешли на эти тарифы (из проекта курса «Статистический анализ данных»). Нужно построить модель для задачи классификации, которая выберет подходящий тариф. Предобработка данных не понадобится — вы её уже сделали.\n",
    "\n",
    "Постройте модель с максимально большим значением *accuracy*. Чтобы сдать проект успешно, нужно довести долю правильных ответов по крайней мере до 0.75. Проверьте *accuracy* на тестовой выборке самостоятельно."
   ]
  },
  {
   "cell_type": "markdown",
   "metadata": {},
   "source": [
    "## Откройте и изучите файл"
   ]
  },
  {
   "cell_type": "code",
   "execution_count": 1,
   "metadata": {},
   "outputs": [],
   "source": [
    "import pandas as pd\n",
    "from sklearn.model_selection import train_test_split\n",
    "from sklearn.tree import DecisionTreeClassifier\n",
    "from sklearn.ensemble import RandomForestClassifier\n",
    "from sklearn.linear_model import LogisticRegression\n",
    "from sklearn.metrics import accuracy_score\n",
    "from sklearn.dummy import DummyClassifier"
   ]
  },
  {
   "cell_type": "code",
   "execution_count": 2,
   "metadata": {},
   "outputs": [],
   "source": [
    "try:\n",
    "    data = pd.read_csv('users_behavior.csv')\n",
    "except:\n",
    "    data = pd.read_csv('/datasets/users_behavior.csv')"
   ]
  },
  {
   "cell_type": "code",
   "execution_count": 3,
   "metadata": {},
   "outputs": [
    {
     "data": {
      "text/html": [
       "<div>\n",
       "<style scoped>\n",
       "    .dataframe tbody tr th:only-of-type {\n",
       "        vertical-align: middle;\n",
       "    }\n",
       "\n",
       "    .dataframe tbody tr th {\n",
       "        vertical-align: top;\n",
       "    }\n",
       "\n",
       "    .dataframe thead th {\n",
       "        text-align: right;\n",
       "    }\n",
       "</style>\n",
       "<table border=\"1\" class=\"dataframe\">\n",
       "  <thead>\n",
       "    <tr style=\"text-align: right;\">\n",
       "      <th></th>\n",
       "      <th>calls</th>\n",
       "      <th>minutes</th>\n",
       "      <th>messages</th>\n",
       "      <th>mb_used</th>\n",
       "      <th>is_ultra</th>\n",
       "    </tr>\n",
       "  </thead>\n",
       "  <tbody>\n",
       "    <tr>\n",
       "      <th>0</th>\n",
       "      <td>40.0</td>\n",
       "      <td>311.90</td>\n",
       "      <td>83.0</td>\n",
       "      <td>19915.42</td>\n",
       "      <td>0</td>\n",
       "    </tr>\n",
       "    <tr>\n",
       "      <th>1</th>\n",
       "      <td>85.0</td>\n",
       "      <td>516.75</td>\n",
       "      <td>56.0</td>\n",
       "      <td>22696.96</td>\n",
       "      <td>0</td>\n",
       "    </tr>\n",
       "    <tr>\n",
       "      <th>2</th>\n",
       "      <td>77.0</td>\n",
       "      <td>467.66</td>\n",
       "      <td>86.0</td>\n",
       "      <td>21060.45</td>\n",
       "      <td>0</td>\n",
       "    </tr>\n",
       "    <tr>\n",
       "      <th>3</th>\n",
       "      <td>106.0</td>\n",
       "      <td>745.53</td>\n",
       "      <td>81.0</td>\n",
       "      <td>8437.39</td>\n",
       "      <td>1</td>\n",
       "    </tr>\n",
       "    <tr>\n",
       "      <th>4</th>\n",
       "      <td>66.0</td>\n",
       "      <td>418.74</td>\n",
       "      <td>1.0</td>\n",
       "      <td>14502.75</td>\n",
       "      <td>0</td>\n",
       "    </tr>\n",
       "  </tbody>\n",
       "</table>\n",
       "</div>"
      ],
      "text/plain": [
       "   calls  minutes  messages   mb_used  is_ultra\n",
       "0   40.0   311.90      83.0  19915.42         0\n",
       "1   85.0   516.75      56.0  22696.96         0\n",
       "2   77.0   467.66      86.0  21060.45         0\n",
       "3  106.0   745.53      81.0   8437.39         1\n",
       "4   66.0   418.74       1.0  14502.75         0"
      ]
     },
     "execution_count": 3,
     "metadata": {},
     "output_type": "execute_result"
    }
   ],
   "source": [
    "data.head()"
   ]
  },
  {
   "cell_type": "code",
   "execution_count": 4,
   "metadata": {},
   "outputs": [
    {
     "name": "stdout",
     "output_type": "stream",
     "text": [
      "<class 'pandas.core.frame.DataFrame'>\n",
      "RangeIndex: 3214 entries, 0 to 3213\n",
      "Data columns (total 5 columns):\n",
      " #   Column    Non-Null Count  Dtype  \n",
      "---  ------    --------------  -----  \n",
      " 0   calls     3214 non-null   float64\n",
      " 1   minutes   3214 non-null   float64\n",
      " 2   messages  3214 non-null   float64\n",
      " 3   mb_used   3214 non-null   float64\n",
      " 4   is_ultra  3214 non-null   int64  \n",
      "dtypes: float64(4), int64(1)\n",
      "memory usage: 125.7 KB\n"
     ]
    }
   ],
   "source": [
    "data.info()"
   ]
  },
  {
   "cell_type": "code",
   "execution_count": 5,
   "metadata": {},
   "outputs": [
    {
     "data": {
      "text/plain": [
       "array([0, 1], dtype=int64)"
      ]
     },
     "execution_count": 5,
     "metadata": {},
     "output_type": "execute_result"
    }
   ],
   "source": [
    "data['is_ultra'].unique()"
   ]
  },
  {
   "cell_type": "markdown",
   "metadata": {},
   "source": [
    "Проверен датасет, содержащий информацию о пользователях тарифов. Явных пропусков в данных нет, столбцы отображают следующее:\n",
    "* сalls — количество звонков\n",
    "* minutes — суммарная длительность звонков в минутах\n",
    "* messages — количество sms-сообщений\n",
    "* mb_used — израсходованный интернет-трафик в МБ\n",
    "* is_ultra — каким тарифом пользовался в течение месяца («Ультра» — 1, «Смарт» — 0)\n",
    "\n",
    "Столбец `is_ultra` - целевой признак, который нам нужно прогнозировать (модель должна рекомендовать наиболее подходящий для пользователя тариф). Остальные столбцы - признаки, по которым предсказывается значение целевого (из того, сколько пользователь совершает звонков и тратит интернет-трафика, модель предлагает ему тариф Смарт или Ультра)."
   ]
  },
  {
   "cell_type": "markdown",
   "metadata": {},
   "source": [
    "## Разбейте данные на выборки"
   ]
  },
  {
   "cell_type": "markdown",
   "metadata": {},
   "source": [
    "Разделяем исходный датасет на признаки и цель."
   ]
  },
  {
   "cell_type": "code",
   "execution_count": 6,
   "metadata": {},
   "outputs": [],
   "source": [
    "features = data.drop('is_ultra', axis=1)\n",
    "target = data['is_ultra']"
   ]
  },
  {
   "cell_type": "markdown",
   "metadata": {},
   "source": [
    "Отделяем 60% в качестве обучающей выборки."
   ]
  },
  {
   "cell_type": "code",
   "execution_count": 7,
   "metadata": {},
   "outputs": [],
   "source": [
    "train_features, val_features, train_target, val_target = train_test_split(features, target,\n",
    "                                                    train_size=0.6,\n",
    "                                                    random_state=123, \n",
    "                                                    stratify=target)"
   ]
  },
  {
   "cell_type": "markdown",
   "metadata": {},
   "source": [
    "Оставшуюся часть (40% исходного датасета) делим пополам и получаем тестовую и валидационную выборки по 20% исходного датасета."
   ]
  },
  {
   "cell_type": "code",
   "execution_count": 8,
   "metadata": {},
   "outputs": [],
   "source": [
    "val_features, test_features, val_target, test_target = train_test_split(val_features, val_target,\n",
    "                                                    train_size=0.5,\n",
    "                                                    random_state=123, \n",
    "                                                    stratify=val_target)"
   ]
  },
  {
   "cell_type": "markdown",
   "metadata": {},
   "source": [
    "Получены выборки:\n",
    "* обучающая - `train_features`, `train_target` (60% исходного набора данных)\n",
    "* валидационная - `val_features`, `val_target` (20% исходного набора данных)\n",
    "* тестовая - `test_features`, `test_target` (20% исходного набора данных)"
   ]
  },
  {
   "cell_type": "markdown",
   "metadata": {},
   "source": [
    "## Исследуйте модели"
   ]
  },
  {
   "cell_type": "code",
   "execution_count": 9,
   "metadata": {},
   "outputs": [
    {
     "name": "stdout",
     "output_type": "stream",
     "text": [
      "max_depth = 1 : 0.7465007776049767\n",
      "max_depth = 2 : 0.7822706065318819\n",
      "max_depth = 3 : 0.7947122861586314\n",
      "max_depth = 4 : 0.7807153965785381\n",
      "max_depth = 5 : 0.7838258164852255\n"
     ]
    }
   ],
   "source": [
    "for depth in range(1,6):\n",
    "    model1 = DecisionTreeClassifier(max_depth=depth, random_state=123)\n",
    "    model1.fit(train_features, train_target)\n",
    "    val_pred1 = model1.predict(val_features)\n",
    "    print(\"max_depth =\", depth, \": \", end='')\n",
    "    print(accuracy_score(val_target, val_pred1))"
   ]
  },
  {
   "cell_type": "markdown",
   "metadata": {},
   "source": [
    "Изучаем модель решающего дерева с разными гиперпараметрами. Наилучший результат достигнут на глубине 3."
   ]
  },
  {
   "cell_type": "code",
   "execution_count": 10,
   "metadata": {},
   "outputs": [
    {
     "name": "stdout",
     "output_type": "stream",
     "text": [
      "estimators:  1 : 0.6936236391912908\n",
      "estimators:  2 : 0.7465007776049767\n",
      "estimators:  3 : 0.7371695178849145\n",
      "estimators:  4 : 0.7589424572317263\n",
      "estimators:  5 : 0.7480559875583204\n",
      "estimators:  6 : 0.7713841368584758\n",
      "estimators:  7 : 0.7620528771384136\n",
      "estimators:  8 : 0.7682737169517885\n",
      "estimators:  9 : 0.7682737169517885\n",
      "estimators:  10 : 0.7682737169517885\n",
      "estimators:  11 : 0.7698289269051322\n",
      "estimators:  12 : 0.776049766718507\n",
      "estimators:  13 : 0.7807153965785381\n",
      "estimators:  14 : 0.7807153965785381\n",
      "estimators:  15 : 0.7838258164852255\n",
      "estimators:  16 : 0.7822706065318819\n",
      "estimators:  17 : 0.7807153965785381\n",
      "estimators:  18 : 0.7729393468118196\n",
      "estimators:  19 : 0.7776049766718507\n",
      "estimators:  20 : 0.7776049766718507\n",
      "estimators:  21 : 0.7838258164852255\n",
      "estimators:  22 : 0.7729393468118196\n",
      "estimators:  23 : 0.776049766718507\n",
      "estimators:  24 : 0.7698289269051322\n",
      "estimators:  25 : 0.7667185069984448\n",
      "estimators:  26 : 0.7713841368584758\n",
      "estimators:  27 : 0.7698289269051322\n",
      "estimators:  28 : 0.7698289269051322\n",
      "estimators:  29 : 0.7682737169517885\n",
      "estimators:  30 : 0.7682737169517885\n",
      "estimators:  31 : 0.7713841368584758\n",
      "estimators:  32 : 0.7744945567651633\n",
      "estimators:  33 : 0.7744945567651633\n",
      "estimators:  34 : 0.7776049766718507\n",
      "estimators:  35 : 0.776049766718507\n",
      "estimators:  36 : 0.776049766718507\n",
      "estimators:  37 : 0.776049766718507\n",
      "estimators:  38 : 0.7807153965785381\n",
      "estimators:  39 : 0.7807153965785381\n",
      "estimators:  40 : 0.7776049766718507\n",
      "estimators:  41 : 0.7776049766718507\n",
      "estimators:  42 : 0.7807153965785381\n",
      "estimators:  43 : 0.7791601866251944\n",
      "estimators:  44 : 0.7776049766718507\n",
      "estimators:  45 : 0.7791601866251944\n",
      "estimators:  46 : 0.7776049766718507\n",
      "estimators:  47 : 0.7776049766718507\n",
      "estimators:  48 : 0.7744945567651633\n",
      "estimators:  49 : 0.7776049766718507\n",
      "estimators:  50 : 0.7791601866251944\n",
      "estimators:  51 : 0.7807153965785381\n",
      "estimators:  52 : 0.7822706065318819\n",
      "estimators:  53 : 0.7807153965785381\n",
      "estimators:  54 : 0.7807153965785381\n",
      "estimators:  55 : 0.7791601866251944\n",
      "estimators:  56 : 0.7791601866251944\n",
      "estimators:  57 : 0.7807153965785381\n",
      "estimators:  58 : 0.7822706065318819\n",
      "estimators:  59 : 0.7791601866251944\n"
     ]
    }
   ],
   "source": [
    "for est in range(1, 60):\n",
    "    model2 = RandomForestClassifier(random_state=123, n_estimators=est)\n",
    "    model2.fit(train_features, train_target)\n",
    "    val_pred2 = model2.predict(val_features)\n",
    "    print(\"estimators: \", est, \": \", end='')\n",
    "    print(accuracy_score(val_target, val_pred2))"
   ]
  },
  {
   "cell_type": "markdown",
   "metadata": {},
   "source": [
    "Следующая модель - случайный лес, в котором перебирается число деревьев от 1 до 60. Наилучший результат показан на 15 и 21 деревьях."
   ]
  },
  {
   "cell_type": "code",
   "execution_count": 11,
   "metadata": {},
   "outputs": [
    {
     "name": "stdout",
     "output_type": "stream",
     "text": [
      "0.6967340590979783\n"
     ]
    }
   ],
   "source": [
    "model3 = LogisticRegression(random_state=123, solver='lbfgs', max_iter=1000)\n",
    "model3.fit(train_features, train_target)\n",
    "val_pred3 = model3.predict(val_features)\n",
    "print(accuracy_score(val_target, val_pred3))"
   ]
  },
  {
   "cell_type": "markdown",
   "metadata": {},
   "source": [
    "Также проверена логистическая регрессия, но её точность на валидационной выборке низка."
   ]
  },
  {
   "cell_type": "markdown",
   "metadata": {},
   "source": [
    "## Проверьте модель на тестовой выборке"
   ]
  },
  {
   "cell_type": "code",
   "execution_count": 17,
   "metadata": {},
   "outputs": [
    {
     "name": "stdout",
     "output_type": "stream",
     "text": [
      "0.80248833592535\n"
     ]
    }
   ],
   "source": [
    "model_tree = DecisionTreeClassifier(random_state=123, max_depth=3)\n",
    "model_tree.fit(train_features, train_target)\n",
    "test_pred = model_tree.predict(test_features)\n",
    "print(accuracy_score(test_target, test_pred)) "
   ]
  },
  {
   "cell_type": "markdown",
   "metadata": {},
   "source": [
    "Используем модель решающего дерева с глубиной 3, т.к. такая показала наилучший результат в предварительных тестах на валидационной выборке. На тестовой выборке она показывает точность ~0.802."
   ]
  },
  {
   "cell_type": "code",
   "execution_count": 18,
   "metadata": {},
   "outputs": [
    {
     "name": "stdout",
     "output_type": "stream",
     "text": [
      "0.8258164852255054\n"
     ]
    }
   ],
   "source": [
    "model_forest = RandomForestClassifier(random_state=123, n_estimators=21)\n",
    "model_forest.fit(train_features, train_target)\n",
    "test_pred = model_forest.predict(test_features)\n",
    "print(accuracy_score(test_target, test_pred)) "
   ]
  },
  {
   "cell_type": "markdown",
   "metadata": {},
   "source": [
    "Также проверяем модель случайного леса с наилучшими параметрами (число деревьев 21). С нею на тестовой выборке достигнута точность ~0.826, что больше, чем у решающего дерева."
   ]
  },
  {
   "cell_type": "markdown",
   "metadata": {},
   "source": [
    "## (бонус) Проверьте модели на адекватность"
   ]
  },
  {
   "cell_type": "code",
   "execution_count": 19,
   "metadata": {},
   "outputs": [
    {
     "name": "stdout",
     "output_type": "stream",
     "text": [
      "0.6936236391912908\n"
     ]
    }
   ],
   "source": [
    "dummy = DummyClassifier(strategy='most_frequent')\n",
    "dummy.fit(train_features, train_target)\n",
    "dummy_pred = dummy.predict(val_features)\n",
    "print(accuracy_score(val_target, dummy_pred))"
   ]
  },
  {
   "cell_type": "markdown",
   "metadata": {},
   "source": [
    "Для проверки на адекватность используем `DummyClassifier` со стратегией `most_frequent` (возвращает самый частый целевой признак из обучающего набора данных, переданного модели). Его точность 0.69, что ниже достигнутой как для решающего дерева, так и для случайного леса."
   ]
  },
  {
   "cell_type": "markdown",
   "metadata": {},
   "source": [
    "## Вывод\n",
    "Модель случайного леса показывает наилучшую точность на тестовой выборке, при том, что на валидационной уступает решающему дереву с правильно настроенной глубиной. Это следствие того, что модель на основе дерева склонна к переобучению, поэтому она чаще ошибается на скрытом наборе данных."
   ]
  },
  {
   "cell_type": "markdown",
   "metadata": {},
   "source": [
    "## Чек-лист готовности проекта"
   ]
  },
  {
   "cell_type": "markdown",
   "metadata": {},
   "source": [
    "Поставьте 'x' в выполненных пунктах. Далее нажмите Shift+Enter."
   ]
  },
  {
   "cell_type": "markdown",
   "metadata": {},
   "source": [
    "- [x] Jupyter Notebook открыт\n",
    "- [x] Весь код исполняется без ошибок\n",
    "- [x] Ячейки с кодом расположены в порядке исполнения\n",
    "- [x] Выполнено задание 1: данные загружены и изучены\n",
    "- [x] Выполнено задание 2: данные разбиты на три выборки\n",
    "- [x] Выполнено задание 3: проведено исследование моделей\n",
    "    - [x] Рассмотрено больше одной модели\n",
    "    - [x] Рассмотрено хотя бы 3 значения гипепараметров для какой-нибудь модели\n",
    "    - [x] Написаны выводы по результатам исследования\n",
    "- [x] Выполнено задание 3: Проведено тестирование\n",
    "- [x] Удалось достичь accuracy не меньше 0.75\n"
   ]
  },
  {
   "cell_type": "code",
   "execution_count": null,
   "metadata": {},
   "outputs": [],
   "source": []
  }
 ],
 "metadata": {
  "kernelspec": {
   "display_name": "Python 3 (ipykernel)",
   "language": "python",
   "name": "python3"
  },
  "language_info": {
   "codemirror_mode": {
    "name": "ipython",
    "version": 3
   },
   "file_extension": ".py",
   "mimetype": "text/x-python",
   "name": "python",
   "nbconvert_exporter": "python",
   "pygments_lexer": "ipython3",
   "version": "3.9.13"
  },
  "toc": {
   "base_numbering": 1,
   "nav_menu": {},
   "number_sections": true,
   "sideBar": true,
   "skip_h1_title": true,
   "title_cell": "Table of Contents",
   "title_sidebar": "Contents",
   "toc_cell": false,
   "toc_position": {},
   "toc_section_display": true,
   "toc_window_display": false
  }
 },
 "nbformat": 4,
 "nbformat_minor": 2
}
