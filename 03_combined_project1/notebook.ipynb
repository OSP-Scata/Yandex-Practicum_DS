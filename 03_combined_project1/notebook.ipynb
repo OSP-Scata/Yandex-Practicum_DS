{
 "cells": [
  {
   "cell_type": "markdown",
   "id": "4af6a27c",
   "metadata": {},
   "source": [
    "**Привет!** 👋\n",
    "\n",
    "Меня зовут Артем Пиляй. Я буду проверять твой проект. В рамках корпоративной этики мы общаемся на «ты». Но если лучше на «Вы», то нужно обозначить это сразу.\n",
    " \n",
    "В тетрадке есть комментарии к проекту, они будут в отдельных ячейках Markdown.\n",
    " \n",
    "<div class=\"alert alert-danger\">\n",
    "\n",
    "**Артём:** ✋ Такой комментарий **нужно исправить** обязательно, он критически влияет на удачное выполнение проекта.\n",
    "\n",
    "</div>\n",
    "\n",
    "<div class=\"alert alert-warning\">\n",
    "\n",
    "**Артём:** 👉 Если таких комментариев в проекте **не больше трех**, то проект будет принят. Но есть два исключения, при которых я приму проект с любым количеством желтых комментариев, красные нужно исправить все:\n",
    "    \n",
    "* если у тебя дедлайн, тогда оставь в начале 👆 проекта комментарий «Дедлайн, специальность (DA/DS/DA+/DS+), и номер когорты»;\n",
    "* если ты считаешь, что для успешного трудоустройства и для успешной работы в команде тебе это не нужно, тогда оставь в начале проекта комментарий «Не нужно».\n",
    "</div>\n",
    "\n",
    "<div class=\"alert alert-success\">\n",
    "\n",
    "**Артём:** 👍 А это **самый главный комментарий**, значит все сделано хорошо. 😉\n",
    "\n",
    "</div>\n",
    "\n",
    "<div class=\"alert alert-info\">\n",
    "\n",
    "**Артём:** ✍️ В таких комментариях я оставляю подсказки как сделать **твой проект ещё лучше**.\n",
    "\n",
    "</div>\n",
    "\n",
    "---\n",
    "\n",
    "**Распространенные ошибки**\n",
    "\n",
    "<div class=\"alert alert-danger\">\n",
    "\n",
    "**Артём:** ✋ Не перемещай и не удаляй мои комментарии. Лучше, чтобы твои ответы на мои комментарии шли по очереди, как сообщения в мессенджере. Это ускорит проверку.\n",
    "    \n",
    "</div>\n",
    "\n",
    "<div class=\"alert alert-danger\">\n",
    "\n",
    "**Артём:** ✋ Проверь проект на работоспособность перед отправкой на проверку. Это важный навык, который тебе пригодится как на собеседовании, при выполнении тестового задания, так и перед совещанием у руководства компании. Помни, ревьеры не вносят изменения в код, даже если это путь к датасету или ячейка в неверном формате (code/mardown).  \n",
    "    \n",
    "</div>\n",
    "\n",
    "<div class=\"alert alert-info\">\n",
    "\n",
    "**Артём:** ✍️ Кстати, смотри как можно сделать, чтобы датасет грузился и локально, и в JupyterHub:\n",
    "\n",
    "```py\n",
    "try:\n",
    "    df = pd.read_csv('C:/Users/Student/Desktop/dataset.csv')\n",
    "except:\n",
    "    df = pd.read_csv('/datasets/dataset.csv')\n",
    "```\n",
    "    \n",
    "Используя эту конструкцию в будущих проектах, ты будешь спокойно отправлять проект на проверку зная, что он будет работать.\n",
    "    \n",
    "</div>\n",
    "\n",
    "<div class=\"alert alert-danger\">\n",
    "\n",
    "**Артём:** ✋ Проект должен быть структурирован. Где названия разделов и подразделов будут записаны в ячейках Markdown.\n",
    "    \n",
    "</div>\n",
    "\n",
    "<div class=\"alert alert-danger\">\n",
    "\n",
    "**Артём:** ✋ Если с твоим проектом будет знакомиться другой человек, например рекрутер или старший дата специалист, в нем должны быть описаны поставленные задачи, содержание датасета, промежуточные и финальные выводы. Как правило, заказчик читает только финальный вывод, поэтому важно добавить информацию о проведенном исследовании, применить форматирование текста, в общем, сделать красиво, чтобы было понятно, что проведено настоящее исследование и выводу можно верить. \n",
    "\n",
    "</div>  \n",
    "\n",
    "<div class=\"alert alert-warning\">\n",
    "    \n",
    "**Артём:** 👉 Длинный код и комментарии нужно переносить на новую строку. Согласись, коллеги не оценят, если им придется тратить время на пролистывание ячеек. Согласно международному стандарту [PEP8](https://www.python.org/dev/peps/pep-0008/) длина строки не должна превышать 79 символов.\n",
    "Вот как можно перенести код на новую строку:\n",
    "\n",
    "```py\n",
    "# Переносить можно код внутри скобки\n",
    "example = (2 *\n",
    "           2)\n",
    "```\n",
    "Конечно, я не считаю сколько символов в строке, главное, чтобы код или комментарий не ушел за пределы ячейки (зависит от разрешения экрана). Если ушел, то это желтый комментарий для каждой нечитаемой ячейки.\n",
    "    \n",
    "</div>\n",
    "\n",
    "<div class=\"alert alert-warning\">\n",
    "    \n",
    "**Артём:** 👉 Тимлид, старший дата специалист или ревьюер ценят твое и своё время, подсвечивай свои комментарии в ячейках Markdown. Шаблон я тебе оставил ниже. Подробнее про синтаксис Markdown, с примерами, можно почитать [здесь](https://paulradzkov.com/2014/markdown_cheatsheet/?).\n",
    "    \n",
    "</div>\n",
    "\n",
    "<div class=\"alert alert-success\">\n",
    "\n",
    "**Артём:** 👍 Буду рад, если воспользуешься моими советами. Они тебе помогут при трудоустройстве и при работе в команде. Если в ходе проведения исследования возникнут вопросы, не стесняйся задавай. 🙂\n",
    "</div>\n",
    "\n",
    "<div class=\"alert alert-info\">\n",
    "\n",
    "**Артём:** 🏁 [Итоги ревью здесь](#results)\n",
    "</div>\n",
    "\n",
    "\n",
    "**Поехали!** 🚀 👨‍🚀\n",
    "<a id=\"start\"></a>"
   ]
  },
  {
   "cell_type": "markdown",
   "id": "e61617af",
   "metadata": {},
   "source": [
    "<div style=\"background-color:black; color:#ffffff; text-align:center; padding:2%\">\n",
    "    \n",
    "**Имя:** Это шаблон для тебя. Такой комментарий можно быстро найти."
   ]
  },
  {
   "cell_type": "markdown",
   "id": "5a690bc6",
   "metadata": {},
   "source": [
    "<div class=\"alert alert-danger\">\n",
    "\n",
    "#### **Артём:** ✋ Добавь структуру проекта как в ТЗ.\n",
    "    \n",
    "```\n",
    "## Шаг 1. Откройте файл с данными и изучите общую информацию\n",
    "## Шаг 2. Подготовьте данные\n",
    "### Замените названия столбцов (приведите к нижнему регистру)\n",
    "### Преобразуйте данные в нужные типы\n",
    "### Опишите, в каких столбцах заменили тип данных и почему\n",
    "### Обработайте пропуски при необходимости\n",
    "### Объясните, почему заполнили пропуски определённым образом или почему не стали это делать\n",
    "### Опишите причины, которые могли привести к пропускам\n",
    "### Обратите внимание на аббревиатуру 'tbd' в столбце с оценкой пользователей, Отдельно разберите это значение и опишите, как его обработать\n",
    "### Посчитайте суммарные продажи во всех регионах и запишите их в отдельный столбец\n",
    "## Шаг 3. Проведите исследовательский анализ данных\n",
    "### Посмотрите, сколько игр выпускалось в разные годы\n",
    "### Важны ли данные за все периоды?\n",
    "### Посмотрите, как менялись продажи по платформам. \n",
    "### Выберите платформы с наибольшими суммарными продажами и постройте распределение по годам. \n",
    "### За какой характерный срок появляются новые и исчезают старые платформы?\n",
    "### Возьмите данные за соответствующий актуальный период. Актуальный период определите самостоятельно в результате исследования предыдущих вопросов. Основной фактор — эти данные помогут построить прогноз на 2017 год. **Не учитывайте в работе данные за предыдущие годы.**\n",
    "### Какие платформы лидируют по продажам, растут или падают? Выберите несколько потенциально прибыльных платформ.\n",
    "### Постройте график «ящик с усами» по глобальным продажам игр в разбивке по платформам. Опишите результат.\n",
    "### Посмотрите, как влияют на продажи внутри одной популярной платформы отзывы пользователей и критиков. Постройте диаграмму рассеяния и посчитайте корреляцию между отзывами и продажами. Сформулируйте выводы.\n",
    "### Соотнесите выводы с продажами игр на других платформах.\n",
    "### Посмотрите на общее распределение игр по жанрам. Что можно сказать о самых прибыльных жанрах? Выделяются ли жанры с высокими и низкими продажами?\n",
    "## Шаг 4. Составьте портрет пользователя каждого региона\n",
    "### Определите для пользователя каждого региона (NA, EU, JP):\n",
    "### Самые популярные платформы (топ-5). Опишите различия в долях продаж.\n",
    "### Самые популярные жанры (топ-5). Поясните разницу.\n",
    "### Влияет ли рейтинг ESRB на продажи в отдельном регионе?\n",
    "## 📊 Шаг 5. Проверьте гипотезы\n",
    "Задайте самостоятельно пороговое значение alpha.\n",
    "Поясните:\n",
    "Как вы сформулировали нулевую и альтернативную гипотезы;\n",
    "Какой критерий применили для проверки гипотез и почему.    \n",
    "### 📊 Средние пользовательские рейтинги платформ Xbox One и PC одинаковые;\n",
    "### 📊 Средние пользовательские рейтинги жанров Action (англ. «действие», экшен-игры) и Sports (англ. «спортивные соревнования») разные.\n",
    "\n",
    "## Шаг 6. Напишите общий вывод\n",
    "```\n",
    "    \n",
    "</div>\n",
    "<div class=\"alert alert-info\">\n",
    "\n",
    "**Артём:** ✍️ Пример, как это делать, я тебе оставил в пятом шаге в тетрадке.   \n",
    "Посмотри в меню **Content** слева. Чтобы не перепутать твои и мои ячейки, я добавил эмоджи 📊.   \n",
    "Теперь он структурирован, тебе так нужно сделать в остальном проекте. \n",
    "</div>    "
   ]
  },
  {
   "cell_type": "markdown",
   "id": "0a153ff8",
   "metadata": {},
   "source": [
    "# Анализ данных по продажам игр\n",
    "Мы работаем в интернет-магазине, который продаёт по всему миру компьютерные игры. Из открытых источников доступны исторические данные о продажах игр, оценки пользователей и экспертов, жанры и платформы (например, Xbox или PlayStation). Нужно выявить определяющие успешность игры закономерности. Это позволит сделать ставку на потенциально популярный продукт и спланировать рекламные кампании."
   ]
  },
  {
   "cell_type": "markdown",
   "id": "8d4569ac",
   "metadata": {},
   "source": [
    "<div class=\"alert alert-success\">\n",
    "\n",
    "**Артём:** 👍 Хорошо.\n",
    "\n",
    "</div>\n",
    "<div class=\"alert alert-danger\">\n",
    "\n",
    "#### **Артём:** ✋ Добавь еще описание столбцов датасета, чтобы человек, который будет знакомится с твоим портфолио понимал, что ты исследуешь.\n",
    "    \n",
    "Пример форматирования:\n",
    "\n",
    "- `first_column` — содержание столбца 1;\n",
    "- `second_column` — содержание столбца 2;\n",
    "\n",
    "</div>"
   ]
  },
  {
   "cell_type": "markdown",
   "id": "a054eccf",
   "metadata": {},
   "source": [
    "### Открываем файл с данными и изучаем общую информацию"
   ]
  },
  {
   "cell_type": "code",
   "execution_count": 1,
   "id": "604c3583",
   "metadata": {},
   "outputs": [],
   "source": [
    "import pandas as pd\n",
    "\n",
    "try:\n",
    "    data = pd.read_csv('games.csv')\n",
    "except:\n",
    "    data = pd.read_csv('/datasets/games.csv')"
   ]
  },
  {
   "cell_type": "markdown",
   "id": "2e8a73d2",
   "metadata": {},
   "source": [
    "<div class=\"alert alert-danger\">\n",
    "\n",
    "#### **Артём:** ✋ Загрузку библиотек, датасета и рабочий код лучше разделять на три разные ячейки.\n",
    "    \n",
    "</div>"
   ]
  },
  {
   "cell_type": "code",
   "execution_count": 2,
   "id": "da5dbb2e",
   "metadata": {},
   "outputs": [
    {
     "name": "stdout",
     "output_type": "stream",
     "text": [
      "<class 'pandas.core.frame.DataFrame'>\n",
      "RangeIndex: 16715 entries, 0 to 16714\n",
      "Data columns (total 11 columns):\n",
      " #   Column           Non-Null Count  Dtype  \n",
      "---  ------           --------------  -----  \n",
      " 0   Name             16713 non-null  object \n",
      " 1   Platform         16715 non-null  object \n",
      " 2   Year_of_Release  16446 non-null  float64\n",
      " 3   Genre            16713 non-null  object \n",
      " 4   NA_sales         16715 non-null  float64\n",
      " 5   EU_sales         16715 non-null  float64\n",
      " 6   JP_sales         16715 non-null  float64\n",
      " 7   Other_sales      16715 non-null  float64\n",
      " 8   Critic_Score     8137 non-null   float64\n",
      " 9   User_Score       10014 non-null  object \n",
      " 10  Rating           9949 non-null   object \n",
      "dtypes: float64(6), object(5)\n",
      "memory usage: 1.4+ MB\n"
     ]
    },
    {
     "data": {
      "text/html": [
       "<div>\n",
       "<style scoped>\n",
       "    .dataframe tbody tr th:only-of-type {\n",
       "        vertical-align: middle;\n",
       "    }\n",
       "\n",
       "    .dataframe tbody tr th {\n",
       "        vertical-align: top;\n",
       "    }\n",
       "\n",
       "    .dataframe thead th {\n",
       "        text-align: right;\n",
       "    }\n",
       "</style>\n",
       "<table border=\"1\" class=\"dataframe\">\n",
       "  <thead>\n",
       "    <tr style=\"text-align: right;\">\n",
       "      <th></th>\n",
       "      <th>Name</th>\n",
       "      <th>Platform</th>\n",
       "      <th>Year_of_Release</th>\n",
       "      <th>Genre</th>\n",
       "      <th>NA_sales</th>\n",
       "      <th>EU_sales</th>\n",
       "      <th>JP_sales</th>\n",
       "      <th>Other_sales</th>\n",
       "      <th>Critic_Score</th>\n",
       "      <th>User_Score</th>\n",
       "      <th>Rating</th>\n",
       "    </tr>\n",
       "  </thead>\n",
       "  <tbody>\n",
       "    <tr>\n",
       "      <th>0</th>\n",
       "      <td>Wii Sports</td>\n",
       "      <td>Wii</td>\n",
       "      <td>2006.0</td>\n",
       "      <td>Sports</td>\n",
       "      <td>41.36</td>\n",
       "      <td>28.96</td>\n",
       "      <td>3.77</td>\n",
       "      <td>8.45</td>\n",
       "      <td>76.0</td>\n",
       "      <td>8</td>\n",
       "      <td>E</td>\n",
       "    </tr>\n",
       "    <tr>\n",
       "      <th>1</th>\n",
       "      <td>Super Mario Bros.</td>\n",
       "      <td>NES</td>\n",
       "      <td>1985.0</td>\n",
       "      <td>Platform</td>\n",
       "      <td>29.08</td>\n",
       "      <td>3.58</td>\n",
       "      <td>6.81</td>\n",
       "      <td>0.77</td>\n",
       "      <td>NaN</td>\n",
       "      <td>NaN</td>\n",
       "      <td>NaN</td>\n",
       "    </tr>\n",
       "    <tr>\n",
       "      <th>2</th>\n",
       "      <td>Mario Kart Wii</td>\n",
       "      <td>Wii</td>\n",
       "      <td>2008.0</td>\n",
       "      <td>Racing</td>\n",
       "      <td>15.68</td>\n",
       "      <td>12.76</td>\n",
       "      <td>3.79</td>\n",
       "      <td>3.29</td>\n",
       "      <td>82.0</td>\n",
       "      <td>8.3</td>\n",
       "      <td>E</td>\n",
       "    </tr>\n",
       "    <tr>\n",
       "      <th>3</th>\n",
       "      <td>Wii Sports Resort</td>\n",
       "      <td>Wii</td>\n",
       "      <td>2009.0</td>\n",
       "      <td>Sports</td>\n",
       "      <td>15.61</td>\n",
       "      <td>10.93</td>\n",
       "      <td>3.28</td>\n",
       "      <td>2.95</td>\n",
       "      <td>80.0</td>\n",
       "      <td>8</td>\n",
       "      <td>E</td>\n",
       "    </tr>\n",
       "    <tr>\n",
       "      <th>4</th>\n",
       "      <td>Pokemon Red/Pokemon Blue</td>\n",
       "      <td>GB</td>\n",
       "      <td>1996.0</td>\n",
       "      <td>Role-Playing</td>\n",
       "      <td>11.27</td>\n",
       "      <td>8.89</td>\n",
       "      <td>10.22</td>\n",
       "      <td>1.00</td>\n",
       "      <td>NaN</td>\n",
       "      <td>NaN</td>\n",
       "      <td>NaN</td>\n",
       "    </tr>\n",
       "  </tbody>\n",
       "</table>\n",
       "</div>"
      ],
      "text/plain": [
       "                       Name Platform  Year_of_Release         Genre  NA_sales  \\\n",
       "0                Wii Sports      Wii           2006.0        Sports     41.36   \n",
       "1         Super Mario Bros.      NES           1985.0      Platform     29.08   \n",
       "2            Mario Kart Wii      Wii           2008.0        Racing     15.68   \n",
       "3         Wii Sports Resort      Wii           2009.0        Sports     15.61   \n",
       "4  Pokemon Red/Pokemon Blue       GB           1996.0  Role-Playing     11.27   \n",
       "\n",
       "   EU_sales  JP_sales  Other_sales  Critic_Score User_Score Rating  \n",
       "0     28.96      3.77         8.45          76.0          8      E  \n",
       "1      3.58      6.81         0.77           NaN        NaN    NaN  \n",
       "2     12.76      3.79         3.29          82.0        8.3      E  \n",
       "3     10.93      3.28         2.95          80.0          8      E  \n",
       "4      8.89     10.22         1.00           NaN        NaN    NaN  "
      ]
     },
     "execution_count": 2,
     "metadata": {},
     "output_type": "execute_result"
    }
   ],
   "source": [
    "data.info()\n",
    "data.head()"
   ]
  },
  {
   "cell_type": "markdown",
   "id": "9c91ed5d",
   "metadata": {},
   "source": [
    "### Подготовка данных: преобразуем типы, работаем с пропусками, приводим названия столбцов к нижнему регистру"
   ]
  },
  {
   "cell_type": "code",
   "execution_count": 3,
   "id": "3dc75bc6",
   "metadata": {},
   "outputs": [
    {
     "data": {
      "text/plain": [
       "Index(['name', 'platform', 'year_of_release', 'genre', 'na_sales', 'eu_sales',\n",
       "       'jp_sales', 'other_sales', 'critic_score', 'user_score', 'rating'],\n",
       "      dtype='object')"
      ]
     },
     "execution_count": 3,
     "metadata": {},
     "output_type": "execute_result"
    }
   ],
   "source": [
    "data.columns= data.columns.str.lower()\n",
    "data.columns"
   ]
  },
  {
   "cell_type": "markdown",
   "id": "62a5fbe4",
   "metadata": {},
   "source": [
    "<div class=\"alert alert-success\">\n",
    "\n",
    "**Артём:** 👍 Молодец, оптимальный метод.\n",
    "\n",
    "</div>"
   ]
  },
  {
   "cell_type": "markdown",
   "id": "e200002c",
   "metadata": {},
   "source": [
    "Поскольку год почему-то во float, а иных сведений о дате нет, в тип datetime не преобразуешь. Ограничиваемся int, для которого надо сначала заполнить пропуски - заполняем их нулями. Заодно здесь же заполняем пропуски в столбце rating значением Unknown."
   ]
  },
  {
   "cell_type": "markdown",
   "id": "769273e9",
   "metadata": {},
   "source": [
    "<div class=\"alert alert-success\">\n",
    "\n",
    "**Артём:** 👍 Хорошо.\n",
    "\n",
    "</div>"
   ]
  },
  {
   "cell_type": "code",
   "execution_count": 4,
   "id": "498c3de9",
   "metadata": {},
   "outputs": [],
   "source": [
    "data['year_of_release'] = data['year_of_release'].fillna(0)\n",
    "data['year_of_release'] = data['year_of_release'].astype('int')\n",
    "\n",
    "data['rating'] = data['rating'].fillna('Unknown')"
   ]
  },
  {
   "cell_type": "code",
   "execution_count": 5,
   "id": "ae7faf3c",
   "metadata": {},
   "outputs": [
    {
     "name": "stdout",
     "output_type": "stream",
     "text": [
      "['8' nan '8.3' '8.5' '6.6' '8.4' '8.6' '7.7' '6.3' '7.4' '8.2' '9' '7.9'\n",
      " '8.1' '8.7' '7.1' '3.4' '5.3' '4.8' '3.2' '8.9' '6.4' '7.8' '7.5' '2.6'\n",
      " '7.2' '9.2' '7' '7.3' '4.3' '7.6' '5.7' '5' '9.1' '6.5' 'tbd' '8.8' '6.9'\n",
      " '9.4' '6.8' '6.1' '6.7' '5.4' '4' '4.9' '4.5' '9.3' '6.2' '4.2' '6' '3.7'\n",
      " '4.1' '5.8' '5.6' '5.5' '4.4' '4.6' '5.9' '3.9' '3.1' '2.9' '5.2' '3.3'\n",
      " '4.7' '5.1' '3.5' '2.5' '1.9' '3' '2.7' '2.2' '2' '9.5' '2.1' '3.6' '2.8'\n",
      " '1.8' '3.8' '0' '1.6' '9.6' '2.4' '1.7' '1.1' '0.3' '1.5' '0.7' '1.2'\n",
      " '2.3' '0.5' '1.3' '0.2' '0.6' '1.4' '0.9' '1' '9.7']\n",
      "[76. nan 82. 80. 89. 58. 87. 91. 61. 97. 95. 77. 88. 83. 94. 93. 85. 86.\n",
      " 98. 96. 90. 84. 73. 74. 78. 92. 71. 72. 68. 62. 49. 67. 81. 66. 56. 79.\n",
      " 70. 59. 64. 75. 60. 63. 69. 50. 25. 42. 44. 55. 48. 57. 29. 47. 65. 54.\n",
      " 20. 53. 37. 38. 33. 52. 30. 32. 43. 45. 51. 40. 46. 39. 34. 35. 41. 36.\n",
      " 28. 31. 27. 26. 19. 23. 24. 21. 17. 22. 13.]\n"
     ]
    }
   ],
   "source": [
    "print(data['user_score'].unique()) # проверяем, какие есть значения оценок\n",
    "print(data['critic_score'].unique())"
   ]
  },
  {
   "cell_type": "markdown",
   "id": "9ab08ba7",
   "metadata": {},
   "source": [
    "Помимо пропусков, встречается также строка TBD - to be decided, требует уточнения. Поскольку рейтинг имеет численное значение, эти строки мешают привести тип к int или float; при этом заменить нулями тоже не выходит из-за того, что есть значения рейтинга 0. Считаю, что хорошим выходом будет привести пропуски и TBD к значению -1.\n",
    "Также заметно, что значения user_score отличается в 10 раз от значений critic_score. Выглядит хорошей идеей привести их к одному порядку (от 0 до 100) и перевести в int."
   ]
  },
  {
   "cell_type": "markdown",
   "id": "81386e95",
   "metadata": {},
   "source": [
    "<div class=\"alert alert-success\">\n",
    "\n",
    "**Артём:** 👍 Согласен.\n",
    "\n",
    "</div>"
   ]
  },
  {
   "cell_type": "code",
   "execution_count": 6,
   "id": "b3809831",
   "metadata": {},
   "outputs": [
    {
     "name": "stdout",
     "output_type": "stream",
     "text": [
      "[80 -1 83 85 66 84 86 77 63 74 82 90 79 81 87 71 34 53 48 32 89 64 78 75\n",
      " 26 72 92 70 73 43 76 57 50 91 65 88 69 94 68 61 67 54 40 49 45 93 62 42\n",
      " 60 37 41 58 56 55 44 46 59 39 31 29 52 33 47 51 35 25 19 30 27 22 20 95\n",
      " 21 36 28 18 38  0 16 96 24 17 11  3 15  7 12 23  5 13  2  6 14  9 10 97]\n"
     ]
    }
   ],
   "source": [
    "data['user_score'] = data['user_score'].fillna(-1)\n",
    "data.loc[data['user_score'] == 'tbd', 'user_score'] = -1\n",
    "data['user_score'] = data['user_score'].astype('float')\n",
    "data['user_score'] = data['user_score'] * 10\n",
    "data['user_score'] = data['user_score'].astype('int')\n",
    "data.loc[data['user_score'] == -10, 'user_score'] = -1\n",
    "print(data['user_score'].unique())"
   ]
  },
  {
   "cell_type": "code",
   "execution_count": 7,
   "id": "eeb0d590",
   "metadata": {},
   "outputs": [
    {
     "name": "stdout",
     "output_type": "stream",
     "text": [
      "[76 -1 82 80 89 58 87 91 61 97 95 77 88 83 94 93 85 86 98 96 90 84 73 74\n",
      " 78 92 71 72 68 62 49 67 81 66 56 79 70 59 64 75 60 63 69 50 25 42 44 55\n",
      " 48 57 29 47 65 54 20 53 37 38 33 52 30 32 43 45 51 40 46 39 34 35 41 36\n",
      " 28 31 27 26 19 23 24 21 17 22 13]\n"
     ]
    }
   ],
   "source": [
    "data['critic_score'] = data['critic_score'].fillna(-1)\n",
    "data['critic_score'] = data['critic_score'].astype('int')\n",
    "print(data['critic_score'].unique())"
   ]
  },
  {
   "cell_type": "markdown",
   "id": "89d3c91b",
   "metadata": {},
   "source": [
    "Считаем суммарные продажи во всех регионах."
   ]
  },
  {
   "cell_type": "code",
   "execution_count": 8,
   "id": "c9ce66e1",
   "metadata": {},
   "outputs": [
    {
     "data": {
      "text/html": [
       "<div>\n",
       "<style scoped>\n",
       "    .dataframe tbody tr th:only-of-type {\n",
       "        vertical-align: middle;\n",
       "    }\n",
       "\n",
       "    .dataframe tbody tr th {\n",
       "        vertical-align: top;\n",
       "    }\n",
       "\n",
       "    .dataframe thead th {\n",
       "        text-align: right;\n",
       "    }\n",
       "</style>\n",
       "<table border=\"1\" class=\"dataframe\">\n",
       "  <thead>\n",
       "    <tr style=\"text-align: right;\">\n",
       "      <th></th>\n",
       "      <th>name</th>\n",
       "      <th>platform</th>\n",
       "      <th>year_of_release</th>\n",
       "      <th>genre</th>\n",
       "      <th>na_sales</th>\n",
       "      <th>eu_sales</th>\n",
       "      <th>jp_sales</th>\n",
       "      <th>other_sales</th>\n",
       "      <th>critic_score</th>\n",
       "      <th>user_score</th>\n",
       "      <th>rating</th>\n",
       "      <th>all_sales</th>\n",
       "    </tr>\n",
       "  </thead>\n",
       "  <tbody>\n",
       "    <tr>\n",
       "      <th>0</th>\n",
       "      <td>Wii Sports</td>\n",
       "      <td>Wii</td>\n",
       "      <td>2006</td>\n",
       "      <td>Sports</td>\n",
       "      <td>41.36</td>\n",
       "      <td>28.96</td>\n",
       "      <td>3.77</td>\n",
       "      <td>8.45</td>\n",
       "      <td>76</td>\n",
       "      <td>80</td>\n",
       "      <td>E</td>\n",
       "      <td>82.54</td>\n",
       "    </tr>\n",
       "    <tr>\n",
       "      <th>1</th>\n",
       "      <td>Super Mario Bros.</td>\n",
       "      <td>NES</td>\n",
       "      <td>1985</td>\n",
       "      <td>Platform</td>\n",
       "      <td>29.08</td>\n",
       "      <td>3.58</td>\n",
       "      <td>6.81</td>\n",
       "      <td>0.77</td>\n",
       "      <td>-1</td>\n",
       "      <td>-1</td>\n",
       "      <td>Unknown</td>\n",
       "      <td>40.24</td>\n",
       "    </tr>\n",
       "    <tr>\n",
       "      <th>2</th>\n",
       "      <td>Mario Kart Wii</td>\n",
       "      <td>Wii</td>\n",
       "      <td>2008</td>\n",
       "      <td>Racing</td>\n",
       "      <td>15.68</td>\n",
       "      <td>12.76</td>\n",
       "      <td>3.79</td>\n",
       "      <td>3.29</td>\n",
       "      <td>82</td>\n",
       "      <td>83</td>\n",
       "      <td>E</td>\n",
       "      <td>35.52</td>\n",
       "    </tr>\n",
       "    <tr>\n",
       "      <th>3</th>\n",
       "      <td>Wii Sports Resort</td>\n",
       "      <td>Wii</td>\n",
       "      <td>2009</td>\n",
       "      <td>Sports</td>\n",
       "      <td>15.61</td>\n",
       "      <td>10.93</td>\n",
       "      <td>3.28</td>\n",
       "      <td>2.95</td>\n",
       "      <td>80</td>\n",
       "      <td>80</td>\n",
       "      <td>E</td>\n",
       "      <td>32.77</td>\n",
       "    </tr>\n",
       "    <tr>\n",
       "      <th>4</th>\n",
       "      <td>Pokemon Red/Pokemon Blue</td>\n",
       "      <td>GB</td>\n",
       "      <td>1996</td>\n",
       "      <td>Role-Playing</td>\n",
       "      <td>11.27</td>\n",
       "      <td>8.89</td>\n",
       "      <td>10.22</td>\n",
       "      <td>1.00</td>\n",
       "      <td>-1</td>\n",
       "      <td>-1</td>\n",
       "      <td>Unknown</td>\n",
       "      <td>31.38</td>\n",
       "    </tr>\n",
       "  </tbody>\n",
       "</table>\n",
       "</div>"
      ],
      "text/plain": [
       "                       name platform  year_of_release         genre  na_sales  \\\n",
       "0                Wii Sports      Wii             2006        Sports     41.36   \n",
       "1         Super Mario Bros.      NES             1985      Platform     29.08   \n",
       "2            Mario Kart Wii      Wii             2008        Racing     15.68   \n",
       "3         Wii Sports Resort      Wii             2009        Sports     15.61   \n",
       "4  Pokemon Red/Pokemon Blue       GB             1996  Role-Playing     11.27   \n",
       "\n",
       "   eu_sales  jp_sales  other_sales  critic_score  user_score   rating  \\\n",
       "0     28.96      3.77         8.45            76          80        E   \n",
       "1      3.58      6.81         0.77            -1          -1  Unknown   \n",
       "2     12.76      3.79         3.29            82          83        E   \n",
       "3     10.93      3.28         2.95            80          80        E   \n",
       "4      8.89     10.22         1.00            -1          -1  Unknown   \n",
       "\n",
       "   all_sales  \n",
       "0      82.54  \n",
       "1      40.24  \n",
       "2      35.52  \n",
       "3      32.77  \n",
       "4      31.38  "
      ]
     },
     "execution_count": 8,
     "metadata": {},
     "output_type": "execute_result"
    }
   ],
   "source": [
    "data['all_sales'] = data['na_sales'] + data['eu_sales'] + data['jp_sales'] + data['other_sales']\n",
    "data.head()"
   ]
  },
  {
   "cell_type": "markdown",
   "id": "2e2ca8f6",
   "metadata": {},
   "source": [
    "<div class=\"alert alert-info\">\n",
    "\n",
    "**Артём:** ✍️ Есть еще такой способ:\n",
    "        \n",
    "```py\n",
    "df[['column_1','column_2','column_3', 'column_4']].sum(axis = 1)\n",
    "```\n",
    "\n",
    "</div>"
   ]
  },
  {
   "cell_type": "code",
   "execution_count": 9,
   "id": "98361966",
   "metadata": {},
   "outputs": [
    {
     "name": "stdout",
     "output_type": "stream",
     "text": [
      "<class 'pandas.core.frame.DataFrame'>\n",
      "RangeIndex: 16715 entries, 0 to 16714\n",
      "Data columns (total 12 columns):\n",
      " #   Column           Non-Null Count  Dtype  \n",
      "---  ------           --------------  -----  \n",
      " 0   name             16713 non-null  object \n",
      " 1   platform         16715 non-null  object \n",
      " 2   year_of_release  16715 non-null  int64  \n",
      " 3   genre            16713 non-null  object \n",
      " 4   na_sales         16715 non-null  float64\n",
      " 5   eu_sales         16715 non-null  float64\n",
      " 6   jp_sales         16715 non-null  float64\n",
      " 7   other_sales      16715 non-null  float64\n",
      " 8   critic_score     16715 non-null  int64  \n",
      " 9   user_score       16715 non-null  int64  \n",
      " 10  rating           16715 non-null  object \n",
      " 11  all_sales        16715 non-null  float64\n",
      "dtypes: float64(5), int64(3), object(4)\n",
      "memory usage: 1.5+ MB\n"
     ]
    }
   ],
   "source": [
    "data.info()"
   ]
  },
  {
   "cell_type": "markdown",
   "id": "18a2263e",
   "metadata": {},
   "source": [
    "Мы заполнили пропуски там, где это возможно (кроме полей name и genre, где есть 2 пропуска), а также создали отдельный столбец для суммы продаж по всем регионам."
   ]
  },
  {
   "cell_type": "markdown",
   "id": "980e07ee",
   "metadata": {},
   "source": [
    "<div class=\"alert alert-success\">\n",
    "\n",
    "**Артём:** 👍 Принято.\n",
    "\n",
    "</div>"
   ]
  },
  {
   "cell_type": "markdown",
   "id": "7291bf16",
   "metadata": {},
   "source": [
    "### Исследовательский анализ данных"
   ]
  },
  {
   "cell_type": "markdown",
   "id": "27001594",
   "metadata": {},
   "source": [
    "Смотрим, сколько игр выпускалось в разные годы. Важны ли данные за все периоды?"
   ]
  },
  {
   "cell_type": "code",
   "execution_count": 25,
   "id": "5ed4b285",
   "metadata": {},
   "outputs": [
    {
     "data": {
      "text/plain": [
       "<AxesSubplot:>"
      ]
     },
     "execution_count": 25,
     "metadata": {},
     "output_type": "execute_result"
    },
    {
     "data": {
      "image/png": "[encoded data removed]",
      "text/plain": [
       "<Figure size 432x288 with 1 Axes>"
      ]
     },
     "metadata": {
      "needs_background": "light"
     },
     "output_type": "display_data"
    }
   ],
   "source": [
    "year_min = data['year_of_release'].loc[data['year_of_release'] > 0].min() # поскольку пропуски заменены нулями, эти нули\n",
    "# не должны мешать в построении графика/гистограммы\n",
    "year_max = data['year_of_release'].max()\n",
    "data['year_of_release'].hist(range=(year_min, year_max), bins=(year_max - year_min))\n",
    "# число корзин = числу лет"
   ]
  },
  {
   "cell_type": "markdown",
   "id": "5aebc1ff",
   "metadata": {},
   "source": [
    "<div class=\"alert alert-info\">\n",
    "\n",
    "**Артём:** ✍️ Сделай число корзин = количество значений * 2 + 1.\n",
    "    \n",
    "</div>"
   ]
  },
  {
   "cell_type": "markdown",
   "id": "2e023e72",
   "metadata": {},
   "source": [
    "<div class=\"alert alert-info\">\n",
    "\n",
    "**Артём:** ✍️ Чтобы не выводить `<...>` можно поставить в конце строки `;`.\n",
    "    \n",
    "</div>"
   ]
  },
  {
   "cell_type": "markdown",
   "id": "2ce85996",
   "metadata": {},
   "source": [
    "<div class=\"alert alert-danger\">\n",
    "\n",
    "#### **Артём:** ✋ Увеличь масштаб, сделай подписи на языке заказчика.\n",
    "    \n",
    "</div>"
   ]
  },
  {
   "cell_type": "markdown",
   "id": "eac5e079",
   "metadata": {},
   "source": [
    "В промежуток 1980-1994 выпускалось очень мало игр, и этот диапазон можно отбросить."
   ]
  },
  {
   "cell_type": "markdown",
   "id": "be583b1d",
   "metadata": {},
   "source": [
    "<div class=\"alert alert-success\">\n",
    "\n",
    "**Артём:** 👍 Верно.\n",
    "\n",
    "</div>"
   ]
  },
  {
   "cell_type": "markdown",
   "id": "69642b7a",
   "metadata": {},
   "source": [
    "Теперь смотрим, как менялись продажи по платформам. Выбираем платформы с наибольшими суммарными продажами и строим распределение по годам. Выяснить: за какой характерный срок появляются новые и исчезают старые платформы?"
   ]
  },
  {
   "cell_type": "code",
   "execution_count": 11,
   "id": "450b3490",
   "metadata": {},
   "outputs": [
    {
     "data": {
      "image/png": "[encoded data removed]",
      "text/plain": [
       "<Figure size 1440x432 with 1 Axes>"
      ]
     },
     "metadata": {
      "needs_background": "light"
     },
     "output_type": "display_data"
    }
   ],
   "source": [
    "import matplotlib.pyplot as plt\n",
    "import seaborn as sns\n",
    "\n",
    "plt.figure(figsize=(20, 6))\n",
    "ax = sns.lineplot(x='year_of_release', y='all_sales', hue=\"platform\",\n",
    "                  data=data.query('year_of_release > 1994') # исключаем совсем старые годы выпуска\n",
    "                 )\n",
    "plt.show()"
   ]
  },
  {
   "cell_type": "markdown",
   "id": "9e4cb223",
   "metadata": {},
   "source": [
    "<div class=\"alert alert-warning\">\n",
    "    \n",
    "**Артём:** 👉 Библиотеки лучше импортировать в начале проекта.\n",
    "</div>"
   ]
  },
  {
   "cell_type": "markdown",
   "id": "9f478a87",
   "metadata": {},
   "source": [
    "<div class=\"alert alert-danger\">\n",
    "\n",
    "#### **Артём:** ✋ При таком количестве платформ гораздо удобнее изучать данные на разных гистограммах. Проще всего реализовать при помощи цикла с помощью списка.\n",
    "\n",
    "</div>"
   ]
  },
  {
   "cell_type": "markdown",
   "id": "7cbf8ccd",
   "metadata": {},
   "source": [
    "\"Жизненный цикл\" платформы в среднем составляет несколько лет."
   ]
  },
  {
   "cell_type": "markdown",
   "id": "96b0e444",
   "metadata": {},
   "source": [
    "<div class=\"alert alert-danger\">\n",
    "\n",
    "#### **Артём:** ✋ \"Несколько\" - это сколько? Посмотри медиану.\n",
    "\n",
    "</div>"
   ]
  },
  {
   "cell_type": "markdown",
   "id": "9af40a6a",
   "metadata": {},
   "source": [
    "Поскольку предыдущий цикл закончился в 2013 году и тогда же начался новый, за актуальный период берём данные 2013-2016. Смотрим, какие платформы лидируют по продажам, растут или падают, выбираем потенциально прибыльные."
   ]
  },
  {
   "cell_type": "markdown",
   "id": "5def3c6a",
   "metadata": {},
   "source": [
    "<div class=\"alert alert-danger\">\n",
    "\n",
    "#### **Артём:** ✋ Подскажи, а как ты определил, что предыдущий цикл закончился в 2013?\n",
    "\n",
    "</div>"
   ]
  },
  {
   "cell_type": "code",
   "execution_count": 12,
   "id": "4c5185fe",
   "metadata": {},
   "outputs": [
    {
     "data": {
      "image/png": "[encoded data removed]",
      "text/plain": [
       "<Figure size 1080x432 with 1 Axes>"
      ]
     },
     "metadata": {
      "needs_background": "light"
     },
     "output_type": "display_data"
    },
    {
     "data": {
      "text/html": [
       "<div>\n",
       "<style scoped>\n",
       "    .dataframe tbody tr th:only-of-type {\n",
       "        vertical-align: middle;\n",
       "    }\n",
       "\n",
       "    .dataframe tbody tr th {\n",
       "        vertical-align: top;\n",
       "    }\n",
       "\n",
       "    .dataframe thead th {\n",
       "        text-align: right;\n",
       "    }\n",
       "</style>\n",
       "<table border=\"1\" class=\"dataframe\">\n",
       "  <thead>\n",
       "    <tr style=\"text-align: right;\">\n",
       "      <th></th>\n",
       "      <th>name</th>\n",
       "      <th>platform</th>\n",
       "      <th>year_of_release</th>\n",
       "      <th>genre</th>\n",
       "      <th>na_sales</th>\n",
       "      <th>eu_sales</th>\n",
       "      <th>jp_sales</th>\n",
       "      <th>other_sales</th>\n",
       "      <th>critic_score</th>\n",
       "      <th>user_score</th>\n",
       "      <th>rating</th>\n",
       "      <th>all_sales</th>\n",
       "    </tr>\n",
       "  </thead>\n",
       "  <tbody>\n",
       "    <tr>\n",
       "      <th>16</th>\n",
       "      <td>Grand Theft Auto V</td>\n",
       "      <td>PS3</td>\n",
       "      <td>2013</td>\n",
       "      <td>Action</td>\n",
       "      <td>7.02</td>\n",
       "      <td>9.09</td>\n",
       "      <td>0.98</td>\n",
       "      <td>3.96</td>\n",
       "      <td>97</td>\n",
       "      <td>82</td>\n",
       "      <td>M</td>\n",
       "      <td>21.05</td>\n",
       "    </tr>\n",
       "    <tr>\n",
       "      <th>23</th>\n",
       "      <td>Grand Theft Auto V</td>\n",
       "      <td>X360</td>\n",
       "      <td>2013</td>\n",
       "      <td>Action</td>\n",
       "      <td>9.66</td>\n",
       "      <td>5.14</td>\n",
       "      <td>0.06</td>\n",
       "      <td>1.41</td>\n",
       "      <td>97</td>\n",
       "      <td>81</td>\n",
       "      <td>M</td>\n",
       "      <td>16.27</td>\n",
       "    </tr>\n",
       "    <tr>\n",
       "      <th>31</th>\n",
       "      <td>Call of Duty: Black Ops 3</td>\n",
       "      <td>PS4</td>\n",
       "      <td>2015</td>\n",
       "      <td>Shooter</td>\n",
       "      <td>6.03</td>\n",
       "      <td>5.86</td>\n",
       "      <td>0.36</td>\n",
       "      <td>2.38</td>\n",
       "      <td>-1</td>\n",
       "      <td>-1</td>\n",
       "      <td>Unknown</td>\n",
       "      <td>14.63</td>\n",
       "    </tr>\n",
       "    <tr>\n",
       "      <th>33</th>\n",
       "      <td>Pokemon X/Pokemon Y</td>\n",
       "      <td>3DS</td>\n",
       "      <td>2013</td>\n",
       "      <td>Role-Playing</td>\n",
       "      <td>5.28</td>\n",
       "      <td>4.19</td>\n",
       "      <td>4.35</td>\n",
       "      <td>0.78</td>\n",
       "      <td>-1</td>\n",
       "      <td>-1</td>\n",
       "      <td>Unknown</td>\n",
       "      <td>14.60</td>\n",
       "    </tr>\n",
       "    <tr>\n",
       "      <th>42</th>\n",
       "      <td>Grand Theft Auto V</td>\n",
       "      <td>PS4</td>\n",
       "      <td>2014</td>\n",
       "      <td>Action</td>\n",
       "      <td>3.96</td>\n",
       "      <td>6.31</td>\n",
       "      <td>0.38</td>\n",
       "      <td>1.97</td>\n",
       "      <td>97</td>\n",
       "      <td>83</td>\n",
       "      <td>M</td>\n",
       "      <td>12.62</td>\n",
       "    </tr>\n",
       "  </tbody>\n",
       "</table>\n",
       "</div>"
      ],
      "text/plain": [
       "                         name platform  year_of_release         genre  \\\n",
       "16         Grand Theft Auto V      PS3             2013        Action   \n",
       "23         Grand Theft Auto V     X360             2013        Action   \n",
       "31  Call of Duty: Black Ops 3      PS4             2015       Shooter   \n",
       "33        Pokemon X/Pokemon Y      3DS             2013  Role-Playing   \n",
       "42         Grand Theft Auto V      PS4             2014        Action   \n",
       "\n",
       "    na_sales  eu_sales  jp_sales  other_sales  critic_score  user_score  \\\n",
       "16      7.02      9.09      0.98         3.96            97          82   \n",
       "23      9.66      5.14      0.06         1.41            97          81   \n",
       "31      6.03      5.86      0.36         2.38            -1          -1   \n",
       "33      5.28      4.19      4.35         0.78            -1          -1   \n",
       "42      3.96      6.31      0.38         1.97            97          83   \n",
       "\n",
       "     rating  all_sales  \n",
       "16        M      21.05  \n",
       "23        M      16.27  \n",
       "31  Unknown      14.63  \n",
       "33  Unknown      14.60  \n",
       "42        M      12.62  "
      ]
     },
     "execution_count": 12,
     "metadata": {},
     "output_type": "execute_result"
    }
   ],
   "source": [
    "data_actual = data.loc[data['year_of_release'] >= 2013]\n",
    "plt.figure(figsize=(15, 6))\n",
    "ax2 = sns.lineplot(x='year_of_release', y='all_sales', hue='platform', data=data_actual)\n",
    "plt.show()\n",
    "data_actual.head()"
   ]
  },
  {
   "cell_type": "markdown",
   "id": "c65a59a9",
   "metadata": {},
   "source": [
    "<div class=\"alert alert-danger\">\n",
    "\n",
    "#### **Артём:** ✋ Построй гистограммы.\n",
    "\n",
    "</div>"
   ]
  },
  {
   "cell_type": "markdown",
   "id": "8f8de130",
   "metadata": {},
   "source": [
    "Прибыльные платформы: PS4, Xbox One, 3DS (популярность растёт), PC (популярность стабильна). Возможно, Wii/WiiU."
   ]
  },
  {
   "cell_type": "markdown",
   "id": "50115af8",
   "metadata": {},
   "source": [
    "<div class=\"alert alert-success\">\n",
    "\n",
    "**Артём:** 👍 Хорошо.\n",
    "\n",
    "</div>"
   ]
  },
  {
   "cell_type": "markdown",
   "id": "962982b9",
   "metadata": {},
   "source": [
    "Строим график «ящик с усами» по глобальным продажам игр в разбивке по платформам."
   ]
  },
  {
   "cell_type": "code",
   "execution_count": 13,
   "id": "6cd1ad1e",
   "metadata": {},
   "outputs": [
    {
     "data": {
      "text/html": [
       "<div>\n",
       "<style scoped>\n",
       "    .dataframe tbody tr th:only-of-type {\n",
       "        vertical-align: middle;\n",
       "    }\n",
       "\n",
       "    .dataframe tbody tr th {\n",
       "        vertical-align: top;\n",
       "    }\n",
       "\n",
       "    .dataframe thead th {\n",
       "        text-align: right;\n",
       "    }\n",
       "</style>\n",
       "<table border=\"1\" class=\"dataframe\">\n",
       "  <thead>\n",
       "    <tr style=\"text-align: right;\">\n",
       "      <th></th>\n",
       "      <th>count</th>\n",
       "      <th>mean</th>\n",
       "      <th>std</th>\n",
       "      <th>min</th>\n",
       "      <th>25%</th>\n",
       "      <th>50%</th>\n",
       "      <th>75%</th>\n",
       "      <th>max</th>\n",
       "    </tr>\n",
       "    <tr>\n",
       "      <th>platform</th>\n",
       "      <th></th>\n",
       "      <th></th>\n",
       "      <th></th>\n",
       "      <th></th>\n",
       "      <th></th>\n",
       "      <th></th>\n",
       "      <th></th>\n",
       "      <th></th>\n",
       "    </tr>\n",
       "  </thead>\n",
       "  <tbody>\n",
       "    <tr>\n",
       "      <th>3DS</th>\n",
       "      <td>303.0</td>\n",
       "      <td>0.472772</td>\n",
       "      <td>1.381347</td>\n",
       "      <td>0.01</td>\n",
       "      <td>0.0400</td>\n",
       "      <td>0.090</td>\n",
       "      <td>0.2800</td>\n",
       "      <td>14.60</td>\n",
       "    </tr>\n",
       "    <tr>\n",
       "      <th>DS</th>\n",
       "      <td>8.0</td>\n",
       "      <td>0.192500</td>\n",
       "      <td>0.172026</td>\n",
       "      <td>0.03</td>\n",
       "      <td>0.0675</td>\n",
       "      <td>0.150</td>\n",
       "      <td>0.2525</td>\n",
       "      <td>0.51</td>\n",
       "    </tr>\n",
       "    <tr>\n",
       "      <th>PC</th>\n",
       "      <td>189.0</td>\n",
       "      <td>0.208624</td>\n",
       "      <td>0.352304</td>\n",
       "      <td>0.01</td>\n",
       "      <td>0.0300</td>\n",
       "      <td>0.080</td>\n",
       "      <td>0.2300</td>\n",
       "      <td>3.05</td>\n",
       "    </tr>\n",
       "    <tr>\n",
       "      <th>PS3</th>\n",
       "      <td>345.0</td>\n",
       "      <td>0.525884</td>\n",
       "      <td>1.451939</td>\n",
       "      <td>0.01</td>\n",
       "      <td>0.0400</td>\n",
       "      <td>0.150</td>\n",
       "      <td>0.5100</td>\n",
       "      <td>21.05</td>\n",
       "    </tr>\n",
       "    <tr>\n",
       "      <th>PS4</th>\n",
       "      <td>392.0</td>\n",
       "      <td>0.801378</td>\n",
       "      <td>1.609456</td>\n",
       "      <td>0.01</td>\n",
       "      <td>0.0600</td>\n",
       "      <td>0.200</td>\n",
       "      <td>0.7300</td>\n",
       "      <td>14.63</td>\n",
       "    </tr>\n",
       "    <tr>\n",
       "      <th>PSP</th>\n",
       "      <td>67.0</td>\n",
       "      <td>0.052239</td>\n",
       "      <td>0.059768</td>\n",
       "      <td>0.01</td>\n",
       "      <td>0.0150</td>\n",
       "      <td>0.020</td>\n",
       "      <td>0.0700</td>\n",
       "      <td>0.24</td>\n",
       "    </tr>\n",
       "    <tr>\n",
       "      <th>PSV</th>\n",
       "      <td>358.0</td>\n",
       "      <td>0.092151</td>\n",
       "      <td>0.153816</td>\n",
       "      <td>0.01</td>\n",
       "      <td>0.0200</td>\n",
       "      <td>0.040</td>\n",
       "      <td>0.1100</td>\n",
       "      <td>1.96</td>\n",
       "    </tr>\n",
       "    <tr>\n",
       "      <th>Wii</th>\n",
       "      <td>23.0</td>\n",
       "      <td>0.593913</td>\n",
       "      <td>0.915432</td>\n",
       "      <td>0.01</td>\n",
       "      <td>0.0450</td>\n",
       "      <td>0.180</td>\n",
       "      <td>0.7550</td>\n",
       "      <td>3.58</td>\n",
       "    </tr>\n",
       "    <tr>\n",
       "      <th>WiiU</th>\n",
       "      <td>115.0</td>\n",
       "      <td>0.562000</td>\n",
       "      <td>1.038778</td>\n",
       "      <td>0.01</td>\n",
       "      <td>0.0600</td>\n",
       "      <td>0.200</td>\n",
       "      <td>0.5950</td>\n",
       "      <td>7.09</td>\n",
       "    </tr>\n",
       "    <tr>\n",
       "      <th>X360</th>\n",
       "      <td>186.0</td>\n",
       "      <td>0.735484</td>\n",
       "      <td>1.663275</td>\n",
       "      <td>0.01</td>\n",
       "      <td>0.0800</td>\n",
       "      <td>0.265</td>\n",
       "      <td>0.7950</td>\n",
       "      <td>16.27</td>\n",
       "    </tr>\n",
       "    <tr>\n",
       "      <th>XOne</th>\n",
       "      <td>247.0</td>\n",
       "      <td>0.645020</td>\n",
       "      <td>1.036139</td>\n",
       "      <td>0.01</td>\n",
       "      <td>0.0600</td>\n",
       "      <td>0.220</td>\n",
       "      <td>0.6850</td>\n",
       "      <td>7.39</td>\n",
       "    </tr>\n",
       "  </tbody>\n",
       "</table>\n",
       "</div>"
      ],
      "text/plain": [
       "          count      mean       std   min     25%    50%     75%    max\n",
       "platform                                                               \n",
       "3DS       303.0  0.472772  1.381347  0.01  0.0400  0.090  0.2800  14.60\n",
       "DS          8.0  0.192500  0.172026  0.03  0.0675  0.150  0.2525   0.51\n",
       "PC        189.0  0.208624  0.352304  0.01  0.0300  0.080  0.2300   3.05\n",
       "PS3       345.0  0.525884  1.451939  0.01  0.0400  0.150  0.5100  21.05\n",
       "PS4       392.0  0.801378  1.609456  0.01  0.0600  0.200  0.7300  14.63\n",
       "PSP        67.0  0.052239  0.059768  0.01  0.0150  0.020  0.0700   0.24\n",
       "PSV       358.0  0.092151  0.153816  0.01  0.0200  0.040  0.1100   1.96\n",
       "Wii        23.0  0.593913  0.915432  0.01  0.0450  0.180  0.7550   3.58\n",
       "WiiU      115.0  0.562000  1.038778  0.01  0.0600  0.200  0.5950   7.09\n",
       "X360      186.0  0.735484  1.663275  0.01  0.0800  0.265  0.7950  16.27\n",
       "XOne      247.0  0.645020  1.036139  0.01  0.0600  0.220  0.6850   7.39"
      ]
     },
     "execution_count": 13,
     "metadata": {},
     "output_type": "execute_result"
    },
    {
     "data": {
      "image/png": "[encoded data removed]",
      "text/plain": [
       "<Figure size 432x288 with 1 Axes>"
      ]
     },
     "metadata": {
      "needs_background": "light"
     },
     "output_type": "display_data"
    }
   ],
   "source": [
    "data_actual.boxplot(column='all_sales', by='platform')\n",
    "plt.ylim(0, 2)\n",
    "data_actual.groupby('platform')['all_sales'].describe()"
   ]
  },
  {
   "cell_type": "markdown",
   "id": "5621cc06",
   "metadata": {},
   "source": [
    "По диаграмме размаха можно выделить лидирующие по объёму продаж платформы точнее: это PS3, PS4, Wii, WiiU, Xbox 360, Xbox One. В сочетании с графиком также заметно, что платформы Nintendo и РС имеют более низкие, но относительно стабильные продажи, в то время как PS3 и Xbox 360 движутся к концу своего жизненного цикла."
   ]
  },
  {
   "cell_type": "markdown",
   "id": "59262866",
   "metadata": {},
   "source": [
    "<div class=\"alert alert-danger\">\n",
    "\n",
    "#### **Артём:** ✋ А с чем могут быть связаны выбросы?\n",
    "    \n",
    "</div>"
   ]
  },
  {
   "cell_type": "markdown",
   "id": "881e486d",
   "metadata": {},
   "source": [
    "Теперь нужно посмотреть, как влияют на продажи внутри одной популярной платформы отзывы пользователей и критиков. Строим диаграмму рассеяния и считаем корреляцию между отзывами и продажами."
   ]
  },
  {
   "cell_type": "code",
   "execution_count": 14,
   "id": "9bec61fd",
   "metadata": {
    "scrolled": false
   },
   "outputs": [
    {
     "data": {
      "image/png": "[encoded data removed]",
      "text/plain": [
       "<Figure size 432x288 with 1 Axes>"
      ]
     },
     "metadata": {
      "needs_background": "light"
     },
     "output_type": "display_data"
    },
    {
     "data": {
      "image/png": "[encoded data removed]",
      "text/plain": [
       "<Figure size 432x288 with 1 Axes>"
      ]
     },
     "metadata": {
      "needs_background": "light"
     },
     "output_type": "display_data"
    },
    {
     "data": {
      "image/png": "[encoded data removed]",
      "text/plain": [
       "<Figure size 432x288 with 1 Axes>"
      ]
     },
     "metadata": {
      "needs_background": "light"
     },
     "output_type": "display_data"
    },
    {
     "data": {
      "image/png": "[encoded data removed]",
      "text/plain": [
       "<Figure size 432x288 with 1 Axes>"
      ]
     },
     "metadata": {
      "needs_background": "light"
     },
     "output_type": "display_data"
    },
    {
     "data": {
      "image/png": "[encoded data removed]",
      "text/plain": [
       "<Figure size 432x288 with 1 Axes>"
      ]
     },
     "metadata": {
      "needs_background": "light"
     },
     "output_type": "display_data"
    },
    {
     "data": {
      "image/png": "[encoded data removed]",
      "text/plain": [
       "<Figure size 432x288 with 1 Axes>"
      ]
     },
     "metadata": {
      "needs_background": "light"
     },
     "output_type": "display_data"
    },
    {
     "data": {
      "image/png": "[encoded data removed]",
      "text/plain": [
       "<Figure size 432x288 with 1 Axes>"
      ]
     },
     "metadata": {
      "needs_background": "light"
     },
     "output_type": "display_data"
    }
   ],
   "source": [
    "popular_platform = ['PS4', 'XOne', 'Wii', 'WiiU', '3DS', 'DS', 'PC']\n",
    "data_actual_clean = data_actual.loc[(data_actual['critic_score'] != -1) & (data_actual['user_score'] != -1)]\n",
    "for i in popular_platform:\n",
    "    data_actual_clean.loc[data_actual_clean['platform'] == i].plot(\n",
    "        x='critic_score', y='all_sales', kind='scatter', alpha=0.5, title=i)"
   ]
  },
  {
   "cell_type": "code",
   "execution_count": 15,
   "id": "dacaa3d3",
   "metadata": {
    "scrolled": false
   },
   "outputs": [
    {
     "data": {
      "image/png": "[encoded data removed]",
      "text/plain": [
       "<Figure size 432x288 with 1 Axes>"
      ]
     },
     "metadata": {
      "needs_background": "light"
     },
     "output_type": "display_data"
    },
    {
     "data": {
      "image/png": "[encoded data removed]",
      "text/plain": [
       "<Figure size 432x288 with 1 Axes>"
      ]
     },
     "metadata": {
      "needs_background": "light"
     },
     "output_type": "display_data"
    },
    {
     "data": {
      "image/png": "[encoded data removed]",
      "text/plain": [
       "<Figure size 432x288 with 1 Axes>"
      ]
     },
     "metadata": {
      "needs_background": "light"
     },
     "output_type": "display_data"
    },
    {
     "data": {
      "image/png": "[encoded data removed]",
      "text/plain": [
       "<Figure size 432x288 with 1 Axes>"
      ]
     },
     "metadata": {
      "needs_background": "light"
     },
     "output_type": "display_data"
    },
    {
     "data": {
      "image/png": "[encoded data removed]",
      "text/plain": [
       "<Figure size 432x288 with 1 Axes>"
      ]
     },
     "metadata": {
      "needs_background": "light"
     },
     "output_type": "display_data"
    },
    {
     "data": {
      "image/png": "[encoded data removed]",
      "text/plain": [
       "<Figure size 432x288 with 1 Axes>"
      ]
     },
     "metadata": {
      "needs_background": "light"
     },
     "output_type": "display_data"
    },
    {
     "data": {
      "image/png": "[encoded data removed]",
      "text/plain": [
       "<Figure size 432x288 with 1 Axes>"
      ]
     },
     "metadata": {
      "needs_background": "light"
     },
     "output_type": "display_data"
    }
   ],
   "source": [
    "for i in popular_platform:\n",
    "    data_actual_clean.loc[data_actual_clean['platform'] == i].plot(x='user_score', y='all_sales', kind='scatter', alpha=0.5, title=i)"
   ]
  },
  {
   "cell_type": "code",
   "execution_count": 16,
   "id": "219fb43e",
   "metadata": {},
   "outputs": [
    {
     "name": "stdout",
     "output_type": "stream",
     "text": [
      "Отзывы критиков и продажи:\n",
      "PS4 0.40589480145836687\n",
      "XOne 0.4104220356129637\n",
      "Wii nan\n",
      "WiiU 0.37950449899784144\n",
      "3DS 0.33923492878531464\n",
      "DS nan\n",
      "PC 0.19412407903472953\n"
     ]
    }
   ],
   "source": [
    "print('Отзывы критиков и продажи:')\n",
    "for i in popular_platform:\n",
    "    print(i, data_actual_clean.loc[data_actual_clean['platform'] == i]['all_sales'].corr(\n",
    "        data_actual_clean.loc[data_actual_clean['platform'] == i]['critic_score']))"
   ]
  },
  {
   "cell_type": "code",
   "execution_count": 17,
   "id": "3631c34b",
   "metadata": {},
   "outputs": [
    {
     "name": "stdout",
     "output_type": "stream",
     "text": [
      "Отзывы пользователей и продажи:\n",
      "PS4 -0.03362497596528887\n",
      "XOne -0.09400318326920865\n",
      "Wii nan\n",
      "WiiU 0.408691743849265\n",
      "3DS 0.27299043669424433\n",
      "DS nan\n",
      "PC -0.10923502736171793\n"
     ]
    }
   ],
   "source": [
    "print('Отзывы пользователей и продажи:')\n",
    "for i in popular_platform:\n",
    "    print(i, data_actual_clean.loc[data_actual_clean['platform'] == i]['all_sales'].corr(\n",
    "        data_actual_clean.loc[data_actual_clean['platform'] == i]['user_score']))"
   ]
  },
  {
   "cell_type": "markdown",
   "id": "a34f82fb",
   "metadata": {},
   "source": [
    "Можно заметить, что корреляция между отзывами (*как пользователей, так и критиков*) и продажами весьма слаба, причём с пользовательскими отзывами на некоторых платформах (Xbox One, PS4, PC) отрицательная, но тоже небольшой степени."
   ]
  },
  {
   "cell_type": "markdown",
   "id": "69f725b4",
   "metadata": {},
   "source": [
    "<div class=\"alert alert-info\">\n",
    "\n",
    "**Артём:** ✍️ Если корреляция меньше 0.25 то можно смело утверждать, что ее нет. Если меньше 0.5 - слабо выраженная.\n",
    "\n",
    "</div>"
   ]
  },
  {
   "cell_type": "markdown",
   "id": "b08664ca",
   "metadata": {},
   "source": [
    "Теперь взглянем на общее распределение игр по жанрам:\n",
    "1. Какие жанры самые прибыльные?\n",
    "2. Выделяются ли жанры с высокими и низкими продажами?"
   ]
  },
  {
   "cell_type": "code",
   "execution_count": 40,
   "id": "56a108b9",
   "metadata": {},
   "outputs": [
    {
     "data": {
      "text/plain": [
       "genre\n",
       "Action          231.62\n",
       "Shooter         170.99\n",
       "Sports          115.06\n",
       "Role-Playing     61.21\n",
       "Racing           34.09\n",
       "Platform         31.98\n",
       "Misc             19.39\n",
       "Fighting         17.79\n",
       "Simulation       12.07\n",
       "Adventure        10.03\n",
       "Strategy          7.49\n",
       "Puzzle            2.24\n",
       "Name: all_sales, dtype: float64"
      ]
     },
     "execution_count": 40,
     "metadata": {},
     "output_type": "execute_result"
    }
   ],
   "source": [
    "data_actual_clean.groupby('genre')['all_sales'].sum().sort_values(ascending=False)"
   ]
  },
  {
   "cell_type": "markdown",
   "id": "e001e5b4",
   "metadata": {},
   "source": [
    "<div class=\"alert alert-danger\">\n",
    "\n",
    "#### **Артём:** ✋ Ты используешь урезанный датафрейм.\n",
    "\n",
    "</div>"
   ]
  },
  {
   "cell_type": "markdown",
   "id": "ebba67bc",
   "metadata": {},
   "source": [
    "Наиболее прибыльные жанры - экшн, шутер, спортивный симулятор, ролевая игра, гонки; наименее - головоломки, стратегии и адвенчуры."
   ]
  },
  {
   "cell_type": "markdown",
   "id": "3bcdcdd7",
   "metadata": {},
   "source": [
    "<div class=\"alert alert-danger\">\n",
    "\n",
    "#### **Артём:** ✋ Общие продажи - плохая метрика для поиска наиболее прибыльного жанра. За высокими показателями общих продаж может скрываться множество мелких игр с низкими продажами. Или 2-3 звезды и куча провалов. Лучше найти жанр, где игры стабильно приносят высокий доход - для этого стоит рассмотреть средние или медианные продажи.\n",
    "\n",
    "</div>"
   ]
  },
  {
   "cell_type": "markdown",
   "id": "a0c82611",
   "metadata": {},
   "source": [
    "### Составляем портрет пользователя каждого региона"
   ]
  },
  {
   "cell_type": "markdown",
   "id": "718e2b18",
   "metadata": {},
   "source": [
    "<div class=\"alert alert-danger\">\n",
    "\n",
    "#### **Артём:** ✋ Построй круговые диаграммы в этом шаге, их важно показать заказчику.\n",
    "\n",
    "</div>"
   ]
  },
  {
   "cell_type": "markdown",
   "id": "2c3aa2ef",
   "metadata": {},
   "source": [
    "<div class=\"alert alert-danger\">\n",
    "\n",
    "#### **Артём:** ✋ Ты используешь урезанный датафрейм.\n",
    "\n",
    "</div>"
   ]
  },
  {
   "cell_type": "markdown",
   "id": "1ab1e376",
   "metadata": {},
   "source": [
    "Определяем для пользователя каждого региона (NA, EU, JP):\n",
    "1. Самые популярные платформы (топ-5). Опишите различия в долях продаж.\n",
    "2. Самые популярные жанры (топ-5). Поясните разницу.\n",
    "3. Влияет ли рейтинг ESRB на продажи в отдельном регионе?"
   ]
  },
  {
   "cell_type": "code",
   "execution_count": 44,
   "id": "e5e418f3",
   "metadata": {},
   "outputs": [
    {
     "name": "stdout",
     "output_type": "stream",
     "text": [
      "platform\n",
      "PS4     84.46\n",
      "XOne    76.03\n",
      "X360    50.85\n",
      "PS3     42.13\n",
      "WiiU    23.04\n",
      "Name: na_sales, dtype: float64\n",
      "\n",
      "platform\n",
      "PS4     112.44\n",
      "PS3      43.29\n",
      "XOne     42.23\n",
      "X360     26.54\n",
      "PC       21.93\n",
      "Name: eu_sales, dtype: float64\n",
      "\n",
      "platform\n",
      "3DS     14.16\n",
      "PS3     10.99\n",
      "PS4      9.43\n",
      "WiiU     8.36\n",
      "PSV      5.71\n",
      "Name: jp_sales, dtype: float64\n",
      "\n",
      "platform\n",
      "PS4     37.94\n",
      "PS3     17.65\n",
      "XOne    11.66\n",
      "X360     7.48\n",
      "WiiU     3.73\n",
      "Name: other_sales, dtype: float64\n",
      "\n"
     ]
    }
   ],
   "source": [
    "def regioning(col, region):\n",
    "    return data_actual_clean.groupby(col)[region].sum().sort_values(ascending=False).head()\n",
    "# функция для подсчёта продаж по регионам и передаваемому столбцу (платформа, жанр, рейтинг)\n",
    "\n",
    "regions = ['na_sales', 'eu_sales', 'jp_sales', 'other_sales']\n",
    "\n",
    "for region in regions:\n",
    "    print(regioning('platform', region))\n",
    "    print()"
   ]
  },
  {
   "cell_type": "markdown",
   "id": "88b8ff5b",
   "metadata": {},
   "source": [
    "Здесь мы видим топ-5 самых популярных платформ по регионам. Во всех регионах, кроме Японии, самой популярной консолью является PlayStation 4, при этом в Японии это Nintendo 3DS. А ПК входит в топ-5 только в Европе. PlayStation 3 и обе версии Xbox пользуются популярностью по всему миру."
   ]
  },
  {
   "cell_type": "code",
   "execution_count": 45,
   "id": "423ed2f3",
   "metadata": {},
   "outputs": [
    {
     "name": "stdout",
     "output_type": "stream",
     "text": [
      "genre\n",
      "Action          97.06\n",
      "Shooter         81.03\n",
      "Sports          51.16\n",
      "Role-Playing    23.08\n",
      "Platform        13.75\n",
      "Name: na_sales, dtype: float64\n",
      "\n",
      "genre\n",
      "Action          91.00\n",
      "Shooter         64.04\n",
      "Sports          46.96\n",
      "Role-Playing    19.28\n",
      "Racing          16.90\n",
      "Name: eu_sales, dtype: float64\n",
      "\n",
      "genre\n",
      "Action          14.61\n",
      "Role-Playing    12.44\n",
      "Shooter          5.28\n",
      "Platform         4.16\n",
      "Misc             3.12\n",
      "Name: jp_sales, dtype: float64\n",
      "\n",
      "genre\n",
      "Action          28.95\n",
      "Shooter         20.64\n",
      "Sports          15.41\n",
      "Role-Playing     6.41\n",
      "Racing           3.77\n",
      "Name: other_sales, dtype: float64\n",
      "\n"
     ]
    }
   ],
   "source": [
    "# топ-5 жанров\n",
    "for region in regions:\n",
    "    print(regioning('genre', region))\n",
    "    print()"
   ]
  },
  {
   "cell_type": "markdown",
   "id": "d2a944fa",
   "metadata": {},
   "source": [
    "Наиболее популярным жанром во всех регионах является экшн, на втором месте - шутер везде, кроме Японии."
   ]
  },
  {
   "cell_type": "code",
   "execution_count": 46,
   "id": "df8e3ed2",
   "metadata": {},
   "outputs": [
    {
     "name": "stdout",
     "output_type": "stream",
     "text": [
      "rating\n",
      "M          152.83\n",
      "E           65.67\n",
      "T           45.13\n",
      "E10+        39.01\n",
      "Unknown      1.06\n",
      "Name: na_sales, dtype: float64\n",
      "\n",
      "rating\n",
      "M          135.48\n",
      "E           69.18\n",
      "T           38.87\n",
      "E10+        29.97\n",
      "Unknown      2.07\n",
      "Name: eu_sales, dtype: float64\n",
      "\n",
      "rating\n",
      "T          16.54\n",
      "E          14.14\n",
      "M          12.93\n",
      "E10+        5.65\n",
      "Unknown     0.23\n",
      "Name: jp_sales, dtype: float64\n",
      "\n",
      "rating\n",
      "M          43.79\n",
      "E          18.66\n",
      "T          13.11\n",
      "E10+        9.27\n",
      "Unknown     0.37\n",
      "Name: other_sales, dtype: float64\n",
      "\n"
     ]
    }
   ],
   "source": [
    "# рейтинг ESRB\n",
    "for region in regions:\n",
    "    print(regioning('rating', region))\n",
    "    print()"
   ]
  },
  {
   "cell_type": "markdown",
   "id": "d01be522",
   "metadata": {},
   "source": [
    "Расклад по рейтингам одинаков для всех регионов, кроме опять-таки Японии: если в остальных регионах самый популярный рейтинг - Mature, то в Японии - Teen, Mature же на 3-м месте. Но при этом разница между суммами продаж по этим рейтингам намного менее выражена, чем в других регионах, так что можно предполагать это случайностью."
   ]
  },
  {
   "cell_type": "markdown",
   "id": "90bb2426",
   "metadata": {},
   "source": [
    "# 📊 Шаг 5. Проверьте гипотезы\n",
    "Задайте самостоятельно пороговое значение alpha.\n",
    "Поясните:\n",
    "Как вы сформулировали нулевую и альтернативную гипотезы;\n",
    "Какой критерий применили для проверки гипотез и почему.    "
   ]
  },
  {
   "cell_type": "markdown",
   "id": "1da5f57c",
   "metadata": {},
   "source": [
    "### Проверяем гипотезы"
   ]
  },
  {
   "cell_type": "markdown",
   "id": "d84fef10",
   "metadata": {},
   "source": [
    "### 📊 Средние пользовательские рейтинги платформ Xbox One и PC одинаковые;"
   ]
  },
  {
   "cell_type": "markdown",
   "id": "312fec1d",
   "metadata": {},
   "source": [
    "**Нулевая гипотеза 1**: средние пользовательские рейтинги платформ Xbox One и PC равны. **Альтернативная гипотеза 1**: эти рейтинги различны.\n",
    "\n",
    "Задаём уровень значимости как 0.05."
   ]
  },
  {
   "cell_type": "markdown",
   "id": "26fe7b38",
   "metadata": {},
   "source": [
    "<div class=\"alert alert-success\">\n",
    "\n",
    "**Артём:** 👍 Гипотезы сформулированы верно.\n",
    "\n",
    "</div>"
   ]
  },
  {
   "cell_type": "code",
   "execution_count": 22,
   "id": "6258c38f",
   "metadata": {},
   "outputs": [
    {
     "ename": "NameError",
     "evalue": "name 'results' is not defined",
     "output_type": "error",
     "traceback": [
      "\u001b[0;31m---------------------------------------------------------------------------\u001b[0m",
      "\u001b[0;31mNameError\u001b[0m                                 Traceback (most recent call last)",
      "\u001b[0;32m/tmp/ipykernel_470/4272816721.py\u001b[0m in \u001b[0;36m<module>\u001b[0;34m\u001b[0m\n\u001b[1;32m      8\u001b[0m \u001b[0mresult\u001b[0m \u001b[0;34m=\u001b[0m \u001b[0mst\u001b[0m\u001b[0;34m.\u001b[0m\u001b[0mttest_ind\u001b[0m\u001b[0;34m(\u001b[0m\u001b[0mxbone_score\u001b[0m\u001b[0;34m,\u001b[0m \u001b[0mpc_score\u001b[0m\u001b[0;34m,\u001b[0m \u001b[0mequal_var\u001b[0m\u001b[0;34m=\u001b[0m\u001b[0;32mFalse\u001b[0m\u001b[0;34m)\u001b[0m\u001b[0;34m\u001b[0m\u001b[0;34m\u001b[0m\u001b[0m\n\u001b[1;32m      9\u001b[0m \u001b[0;34m\u001b[0m\u001b[0m\n\u001b[0;32m---> 10\u001b[0;31m \u001b[0mprint\u001b[0m\u001b[0;34m(\u001b[0m\u001b[0;34m'p-значение:'\u001b[0m\u001b[0;34m,\u001b[0m \u001b[0mresults\u001b[0m\u001b[0;34m.\u001b[0m\u001b[0mpvalue\u001b[0m\u001b[0;34m)\u001b[0m\u001b[0;34m\u001b[0m\u001b[0;34m\u001b[0m\u001b[0m\n\u001b[0m\u001b[1;32m     11\u001b[0m \u001b[0;34m\u001b[0m\u001b[0m\n\u001b[1;32m     12\u001b[0m \u001b[0;32mif\u001b[0m \u001b[0mresult\u001b[0m\u001b[0;34m.\u001b[0m\u001b[0mpvalue\u001b[0m \u001b[0;34m<\u001b[0m \u001b[0malpha\u001b[0m\u001b[0;34m:\u001b[0m\u001b[0;34m\u001b[0m\u001b[0;34m\u001b[0m\u001b[0m\n",
      "\u001b[0;31mNameError\u001b[0m: name 'results' is not defined"
     ]
    }
   ],
   "source": [
    "from scipy import stats as st\n",
    "\n",
    "xbone_score = data_actual_clean.loc[data_actual_clean['platform'] == 'XOne']['user_score']\n",
    "pc_score = data_actual_clean.loc[data_actual_clean['platform'] == 'PC']['user_score']\n",
    "\n",
    "alpha = 0.05\n",
    "\n",
    "result = st.ttest_ind(xbone_score, pc_score, equal_var=False)\n",
    "\n",
    "print('p-значение:', results.pvalue)\n",
    "\n",
    "if result.pvalue < alpha:\n",
    "    print(\"Отвергаем нулевую гипотезу\")\n",
    "else:\n",
    "    print(\"Не получилось отвергнуть нулевую гипотезу\")"
   ]
  },
  {
   "cell_type": "markdown",
   "id": "852f7f26",
   "metadata": {},
   "source": [
    "<div class=\"alert alert-danger\">\n",
    "\n",
    "#### **Артём:** ✋ К сожалению, не смог ознакомиться с твоим проектом до конца, ошибка в коде 🙁\n",
    "\n",
    "Пожалуйста, перед отправкой на проверку запусти проект в JupyterHub ⏩ и посмотри, что бы он отработал до конца, чтобы тебе не терять время.\n",
    "    \n",
    "Представь, что ты работаешь в крупной фирме, допустим ты сделала проект дома, а на совещании у руководства проект не работает. Согласись будет странно звучать если ты будешь объяснять генеральному директору, что дома работает, а здесь нет. Работоспособность проекта – это ответственность того, кто его разрабатывал.\n",
    "    \n",
    "В Практикуме для этого работают Наставники и Преподаватели, они всегда готовы помочь.\n",
    "\n",
    "Жду рабочую версию проекта. 🙂\n",
    "\n",
    "</div>"
   ]
  },
  {
   "cell_type": "markdown",
   "id": "fb2b31bb",
   "metadata": {},
   "source": [
    "Средние пользовательские рейтинги Xbox One и PC одинаковы в пределах статистической значимости."
   ]
  },
  {
   "cell_type": "markdown",
   "id": "b86e5e3d",
   "metadata": {},
   "source": [
    "### 📊 Средние пользовательские рейтинги жанров Action (англ. «действие», экшен-игры) и Sports (англ. «спортивные соревнования») разные."
   ]
  },
  {
   "cell_type": "markdown",
   "id": "906b7da8",
   "metadata": {},
   "source": [
    "**Нулевая гипотеза 2**: средние пользовательские рейтинги жанров Action и Sports равны. **Альтернативная гипотеза 2**: эти рейтинги различны."
   ]
  },
  {
   "cell_type": "code",
   "execution_count": null,
   "id": "9bff4d3f",
   "metadata": {},
   "outputs": [],
   "source": [
    "action_score = data_actual_clean.loc[data_actual_clean['genre'] == 'Action']['user_score']\n",
    "sports_score = data_actual_clean.loc[data_actual_clean['genre'] == 'Sports']['user_score']\n",
    "\n",
    "result2 = st.ttest_ind(action_score, sports_score, equal_var=False)\n",
    "print('p-значение:', results2.pvalue)\n",
    "\n",
    "if result2.pvalue < alpha:\n",
    "    print(\"Отвергаем нулевую гипотезу\")\n",
    "else:\n",
    "    print(\"Не получилось отвергнуть нулевую гипотезу\")"
   ]
  },
  {
   "cell_type": "markdown",
   "id": "c687132a",
   "metadata": {},
   "source": [
    "А средние рейтинги этих жанров различаются."
   ]
  },
  {
   "cell_type": "markdown",
   "id": "c4131c4e",
   "metadata": {},
   "source": [
    "### Общий вывод"
   ]
  },
  {
   "cell_type": "markdown",
   "id": "7c630933",
   "metadata": {},
   "source": [
    "Обработаны данные:\n",
    "1. Названия столбцов приведены к единому виду (нижний регистр).\n",
    "2. Приведены к единому стандарту (целое число от 0 до 100) значения пользовательских рейтингов и рейтингов критиков.\n",
    "3. Создан отдельный столбец для суммарных продаж по всем регионам.\n",
    "4. Обработан тип данных в столбце года выпуска (переведён в целое число).\n",
    "\n",
    "Проанализировано:\n",
    "1. Распределение количества вышедших игр по годам.\n",
    "2. Средний жизненный цикл платформы (5-6 лет).\n",
    "3. Найдены наиболее прибыльные платформы: Xbox One, PlayStation 4, Nintendo 3DS (в основном в Японии), PC (в Европе).\n",
    "3. В отобранных платформах посчитана корреляция общего уровня продаж с отзывами пользователей и критиков. Замечено: эта корреляция нигде не превышает 0.41, а между отзывами пользователей и продажами на некоторых платформах отрицательная (хоть и малая по модулю).\n",
    "4. Найдены наиболее популярные платформы и жанры по регионам, а также влияние рейтинга ESRB на продажи: игры с рейтингом М (Mature) более прибыльны во всех регионах, кроме Японии, где на первом месте Т (Teen).\n",
    "\n",
    "Итоговые закономерности:\n",
    "1. Наиболее популярные жанры в западных регионах - Action, Shooter, Sports; при этом распределение по рейтингу ESRB составляет M (Mature, для взрослых), E (Everyone, для всех возрастов), T (Teen, для подростковой аудитории). Топ-1 платформ держит PlayStation 4, также высокой популярностью пользуются PlayStation 3, Xbox 360 и Xbox One, но PS3 и Xbox 360 подходят к концу своего жизненного цикла, поэтому ориентироваться на продажи на этих платформах уже не стоит.\n",
    "2. Картина в японском регионе отличается: Shooter только на третьем месте по популярности, зато на второе выбились ролевые игры, а рейтинг популярнее всего Т (при этом М на третьем месте). Самая популярная платформа в регионе - Nintendo 3DS; вероятно, с этим связано и иное распределение жанров и рейтинга по популярности.\n",
    "3. В европейском регионе в топ-5 платформ входит РС, чего не наблюдается в остальных."
   ]
  },
  {
   "cell_type": "markdown",
   "id": "75e0d6f1",
   "metadata": {},
   "source": [
    "## 🏁 Итоги ревью\n",
    "<a id=\"results\"></a>\n",
    "[В начало](#start)\n",
    "\n",
    "<div class=\"alert alert-danger\">\n",
    "\n",
    "#### **Артём:** ✋ К сожалению, не смог ознакомиться с твоим проектом до конца, ошибка в коде 🙁\n",
    "\n",
    "Пожалуйста, перед отправкой на проверку запусти проект в JupyterHub ⏩ и посмотри, что бы он отработал до конца, чтобы тебе не терять время.\n",
    "    \n",
    "Представь, что ты работаешь в крупной фирме, допустим ты сделала проект дома, а на совещании у руководства проект не работает. Согласись будет странно звучать если ты будешь объяснять генеральному директору, что дома работает, а здесь нет. Работоспособность проекта – это ответственность того, кто его разрабатывал.\n",
    "    \n",
    "В Практикуме для этого работают Наставники и Преподаватели, они всегда готовы помочь.\n",
    "\n",
    "Жду рабочую версию проекта. 🙂\n",
    "\n",
    "</div>"
   ]
  },
  {
   "cell_type": "code",
   "execution_count": null,
   "id": "335bbfec",
   "metadata": {},
   "outputs": [],
   "source": []
  }
 ],
 "metadata": {
  "ExecuteTimeLog": [
   {
    "duration": 530,
    "start_time": "2023-02-21T22:35:32.245Z"
   },
   {
    "duration": 43,
    "start_time": "2023-02-21T22:35:32.777Z"
   },
   {
    "duration": 5,
    "start_time": "2023-02-21T22:35:32.821Z"
   },
   {
    "duration": 18,
    "start_time": "2023-02-21T22:35:32.828Z"
   },
   {
    "duration": 6,
    "start_time": "2023-02-21T22:35:32.848Z"
   },
   {
    "duration": 16,
    "start_time": "2023-02-21T22:35:32.856Z"
   },
   {
    "duration": 5,
    "start_time": "2023-02-21T22:35:32.874Z"
   },
   {
    "duration": 16,
    "start_time": "2023-02-21T22:35:32.881Z"
   },
   {
    "duration": 49,
    "start_time": "2023-02-21T22:35:32.898Z"
   },
   {
    "duration": 452,
    "start_time": "2023-02-21T22:35:32.950Z"
   },
   {
    "duration": 4372,
    "start_time": "2023-02-21T22:35:33.404Z"
   },
   {
    "duration": 1088,
    "start_time": "2023-02-21T22:35:37.778Z"
   },
   {
    "duration": 306,
    "start_time": "2023-02-21T22:35:38.867Z"
   },
   {
    "duration": 1036,
    "start_time": "2023-02-21T22:35:39.174Z"
   },
   {
    "duration": 1016,
    "start_time": "2023-02-21T22:35:40.212Z"
   },
   {
    "duration": 25,
    "start_time": "2023-02-21T22:35:41.230Z"
   },
   {
    "duration": 120,
    "start_time": "2023-02-21T22:35:41.257Z"
   },
   {
    "duration": 6,
    "start_time": "2023-02-21T22:35:41.381Z"
   },
   {
    "duration": 15,
    "start_time": "2023-02-21T22:35:41.389Z"
   },
   {
    "duration": 11,
    "start_time": "2023-02-21T22:35:41.406Z"
   },
   {
    "duration": 29,
    "start_time": "2023-02-21T22:35:41.419Z"
   },
   {
    "duration": 126,
    "start_time": "2023-02-21T22:35:41.450Z"
   },
   {
    "duration": 0,
    "start_time": "2023-02-21T22:35:41.578Z"
   },
   {
    "duration": 508,
    "start_time": "2023-02-21T23:16:38.009Z"
   },
   {
    "duration": 32,
    "start_time": "2023-02-21T23:16:38.519Z"
   },
   {
    "duration": 10,
    "start_time": "2023-02-21T23:16:38.553Z"
   },
   {
    "duration": 13,
    "start_time": "2023-02-21T23:16:38.565Z"
   },
   {
    "duration": 45,
    "start_time": "2023-02-21T23:16:38.580Z"
   },
   {
    "duration": 42,
    "start_time": "2023-02-21T23:16:38.627Z"
   },
   {
    "duration": 14,
    "start_time": "2023-02-21T23:16:38.671Z"
   },
   {
    "duration": 37,
    "start_time": "2023-02-21T23:16:38.687Z"
   },
   {
    "duration": 23,
    "start_time": "2023-02-21T23:16:38.726Z"
   },
   {
    "duration": 424,
    "start_time": "2023-02-21T23:16:38.752Z"
   },
   {
    "duration": 4169,
    "start_time": "2023-02-21T23:16:39.178Z"
   },
   {
    "duration": 1071,
    "start_time": "2023-02-21T23:16:43.350Z"
   },
   {
    "duration": 299,
    "start_time": "2023-02-21T23:16:44.423Z"
   },
   {
    "duration": 1033,
    "start_time": "2023-02-21T23:16:44.724Z"
   },
   {
    "duration": 991,
    "start_time": "2023-02-21T23:16:45.759Z"
   },
   {
    "duration": 19,
    "start_time": "2023-02-21T23:16:46.752Z"
   },
   {
    "duration": 18,
    "start_time": "2023-02-21T23:16:46.773Z"
   },
   {
    "duration": 8,
    "start_time": "2023-02-21T23:16:46.793Z"
   },
   {
    "duration": 50,
    "start_time": "2023-02-21T23:16:46.803Z"
   },
   {
    "duration": 12,
    "start_time": "2023-02-21T23:16:46.854Z"
   },
   {
    "duration": 18,
    "start_time": "2023-02-21T23:16:46.868Z"
   },
   {
    "duration": 127,
    "start_time": "2023-02-21T23:16:46.888Z"
   },
   {
    "duration": 0,
    "start_time": "2023-02-21T23:16:47.017Z"
   },
   {
    "duration": 232,
    "start_time": "2023-02-21T23:22:27.072Z"
   },
   {
    "duration": 247,
    "start_time": "2023-02-21T23:22:32.185Z"
   },
   {
    "duration": 210,
    "start_time": "2023-02-21T23:22:38.986Z"
   },
   {
    "duration": 76,
    "start_time": "2023-02-21T23:27:57.527Z"
   },
   {
    "duration": 10,
    "start_time": "2023-02-21T23:33:08.261Z"
   },
   {
    "duration": 24,
    "start_time": "2023-02-21T23:33:14.228Z"
   },
   {
    "duration": 8,
    "start_time": "2023-02-21T23:36:49.598Z"
   },
   {
    "duration": 10,
    "start_time": "2023-02-21T23:36:57.821Z"
   },
   {
    "duration": 7,
    "start_time": "2023-02-21T23:37:12.422Z"
   },
   {
    "duration": 8,
    "start_time": "2023-02-21T23:37:15.887Z"
   },
   {
    "duration": 8,
    "start_time": "2023-02-21T23:37:32.583Z"
   },
   {
    "duration": 5,
    "start_time": "2023-02-21T23:38:42.087Z"
   },
   {
    "duration": 10,
    "start_time": "2023-02-21T23:38:42.261Z"
   },
   {
    "duration": 8,
    "start_time": "2023-02-21T23:39:18.184Z"
   },
   {
    "duration": 8,
    "start_time": "2023-02-21T23:39:24.284Z"
   },
   {
    "duration": 8,
    "start_time": "2023-02-21T23:39:26.762Z"
   },
   {
    "duration": 7,
    "start_time": "2023-02-21T23:41:11.793Z"
   },
   {
    "duration": 8,
    "start_time": "2023-02-21T23:41:14.887Z"
   },
   {
    "duration": 16,
    "start_time": "2023-02-21T23:41:59.645Z"
   },
   {
    "duration": 12,
    "start_time": "2023-02-21T23:42:02.841Z"
   },
   {
    "duration": 13,
    "start_time": "2023-02-21T23:42:04.777Z"
   },
   {
    "duration": 13,
    "start_time": "2023-02-21T23:42:13.375Z"
   },
   {
    "duration": 14,
    "start_time": "2023-02-21T23:42:14.564Z"
   },
   {
    "duration": 13,
    "start_time": "2023-02-21T23:42:16.721Z"
   }
  ],
  "kernelspec": {
   "display_name": "Python 3 (ipykernel)",
   "language": "python",
   "name": "python3"
  },
  "language_info": {
   "codemirror_mode": {
    "name": "ipython",
    "version": 3
   },
   "file_extension": ".py",
   "mimetype": "text/x-python",
   "name": "python",
   "nbconvert_exporter": "python",
   "pygments_lexer": "ipython3",
   "version": "3.9.13"
  },
  "toc": {
   "base_numbering": 1,
   "nav_menu": {},
   "number_sections": true,
   "sideBar": true,
   "skip_h1_title": true,
   "title_cell": "Table of Contents",
   "title_sidebar": "Contents",
   "toc_cell": false,
   "toc_position": {},
   "toc_section_display": true,
   "toc_window_display": true
  }
 },
 "nbformat": 4,
 "nbformat_minor": 5
}
